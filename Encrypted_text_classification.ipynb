{
  "nbformat": 4,
  "nbformat_minor": 0,
  "metadata": {
    "colab": {
      "provenance": []
    },
    "kernelspec": {
      "name": "python3",
      "display_name": "Python 3"
    },
    "language_info": {
      "name": "python"
    },
    "accelerator": "GPU",
    "gpuClass": "standard"
  },
  "cells": [
    {
      "cell_type": "code",
      "execution_count": null,
      "metadata": {
        "colab": {
          "base_uri": "https://localhost:8080/"
        },
        "id": "ILmZKnZmMWti",
        "outputId": "47323fe9-ad60-4444-d68f-dbc6ef71f152"
      },
      "outputs": [
        {
          "output_type": "stream",
          "name": "stderr",
          "text": [
            "[nltk_data] Downloading package punkt to /root/nltk_data...\n",
            "[nltk_data]   Package punkt is already up-to-date!\n",
            "[nltk_data] Downloading package stopwords to /root/nltk_data...\n",
            "[nltk_data]   Unzipping corpora/stopwords.zip.\n"
          ]
        },
        {
          "output_type": "execute_result",
          "data": {
            "text/plain": [
              "True"
            ]
          },
          "metadata": {},
          "execution_count": 8
        }
      ],
      "source": [
        "!pip install -q pandas sklearn cryptography gensim xgboost nltk\n",
        "\n",
        "import pandas as pd\n",
        "import numpy as np\n",
        "import os\n",
        "from sklearn.datasets import fetch_20newsgroups\n",
        "from cryptography.hazmat.primitives.ciphers import Cipher, algorithms, modes\n",
        "from cryptography.hazmat.primitives import padding as crypto_padding\n",
        "import base64\n",
        "import nltk\n",
        "from nltk.tokenize import word_tokenize\n",
        "from nltk.corpus import stopwords\n",
        "import re\n",
        "import string\n",
        "\n",
        "nltk.download('punkt')\n",
        "nltk.download('stopwords')\n"
      ]
    },
    {
      "cell_type": "code",
      "source": [
        "newsgroups = fetch_20newsgroups(subset='all', remove=('headers', 'footers', 'quotes'))\n",
        "\n",
        "data = {\n",
        "    'text': newsgroups.data,\n",
        "    'label': newsgroups.target\n",
        "}\n",
        "df = pd.DataFrame(data)\n"
      ],
      "metadata": {
        "id": "5vFIofDXRINS"
      },
      "execution_count": null,
      "outputs": []
    },
    {
      "cell_type": "code",
      "source": [
        "def clean_text(text):\n",
        "    # Remove URLs\n",
        "    text = re.sub(r'http\\S+|www\\S+|https\\S+', '', text, flags=re.MULTILINE)\n",
        "    \n",
        "    # Remove punctuation and convert to lowercase\n",
        "    text = text.translate(str.maketrans('', '', string.punctuation)).lower()\n",
        "    \n",
        "    # Remove digits and extra spaces\n",
        "    text = re.sub(r'\\d+', '', text)\n",
        "    text = re.sub(r'\\s+', ' ', text)\n",
        "    \n",
        "    # Remove stopwords\n",
        "    stop_words = set(stopwords.words('english'))\n",
        "    word_tokens = word_tokenize(text)\n",
        "    text = ' '.join([word for word in word_tokens if word not in stop_words])\n",
        "\n",
        "    return text\n",
        "\n",
        "df['clean_text'] = df['text'].apply(clean_text)\n"
      ],
      "metadata": {
        "id": "S-jMOynZTROx"
      },
      "execution_count": null,
      "outputs": []
    },
    {
      "cell_type": "code",
      "source": [
        "def generate_aes_cipher(key):\n",
        "    cipher = Cipher(algorithms.AES(key), modes.CBC(os.urandom(16)))\n",
        "    return cipher\n",
        "\n",
        "def encrypt_text_aes(text, cipher):\n",
        "    words = text.split()\n",
        "    encrypted_words = []\n",
        "    for word in words:\n",
        "        padder = crypto_padding.PKCS7(128).padder()\n",
        "        padded_data = padder.update(word.encode()) + padder.finalize()\n",
        "        encryptor = cipher.encryptor()\n",
        "        encrypted_word = encryptor.update(padded_data) + encryptor.finalize()\n",
        "        encrypted_words.append(base64.b64encode(encrypted_word).decode())\n",
        "    return ' '.join(encrypted_words)\n",
        "\n",
        "def decrypt_text_aes(encrypted_text, cipher):\n",
        "    encrypted_words = encrypted_text.split()\n",
        "    decrypted_words = []\n",
        "    for encrypted_word in encrypted_words:\n",
        "        decryptor = cipher.decryptor()\n",
        "        decoded_word = base64.b64decode(encrypted_word.encode())\n",
        "        decrypted_word = decryptor.update(decoded_word) + decryptor.finalize()\n",
        "        unpadder = crypto_padding.PKCS7(128).unpadder()\n",
        "        decrypted_words.append((unpadder.update(decrypted_word) + unpadder.finalize()).decode())\n",
        "    return ' '.join(decrypted_words)\n",
        "\n",
        "\n",
        "# Generate a fixed AES key\n",
        "key = os.urandom(32)\n",
        "aes_cipher = generate_aes_cipher(key)\n",
        "\n",
        "# Encrypt the cleaned text column in the dataframe\n",
        "df['encrypted_clean_text'] = df['clean_text'].apply(lambda x: encrypt_text_aes(x, aes_cipher))\n"
      ],
      "metadata": {
        "id": "sLSn1uK5RJ-i"
      },
      "execution_count": null,
      "outputs": []
    },
    {
      "cell_type": "code",
      "source": [
        "df['encrypted_text'] = df['encrypted_clean_text']\n",
        "df['text'] = df['clean_text'] "
      ],
      "metadata": {
        "id": "a-6bQcreURvi"
      },
      "execution_count": null,
      "outputs": []
    },
    {
      "cell_type": "code",
      "source": [
        "df['text'][3]"
      ],
      "metadata": {
        "colab": {
          "base_uri": "https://localhost:8080/",
          "height": 87
        },
        "id": "xs7E-DhnWQsf",
        "outputId": "db5ad6d9-00e2-4284-fd2a-14b54223ca99"
      },
      "execution_count": null,
      "outputs": [
        {
          "data": {
            "application/vnd.google.colaboratory.intrinsic+json": {
              "type": "string"
            },
            "text/plain": [
              "'think scsi card dma transfers disks scsi card dma transfers containing data scsi devices attached wants important feature scsi ability detach device frees scsi bus devices typically used multitasking os start transfers several devices device seeking data bus free commands data transfers devices ready transfer data aquire bus send data ide bus start transfer bus busy disk seeked data transfered typically ms second lock processes wanting bus irrespective transfer time'"
            ]
          },
          "execution_count": 21,
          "metadata": {},
          "output_type": "execute_result"
        }
      ]
    },
    {
      "cell_type": "code",
      "source": [
        "df['encrypted_clean_text'][3]"
      ],
      "metadata": {
        "colab": {
          "base_uri": "https://localhost:8080/",
          "height": 226
        },
        "id": "4Y_QyiRGUiRf",
        "outputId": "f881d4e1-861d-483c-f920-cf302dd02b9c"
      },
      "execution_count": null,
      "outputs": [
        {
          "output_type": "execute_result",
          "data": {
            "text/plain": [
              "'edZsW1Ula3DzTBorRi7FAQ== Fn/7qJof921DPyhVL2BxjA== k5AtJ2+Xrmfixk5ehdT4ww== Gop/MvXvzZIUi4HmRwKR7w== v5/XYFcDqGbZLLFB3XGgEw== +GiUko50R3wwH91IA8OycA== Fn/7qJof921DPyhVL2BxjA== k5AtJ2+Xrmfixk5ehdT4ww== Gop/MvXvzZIUi4HmRwKR7w== v5/XYFcDqGbZLLFB3XGgEw== xie9cF2Pk6H58Fq7rcwbww== QldytYPn3keXa98BV0532Q== Fn/7qJof921DPyhVL2BxjA== GsFz1vyO+L0Hh7YS0XPNow== nbrcCJhkfrafIVndsiBq0g== H8YU4j5d0UEqUKdQ69yY3g== C1fjgyO8trLXRpce9FUF8Q== NlD5/xzyrwiMgKLwmC/I0A== Fn/7qJof921DPyhVL2BxjA== imvAo/eQencXppAR7WvE3g== EXV9IfwBJy5thnSdrtppEA== kottlm3WMmWPNiB9xx716A== KNW71diBPNIPhzM+sz9eig== Fn/7qJof921DPyhVL2BxjA== /SGLuTh2c5zWfMLGqoayxA== GsFz1vyO+L0Hh7YS0XPNow== BhUsKnLy/HZzC2aTzYtmrg== MsToCL/rw7k6Lsd+s/oeug== gYstncRSgUFT8Alm7f+v7w== +KeghL3BZR/h8AQCMu6CLg== afok14QU6EzDD95GahEa6w== v5/XYFcDqGbZLLFB3XGgEw== +oQ/v/JurQyWOEPoMIcN+g== GsFz1vyO+L0Hh7YS0XPNow== kottlm3WMmWPNiB9xx716A== W00197GKgQ/D9Kd/fnZA+A== QldytYPn3keXa98BV0532Q== /SGLuTh2c5zWfMLGqoayxA== Qap+BybNw/nDtdv0UYq/Vg== dQqJ7stzJKJF/l0UpexoEQ== QldytYPn3keXa98BV0532Q== v5/XYFcDqGbZLLFB3XGgEw== GsFz1vyO+L0Hh7YS0XPNow== ykH3hzmuQLZkLnGEFprjag== SmosS1B9YxgP/A8ABp2KIg== QldytYPn3keXa98BV0532Q== x175tjBH3gZXdZrTQ2ifmQ== /SGLuTh2c5zWfMLGqoayxA== PIutuwBU8nflDv/TYRLYEQ== QldytYPn3keXa98BV0532Q== rWe/gOYIun7VOqgPaWDlTA== /SGLuTh2c5zWfMLGqoayxA== afok14QU6EzDD95GahEa6w== SmosS1B9YxgP/A8ABp2KIg== /SGLuTh2c5zWfMLGqoayxA== IWbndAesLpNLIv/dhNP0Tg== IXjc4PJ7dfJBxGBcrCVEcQ== W0E2OUtF7bzA4EzqSEVOzQ== QldytYPn3keXa98BV0532Q== DLePeAaTPNVW0zP4PbLsow== BhUsKnLy/HZzC2aTzYtmrg== sjn6eG4F8tKGoTBZL+yRtw== sWzPxWWVzx+O4+myw1wxfg== VNFRHBlnaVRkPWyOts5JNA== kLRXPEzhKCpU/aF3R/P26g== vKtUtjUU5AnfwukUp4+v7w== /SGLuTh2c5zWfMLGqoayxA== TBPVrFXCiiVSeTNPivkNMw== SmosS1B9YxgP/A8ABp2KIg== xXdIZq7iZOLjRPF1GlUTdg=='"
            ],
            "application/vnd.google.colaboratory.intrinsic+json": {
              "type": "string"
            }
          },
          "metadata": {},
          "execution_count": 17
        }
      ]
    },
    {
      "cell_type": "code",
      "source": [
        "def create_tagged_documents(texts):\n",
        "    return [TaggedDocument(word_tokenize(text), [i]) for i, text in enumerate(texts)]\n",
        "\n",
        "normal_documents = create_tagged_documents(df['text'])\n",
        "encrypted_documents = create_tagged_documents(df['encrypted_text'])\n",
        "\n",
        "normal_doc2vec_model = gensim.models.Doc2Vec(normal_documents, vector_size=100, window=5, min_count=1, workers=4, epochs=10)\n",
        "encrypted_doc2vec_model = gensim.models.Doc2Vec(encrypted_documents, vector_size=100, window=5, min_count=1, workers=4, epochs=10)\n"
      ],
      "metadata": {
        "id": "4-owenC5RN2V"
      },
      "execution_count": null,
      "outputs": []
    },
    {
      "cell_type": "code",
      "source": [
        "normal_doc_vectors = np.array([normal_doc2vec_model.infer_vector(doc.words) for doc in normal_documents])\n",
        "encrypted_doc_vectors = np.array([encrypted_doc2vec_model.infer_vector(doc.words) for doc in encrypted_documents])\n"
      ],
      "metadata": {
        "id": "4kyGJvMaRrPC"
      },
      "execution_count": null,
      "outputs": []
    },
    {
      "cell_type": "code",
      "source": [
        "def train_and_evaluate_xgboost(X, y):\n",
        "    X_train, X_test, y_train, y_test = train_test_split(X, y, test_size=0.2, random_state=42)\n",
        "\n",
        "    xgb_classifier = XGBClassifier(use_label_encoder=False, eval_metric='mlogloss')\n",
        "    xgb_classifier.fit(X_train, y_train)\n",
        "    y_pred = xgb_classifier.predict(X_test)\n",
        "\n",
        "    print(classification_report(y_test, y_pred))\n",
        "\n",
        "# Train and evaluate the XGBoost classifiers\n",
        "print(\"Results for normal dataset:\")\n",
        "train_and_evaluate_xgboost(normal_doc_vectors, df['label'])\n",
        "\n",
        "print(\"\\nResults for encrypted dataset:\")\n",
        "train_and_evaluate_xgboost(encrypted_doc_vectors, df['label'])\n"
      ],
      "metadata": {
        "colab": {
          "base_uri": "https://localhost:8080/"
        },
        "id": "7Pr1h_ijRtrL",
        "outputId": "9f90b305-369f-4ce2-9b78-ba13355be2c0"
      },
      "execution_count": null,
      "outputs": [
        {
          "metadata": {
            "tags": null
          },
          "name": "stdout",
          "output_type": "stream",
          "text": [
            "Results for normal dataset:\n"
          ]
        },
        {
          "metadata": {
            "tags": null
          },
          "name": "stderr",
          "output_type": "stream",
          "text": [
            "/usr/local/lib/python3.10/dist-packages/xgboost/sklearn.py:1395: UserWarning: `use_label_encoder` is deprecated in 1.7.0.\n",
            "  warnings.warn(\"`use_label_encoder` is deprecated in 1.7.0.\")\n"
          ]
        },
        {
          "metadata": {
            "tags": null
          },
          "name": "stdout",
          "output_type": "stream",
          "text": [
            "              precision    recall  f1-score   support\n",
            "\n",
            "           0       0.34      0.37      0.35       151\n",
            "           1       0.49      0.52      0.50       202\n",
            "           2       0.42      0.49      0.45       195\n",
            "           3       0.33      0.42      0.37       183\n",
            "           4       0.36      0.32      0.34       205\n",
            "           5       0.69      0.67      0.68       215\n",
            "           6       0.57      0.54      0.55       193\n",
            "           7       0.47      0.49      0.48       196\n",
            "           8       0.38      0.54      0.44       168\n",
            "           9       0.54      0.54      0.54       211\n",
            "          10       0.63      0.56      0.59       198\n",
            "          11       0.64      0.62      0.63       201\n",
            "          12       0.39      0.40      0.39       202\n",
            "          13       0.68      0.66      0.67       194\n",
            "          14       0.65      0.61      0.63       189\n",
            "          15       0.63      0.70      0.66       202\n",
            "          16       0.57      0.53      0.55       188\n",
            "          17       0.71      0.62      0.66       182\n",
            "          18       0.45      0.38      0.41       159\n",
            "          19       0.26      0.12      0.17       136\n",
            "\n",
            "    accuracy                           0.51      3770\n",
            "   macro avg       0.51      0.50      0.50      3770\n",
            "weighted avg       0.52      0.51      0.51      3770\n",
            "\n",
            "\n",
            "Results for encrypted dataset:\n"
          ]
        },
        {
          "metadata": {
            "tags": null
          },
          "name": "stderr",
          "output_type": "stream",
          "text": [
            "/usr/local/lib/python3.10/dist-packages/xgboost/sklearn.py:1395: UserWarning: `use_label_encoder` is deprecated in 1.7.0.\n",
            "  warnings.warn(\"`use_label_encoder` is deprecated in 1.7.0.\")\n"
          ]
        },
        {
          "metadata": {
            "tags": null
          },
          "name": "stdout",
          "output_type": "stream",
          "text": [
            "              precision    recall  f1-score   support\n",
            "\n",
            "           0       0.33      0.35      0.34       151\n",
            "           1       0.50      0.53      0.52       202\n",
            "           2       0.44      0.50      0.47       195\n",
            "           3       0.36      0.43      0.39       183\n",
            "           4       0.38      0.34      0.35       205\n",
            "           5       0.71      0.67      0.69       215\n",
            "           6       0.51      0.54      0.53       193\n",
            "           7       0.44      0.44      0.44       196\n",
            "           8       0.36      0.51      0.42       168\n",
            "           9       0.62      0.57      0.59       211\n",
            "          10       0.58      0.58      0.58       198\n",
            "          11       0.65      0.58      0.61       201\n",
            "          12       0.43      0.41      0.42       202\n",
            "          13       0.65      0.69      0.67       194\n",
            "          14       0.64      0.65      0.64       189\n",
            "          15       0.59      0.67      0.63       202\n",
            "          16       0.55      0.59      0.57       188\n",
            "          17       0.65      0.62      0.64       182\n",
            "          18       0.45      0.35      0.40       159\n",
            "          19       0.16      0.07      0.09       136\n",
            "\n",
            "    accuracy                           0.51      3770\n",
            "   macro avg       0.50      0.50      0.50      3770\n",
            "weighted avg       0.51      0.51      0.51      3770\n",
            "\n"
          ]
        }
      ]
    },
    {
      "cell_type": "markdown",
      "source": [
        "LSTM"
      ],
      "metadata": {
        "id": "dqCA4ZSjbkOD"
      }
    },
    {
      "cell_type": "code",
      "source": [
        "import tensorflow as tf\n",
        "from tensorflow.keras.preprocessing.text import Tokenizer\n",
        "from tensorflow.keras.preprocessing.sequence import pad_sequences\n",
        "from tensorflow.keras.models import Sequential\n",
        "from tensorflow.keras.layers import Dense, LSTM, Embedding, Dropout\n",
        "from tensorflow.keras.utils import to_categorical\n",
        "from tensorflow.keras.layers import Reshape\n",
        "from sklearn.model_selection import train_test_split\n",
        "from sklearn.metrics import classification_report\n"
      ],
      "metadata": {
        "id": "MhYlLaQ_bHsb"
      },
      "execution_count": null,
      "outputs": []
    },
    {
      "cell_type": "code",
      "source": [
        "model_clean = normal_doc2vec_model \n",
        "model_encrypted = encrypted_doc2vec_model\n",
        "labels = df['label']"
      ],
      "metadata": {
        "id": "9iP5J9GPcp2-"
      },
      "execution_count": null,
      "outputs": []
    },
    {
      "cell_type": "code",
      "source": [
        "import numpy as np\n",
        "\n",
        "def get_doc2vec_embeddings(model, texts):\n",
        "    embeddings = []\n",
        "    for text in texts:\n",
        "        words = text.split()\n",
        "        embedding = np.zeros(model.vector_size)\n",
        "        word_count = 0\n",
        "\n",
        "        for word in words:\n",
        "            if word in model.wv:\n",
        "                embedding += model.wv[word]\n",
        "                word_count += 1\n",
        "\n",
        "        if word_count > 0:\n",
        "            embedding /= word_count\n",
        "\n",
        "        embeddings.append(embedding)\n",
        "\n",
        "    return np.array(embeddings)\n",
        "\n",
        "# Get Doc2Vec embeddings\n",
        "doc2vec_embeddings_clean = get_doc2vec_embeddings(model_clean, df['clean_text'])\n",
        "doc2vec_embeddings_encrypted = get_doc2vec_embeddings(model_encrypted, df['encrypted_clean_text'])\n",
        "\n",
        "\n",
        "# Convert labels to one-hot encoding\n",
        "labels = to_categorical(df['label'])\n",
        "\n",
        "# Split data into training and testing sets\n",
        "X_train_clean, X_test_clean, y_train_clean, y_test_clean = train_test_split(doc2vec_embeddings_clean, labels, test_size=0.2, random_state=42)\n",
        "X_train_encrypted, X_test_encrypted, y_train_encrypted, y_test_encrypted = train_test_split(doc2vec_embeddings_encrypted, labels, test_size=0.2, random_state=42)\n",
        "\n"
      ],
      "metadata": {
        "id": "jZvlW0rcbluX"
      },
      "execution_count": null,
      "outputs": []
    },
    {
      "cell_type": "code",
      "source": [
        "def create_lstm_model(input_shape):\n",
        "    model = Sequential()\n",
        "    model.add(tf.keras.Input(shape=input_shape))\n",
        "    model.add(Reshape((1, input_shape[0])))\n",
        "    model.add(LSTM(128, return_sequences=True))\n",
        "    model.add(LSTM(64))\n",
        "    model.add(Dropout(0.5))\n",
        "    model.add(Dense(20, activation='softmax'))\n",
        "\n",
        "    model.compile(optimizer='adam', loss='categorical_crossentropy', metrics=['accuracy'])\n",
        "    return model\n",
        "\n",
        "# Train and evaluate the LSTM model on cleaned text data\n",
        "input_shape = (model_clean.vector_size,)\n",
        "lstm_model_clean = create_lstm_model(input_shape)\n",
        "lstm_model_clean.fit(X_train_clean, y_train_clean, epochs=10, batch_size=64, validation_split=0.1)\n",
        "\n",
        "y_pred_clean = np.argmax(lstm_model_clean.predict(X_test_clean), axis=-1)\n",
        "y_true_clean = np.argmax(y_test_clean, axis=-1)\n",
        "print(\"Results for cleaned text data:\")\n",
        "print(classification_report(y_true_clean, y_pred_clean))\n",
        "\n",
        "# Train and evaluate the LSTM model on encrypted text data\n",
        "input_shape = (model_encrypted.vector_size,)\n",
        "lstm_model_encrypted = create_lstm_model(input_shape)\n",
        "lstm_model_encrypted.fit(X_train_encrypted, y_train_encrypted, epochs=10, batch_size=64, validation_split=0.1)\n",
        "\n",
        "y_pred_encrypted = np.argmax(lstm_model_encrypted.predict(X_test_encrypted), axis=-1)\n",
        "y_true_encrypted = np.argmax(y_test_encrypted, axis=-1)\n",
        "print(\"Results for encrypted text data:\")\n",
        "print(classification_report(y_true_encrypted, y_pred_encrypted))\n"
      ],
      "metadata": {
        "colab": {
          "base_uri": "https://localhost:8080/"
        },
        "id": "0O807Zbfc-Us",
        "outputId": "9086eb35-71f1-4b1a-f0a3-f096c19f4a5e"
      },
      "execution_count": null,
      "outputs": [
        {
          "output_type": "stream",
          "name": "stdout",
          "text": [
            "Epoch 1/10\n",
            "212/212 [==============================] - 12s 10ms/step - loss: 2.2717 - accuracy: 0.2777 - val_loss: 1.7078 - val_accuracy: 0.4682\n",
            "Epoch 2/10\n",
            "212/212 [==============================] - 1s 6ms/step - loss: 1.7171 - accuracy: 0.4403 - val_loss: 1.5320 - val_accuracy: 0.4954\n",
            "Epoch 3/10\n",
            "212/212 [==============================] - 1s 7ms/step - loss: 1.5988 - accuracy: 0.4786 - val_loss: 1.4763 - val_accuracy: 0.5126\n",
            "Epoch 4/10\n",
            "212/212 [==============================] - 2s 9ms/step - loss: 1.5387 - accuracy: 0.5015 - val_loss: 1.4433 - val_accuracy: 0.5332\n",
            "Epoch 5/10\n",
            "212/212 [==============================] - 1s 6ms/step - loss: 1.4901 - accuracy: 0.5170 - val_loss: 1.4311 - val_accuracy: 0.5305\n",
            "Epoch 6/10\n",
            "212/212 [==============================] - 1s 6ms/step - loss: 1.4656 - accuracy: 0.5251 - val_loss: 1.4188 - val_accuracy: 0.5391\n",
            "Epoch 7/10\n",
            "212/212 [==============================] - 1s 6ms/step - loss: 1.4467 - accuracy: 0.5280 - val_loss: 1.4053 - val_accuracy: 0.5398\n",
            "Epoch 8/10\n",
            "212/212 [==============================] - 1s 6ms/step - loss: 1.4384 - accuracy: 0.5372 - val_loss: 1.3952 - val_accuracy: 0.5438\n",
            "Epoch 9/10\n",
            "212/212 [==============================] - 1s 6ms/step - loss: 1.4080 - accuracy: 0.5417 - val_loss: 1.3831 - val_accuracy: 0.5531\n",
            "Epoch 10/10\n",
            "212/212 [==============================] - 1s 6ms/step - loss: 1.3989 - accuracy: 0.5468 - val_loss: 1.3872 - val_accuracy: 0.5550\n",
            "118/118 [==============================] - 1s 2ms/step\n",
            "Results for cleaned text data:\n",
            "              precision    recall  f1-score   support\n",
            "\n",
            "           0       0.39      0.39      0.39       151\n",
            "           1       0.53      0.43      0.47       202\n",
            "           2       0.56      0.51      0.54       195\n",
            "           3       0.43      0.42      0.42       183\n",
            "           4       0.48      0.35      0.41       205\n",
            "           5       0.72      0.73      0.72       215\n",
            "           6       0.64      0.69      0.66       193\n",
            "           7       0.63      0.50      0.56       196\n",
            "           8       0.30      0.51      0.38       168\n",
            "           9       0.54      0.47      0.50       211\n",
            "          10       0.59      0.79      0.67       198\n",
            "          11       0.77      0.64      0.70       201\n",
            "          12       0.47      0.49      0.48       202\n",
            "          13       0.74      0.73      0.73       194\n",
            "          14       0.58      0.70      0.63       189\n",
            "          15       0.63      0.69      0.66       202\n",
            "          16       0.51      0.62      0.56       188\n",
            "          17       0.71      0.65      0.68       182\n",
            "          18       0.35      0.47      0.40       159\n",
            "          19       0.13      0.01      0.03       136\n",
            "\n",
            "    accuracy                           0.55      3770\n",
            "   macro avg       0.54      0.54      0.53      3770\n",
            "weighted avg       0.55      0.55      0.54      3770\n",
            "\n",
            "Epoch 1/10\n",
            "212/212 [==============================] - 6s 13ms/step - loss: 2.2898 - accuracy: 0.2639 - val_loss: 1.7057 - val_accuracy: 0.4602\n",
            "Epoch 2/10\n",
            "212/212 [==============================] - 1s 6ms/step - loss: 1.7228 - accuracy: 0.4291 - val_loss: 1.5319 - val_accuracy: 0.5033\n",
            "Epoch 3/10\n",
            "212/212 [==============================] - 1s 6ms/step - loss: 1.5954 - accuracy: 0.4789 - val_loss: 1.4711 - val_accuracy: 0.5080\n",
            "Epoch 4/10\n",
            "212/212 [==============================] - 1s 6ms/step - loss: 1.5445 - accuracy: 0.4953 - val_loss: 1.4335 - val_accuracy: 0.5325\n",
            "Epoch 5/10\n",
            "212/212 [==============================] - 1s 6ms/step - loss: 1.5019 - accuracy: 0.5075 - val_loss: 1.4322 - val_accuracy: 0.5371\n",
            "Epoch 6/10\n",
            "212/212 [==============================] - 1s 6ms/step - loss: 1.4721 - accuracy: 0.5172 - val_loss: 1.4203 - val_accuracy: 0.5351\n",
            "Epoch 7/10\n",
            "212/212 [==============================] - 1s 6ms/step - loss: 1.4551 - accuracy: 0.5234 - val_loss: 1.4086 - val_accuracy: 0.5351\n",
            "Epoch 8/10\n",
            "212/212 [==============================] - 1s 6ms/step - loss: 1.4283 - accuracy: 0.5321 - val_loss: 1.3844 - val_accuracy: 0.5590\n",
            "Epoch 9/10\n",
            "212/212 [==============================] - 1s 7ms/step - loss: 1.4050 - accuracy: 0.5405 - val_loss: 1.3864 - val_accuracy: 0.5504\n",
            "Epoch 10/10\n",
            "212/212 [==============================] - 2s 8ms/step - loss: 1.4035 - accuracy: 0.5405 - val_loss: 1.3859 - val_accuracy: 0.5385\n",
            "118/118 [==============================] - 1s 2ms/step\n",
            "Results for encrypted text data:\n",
            "              precision    recall  f1-score   support\n",
            "\n",
            "           0       0.36      0.28      0.31       151\n",
            "           1       0.48      0.53      0.50       202\n",
            "           2       0.57      0.49      0.52       195\n",
            "           3       0.39      0.58      0.47       183\n",
            "           4       0.44      0.18      0.25       205\n",
            "           5       0.74      0.73      0.74       215\n",
            "           6       0.69      0.66      0.68       193\n",
            "           7       0.69      0.35      0.46       196\n",
            "           8       0.29      0.64      0.40       168\n",
            "           9       0.57      0.34      0.42       211\n",
            "          10       0.56      0.78      0.65       198\n",
            "          11       0.77      0.64      0.70       201\n",
            "          12       0.53      0.47      0.50       202\n",
            "          13       0.60      0.78      0.68       194\n",
            "          14       0.71      0.63      0.67       189\n",
            "          15       0.57      0.78      0.66       202\n",
            "          16       0.52      0.68      0.59       188\n",
            "          17       0.57      0.73      0.64       182\n",
            "          18       0.46      0.32      0.38       159\n",
            "          19       0.14      0.02      0.04       136\n",
            "\n",
            "    accuracy                           0.54      3770\n",
            "   macro avg       0.53      0.53      0.51      3770\n",
            "weighted avg       0.55      0.54      0.53      3770\n",
            "\n"
          ]
        }
      ]
    },
    {
      "cell_type": "markdown",
      "source": [
        "Encryption Test with Normal Input"
      ],
      "metadata": {
        "id": "IAiO_1E6fcF6"
      }
    },
    {
      "cell_type": "code",
      "source": [
        "# Predict using the encrypted model on the clean test set\n",
        "y_pred_encrypted_model_on_clean = np.argmax(lstm_model_encrypted.predict(X_test_clean), axis=-1)\n",
        "\n",
        "# Calculate the accuracy and display the classification report\n",
        "encrypted_model_clean_test_accuracy = np.mean(y_pred_encrypted_model_on_clean == np.argmax(y_test_clean, axis=-1))\n",
        "\n",
        "print(\"Accuracy of the encrypted model on clean test set: {:.2f}%\".format(encrypted_model_clean_test_accuracy * 100))\n",
        "print(\"\\nClassification Report:\")\n",
        "print(classification_report(np.argmax(y_test_clean, axis=-1), y_pred_encrypted_model_on_clean))\n"
      ],
      "metadata": {
        "colab": {
          "base_uri": "https://localhost:8080/"
        },
        "id": "pEsc_ufbfbz1",
        "outputId": "0197dfa4-34c3-4a7e-bb28-ac11501c0a91"
      },
      "execution_count": null,
      "outputs": [
        {
          "output_type": "stream",
          "name": "stdout",
          "text": [
            "118/118 [==============================] - 0s 3ms/step\n",
            "Accuracy of the encrypted model on clean test set: 39.50%\n",
            "\n",
            "Classification Report:\n",
            "              precision    recall  f1-score   support\n",
            "\n",
            "           0       0.25      0.27      0.26       151\n",
            "           1       0.53      0.32      0.40       202\n",
            "           2       0.62      0.39      0.48       195\n",
            "           3       0.45      0.49      0.47       183\n",
            "           4       0.43      0.01      0.03       205\n",
            "           5       0.80      0.55      0.65       215\n",
            "           6       0.69      0.54      0.61       193\n",
            "           7       0.78      0.04      0.07       196\n",
            "           8       0.14      0.12      0.13       168\n",
            "           9       0.71      0.16      0.26       211\n",
            "          10       0.55      0.80      0.65       198\n",
            "          11       0.24      0.79      0.37       201\n",
            "          12       0.30      0.22      0.26       202\n",
            "          13       0.72      0.30      0.43       194\n",
            "          14       0.26      0.71      0.38       189\n",
            "          15       0.70      0.36      0.48       202\n",
            "          16       0.43      0.56      0.49       188\n",
            "          17       0.39      0.76      0.52       182\n",
            "          18       0.22      0.35      0.27       159\n",
            "          19       0.30      0.02      0.04       136\n",
            "\n",
            "    accuracy                           0.39      3770\n",
            "   macro avg       0.48      0.39      0.36      3770\n",
            "weighted avg       0.49      0.39      0.37      3770\n",
            "\n"
          ]
        }
      ]
    }
  ]
}