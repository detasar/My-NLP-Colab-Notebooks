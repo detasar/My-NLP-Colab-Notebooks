{
  "nbformat": 4,
  "nbformat_minor": 0,
  "metadata": {
    "colab": {
      "name": "Emre-Turkish-Fine-Tune Multi-Lingual Speech Recognition Model with 🤗 Transformers using CTC.ipynb",
      "provenance": [],
      "collapsed_sections": [],
      "machine_shape": "hm",
      "include_colab_link": true
    },
    "kernelspec": {
      "name": "python3",
      "display_name": "Python 3"
    },
    "widgets": {
      "application/vnd.jupyter.widget-state+json": {
        "23cb5b7023c344318808ce966bd4deef": {
          "model_module": "@jupyter-widgets/controls",
          "model_name": "VBoxModel",
          "model_module_version": "1.5.0",
          "state": {
            "_view_name": "VBoxView",
            "_dom_classes": [],
            "_model_name": "VBoxModel",
            "_view_module": "@jupyter-widgets/controls",
            "_model_module_version": "1.5.0",
            "_view_count": null,
            "_view_module_version": "1.5.0",
            "box_style": "",
            "layout": "IPY_MODEL_590b65ca9c174291a0b60a6b403f6991",
            "_model_module": "@jupyter-widgets/controls",
            "children": [
              "IPY_MODEL_8ce5efc8fd754a4da8a9a70b1ea808ae",
              "IPY_MODEL_a75667c468bc4584b9c34161f0b45644",
              "IPY_MODEL_2d42187ad0ff454ebce969023dede989"
            ]
          }
        },
        "590b65ca9c174291a0b60a6b403f6991": {
          "model_module": "@jupyter-widgets/base",
          "model_name": "LayoutModel",
          "model_module_version": "1.2.0",
          "state": {
            "_view_name": "LayoutView",
            "grid_template_rows": null,
            "right": null,
            "justify_content": null,
            "_view_module": "@jupyter-widgets/base",
            "overflow": null,
            "_model_module_version": "1.2.0",
            "_view_count": null,
            "flex_flow": "column",
            "width": "50%",
            "min_width": null,
            "border": null,
            "align_items": "center",
            "bottom": null,
            "_model_module": "@jupyter-widgets/base",
            "top": null,
            "grid_column": null,
            "overflow_y": null,
            "overflow_x": null,
            "grid_auto_flow": null,
            "grid_area": null,
            "grid_template_columns": null,
            "flex": null,
            "_model_name": "LayoutModel",
            "justify_items": null,
            "grid_row": null,
            "max_height": null,
            "align_content": null,
            "visibility": null,
            "align_self": null,
            "height": null,
            "min_height": null,
            "padding": null,
            "grid_auto_rows": null,
            "grid_gap": null,
            "max_width": null,
            "order": null,
            "_view_module_version": "1.2.0",
            "grid_template_areas": null,
            "object_position": null,
            "object_fit": null,
            "grid_auto_columns": null,
            "margin": null,
            "display": "flex",
            "left": null
          }
        },
        "8ce5efc8fd754a4da8a9a70b1ea808ae": {
          "model_module": "@jupyter-widgets/controls",
          "model_name": "HTMLModel",
          "model_module_version": "1.5.0",
          "state": {
            "_view_name": "HTMLView",
            "style": "IPY_MODEL_05e39fe92e104d3d8a38df5fdfe9f733",
            "_dom_classes": [],
            "description": "",
            "_model_name": "HTMLModel",
            "placeholder": "​",
            "_view_module": "@jupyter-widgets/controls",
            "_model_module_version": "1.5.0",
            "value": "<center>\n<img src=https://huggingface.co/front/assets/huggingface_logo-noborder.svg alt='Hugging Face'>\n<br>\n<b>The AI community building the future</b>\n<br>\nImmediately click login after typing your password or it might be stored in plain text in this notebook file.\n</center>",
            "_view_count": null,
            "_view_module_version": "1.5.0",
            "description_tooltip": null,
            "_model_module": "@jupyter-widgets/controls",
            "layout": "IPY_MODEL_cc583908c8784c4cbacc90066de7b751"
          }
        },
        "a75667c468bc4584b9c34161f0b45644": {
          "model_module": "@jupyter-widgets/controls",
          "model_name": "HBoxModel",
          "model_module_version": "1.5.0",
          "state": {
            "_view_name": "HBoxView",
            "_dom_classes": [],
            "_model_name": "HBoxModel",
            "_view_module": "@jupyter-widgets/controls",
            "_model_module_version": "1.5.0",
            "_view_count": null,
            "_view_module_version": "1.5.0",
            "box_style": "",
            "layout": "IPY_MODEL_82063961b92a4af1b09e39b7b8a7ecd9",
            "_model_module": "@jupyter-widgets/controls",
            "children": [
              "IPY_MODEL_1dd5a8c5327944de87e9c348b8a04ba6",
              "IPY_MODEL_151a6dca64384c519ae42c609f74fc95"
            ]
          }
        },
        "2d42187ad0ff454ebce969023dede989": {
          "model_module": "@jupyter-widgets/controls",
          "model_name": "ButtonModel",
          "model_module_version": "1.5.0",
          "state": {
            "_view_name": "ButtonView",
            "style": "IPY_MODEL_98f6b975ee3446158a110ac17530f43b",
            "_dom_classes": [],
            "description": "Login",
            "_model_name": "ButtonModel",
            "button_style": "",
            "_view_module": "@jupyter-widgets/controls",
            "_model_module_version": "1.5.0",
            "tooltip": "",
            "_view_count": null,
            "disabled": false,
            "_view_module_version": "1.5.0",
            "layout": "IPY_MODEL_6b66f597790e4f918a7b869d47a766d8",
            "_model_module": "@jupyter-widgets/controls",
            "icon": ""
          }
        },
        "05e39fe92e104d3d8a38df5fdfe9f733": {
          "model_module": "@jupyter-widgets/controls",
          "model_name": "DescriptionStyleModel",
          "model_module_version": "1.5.0",
          "state": {
            "_view_name": "StyleView",
            "_model_name": "DescriptionStyleModel",
            "description_width": "",
            "_view_module": "@jupyter-widgets/base",
            "_model_module_version": "1.5.0",
            "_view_count": null,
            "_view_module_version": "1.2.0",
            "_model_module": "@jupyter-widgets/controls"
          }
        },
        "cc583908c8784c4cbacc90066de7b751": {
          "model_module": "@jupyter-widgets/base",
          "model_name": "LayoutModel",
          "model_module_version": "1.2.0",
          "state": {
            "_view_name": "LayoutView",
            "grid_template_rows": null,
            "right": null,
            "justify_content": null,
            "_view_module": "@jupyter-widgets/base",
            "overflow": null,
            "_model_module_version": "1.2.0",
            "_view_count": null,
            "flex_flow": null,
            "width": null,
            "min_width": null,
            "border": null,
            "align_items": null,
            "bottom": null,
            "_model_module": "@jupyter-widgets/base",
            "top": null,
            "grid_column": null,
            "overflow_y": null,
            "overflow_x": null,
            "grid_auto_flow": null,
            "grid_area": null,
            "grid_template_columns": null,
            "flex": null,
            "_model_name": "LayoutModel",
            "justify_items": null,
            "grid_row": null,
            "max_height": null,
            "align_content": null,
            "visibility": null,
            "align_self": null,
            "height": null,
            "min_height": null,
            "padding": null,
            "grid_auto_rows": null,
            "grid_gap": null,
            "max_width": null,
            "order": null,
            "_view_module_version": "1.2.0",
            "grid_template_areas": null,
            "object_position": null,
            "object_fit": null,
            "grid_auto_columns": null,
            "margin": null,
            "display": null,
            "left": null
          }
        },
        "82063961b92a4af1b09e39b7b8a7ecd9": {
          "model_module": "@jupyter-widgets/base",
          "model_name": "LayoutModel",
          "model_module_version": "1.2.0",
          "state": {
            "_view_name": "LayoutView",
            "grid_template_rows": null,
            "right": null,
            "justify_content": null,
            "_view_module": "@jupyter-widgets/base",
            "overflow": null,
            "_model_module_version": "1.2.0",
            "_view_count": null,
            "flex_flow": null,
            "width": null,
            "min_width": null,
            "border": null,
            "align_items": null,
            "bottom": null,
            "_model_module": "@jupyter-widgets/base",
            "top": null,
            "grid_column": null,
            "overflow_y": null,
            "overflow_x": null,
            "grid_auto_flow": null,
            "grid_area": null,
            "grid_template_columns": null,
            "flex": null,
            "_model_name": "LayoutModel",
            "justify_items": null,
            "grid_row": null,
            "max_height": null,
            "align_content": null,
            "visibility": null,
            "align_self": null,
            "height": null,
            "min_height": null,
            "padding": null,
            "grid_auto_rows": null,
            "grid_gap": null,
            "max_width": null,
            "order": null,
            "_view_module_version": "1.2.0",
            "grid_template_areas": null,
            "object_position": null,
            "object_fit": null,
            "grid_auto_columns": null,
            "margin": null,
            "display": null,
            "left": null
          }
        },
        "1dd5a8c5327944de87e9c348b8a04ba6": {
          "model_module": "@jupyter-widgets/controls",
          "model_name": "TextModel",
          "model_module_version": "1.5.0",
          "state": {
            "_view_name": "TextView",
            "style": "IPY_MODEL_bcfab0197367460e966dcc7283650c52",
            "_dom_classes": [],
            "description": "Username:",
            "_model_name": "TextModel",
            "placeholder": "​",
            "_view_module": "@jupyter-widgets/controls",
            "_model_module_version": "1.5.0",
            "value": "emre",
            "_view_count": null,
            "disabled": false,
            "_view_module_version": "1.5.0",
            "continuous_update": true,
            "description_tooltip": null,
            "_model_module": "@jupyter-widgets/controls",
            "layout": "IPY_MODEL_c1f3db74cd52478dae76f6e510f097f6"
          }
        },
        "151a6dca64384c519ae42c609f74fc95": {
          "model_module": "@jupyter-widgets/controls",
          "model_name": "PasswordModel",
          "model_module_version": "1.5.0",
          "state": {
            "_view_name": "PasswordView",
            "style": "IPY_MODEL_88d6b1596a284fbc9f1cff768bf7161f",
            "_dom_classes": [],
            "description": "Password:",
            "_model_name": "PasswordModel",
            "placeholder": "​",
            "_view_module": "@jupyter-widgets/controls",
            "_model_module_version": "1.5.0",
            "value": "",
            "_view_count": null,
            "disabled": false,
            "_view_module_version": "1.5.0",
            "continuous_update": true,
            "description_tooltip": null,
            "_model_module": "@jupyter-widgets/controls",
            "layout": "IPY_MODEL_1637e3c525ff4be490d45d6cdf0d157c"
          }
        },
        "98f6b975ee3446158a110ac17530f43b": {
          "model_module": "@jupyter-widgets/controls",
          "model_name": "ButtonStyleModel",
          "model_module_version": "1.5.0",
          "state": {
            "_view_name": "StyleView",
            "_model_name": "ButtonStyleModel",
            "_view_module": "@jupyter-widgets/base",
            "_model_module_version": "1.5.0",
            "_view_count": null,
            "button_color": null,
            "font_weight": "",
            "_view_module_version": "1.2.0",
            "_model_module": "@jupyter-widgets/controls"
          }
        },
        "6b66f597790e4f918a7b869d47a766d8": {
          "model_module": "@jupyter-widgets/base",
          "model_name": "LayoutModel",
          "model_module_version": "1.2.0",
          "state": {
            "_view_name": "LayoutView",
            "grid_template_rows": null,
            "right": null,
            "justify_content": null,
            "_view_module": "@jupyter-widgets/base",
            "overflow": null,
            "_model_module_version": "1.2.0",
            "_view_count": null,
            "flex_flow": null,
            "width": null,
            "min_width": null,
            "border": null,
            "align_items": null,
            "bottom": null,
            "_model_module": "@jupyter-widgets/base",
            "top": null,
            "grid_column": null,
            "overflow_y": null,
            "overflow_x": null,
            "grid_auto_flow": null,
            "grid_area": null,
            "grid_template_columns": null,
            "flex": null,
            "_model_name": "LayoutModel",
            "justify_items": null,
            "grid_row": null,
            "max_height": null,
            "align_content": null,
            "visibility": null,
            "align_self": null,
            "height": null,
            "min_height": null,
            "padding": null,
            "grid_auto_rows": null,
            "grid_gap": null,
            "max_width": null,
            "order": null,
            "_view_module_version": "1.2.0",
            "grid_template_areas": null,
            "object_position": null,
            "object_fit": null,
            "grid_auto_columns": null,
            "margin": null,
            "display": null,
            "left": null
          }
        },
        "bcfab0197367460e966dcc7283650c52": {
          "model_module": "@jupyter-widgets/controls",
          "model_name": "DescriptionStyleModel",
          "model_module_version": "1.5.0",
          "state": {
            "_view_name": "StyleView",
            "_model_name": "DescriptionStyleModel",
            "description_width": "",
            "_view_module": "@jupyter-widgets/base",
            "_model_module_version": "1.5.0",
            "_view_count": null,
            "_view_module_version": "1.2.0",
            "_model_module": "@jupyter-widgets/controls"
          }
        },
        "c1f3db74cd52478dae76f6e510f097f6": {
          "model_module": "@jupyter-widgets/base",
          "model_name": "LayoutModel",
          "model_module_version": "1.2.0",
          "state": {
            "_view_name": "LayoutView",
            "grid_template_rows": null,
            "right": null,
            "justify_content": null,
            "_view_module": "@jupyter-widgets/base",
            "overflow": null,
            "_model_module_version": "1.2.0",
            "_view_count": null,
            "flex_flow": null,
            "width": null,
            "min_width": null,
            "border": null,
            "align_items": null,
            "bottom": null,
            "_model_module": "@jupyter-widgets/base",
            "top": null,
            "grid_column": null,
            "overflow_y": null,
            "overflow_x": null,
            "grid_auto_flow": null,
            "grid_area": null,
            "grid_template_columns": null,
            "flex": null,
            "_model_name": "LayoutModel",
            "justify_items": null,
            "grid_row": null,
            "max_height": null,
            "align_content": null,
            "visibility": null,
            "align_self": null,
            "height": null,
            "min_height": null,
            "padding": null,
            "grid_auto_rows": null,
            "grid_gap": null,
            "max_width": null,
            "order": null,
            "_view_module_version": "1.2.0",
            "grid_template_areas": null,
            "object_position": null,
            "object_fit": null,
            "grid_auto_columns": null,
            "margin": null,
            "display": null,
            "left": null
          }
        },
        "88d6b1596a284fbc9f1cff768bf7161f": {
          "model_module": "@jupyter-widgets/controls",
          "model_name": "DescriptionStyleModel",
          "model_module_version": "1.5.0",
          "state": {
            "_view_name": "StyleView",
            "_model_name": "DescriptionStyleModel",
            "description_width": "",
            "_view_module": "@jupyter-widgets/base",
            "_model_module_version": "1.5.0",
            "_view_count": null,
            "_view_module_version": "1.2.0",
            "_model_module": "@jupyter-widgets/controls"
          }
        },
        "1637e3c525ff4be490d45d6cdf0d157c": {
          "model_module": "@jupyter-widgets/base",
          "model_name": "LayoutModel",
          "model_module_version": "1.2.0",
          "state": {
            "_view_name": "LayoutView",
            "grid_template_rows": null,
            "right": null,
            "justify_content": null,
            "_view_module": "@jupyter-widgets/base",
            "overflow": null,
            "_model_module_version": "1.2.0",
            "_view_count": null,
            "flex_flow": null,
            "width": null,
            "min_width": null,
            "border": null,
            "align_items": null,
            "bottom": null,
            "_model_module": "@jupyter-widgets/base",
            "top": null,
            "grid_column": null,
            "overflow_y": null,
            "overflow_x": null,
            "grid_auto_flow": null,
            "grid_area": null,
            "grid_template_columns": null,
            "flex": null,
            "_model_name": "LayoutModel",
            "justify_items": null,
            "grid_row": null,
            "max_height": null,
            "align_content": null,
            "visibility": null,
            "align_self": null,
            "height": null,
            "min_height": null,
            "padding": null,
            "grid_auto_rows": null,
            "grid_gap": null,
            "max_width": null,
            "order": null,
            "_view_module_version": "1.2.0",
            "grid_template_areas": null,
            "object_position": null,
            "object_fit": null,
            "grid_auto_columns": null,
            "margin": null,
            "display": null,
            "left": null
          }
        },
        "e76ba95271ad4c36ade114e4eaaf0a37": {
          "model_module": "@jupyter-widgets/controls",
          "model_name": "HBoxModel",
          "model_module_version": "1.5.0",
          "state": {
            "_view_name": "HBoxView",
            "_dom_classes": [],
            "_model_name": "HBoxModel",
            "_view_module": "@jupyter-widgets/controls",
            "_model_module_version": "1.5.0",
            "_view_count": null,
            "_view_module_version": "1.5.0",
            "box_style": "",
            "layout": "IPY_MODEL_3a12ce778aa048e78516531cb4a9d9ec",
            "_model_module": "@jupyter-widgets/controls",
            "children": [
              "IPY_MODEL_9a02468e0ab24cc2bdd90dc4cc5b8cc5",
              "IPY_MODEL_7be2f1b309db4feb9ec4abce11426750",
              "IPY_MODEL_7bd6aa5eaf2346aca344b16d0d75f89e"
            ]
          }
        },
        "3a12ce778aa048e78516531cb4a9d9ec": {
          "model_module": "@jupyter-widgets/base",
          "model_name": "LayoutModel",
          "model_module_version": "1.2.0",
          "state": {
            "_view_name": "LayoutView",
            "grid_template_rows": null,
            "right": null,
            "justify_content": null,
            "_view_module": "@jupyter-widgets/base",
            "overflow": null,
            "_model_module_version": "1.2.0",
            "_view_count": null,
            "flex_flow": null,
            "width": null,
            "min_width": null,
            "border": null,
            "align_items": null,
            "bottom": null,
            "_model_module": "@jupyter-widgets/base",
            "top": null,
            "grid_column": null,
            "overflow_y": null,
            "overflow_x": null,
            "grid_auto_flow": null,
            "grid_area": null,
            "grid_template_columns": null,
            "flex": null,
            "_model_name": "LayoutModel",
            "justify_items": null,
            "grid_row": null,
            "max_height": null,
            "align_content": null,
            "visibility": null,
            "align_self": null,
            "height": null,
            "min_height": null,
            "padding": null,
            "grid_auto_rows": null,
            "grid_gap": null,
            "max_width": null,
            "order": null,
            "_view_module_version": "1.2.0",
            "grid_template_areas": null,
            "object_position": null,
            "object_fit": null,
            "grid_auto_columns": null,
            "margin": null,
            "display": null,
            "left": null
          }
        },
        "9a02468e0ab24cc2bdd90dc4cc5b8cc5": {
          "model_module": "@jupyter-widgets/controls",
          "model_name": "HTMLModel",
          "model_module_version": "1.5.0",
          "state": {
            "_view_name": "HTMLView",
            "style": "IPY_MODEL_4c9f75e9ed774f29891fcaa077012576",
            "_dom_classes": [],
            "description": "",
            "_model_name": "HTMLModel",
            "placeholder": "​",
            "_view_module": "@jupyter-widgets/controls",
            "_model_module_version": "1.5.0",
            "value": "Downloading: ",
            "_view_count": null,
            "_view_module_version": "1.5.0",
            "description_tooltip": null,
            "_model_module": "@jupyter-widgets/controls",
            "layout": "IPY_MODEL_34cc82f9a3b24311b440bdeb605ad1a4"
          }
        },
        "7be2f1b309db4feb9ec4abce11426750": {
          "model_module": "@jupyter-widgets/controls",
          "model_name": "FloatProgressModel",
          "model_module_version": "1.5.0",
          "state": {
            "_view_name": "ProgressView",
            "style": "IPY_MODEL_eabde6d6e97442b9aaae514f03cb0770",
            "_dom_classes": [],
            "description": "",
            "_model_name": "FloatProgressModel",
            "bar_style": "success",
            "max": 4444,
            "_view_module": "@jupyter-widgets/controls",
            "_model_module_version": "1.5.0",
            "value": 4444,
            "_view_count": null,
            "_view_module_version": "1.5.0",
            "orientation": "horizontal",
            "min": 0,
            "description_tooltip": null,
            "_model_module": "@jupyter-widgets/controls",
            "layout": "IPY_MODEL_9a81bf2e87db4e6396348d8ea9a7356b"
          }
        },
        "7bd6aa5eaf2346aca344b16d0d75f89e": {
          "model_module": "@jupyter-widgets/controls",
          "model_name": "HTMLModel",
          "model_module_version": "1.5.0",
          "state": {
            "_view_name": "HTMLView",
            "style": "IPY_MODEL_b11831fdc74a436ca36c3b8342a5a284",
            "_dom_classes": [],
            "description": "",
            "_model_name": "HTMLModel",
            "placeholder": "​",
            "_view_module": "@jupyter-widgets/controls",
            "_model_module_version": "1.5.0",
            "value": " 22.5k/? [00:00&lt;00:00, 845kB/s]",
            "_view_count": null,
            "_view_module_version": "1.5.0",
            "description_tooltip": null,
            "_model_module": "@jupyter-widgets/controls",
            "layout": "IPY_MODEL_798b8c0070454315a027cabb71746236"
          }
        },
        "4c9f75e9ed774f29891fcaa077012576": {
          "model_module": "@jupyter-widgets/controls",
          "model_name": "DescriptionStyleModel",
          "model_module_version": "1.5.0",
          "state": {
            "_view_name": "StyleView",
            "_model_name": "DescriptionStyleModel",
            "description_width": "",
            "_view_module": "@jupyter-widgets/base",
            "_model_module_version": "1.5.0",
            "_view_count": null,
            "_view_module_version": "1.2.0",
            "_model_module": "@jupyter-widgets/controls"
          }
        },
        "34cc82f9a3b24311b440bdeb605ad1a4": {
          "model_module": "@jupyter-widgets/base",
          "model_name": "LayoutModel",
          "model_module_version": "1.2.0",
          "state": {
            "_view_name": "LayoutView",
            "grid_template_rows": null,
            "right": null,
            "justify_content": null,
            "_view_module": "@jupyter-widgets/base",
            "overflow": null,
            "_model_module_version": "1.2.0",
            "_view_count": null,
            "flex_flow": null,
            "width": null,
            "min_width": null,
            "border": null,
            "align_items": null,
            "bottom": null,
            "_model_module": "@jupyter-widgets/base",
            "top": null,
            "grid_column": null,
            "overflow_y": null,
            "overflow_x": null,
            "grid_auto_flow": null,
            "grid_area": null,
            "grid_template_columns": null,
            "flex": null,
            "_model_name": "LayoutModel",
            "justify_items": null,
            "grid_row": null,
            "max_height": null,
            "align_content": null,
            "visibility": null,
            "align_self": null,
            "height": null,
            "min_height": null,
            "padding": null,
            "grid_auto_rows": null,
            "grid_gap": null,
            "max_width": null,
            "order": null,
            "_view_module_version": "1.2.0",
            "grid_template_areas": null,
            "object_position": null,
            "object_fit": null,
            "grid_auto_columns": null,
            "margin": null,
            "display": null,
            "left": null
          }
        },
        "eabde6d6e97442b9aaae514f03cb0770": {
          "model_module": "@jupyter-widgets/controls",
          "model_name": "ProgressStyleModel",
          "model_module_version": "1.5.0",
          "state": {
            "_view_name": "StyleView",
            "_model_name": "ProgressStyleModel",
            "description_width": "",
            "_view_module": "@jupyter-widgets/base",
            "_model_module_version": "1.5.0",
            "_view_count": null,
            "_view_module_version": "1.2.0",
            "bar_color": null,
            "_model_module": "@jupyter-widgets/controls"
          }
        },
        "9a81bf2e87db4e6396348d8ea9a7356b": {
          "model_module": "@jupyter-widgets/base",
          "model_name": "LayoutModel",
          "model_module_version": "1.2.0",
          "state": {
            "_view_name": "LayoutView",
            "grid_template_rows": null,
            "right": null,
            "justify_content": null,
            "_view_module": "@jupyter-widgets/base",
            "overflow": null,
            "_model_module_version": "1.2.0",
            "_view_count": null,
            "flex_flow": null,
            "width": null,
            "min_width": null,
            "border": null,
            "align_items": null,
            "bottom": null,
            "_model_module": "@jupyter-widgets/base",
            "top": null,
            "grid_column": null,
            "overflow_y": null,
            "overflow_x": null,
            "grid_auto_flow": null,
            "grid_area": null,
            "grid_template_columns": null,
            "flex": null,
            "_model_name": "LayoutModel",
            "justify_items": null,
            "grid_row": null,
            "max_height": null,
            "align_content": null,
            "visibility": null,
            "align_self": null,
            "height": null,
            "min_height": null,
            "padding": null,
            "grid_auto_rows": null,
            "grid_gap": null,
            "max_width": null,
            "order": null,
            "_view_module_version": "1.2.0",
            "grid_template_areas": null,
            "object_position": null,
            "object_fit": null,
            "grid_auto_columns": null,
            "margin": null,
            "display": null,
            "left": null
          }
        },
        "b11831fdc74a436ca36c3b8342a5a284": {
          "model_module": "@jupyter-widgets/controls",
          "model_name": "DescriptionStyleModel",
          "model_module_version": "1.5.0",
          "state": {
            "_view_name": "StyleView",
            "_model_name": "DescriptionStyleModel",
            "description_width": "",
            "_view_module": "@jupyter-widgets/base",
            "_model_module_version": "1.5.0",
            "_view_count": null,
            "_view_module_version": "1.2.0",
            "_model_module": "@jupyter-widgets/controls"
          }
        },
        "798b8c0070454315a027cabb71746236": {
          "model_module": "@jupyter-widgets/base",
          "model_name": "LayoutModel",
          "model_module_version": "1.2.0",
          "state": {
            "_view_name": "LayoutView",
            "grid_template_rows": null,
            "right": null,
            "justify_content": null,
            "_view_module": "@jupyter-widgets/base",
            "overflow": null,
            "_model_module_version": "1.2.0",
            "_view_count": null,
            "flex_flow": null,
            "width": null,
            "min_width": null,
            "border": null,
            "align_items": null,
            "bottom": null,
            "_model_module": "@jupyter-widgets/base",
            "top": null,
            "grid_column": null,
            "overflow_y": null,
            "overflow_x": null,
            "grid_auto_flow": null,
            "grid_area": null,
            "grid_template_columns": null,
            "flex": null,
            "_model_name": "LayoutModel",
            "justify_items": null,
            "grid_row": null,
            "max_height": null,
            "align_content": null,
            "visibility": null,
            "align_self": null,
            "height": null,
            "min_height": null,
            "padding": null,
            "grid_auto_rows": null,
            "grid_gap": null,
            "max_width": null,
            "order": null,
            "_view_module_version": "1.2.0",
            "grid_template_areas": null,
            "object_position": null,
            "object_fit": null,
            "grid_auto_columns": null,
            "margin": null,
            "display": null,
            "left": null
          }
        },
        "178330e6da26462e80521fdca42a88d2": {
          "model_module": "@jupyter-widgets/controls",
          "model_name": "HBoxModel",
          "model_module_version": "1.5.0",
          "state": {
            "_view_name": "HBoxView",
            "_dom_classes": [],
            "_model_name": "HBoxModel",
            "_view_module": "@jupyter-widgets/controls",
            "_model_module_version": "1.5.0",
            "_view_count": null,
            "_view_module_version": "1.5.0",
            "box_style": "",
            "layout": "IPY_MODEL_57a67e3dc3ad41c3b2a6ed6c66d9c7f3",
            "_model_module": "@jupyter-widgets/controls",
            "children": [
              "IPY_MODEL_5fd7ab5923264501979e2795faad1166",
              "IPY_MODEL_309299ee084c4d81a484b992d2feef46",
              "IPY_MODEL_6ba4d11dc86a430287063b804ed5dede"
            ]
          }
        },
        "57a67e3dc3ad41c3b2a6ed6c66d9c7f3": {
          "model_module": "@jupyter-widgets/base",
          "model_name": "LayoutModel",
          "model_module_version": "1.2.0",
          "state": {
            "_view_name": "LayoutView",
            "grid_template_rows": null,
            "right": null,
            "justify_content": null,
            "_view_module": "@jupyter-widgets/base",
            "overflow": null,
            "_model_module_version": "1.2.0",
            "_view_count": null,
            "flex_flow": null,
            "width": null,
            "min_width": null,
            "border": null,
            "align_items": null,
            "bottom": null,
            "_model_module": "@jupyter-widgets/base",
            "top": null,
            "grid_column": null,
            "overflow_y": null,
            "overflow_x": null,
            "grid_auto_flow": null,
            "grid_area": null,
            "grid_template_columns": null,
            "flex": null,
            "_model_name": "LayoutModel",
            "justify_items": null,
            "grid_row": null,
            "max_height": null,
            "align_content": null,
            "visibility": null,
            "align_self": null,
            "height": null,
            "min_height": null,
            "padding": null,
            "grid_auto_rows": null,
            "grid_gap": null,
            "max_width": null,
            "order": null,
            "_view_module_version": "1.2.0",
            "grid_template_areas": null,
            "object_position": null,
            "object_fit": null,
            "grid_auto_columns": null,
            "margin": null,
            "display": null,
            "left": null
          }
        },
        "5fd7ab5923264501979e2795faad1166": {
          "model_module": "@jupyter-widgets/controls",
          "model_name": "HTMLModel",
          "model_module_version": "1.5.0",
          "state": {
            "_view_name": "HTMLView",
            "style": "IPY_MODEL_a0c28a0ad2c442e8bf62313ca06cc945",
            "_dom_classes": [],
            "description": "",
            "_model_name": "HTMLModel",
            "placeholder": "​",
            "_view_module": "@jupyter-widgets/controls",
            "_model_module_version": "1.5.0",
            "value": "Downloading: ",
            "_view_count": null,
            "_view_module_version": "1.5.0",
            "description_tooltip": null,
            "_model_module": "@jupyter-widgets/controls",
            "layout": "IPY_MODEL_ebac481054b2464cb11ad704d77f3fee"
          }
        },
        "309299ee084c4d81a484b992d2feef46": {
          "model_module": "@jupyter-widgets/controls",
          "model_name": "FloatProgressModel",
          "model_module_version": "1.5.0",
          "state": {
            "_view_name": "ProgressView",
            "style": "IPY_MODEL_bcbab8c8ba1547988cc84ab98009b0fb",
            "_dom_classes": [],
            "description": "",
            "_model_name": "FloatProgressModel",
            "bar_style": "success",
            "max": 10151,
            "_view_module": "@jupyter-widgets/controls",
            "_model_module_version": "1.5.0",
            "value": 10151,
            "_view_count": null,
            "_view_module_version": "1.5.0",
            "orientation": "horizontal",
            "min": 0,
            "description_tooltip": null,
            "_model_module": "@jupyter-widgets/controls",
            "layout": "IPY_MODEL_59d252ddd0904280a413acaa14d547be"
          }
        },
        "6ba4d11dc86a430287063b804ed5dede": {
          "model_module": "@jupyter-widgets/controls",
          "model_name": "HTMLModel",
          "model_module_version": "1.5.0",
          "state": {
            "_view_name": "HTMLView",
            "style": "IPY_MODEL_7742193e08de4c10ad24b8e2c23ff9fe",
            "_dom_classes": [],
            "description": "",
            "_model_name": "HTMLModel",
            "placeholder": "​",
            "_view_module": "@jupyter-widgets/controls",
            "_model_module_version": "1.5.0",
            "value": " 161k/? [00:00&lt;00:00, 5.90MB/s]",
            "_view_count": null,
            "_view_module_version": "1.5.0",
            "description_tooltip": null,
            "_model_module": "@jupyter-widgets/controls",
            "layout": "IPY_MODEL_35100a0bb7144d228e4da51796dc7cc9"
          }
        },
        "a0c28a0ad2c442e8bf62313ca06cc945": {
          "model_module": "@jupyter-widgets/controls",
          "model_name": "DescriptionStyleModel",
          "model_module_version": "1.5.0",
          "state": {
            "_view_name": "StyleView",
            "_model_name": "DescriptionStyleModel",
            "description_width": "",
            "_view_module": "@jupyter-widgets/base",
            "_model_module_version": "1.5.0",
            "_view_count": null,
            "_view_module_version": "1.2.0",
            "_model_module": "@jupyter-widgets/controls"
          }
        },
        "ebac481054b2464cb11ad704d77f3fee": {
          "model_module": "@jupyter-widgets/base",
          "model_name": "LayoutModel",
          "model_module_version": "1.2.0",
          "state": {
            "_view_name": "LayoutView",
            "grid_template_rows": null,
            "right": null,
            "justify_content": null,
            "_view_module": "@jupyter-widgets/base",
            "overflow": null,
            "_model_module_version": "1.2.0",
            "_view_count": null,
            "flex_flow": null,
            "width": null,
            "min_width": null,
            "border": null,
            "align_items": null,
            "bottom": null,
            "_model_module": "@jupyter-widgets/base",
            "top": null,
            "grid_column": null,
            "overflow_y": null,
            "overflow_x": null,
            "grid_auto_flow": null,
            "grid_area": null,
            "grid_template_columns": null,
            "flex": null,
            "_model_name": "LayoutModel",
            "justify_items": null,
            "grid_row": null,
            "max_height": null,
            "align_content": null,
            "visibility": null,
            "align_self": null,
            "height": null,
            "min_height": null,
            "padding": null,
            "grid_auto_rows": null,
            "grid_gap": null,
            "max_width": null,
            "order": null,
            "_view_module_version": "1.2.0",
            "grid_template_areas": null,
            "object_position": null,
            "object_fit": null,
            "grid_auto_columns": null,
            "margin": null,
            "display": null,
            "left": null
          }
        },
        "bcbab8c8ba1547988cc84ab98009b0fb": {
          "model_module": "@jupyter-widgets/controls",
          "model_name": "ProgressStyleModel",
          "model_module_version": "1.5.0",
          "state": {
            "_view_name": "StyleView",
            "_model_name": "ProgressStyleModel",
            "description_width": "",
            "_view_module": "@jupyter-widgets/base",
            "_model_module_version": "1.5.0",
            "_view_count": null,
            "_view_module_version": "1.2.0",
            "bar_color": null,
            "_model_module": "@jupyter-widgets/controls"
          }
        },
        "59d252ddd0904280a413acaa14d547be": {
          "model_module": "@jupyter-widgets/base",
          "model_name": "LayoutModel",
          "model_module_version": "1.2.0",
          "state": {
            "_view_name": "LayoutView",
            "grid_template_rows": null,
            "right": null,
            "justify_content": null,
            "_view_module": "@jupyter-widgets/base",
            "overflow": null,
            "_model_module_version": "1.2.0",
            "_view_count": null,
            "flex_flow": null,
            "width": null,
            "min_width": null,
            "border": null,
            "align_items": null,
            "bottom": null,
            "_model_module": "@jupyter-widgets/base",
            "top": null,
            "grid_column": null,
            "overflow_y": null,
            "overflow_x": null,
            "grid_auto_flow": null,
            "grid_area": null,
            "grid_template_columns": null,
            "flex": null,
            "_model_name": "LayoutModel",
            "justify_items": null,
            "grid_row": null,
            "max_height": null,
            "align_content": null,
            "visibility": null,
            "align_self": null,
            "height": null,
            "min_height": null,
            "padding": null,
            "grid_auto_rows": null,
            "grid_gap": null,
            "max_width": null,
            "order": null,
            "_view_module_version": "1.2.0",
            "grid_template_areas": null,
            "object_position": null,
            "object_fit": null,
            "grid_auto_columns": null,
            "margin": null,
            "display": null,
            "left": null
          }
        },
        "7742193e08de4c10ad24b8e2c23ff9fe": {
          "model_module": "@jupyter-widgets/controls",
          "model_name": "DescriptionStyleModel",
          "model_module_version": "1.5.0",
          "state": {
            "_view_name": "StyleView",
            "_model_name": "DescriptionStyleModel",
            "description_width": "",
            "_view_module": "@jupyter-widgets/base",
            "_model_module_version": "1.5.0",
            "_view_count": null,
            "_view_module_version": "1.2.0",
            "_model_module": "@jupyter-widgets/controls"
          }
        },
        "35100a0bb7144d228e4da51796dc7cc9": {
          "model_module": "@jupyter-widgets/base",
          "model_name": "LayoutModel",
          "model_module_version": "1.2.0",
          "state": {
            "_view_name": "LayoutView",
            "grid_template_rows": null,
            "right": null,
            "justify_content": null,
            "_view_module": "@jupyter-widgets/base",
            "overflow": null,
            "_model_module_version": "1.2.0",
            "_view_count": null,
            "flex_flow": null,
            "width": null,
            "min_width": null,
            "border": null,
            "align_items": null,
            "bottom": null,
            "_model_module": "@jupyter-widgets/base",
            "top": null,
            "grid_column": null,
            "overflow_y": null,
            "overflow_x": null,
            "grid_auto_flow": null,
            "grid_area": null,
            "grid_template_columns": null,
            "flex": null,
            "_model_name": "LayoutModel",
            "justify_items": null,
            "grid_row": null,
            "max_height": null,
            "align_content": null,
            "visibility": null,
            "align_self": null,
            "height": null,
            "min_height": null,
            "padding": null,
            "grid_auto_rows": null,
            "grid_gap": null,
            "max_width": null,
            "order": null,
            "_view_module_version": "1.2.0",
            "grid_template_areas": null,
            "object_position": null,
            "object_fit": null,
            "grid_auto_columns": null,
            "margin": null,
            "display": null,
            "left": null
          }
        },
        "3b228e92778a4b4d910284183efbe109": {
          "model_module": "@jupyter-widgets/controls",
          "model_name": "HBoxModel",
          "model_module_version": "1.5.0",
          "state": {
            "_view_name": "HBoxView",
            "_dom_classes": [],
            "_model_name": "HBoxModel",
            "_view_module": "@jupyter-widgets/controls",
            "_model_module_version": "1.5.0",
            "_view_count": null,
            "_view_module_version": "1.5.0",
            "box_style": "",
            "layout": "IPY_MODEL_325665a47677443d879bc637cbf02010",
            "_model_module": "@jupyter-widgets/controls",
            "children": [
              "IPY_MODEL_9bf5ac30afdb43359e6d1effa8e8bc6a",
              "IPY_MODEL_1b8eb3b601ab4e64aa4f74989640e7c5",
              "IPY_MODEL_b54a032ad3e8406fa04b3206d9a34d73"
            ]
          }
        },
        "325665a47677443d879bc637cbf02010": {
          "model_module": "@jupyter-widgets/base",
          "model_name": "LayoutModel",
          "model_module_version": "1.2.0",
          "state": {
            "_view_name": "LayoutView",
            "grid_template_rows": null,
            "right": null,
            "justify_content": null,
            "_view_module": "@jupyter-widgets/base",
            "overflow": null,
            "_model_module_version": "1.2.0",
            "_view_count": null,
            "flex_flow": null,
            "width": null,
            "min_width": null,
            "border": null,
            "align_items": null,
            "bottom": null,
            "_model_module": "@jupyter-widgets/base",
            "top": null,
            "grid_column": null,
            "overflow_y": null,
            "overflow_x": null,
            "grid_auto_flow": null,
            "grid_area": null,
            "grid_template_columns": null,
            "flex": null,
            "_model_name": "LayoutModel",
            "justify_items": null,
            "grid_row": null,
            "max_height": null,
            "align_content": null,
            "visibility": null,
            "align_self": null,
            "height": null,
            "min_height": null,
            "padding": null,
            "grid_auto_rows": null,
            "grid_gap": null,
            "max_width": null,
            "order": null,
            "_view_module_version": "1.2.0",
            "grid_template_areas": null,
            "object_position": null,
            "object_fit": null,
            "grid_auto_columns": null,
            "margin": null,
            "display": null,
            "left": null
          }
        },
        "9bf5ac30afdb43359e6d1effa8e8bc6a": {
          "model_module": "@jupyter-widgets/controls",
          "model_name": "HTMLModel",
          "model_module_version": "1.5.0",
          "state": {
            "_view_name": "HTMLView",
            "style": "IPY_MODEL_dbf206e6192d4da99add213a98527aef",
            "_dom_classes": [],
            "description": "",
            "_model_name": "HTMLModel",
            "placeholder": "​",
            "_view_module": "@jupyter-widgets/controls",
            "_model_module_version": "1.5.0",
            "value": "Downloading: 100%",
            "_view_count": null,
            "_view_module_version": "1.5.0",
            "description_tooltip": null,
            "_model_module": "@jupyter-widgets/controls",
            "layout": "IPY_MODEL_c8328bae94b945ffb9a24bddc04fbdc6"
          }
        },
        "1b8eb3b601ab4e64aa4f74989640e7c5": {
          "model_module": "@jupyter-widgets/controls",
          "model_name": "FloatProgressModel",
          "model_module_version": "1.5.0",
          "state": {
            "_view_name": "ProgressView",
            "style": "IPY_MODEL_803ed7e9dc854b8c8ecdcbc9d5fe9308",
            "_dom_classes": [],
            "description": "",
            "_model_name": "FloatProgressModel",
            "bar_style": "success",
            "max": 620848700,
            "_view_module": "@jupyter-widgets/controls",
            "_model_module_version": "1.5.0",
            "value": 620848700,
            "_view_count": null,
            "_view_module_version": "1.5.0",
            "orientation": "horizontal",
            "min": 0,
            "description_tooltip": null,
            "_model_module": "@jupyter-widgets/controls",
            "layout": "IPY_MODEL_80a050061499430983ea5b8329c2a1ea"
          }
        },
        "b54a032ad3e8406fa04b3206d9a34d73": {
          "model_module": "@jupyter-widgets/controls",
          "model_name": "HTMLModel",
          "model_module_version": "1.5.0",
          "state": {
            "_view_name": "HTMLView",
            "style": "IPY_MODEL_36ccaaba84cc48a4926a239ea93c7ca4",
            "_dom_classes": [],
            "description": "",
            "_model_name": "HTMLModel",
            "placeholder": "​",
            "_view_module": "@jupyter-widgets/controls",
            "_model_module_version": "1.5.0",
            "value": " 621M/621M [00:35&lt;00:00, 20.8MB/s]",
            "_view_count": null,
            "_view_module_version": "1.5.0",
            "description_tooltip": null,
            "_model_module": "@jupyter-widgets/controls",
            "layout": "IPY_MODEL_d3ecdbba64344a4b9b377dfa3c0df639"
          }
        },
        "dbf206e6192d4da99add213a98527aef": {
          "model_module": "@jupyter-widgets/controls",
          "model_name": "DescriptionStyleModel",
          "model_module_version": "1.5.0",
          "state": {
            "_view_name": "StyleView",
            "_model_name": "DescriptionStyleModel",
            "description_width": "",
            "_view_module": "@jupyter-widgets/base",
            "_model_module_version": "1.5.0",
            "_view_count": null,
            "_view_module_version": "1.2.0",
            "_model_module": "@jupyter-widgets/controls"
          }
        },
        "c8328bae94b945ffb9a24bddc04fbdc6": {
          "model_module": "@jupyter-widgets/base",
          "model_name": "LayoutModel",
          "model_module_version": "1.2.0",
          "state": {
            "_view_name": "LayoutView",
            "grid_template_rows": null,
            "right": null,
            "justify_content": null,
            "_view_module": "@jupyter-widgets/base",
            "overflow": null,
            "_model_module_version": "1.2.0",
            "_view_count": null,
            "flex_flow": null,
            "width": null,
            "min_width": null,
            "border": null,
            "align_items": null,
            "bottom": null,
            "_model_module": "@jupyter-widgets/base",
            "top": null,
            "grid_column": null,
            "overflow_y": null,
            "overflow_x": null,
            "grid_auto_flow": null,
            "grid_area": null,
            "grid_template_columns": null,
            "flex": null,
            "_model_name": "LayoutModel",
            "justify_items": null,
            "grid_row": null,
            "max_height": null,
            "align_content": null,
            "visibility": null,
            "align_self": null,
            "height": null,
            "min_height": null,
            "padding": null,
            "grid_auto_rows": null,
            "grid_gap": null,
            "max_width": null,
            "order": null,
            "_view_module_version": "1.2.0",
            "grid_template_areas": null,
            "object_position": null,
            "object_fit": null,
            "grid_auto_columns": null,
            "margin": null,
            "display": null,
            "left": null
          }
        },
        "803ed7e9dc854b8c8ecdcbc9d5fe9308": {
          "model_module": "@jupyter-widgets/controls",
          "model_name": "ProgressStyleModel",
          "model_module_version": "1.5.0",
          "state": {
            "_view_name": "StyleView",
            "_model_name": "ProgressStyleModel",
            "description_width": "",
            "_view_module": "@jupyter-widgets/base",
            "_model_module_version": "1.5.0",
            "_view_count": null,
            "_view_module_version": "1.2.0",
            "bar_color": null,
            "_model_module": "@jupyter-widgets/controls"
          }
        },
        "80a050061499430983ea5b8329c2a1ea": {
          "model_module": "@jupyter-widgets/base",
          "model_name": "LayoutModel",
          "model_module_version": "1.2.0",
          "state": {
            "_view_name": "LayoutView",
            "grid_template_rows": null,
            "right": null,
            "justify_content": null,
            "_view_module": "@jupyter-widgets/base",
            "overflow": null,
            "_model_module_version": "1.2.0",
            "_view_count": null,
            "flex_flow": null,
            "width": null,
            "min_width": null,
            "border": null,
            "align_items": null,
            "bottom": null,
            "_model_module": "@jupyter-widgets/base",
            "top": null,
            "grid_column": null,
            "overflow_y": null,
            "overflow_x": null,
            "grid_auto_flow": null,
            "grid_area": null,
            "grid_template_columns": null,
            "flex": null,
            "_model_name": "LayoutModel",
            "justify_items": null,
            "grid_row": null,
            "max_height": null,
            "align_content": null,
            "visibility": null,
            "align_self": null,
            "height": null,
            "min_height": null,
            "padding": null,
            "grid_auto_rows": null,
            "grid_gap": null,
            "max_width": null,
            "order": null,
            "_view_module_version": "1.2.0",
            "grid_template_areas": null,
            "object_position": null,
            "object_fit": null,
            "grid_auto_columns": null,
            "margin": null,
            "display": null,
            "left": null
          }
        },
        "36ccaaba84cc48a4926a239ea93c7ca4": {
          "model_module": "@jupyter-widgets/controls",
          "model_name": "DescriptionStyleModel",
          "model_module_version": "1.5.0",
          "state": {
            "_view_name": "StyleView",
            "_model_name": "DescriptionStyleModel",
            "description_width": "",
            "_view_module": "@jupyter-widgets/base",
            "_model_module_version": "1.5.0",
            "_view_count": null,
            "_view_module_version": "1.2.0",
            "_model_module": "@jupyter-widgets/controls"
          }
        },
        "d3ecdbba64344a4b9b377dfa3c0df639": {
          "model_module": "@jupyter-widgets/base",
          "model_name": "LayoutModel",
          "model_module_version": "1.2.0",
          "state": {
            "_view_name": "LayoutView",
            "grid_template_rows": null,
            "right": null,
            "justify_content": null,
            "_view_module": "@jupyter-widgets/base",
            "overflow": null,
            "_model_module_version": "1.2.0",
            "_view_count": null,
            "flex_flow": null,
            "width": null,
            "min_width": null,
            "border": null,
            "align_items": null,
            "bottom": null,
            "_model_module": "@jupyter-widgets/base",
            "top": null,
            "grid_column": null,
            "overflow_y": null,
            "overflow_x": null,
            "grid_auto_flow": null,
            "grid_area": null,
            "grid_template_columns": null,
            "flex": null,
            "_model_name": "LayoutModel",
            "justify_items": null,
            "grid_row": null,
            "max_height": null,
            "align_content": null,
            "visibility": null,
            "align_self": null,
            "height": null,
            "min_height": null,
            "padding": null,
            "grid_auto_rows": null,
            "grid_gap": null,
            "max_width": null,
            "order": null,
            "_view_module_version": "1.2.0",
            "grid_template_areas": null,
            "object_position": null,
            "object_fit": null,
            "grid_auto_columns": null,
            "margin": null,
            "display": null,
            "left": null
          }
        },
        "221e46dd63984cb085487274c787f3e4": {
          "model_module": "@jupyter-widgets/controls",
          "model_name": "HBoxModel",
          "model_module_version": "1.5.0",
          "state": {
            "_view_name": "HBoxView",
            "_dom_classes": [],
            "_model_name": "HBoxModel",
            "_view_module": "@jupyter-widgets/controls",
            "_model_module_version": "1.5.0",
            "_view_count": null,
            "_view_module_version": "1.5.0",
            "box_style": "",
            "layout": "IPY_MODEL_a7a06655295148c085932eb3d086f0b7",
            "_model_module": "@jupyter-widgets/controls",
            "children": [
              "IPY_MODEL_38c0b5f5454c47c89cdaabc733a3a4aa",
              "IPY_MODEL_6f6b972d130f4ecbabfa6446ca9e0d76",
              "IPY_MODEL_871952e09526462ea467b162d62aa3b0"
            ]
          }
        },
        "a7a06655295148c085932eb3d086f0b7": {
          "model_module": "@jupyter-widgets/base",
          "model_name": "LayoutModel",
          "model_module_version": "1.2.0",
          "state": {
            "_view_name": "LayoutView",
            "grid_template_rows": null,
            "right": null,
            "justify_content": null,
            "_view_module": "@jupyter-widgets/base",
            "overflow": null,
            "_model_module_version": "1.2.0",
            "_view_count": null,
            "flex_flow": null,
            "width": null,
            "min_width": null,
            "border": null,
            "align_items": null,
            "bottom": null,
            "_model_module": "@jupyter-widgets/base",
            "top": null,
            "grid_column": null,
            "overflow_y": null,
            "overflow_x": null,
            "grid_auto_flow": null,
            "grid_area": null,
            "grid_template_columns": null,
            "flex": null,
            "_model_name": "LayoutModel",
            "justify_items": null,
            "grid_row": null,
            "max_height": null,
            "align_content": null,
            "visibility": null,
            "align_self": null,
            "height": null,
            "min_height": null,
            "padding": null,
            "grid_auto_rows": null,
            "grid_gap": null,
            "max_width": null,
            "order": null,
            "_view_module_version": "1.2.0",
            "grid_template_areas": null,
            "object_position": null,
            "object_fit": null,
            "grid_auto_columns": null,
            "margin": null,
            "display": null,
            "left": null
          }
        },
        "38c0b5f5454c47c89cdaabc733a3a4aa": {
          "model_module": "@jupyter-widgets/controls",
          "model_name": "HTMLModel",
          "model_module_version": "1.5.0",
          "state": {
            "_view_name": "HTMLView",
            "style": "IPY_MODEL_d5a75c64f8134be8a5209cb369b5352a",
            "_dom_classes": [],
            "description": "",
            "_model_name": "HTMLModel",
            "placeholder": "​",
            "_view_module": "@jupyter-widgets/controls",
            "_model_module_version": "1.5.0",
            "value": "",
            "_view_count": null,
            "_view_module_version": "1.5.0",
            "description_tooltip": null,
            "_model_module": "@jupyter-widgets/controls",
            "layout": "IPY_MODEL_20e71306851146cf931628806f712802"
          }
        },
        "6f6b972d130f4ecbabfa6446ca9e0d76": {
          "model_module": "@jupyter-widgets/controls",
          "model_name": "FloatProgressModel",
          "model_module_version": "1.5.0",
          "state": {
            "_view_name": "ProgressView",
            "style": "IPY_MODEL_02ecd1fc7c4243ef806c7e17fdf2ea6f",
            "_dom_classes": [],
            "description": "",
            "_model_name": "FloatProgressModel",
            "bar_style": "info",
            "max": 1,
            "_view_module": "@jupyter-widgets/controls",
            "_model_module_version": "1.5.0",
            "value": 1,
            "_view_count": null,
            "_view_module_version": "1.5.0",
            "orientation": "horizontal",
            "min": 0,
            "description_tooltip": null,
            "_model_module": "@jupyter-widgets/controls",
            "layout": "IPY_MODEL_b4013a7ef11a401094d462742f9147a3"
          }
        },
        "871952e09526462ea467b162d62aa3b0": {
          "model_module": "@jupyter-widgets/controls",
          "model_name": "HTMLModel",
          "model_module_version": "1.5.0",
          "state": {
            "_view_name": "HTMLView",
            "style": "IPY_MODEL_691fe4811c7d4a1cb6d5ddd6241e3e36",
            "_dom_classes": [],
            "description": "",
            "_model_name": "HTMLModel",
            "placeholder": "​",
            "_view_module": "@jupyter-widgets/controls",
            "_model_module_version": "1.5.0",
            "value": " 823/0 [00:00&lt;00:00, 8226.01 examples/s]",
            "_view_count": null,
            "_view_module_version": "1.5.0",
            "description_tooltip": null,
            "_model_module": "@jupyter-widgets/controls",
            "layout": "IPY_MODEL_b22ba4fbf0ae4f858f97c046ec4585b9"
          }
        },
        "d5a75c64f8134be8a5209cb369b5352a": {
          "model_module": "@jupyter-widgets/controls",
          "model_name": "DescriptionStyleModel",
          "model_module_version": "1.5.0",
          "state": {
            "_view_name": "StyleView",
            "_model_name": "DescriptionStyleModel",
            "description_width": "",
            "_view_module": "@jupyter-widgets/base",
            "_model_module_version": "1.5.0",
            "_view_count": null,
            "_view_module_version": "1.2.0",
            "_model_module": "@jupyter-widgets/controls"
          }
        },
        "20e71306851146cf931628806f712802": {
          "model_module": "@jupyter-widgets/base",
          "model_name": "LayoutModel",
          "model_module_version": "1.2.0",
          "state": {
            "_view_name": "LayoutView",
            "grid_template_rows": null,
            "right": null,
            "justify_content": null,
            "_view_module": "@jupyter-widgets/base",
            "overflow": null,
            "_model_module_version": "1.2.0",
            "_view_count": null,
            "flex_flow": null,
            "width": null,
            "min_width": null,
            "border": null,
            "align_items": null,
            "bottom": null,
            "_model_module": "@jupyter-widgets/base",
            "top": null,
            "grid_column": null,
            "overflow_y": null,
            "overflow_x": null,
            "grid_auto_flow": null,
            "grid_area": null,
            "grid_template_columns": null,
            "flex": null,
            "_model_name": "LayoutModel",
            "justify_items": null,
            "grid_row": null,
            "max_height": null,
            "align_content": null,
            "visibility": null,
            "align_self": null,
            "height": null,
            "min_height": null,
            "padding": null,
            "grid_auto_rows": null,
            "grid_gap": null,
            "max_width": null,
            "order": null,
            "_view_module_version": "1.2.0",
            "grid_template_areas": null,
            "object_position": null,
            "object_fit": null,
            "grid_auto_columns": null,
            "margin": null,
            "display": null,
            "left": null
          }
        },
        "02ecd1fc7c4243ef806c7e17fdf2ea6f": {
          "model_module": "@jupyter-widgets/controls",
          "model_name": "ProgressStyleModel",
          "model_module_version": "1.5.0",
          "state": {
            "_view_name": "StyleView",
            "_model_name": "ProgressStyleModel",
            "description_width": "",
            "_view_module": "@jupyter-widgets/base",
            "_model_module_version": "1.5.0",
            "_view_count": null,
            "_view_module_version": "1.2.0",
            "bar_color": null,
            "_model_module": "@jupyter-widgets/controls"
          }
        },
        "b4013a7ef11a401094d462742f9147a3": {
          "model_module": "@jupyter-widgets/base",
          "model_name": "LayoutModel",
          "model_module_version": "1.2.0",
          "state": {
            "_view_name": "LayoutView",
            "grid_template_rows": null,
            "right": null,
            "justify_content": null,
            "_view_module": "@jupyter-widgets/base",
            "overflow": null,
            "_model_module_version": "1.2.0",
            "_view_count": null,
            "flex_flow": null,
            "width": "20px",
            "min_width": null,
            "border": null,
            "align_items": null,
            "bottom": null,
            "_model_module": "@jupyter-widgets/base",
            "top": null,
            "grid_column": null,
            "overflow_y": null,
            "overflow_x": null,
            "grid_auto_flow": null,
            "grid_area": null,
            "grid_template_columns": null,
            "flex": null,
            "_model_name": "LayoutModel",
            "justify_items": null,
            "grid_row": null,
            "max_height": null,
            "align_content": null,
            "visibility": null,
            "align_self": null,
            "height": null,
            "min_height": null,
            "padding": null,
            "grid_auto_rows": null,
            "grid_gap": null,
            "max_width": null,
            "order": null,
            "_view_module_version": "1.2.0",
            "grid_template_areas": null,
            "object_position": null,
            "object_fit": null,
            "grid_auto_columns": null,
            "margin": null,
            "display": null,
            "left": null
          }
        },
        "691fe4811c7d4a1cb6d5ddd6241e3e36": {
          "model_module": "@jupyter-widgets/controls",
          "model_name": "DescriptionStyleModel",
          "model_module_version": "1.5.0",
          "state": {
            "_view_name": "StyleView",
            "_model_name": "DescriptionStyleModel",
            "description_width": "",
            "_view_module": "@jupyter-widgets/base",
            "_model_module_version": "1.5.0",
            "_view_count": null,
            "_view_module_version": "1.2.0",
            "_model_module": "@jupyter-widgets/controls"
          }
        },
        "b22ba4fbf0ae4f858f97c046ec4585b9": {
          "model_module": "@jupyter-widgets/base",
          "model_name": "LayoutModel",
          "model_module_version": "1.2.0",
          "state": {
            "_view_name": "LayoutView",
            "grid_template_rows": null,
            "right": null,
            "justify_content": null,
            "_view_module": "@jupyter-widgets/base",
            "overflow": null,
            "_model_module_version": "1.2.0",
            "_view_count": null,
            "flex_flow": null,
            "width": null,
            "min_width": null,
            "border": null,
            "align_items": null,
            "bottom": null,
            "_model_module": "@jupyter-widgets/base",
            "top": null,
            "grid_column": null,
            "overflow_y": null,
            "overflow_x": null,
            "grid_auto_flow": null,
            "grid_area": null,
            "grid_template_columns": null,
            "flex": null,
            "_model_name": "LayoutModel",
            "justify_items": null,
            "grid_row": null,
            "max_height": null,
            "align_content": null,
            "visibility": null,
            "align_self": null,
            "height": null,
            "min_height": null,
            "padding": null,
            "grid_auto_rows": null,
            "grid_gap": null,
            "max_width": null,
            "order": null,
            "_view_module_version": "1.2.0",
            "grid_template_areas": null,
            "object_position": null,
            "object_fit": null,
            "grid_auto_columns": null,
            "margin": null,
            "display": null,
            "left": null
          }
        },
        "89e3e29cabae499b8cdcbdc9547ba416": {
          "model_module": "@jupyter-widgets/controls",
          "model_name": "HBoxModel",
          "model_module_version": "1.5.0",
          "state": {
            "_view_name": "HBoxView",
            "_dom_classes": [],
            "_model_name": "HBoxModel",
            "_view_module": "@jupyter-widgets/controls",
            "_model_module_version": "1.5.0",
            "_view_count": null,
            "_view_module_version": "1.5.0",
            "box_style": "",
            "layout": "IPY_MODEL_adc774dd22c2465cab09e6e511abfc54",
            "_model_module": "@jupyter-widgets/controls",
            "children": [
              "IPY_MODEL_f5dc1fc9bcfa47a987e99cb42afdb440",
              "IPY_MODEL_7fd66b9ffb614d9c850d89bfb9a54151",
              "IPY_MODEL_d25768cbc2c14bbe80abc31c81605e75"
            ]
          }
        },
        "adc774dd22c2465cab09e6e511abfc54": {
          "model_module": "@jupyter-widgets/base",
          "model_name": "LayoutModel",
          "model_module_version": "1.2.0",
          "state": {
            "_view_name": "LayoutView",
            "grid_template_rows": null,
            "right": null,
            "justify_content": null,
            "_view_module": "@jupyter-widgets/base",
            "overflow": null,
            "_model_module_version": "1.2.0",
            "_view_count": null,
            "flex_flow": null,
            "width": null,
            "min_width": null,
            "border": null,
            "align_items": null,
            "bottom": null,
            "_model_module": "@jupyter-widgets/base",
            "top": null,
            "grid_column": null,
            "overflow_y": null,
            "overflow_x": null,
            "grid_auto_flow": null,
            "grid_area": null,
            "grid_template_columns": null,
            "flex": null,
            "_model_name": "LayoutModel",
            "justify_items": null,
            "grid_row": null,
            "max_height": null,
            "align_content": null,
            "visibility": null,
            "align_self": null,
            "height": null,
            "min_height": null,
            "padding": null,
            "grid_auto_rows": null,
            "grid_gap": null,
            "max_width": null,
            "order": null,
            "_view_module_version": "1.2.0",
            "grid_template_areas": null,
            "object_position": null,
            "object_fit": null,
            "grid_auto_columns": null,
            "margin": null,
            "display": null,
            "left": null
          }
        },
        "f5dc1fc9bcfa47a987e99cb42afdb440": {
          "model_module": "@jupyter-widgets/controls",
          "model_name": "HTMLModel",
          "model_module_version": "1.5.0",
          "state": {
            "_view_name": "HTMLView",
            "style": "IPY_MODEL_df0ef0e7ed3341e0ad30730fde51970e",
            "_dom_classes": [],
            "description": "",
            "_model_name": "HTMLModel",
            "placeholder": "​",
            "_view_module": "@jupyter-widgets/controls",
            "_model_module_version": "1.5.0",
            "value": "",
            "_view_count": null,
            "_view_module_version": "1.5.0",
            "description_tooltip": null,
            "_model_module": "@jupyter-widgets/controls",
            "layout": "IPY_MODEL_e1b9f7f377234635b3bad26a501d58c4"
          }
        },
        "7fd66b9ffb614d9c850d89bfb9a54151": {
          "model_module": "@jupyter-widgets/controls",
          "model_name": "FloatProgressModel",
          "model_module_version": "1.5.0",
          "state": {
            "_view_name": "ProgressView",
            "style": "IPY_MODEL_31e553f29e004588aec199e8e1f340ef",
            "_dom_classes": [],
            "description": "",
            "_model_name": "FloatProgressModel",
            "bar_style": "info",
            "max": 1,
            "_view_module": "@jupyter-widgets/controls",
            "_model_module_version": "1.5.0",
            "value": 1,
            "_view_count": null,
            "_view_module_version": "1.5.0",
            "orientation": "horizontal",
            "min": 0,
            "description_tooltip": null,
            "_model_module": "@jupyter-widgets/controls",
            "layout": "IPY_MODEL_d8b5ddd3a2bc4f3b80bb4124de926e65"
          }
        },
        "d25768cbc2c14bbe80abc31c81605e75": {
          "model_module": "@jupyter-widgets/controls",
          "model_name": "HTMLModel",
          "model_module_version": "1.5.0",
          "state": {
            "_view_name": "HTMLView",
            "style": "IPY_MODEL_f7c91098d1a94336a5630a83af236f09",
            "_dom_classes": [],
            "description": "",
            "_model_name": "HTMLModel",
            "placeholder": "​",
            "_view_module": "@jupyter-widgets/controls",
            "_model_module_version": "1.5.0",
            "value": " 671/0 [00:00&lt;00:00, 6706.20 examples/s]",
            "_view_count": null,
            "_view_module_version": "1.5.0",
            "description_tooltip": null,
            "_model_module": "@jupyter-widgets/controls",
            "layout": "IPY_MODEL_c60dc756c5cc48b59e51344b68b5ba23"
          }
        },
        "df0ef0e7ed3341e0ad30730fde51970e": {
          "model_module": "@jupyter-widgets/controls",
          "model_name": "DescriptionStyleModel",
          "model_module_version": "1.5.0",
          "state": {
            "_view_name": "StyleView",
            "_model_name": "DescriptionStyleModel",
            "description_width": "",
            "_view_module": "@jupyter-widgets/base",
            "_model_module_version": "1.5.0",
            "_view_count": null,
            "_view_module_version": "1.2.0",
            "_model_module": "@jupyter-widgets/controls"
          }
        },
        "e1b9f7f377234635b3bad26a501d58c4": {
          "model_module": "@jupyter-widgets/base",
          "model_name": "LayoutModel",
          "model_module_version": "1.2.0",
          "state": {
            "_view_name": "LayoutView",
            "grid_template_rows": null,
            "right": null,
            "justify_content": null,
            "_view_module": "@jupyter-widgets/base",
            "overflow": null,
            "_model_module_version": "1.2.0",
            "_view_count": null,
            "flex_flow": null,
            "width": null,
            "min_width": null,
            "border": null,
            "align_items": null,
            "bottom": null,
            "_model_module": "@jupyter-widgets/base",
            "top": null,
            "grid_column": null,
            "overflow_y": null,
            "overflow_x": null,
            "grid_auto_flow": null,
            "grid_area": null,
            "grid_template_columns": null,
            "flex": null,
            "_model_name": "LayoutModel",
            "justify_items": null,
            "grid_row": null,
            "max_height": null,
            "align_content": null,
            "visibility": null,
            "align_self": null,
            "height": null,
            "min_height": null,
            "padding": null,
            "grid_auto_rows": null,
            "grid_gap": null,
            "max_width": null,
            "order": null,
            "_view_module_version": "1.2.0",
            "grid_template_areas": null,
            "object_position": null,
            "object_fit": null,
            "grid_auto_columns": null,
            "margin": null,
            "display": null,
            "left": null
          }
        },
        "31e553f29e004588aec199e8e1f340ef": {
          "model_module": "@jupyter-widgets/controls",
          "model_name": "ProgressStyleModel",
          "model_module_version": "1.5.0",
          "state": {
            "_view_name": "StyleView",
            "_model_name": "ProgressStyleModel",
            "description_width": "",
            "_view_module": "@jupyter-widgets/base",
            "_model_module_version": "1.5.0",
            "_view_count": null,
            "_view_module_version": "1.2.0",
            "bar_color": null,
            "_model_module": "@jupyter-widgets/controls"
          }
        },
        "d8b5ddd3a2bc4f3b80bb4124de926e65": {
          "model_module": "@jupyter-widgets/base",
          "model_name": "LayoutModel",
          "model_module_version": "1.2.0",
          "state": {
            "_view_name": "LayoutView",
            "grid_template_rows": null,
            "right": null,
            "justify_content": null,
            "_view_module": "@jupyter-widgets/base",
            "overflow": null,
            "_model_module_version": "1.2.0",
            "_view_count": null,
            "flex_flow": null,
            "width": "20px",
            "min_width": null,
            "border": null,
            "align_items": null,
            "bottom": null,
            "_model_module": "@jupyter-widgets/base",
            "top": null,
            "grid_column": null,
            "overflow_y": null,
            "overflow_x": null,
            "grid_auto_flow": null,
            "grid_area": null,
            "grid_template_columns": null,
            "flex": null,
            "_model_name": "LayoutModel",
            "justify_items": null,
            "grid_row": null,
            "max_height": null,
            "align_content": null,
            "visibility": null,
            "align_self": null,
            "height": null,
            "min_height": null,
            "padding": null,
            "grid_auto_rows": null,
            "grid_gap": null,
            "max_width": null,
            "order": null,
            "_view_module_version": "1.2.0",
            "grid_template_areas": null,
            "object_position": null,
            "object_fit": null,
            "grid_auto_columns": null,
            "margin": null,
            "display": null,
            "left": null
          }
        },
        "f7c91098d1a94336a5630a83af236f09": {
          "model_module": "@jupyter-widgets/controls",
          "model_name": "DescriptionStyleModel",
          "model_module_version": "1.5.0",
          "state": {
            "_view_name": "StyleView",
            "_model_name": "DescriptionStyleModel",
            "description_width": "",
            "_view_module": "@jupyter-widgets/base",
            "_model_module_version": "1.5.0",
            "_view_count": null,
            "_view_module_version": "1.2.0",
            "_model_module": "@jupyter-widgets/controls"
          }
        },
        "c60dc756c5cc48b59e51344b68b5ba23": {
          "model_module": "@jupyter-widgets/base",
          "model_name": "LayoutModel",
          "model_module_version": "1.2.0",
          "state": {
            "_view_name": "LayoutView",
            "grid_template_rows": null,
            "right": null,
            "justify_content": null,
            "_view_module": "@jupyter-widgets/base",
            "overflow": null,
            "_model_module_version": "1.2.0",
            "_view_count": null,
            "flex_flow": null,
            "width": null,
            "min_width": null,
            "border": null,
            "align_items": null,
            "bottom": null,
            "_model_module": "@jupyter-widgets/base",
            "top": null,
            "grid_column": null,
            "overflow_y": null,
            "overflow_x": null,
            "grid_auto_flow": null,
            "grid_area": null,
            "grid_template_columns": null,
            "flex": null,
            "_model_name": "LayoutModel",
            "justify_items": null,
            "grid_row": null,
            "max_height": null,
            "align_content": null,
            "visibility": null,
            "align_self": null,
            "height": null,
            "min_height": null,
            "padding": null,
            "grid_auto_rows": null,
            "grid_gap": null,
            "max_width": null,
            "order": null,
            "_view_module_version": "1.2.0",
            "grid_template_areas": null,
            "object_position": null,
            "object_fit": null,
            "grid_auto_columns": null,
            "margin": null,
            "display": null,
            "left": null
          }
        },
        "c7e2c2a3d1be42ca819736296078c3e1": {
          "model_module": "@jupyter-widgets/controls",
          "model_name": "HBoxModel",
          "model_module_version": "1.5.0",
          "state": {
            "_view_name": "HBoxView",
            "_dom_classes": [],
            "_model_name": "HBoxModel",
            "_view_module": "@jupyter-widgets/controls",
            "_model_module_version": "1.5.0",
            "_view_count": null,
            "_view_module_version": "1.5.0",
            "box_style": "",
            "layout": "IPY_MODEL_f74bae6c55e645a7a641b61b86059483",
            "_model_module": "@jupyter-widgets/controls",
            "children": [
              "IPY_MODEL_ee6c6b3fd99445a5bec1b92d80606cdd",
              "IPY_MODEL_3ebdb835ccd64616bcf5fcec3953ab54",
              "IPY_MODEL_031d3d6bf70f42aba96485bab4cafbff"
            ]
          }
        },
        "f74bae6c55e645a7a641b61b86059483": {
          "model_module": "@jupyter-widgets/base",
          "model_name": "LayoutModel",
          "model_module_version": "1.2.0",
          "state": {
            "_view_name": "LayoutView",
            "grid_template_rows": null,
            "right": null,
            "justify_content": null,
            "_view_module": "@jupyter-widgets/base",
            "overflow": null,
            "_model_module_version": "1.2.0",
            "_view_count": null,
            "flex_flow": null,
            "width": null,
            "min_width": null,
            "border": null,
            "align_items": null,
            "bottom": null,
            "_model_module": "@jupyter-widgets/base",
            "top": null,
            "grid_column": null,
            "overflow_y": null,
            "overflow_x": null,
            "grid_auto_flow": null,
            "grid_area": null,
            "grid_template_columns": null,
            "flex": null,
            "_model_name": "LayoutModel",
            "justify_items": null,
            "grid_row": null,
            "max_height": null,
            "align_content": null,
            "visibility": null,
            "align_self": null,
            "height": null,
            "min_height": null,
            "padding": null,
            "grid_auto_rows": null,
            "grid_gap": null,
            "max_width": null,
            "order": null,
            "_view_module_version": "1.2.0",
            "grid_template_areas": null,
            "object_position": null,
            "object_fit": null,
            "grid_auto_columns": null,
            "margin": null,
            "display": null,
            "left": null
          }
        },
        "ee6c6b3fd99445a5bec1b92d80606cdd": {
          "model_module": "@jupyter-widgets/controls",
          "model_name": "HTMLModel",
          "model_module_version": "1.5.0",
          "state": {
            "_view_name": "HTMLView",
            "style": "IPY_MODEL_c3b888af57d74139b109a459eb107686",
            "_dom_classes": [],
            "description": "",
            "_model_name": "HTMLModel",
            "placeholder": "​",
            "_view_module": "@jupyter-widgets/controls",
            "_model_module_version": "1.5.0",
            "value": "",
            "_view_count": null,
            "_view_module_version": "1.5.0",
            "description_tooltip": null,
            "_model_module": "@jupyter-widgets/controls",
            "layout": "IPY_MODEL_d4c10f0c478448ea8797b6c208419311"
          }
        },
        "3ebdb835ccd64616bcf5fcec3953ab54": {
          "model_module": "@jupyter-widgets/controls",
          "model_name": "FloatProgressModel",
          "model_module_version": "1.5.0",
          "state": {
            "_view_name": "ProgressView",
            "style": "IPY_MODEL_e21923963683448bbc300058bf1c8621",
            "_dom_classes": [],
            "description": "",
            "_model_name": "FloatProgressModel",
            "bar_style": "info",
            "max": 1,
            "_view_module": "@jupyter-widgets/controls",
            "_model_module_version": "1.5.0",
            "value": 1,
            "_view_count": null,
            "_view_module_version": "1.5.0",
            "orientation": "horizontal",
            "min": 0,
            "description_tooltip": null,
            "_model_module": "@jupyter-widgets/controls",
            "layout": "IPY_MODEL_ab7a0ab95bde48c0a5d8cc313dd58791"
          }
        },
        "031d3d6bf70f42aba96485bab4cafbff": {
          "model_module": "@jupyter-widgets/controls",
          "model_name": "HTMLModel",
          "model_module_version": "1.5.0",
          "state": {
            "_view_name": "HTMLView",
            "style": "IPY_MODEL_ac401255723f4dd3b657e19fb309bcaa",
            "_dom_classes": [],
            "description": "",
            "_model_name": "HTMLModel",
            "placeholder": "​",
            "_view_module": "@jupyter-widgets/controls",
            "_model_module_version": "1.5.0",
            "value": " 664/0 [00:00&lt;00:00, 6635.26 examples/s]",
            "_view_count": null,
            "_view_module_version": "1.5.0",
            "description_tooltip": null,
            "_model_module": "@jupyter-widgets/controls",
            "layout": "IPY_MODEL_d74569908d854f83a3287e7507d45692"
          }
        },
        "c3b888af57d74139b109a459eb107686": {
          "model_module": "@jupyter-widgets/controls",
          "model_name": "DescriptionStyleModel",
          "model_module_version": "1.5.0",
          "state": {
            "_view_name": "StyleView",
            "_model_name": "DescriptionStyleModel",
            "description_width": "",
            "_view_module": "@jupyter-widgets/base",
            "_model_module_version": "1.5.0",
            "_view_count": null,
            "_view_module_version": "1.2.0",
            "_model_module": "@jupyter-widgets/controls"
          }
        },
        "d4c10f0c478448ea8797b6c208419311": {
          "model_module": "@jupyter-widgets/base",
          "model_name": "LayoutModel",
          "model_module_version": "1.2.0",
          "state": {
            "_view_name": "LayoutView",
            "grid_template_rows": null,
            "right": null,
            "justify_content": null,
            "_view_module": "@jupyter-widgets/base",
            "overflow": null,
            "_model_module_version": "1.2.0",
            "_view_count": null,
            "flex_flow": null,
            "width": null,
            "min_width": null,
            "border": null,
            "align_items": null,
            "bottom": null,
            "_model_module": "@jupyter-widgets/base",
            "top": null,
            "grid_column": null,
            "overflow_y": null,
            "overflow_x": null,
            "grid_auto_flow": null,
            "grid_area": null,
            "grid_template_columns": null,
            "flex": null,
            "_model_name": "LayoutModel",
            "justify_items": null,
            "grid_row": null,
            "max_height": null,
            "align_content": null,
            "visibility": null,
            "align_self": null,
            "height": null,
            "min_height": null,
            "padding": null,
            "grid_auto_rows": null,
            "grid_gap": null,
            "max_width": null,
            "order": null,
            "_view_module_version": "1.2.0",
            "grid_template_areas": null,
            "object_position": null,
            "object_fit": null,
            "grid_auto_columns": null,
            "margin": null,
            "display": null,
            "left": null
          }
        },
        "e21923963683448bbc300058bf1c8621": {
          "model_module": "@jupyter-widgets/controls",
          "model_name": "ProgressStyleModel",
          "model_module_version": "1.5.0",
          "state": {
            "_view_name": "StyleView",
            "_model_name": "ProgressStyleModel",
            "description_width": "",
            "_view_module": "@jupyter-widgets/base",
            "_model_module_version": "1.5.0",
            "_view_count": null,
            "_view_module_version": "1.2.0",
            "bar_color": null,
            "_model_module": "@jupyter-widgets/controls"
          }
        },
        "ab7a0ab95bde48c0a5d8cc313dd58791": {
          "model_module": "@jupyter-widgets/base",
          "model_name": "LayoutModel",
          "model_module_version": "1.2.0",
          "state": {
            "_view_name": "LayoutView",
            "grid_template_rows": null,
            "right": null,
            "justify_content": null,
            "_view_module": "@jupyter-widgets/base",
            "overflow": null,
            "_model_module_version": "1.2.0",
            "_view_count": null,
            "flex_flow": null,
            "width": "20px",
            "min_width": null,
            "border": null,
            "align_items": null,
            "bottom": null,
            "_model_module": "@jupyter-widgets/base",
            "top": null,
            "grid_column": null,
            "overflow_y": null,
            "overflow_x": null,
            "grid_auto_flow": null,
            "grid_area": null,
            "grid_template_columns": null,
            "flex": null,
            "_model_name": "LayoutModel",
            "justify_items": null,
            "grid_row": null,
            "max_height": null,
            "align_content": null,
            "visibility": null,
            "align_self": null,
            "height": null,
            "min_height": null,
            "padding": null,
            "grid_auto_rows": null,
            "grid_gap": null,
            "max_width": null,
            "order": null,
            "_view_module_version": "1.2.0",
            "grid_template_areas": null,
            "object_position": null,
            "object_fit": null,
            "grid_auto_columns": null,
            "margin": null,
            "display": null,
            "left": null
          }
        },
        "ac401255723f4dd3b657e19fb309bcaa": {
          "model_module": "@jupyter-widgets/controls",
          "model_name": "DescriptionStyleModel",
          "model_module_version": "1.5.0",
          "state": {
            "_view_name": "StyleView",
            "_model_name": "DescriptionStyleModel",
            "description_width": "",
            "_view_module": "@jupyter-widgets/base",
            "_model_module_version": "1.5.0",
            "_view_count": null,
            "_view_module_version": "1.2.0",
            "_model_module": "@jupyter-widgets/controls"
          }
        },
        "d74569908d854f83a3287e7507d45692": {
          "model_module": "@jupyter-widgets/base",
          "model_name": "LayoutModel",
          "model_module_version": "1.2.0",
          "state": {
            "_view_name": "LayoutView",
            "grid_template_rows": null,
            "right": null,
            "justify_content": null,
            "_view_module": "@jupyter-widgets/base",
            "overflow": null,
            "_model_module_version": "1.2.0",
            "_view_count": null,
            "flex_flow": null,
            "width": null,
            "min_width": null,
            "border": null,
            "align_items": null,
            "bottom": null,
            "_model_module": "@jupyter-widgets/base",
            "top": null,
            "grid_column": null,
            "overflow_y": null,
            "overflow_x": null,
            "grid_auto_flow": null,
            "grid_area": null,
            "grid_template_columns": null,
            "flex": null,
            "_model_name": "LayoutModel",
            "justify_items": null,
            "grid_row": null,
            "max_height": null,
            "align_content": null,
            "visibility": null,
            "align_self": null,
            "height": null,
            "min_height": null,
            "padding": null,
            "grid_auto_rows": null,
            "grid_gap": null,
            "max_width": null,
            "order": null,
            "_view_module_version": "1.2.0",
            "grid_template_areas": null,
            "object_position": null,
            "object_fit": null,
            "grid_auto_columns": null,
            "margin": null,
            "display": null,
            "left": null
          }
        },
        "5968e7014bdf49279b670b5449e9428f": {
          "model_module": "@jupyter-widgets/controls",
          "model_name": "HBoxModel",
          "model_module_version": "1.5.0",
          "state": {
            "_view_name": "HBoxView",
            "_dom_classes": [],
            "_model_name": "HBoxModel",
            "_view_module": "@jupyter-widgets/controls",
            "_model_module_version": "1.5.0",
            "_view_count": null,
            "_view_module_version": "1.5.0",
            "box_style": "",
            "layout": "IPY_MODEL_c69e1dee34bc492bb3d07d171c925c68",
            "_model_module": "@jupyter-widgets/controls",
            "children": [
              "IPY_MODEL_5922d6229c6740458f6062ea4c8c4f9c",
              "IPY_MODEL_f0158513d94e411684bcbb65aca90e11",
              "IPY_MODEL_9cba87019ca04eb4b1c157b3311f0b8a"
            ]
          }
        },
        "c69e1dee34bc492bb3d07d171c925c68": {
          "model_module": "@jupyter-widgets/base",
          "model_name": "LayoutModel",
          "model_module_version": "1.2.0",
          "state": {
            "_view_name": "LayoutView",
            "grid_template_rows": null,
            "right": null,
            "justify_content": null,
            "_view_module": "@jupyter-widgets/base",
            "overflow": null,
            "_model_module_version": "1.2.0",
            "_view_count": null,
            "flex_flow": null,
            "width": null,
            "min_width": null,
            "border": null,
            "align_items": null,
            "bottom": null,
            "_model_module": "@jupyter-widgets/base",
            "top": null,
            "grid_column": null,
            "overflow_y": null,
            "overflow_x": null,
            "grid_auto_flow": null,
            "grid_area": null,
            "grid_template_columns": null,
            "flex": null,
            "_model_name": "LayoutModel",
            "justify_items": null,
            "grid_row": null,
            "max_height": null,
            "align_content": null,
            "visibility": null,
            "align_self": null,
            "height": null,
            "min_height": null,
            "padding": null,
            "grid_auto_rows": null,
            "grid_gap": null,
            "max_width": null,
            "order": null,
            "_view_module_version": "1.2.0",
            "grid_template_areas": null,
            "object_position": null,
            "object_fit": null,
            "grid_auto_columns": null,
            "margin": null,
            "display": null,
            "left": null
          }
        },
        "5922d6229c6740458f6062ea4c8c4f9c": {
          "model_module": "@jupyter-widgets/controls",
          "model_name": "HTMLModel",
          "model_module_version": "1.5.0",
          "state": {
            "_view_name": "HTMLView",
            "style": "IPY_MODEL_6126a40e95054354bf5b1fb87eeeb0c3",
            "_dom_classes": [],
            "description": "",
            "_model_name": "HTMLModel",
            "placeholder": "​",
            "_view_module": "@jupyter-widgets/controls",
            "_model_module_version": "1.5.0",
            "value": "",
            "_view_count": null,
            "_view_module_version": "1.5.0",
            "description_tooltip": null,
            "_model_module": "@jupyter-widgets/controls",
            "layout": "IPY_MODEL_11c3abbd354249aa8786b108013291f8"
          }
        },
        "f0158513d94e411684bcbb65aca90e11": {
          "model_module": "@jupyter-widgets/controls",
          "model_name": "FloatProgressModel",
          "model_module_version": "1.5.0",
          "state": {
            "_view_name": "ProgressView",
            "style": "IPY_MODEL_140c19fc72fe4184a1a164e746e9b0dc",
            "_dom_classes": [],
            "description": "",
            "_model_name": "FloatProgressModel",
            "bar_style": "info",
            "max": 1,
            "_view_module": "@jupyter-widgets/controls",
            "_model_module_version": "1.5.0",
            "value": 1,
            "_view_count": null,
            "_view_module_version": "1.5.0",
            "orientation": "horizontal",
            "min": 0,
            "description_tooltip": null,
            "_model_module": "@jupyter-widgets/controls",
            "layout": "IPY_MODEL_817c694399b9421ca19ca5cda8c0eeae"
          }
        },
        "9cba87019ca04eb4b1c157b3311f0b8a": {
          "model_module": "@jupyter-widgets/controls",
          "model_name": "HTMLModel",
          "model_module_version": "1.5.0",
          "state": {
            "_view_name": "HTMLView",
            "style": "IPY_MODEL_b80c85c0a9134d37b914ee26ebb71301",
            "_dom_classes": [],
            "description": "",
            "_model_name": "HTMLModel",
            "placeholder": "​",
            "_view_module": "@jupyter-widgets/controls",
            "_model_module_version": "1.5.0",
            "value": " 0/0 [00:00&lt;?, ? examples/s]",
            "_view_count": null,
            "_view_module_version": "1.5.0",
            "description_tooltip": null,
            "_model_module": "@jupyter-widgets/controls",
            "layout": "IPY_MODEL_b0efc3b8ea5a45c698f02d73bca30ef0"
          }
        },
        "6126a40e95054354bf5b1fb87eeeb0c3": {
          "model_module": "@jupyter-widgets/controls",
          "model_name": "DescriptionStyleModel",
          "model_module_version": "1.5.0",
          "state": {
            "_view_name": "StyleView",
            "_model_name": "DescriptionStyleModel",
            "description_width": "",
            "_view_module": "@jupyter-widgets/base",
            "_model_module_version": "1.5.0",
            "_view_count": null,
            "_view_module_version": "1.2.0",
            "_model_module": "@jupyter-widgets/controls"
          }
        },
        "11c3abbd354249aa8786b108013291f8": {
          "model_module": "@jupyter-widgets/base",
          "model_name": "LayoutModel",
          "model_module_version": "1.2.0",
          "state": {
            "_view_name": "LayoutView",
            "grid_template_rows": null,
            "right": null,
            "justify_content": null,
            "_view_module": "@jupyter-widgets/base",
            "overflow": null,
            "_model_module_version": "1.2.0",
            "_view_count": null,
            "flex_flow": null,
            "width": null,
            "min_width": null,
            "border": null,
            "align_items": null,
            "bottom": null,
            "_model_module": "@jupyter-widgets/base",
            "top": null,
            "grid_column": null,
            "overflow_y": null,
            "overflow_x": null,
            "grid_auto_flow": null,
            "grid_area": null,
            "grid_template_columns": null,
            "flex": null,
            "_model_name": "LayoutModel",
            "justify_items": null,
            "grid_row": null,
            "max_height": null,
            "align_content": null,
            "visibility": null,
            "align_self": null,
            "height": null,
            "min_height": null,
            "padding": null,
            "grid_auto_rows": null,
            "grid_gap": null,
            "max_width": null,
            "order": null,
            "_view_module_version": "1.2.0",
            "grid_template_areas": null,
            "object_position": null,
            "object_fit": null,
            "grid_auto_columns": null,
            "margin": null,
            "display": null,
            "left": null
          }
        },
        "140c19fc72fe4184a1a164e746e9b0dc": {
          "model_module": "@jupyter-widgets/controls",
          "model_name": "ProgressStyleModel",
          "model_module_version": "1.5.0",
          "state": {
            "_view_name": "StyleView",
            "_model_name": "ProgressStyleModel",
            "description_width": "",
            "_view_module": "@jupyter-widgets/base",
            "_model_module_version": "1.5.0",
            "_view_count": null,
            "_view_module_version": "1.2.0",
            "bar_color": null,
            "_model_module": "@jupyter-widgets/controls"
          }
        },
        "817c694399b9421ca19ca5cda8c0eeae": {
          "model_module": "@jupyter-widgets/base",
          "model_name": "LayoutModel",
          "model_module_version": "1.2.0",
          "state": {
            "_view_name": "LayoutView",
            "grid_template_rows": null,
            "right": null,
            "justify_content": null,
            "_view_module": "@jupyter-widgets/base",
            "overflow": null,
            "_model_module_version": "1.2.0",
            "_view_count": null,
            "flex_flow": null,
            "width": "20px",
            "min_width": null,
            "border": null,
            "align_items": null,
            "bottom": null,
            "_model_module": "@jupyter-widgets/base",
            "top": null,
            "grid_column": null,
            "overflow_y": null,
            "overflow_x": null,
            "grid_auto_flow": null,
            "grid_area": null,
            "grid_template_columns": null,
            "flex": null,
            "_model_name": "LayoutModel",
            "justify_items": null,
            "grid_row": null,
            "max_height": null,
            "align_content": null,
            "visibility": null,
            "align_self": null,
            "height": null,
            "min_height": null,
            "padding": null,
            "grid_auto_rows": null,
            "grid_gap": null,
            "max_width": null,
            "order": null,
            "_view_module_version": "1.2.0",
            "grid_template_areas": null,
            "object_position": null,
            "object_fit": null,
            "grid_auto_columns": null,
            "margin": null,
            "display": null,
            "left": null
          }
        },
        "b80c85c0a9134d37b914ee26ebb71301": {
          "model_module": "@jupyter-widgets/controls",
          "model_name": "DescriptionStyleModel",
          "model_module_version": "1.5.0",
          "state": {
            "_view_name": "StyleView",
            "_model_name": "DescriptionStyleModel",
            "description_width": "",
            "_view_module": "@jupyter-widgets/base",
            "_model_module_version": "1.5.0",
            "_view_count": null,
            "_view_module_version": "1.2.0",
            "_model_module": "@jupyter-widgets/controls"
          }
        },
        "b0efc3b8ea5a45c698f02d73bca30ef0": {
          "model_module": "@jupyter-widgets/base",
          "model_name": "LayoutModel",
          "model_module_version": "1.2.0",
          "state": {
            "_view_name": "LayoutView",
            "grid_template_rows": null,
            "right": null,
            "justify_content": null,
            "_view_module": "@jupyter-widgets/base",
            "overflow": null,
            "_model_module_version": "1.2.0",
            "_view_count": null,
            "flex_flow": null,
            "width": null,
            "min_width": null,
            "border": null,
            "align_items": null,
            "bottom": null,
            "_model_module": "@jupyter-widgets/base",
            "top": null,
            "grid_column": null,
            "overflow_y": null,
            "overflow_x": null,
            "grid_auto_flow": null,
            "grid_area": null,
            "grid_template_columns": null,
            "flex": null,
            "_model_name": "LayoutModel",
            "justify_items": null,
            "grid_row": null,
            "max_height": null,
            "align_content": null,
            "visibility": null,
            "align_self": null,
            "height": null,
            "min_height": null,
            "padding": null,
            "grid_auto_rows": null,
            "grid_gap": null,
            "max_width": null,
            "order": null,
            "_view_module_version": "1.2.0",
            "grid_template_areas": null,
            "object_position": null,
            "object_fit": null,
            "grid_auto_columns": null,
            "margin": null,
            "display": null,
            "left": null
          }
        },
        "5cc97c95f4f344dca742d359baa07bf8": {
          "model_module": "@jupyter-widgets/controls",
          "model_name": "HBoxModel",
          "model_module_version": "1.5.0",
          "state": {
            "_view_name": "HBoxView",
            "_dom_classes": [],
            "_model_name": "HBoxModel",
            "_view_module": "@jupyter-widgets/controls",
            "_model_module_version": "1.5.0",
            "_view_count": null,
            "_view_module_version": "1.5.0",
            "box_style": "",
            "layout": "IPY_MODEL_a33b4d1141764c5db3f8df6af9c80c60",
            "_model_module": "@jupyter-widgets/controls",
            "children": [
              "IPY_MODEL_3314803003144308ad111b4957009d93",
              "IPY_MODEL_9e1e201c70bc424eb515213513329a40",
              "IPY_MODEL_699e6af0adc041eb89164e41bd41d9a0"
            ]
          }
        },
        "a33b4d1141764c5db3f8df6af9c80c60": {
          "model_module": "@jupyter-widgets/base",
          "model_name": "LayoutModel",
          "model_module_version": "1.2.0",
          "state": {
            "_view_name": "LayoutView",
            "grid_template_rows": null,
            "right": null,
            "justify_content": null,
            "_view_module": "@jupyter-widgets/base",
            "overflow": null,
            "_model_module_version": "1.2.0",
            "_view_count": null,
            "flex_flow": null,
            "width": null,
            "min_width": null,
            "border": null,
            "align_items": null,
            "bottom": null,
            "_model_module": "@jupyter-widgets/base",
            "top": null,
            "grid_column": null,
            "overflow_y": null,
            "overflow_x": null,
            "grid_auto_flow": null,
            "grid_area": null,
            "grid_template_columns": null,
            "flex": null,
            "_model_name": "LayoutModel",
            "justify_items": null,
            "grid_row": null,
            "max_height": null,
            "align_content": null,
            "visibility": null,
            "align_self": null,
            "height": null,
            "min_height": null,
            "padding": null,
            "grid_auto_rows": null,
            "grid_gap": null,
            "max_width": null,
            "order": null,
            "_view_module_version": "1.2.0",
            "grid_template_areas": null,
            "object_position": null,
            "object_fit": null,
            "grid_auto_columns": null,
            "margin": null,
            "display": null,
            "left": null
          }
        },
        "3314803003144308ad111b4957009d93": {
          "model_module": "@jupyter-widgets/controls",
          "model_name": "HTMLModel",
          "model_module_version": "1.5.0",
          "state": {
            "_view_name": "HTMLView",
            "style": "IPY_MODEL_ab843dd3363748caaf179a3cd2efa8d3",
            "_dom_classes": [],
            "description": "",
            "_model_name": "HTMLModel",
            "placeholder": "​",
            "_view_module": "@jupyter-widgets/controls",
            "_model_module_version": "1.5.0",
            "value": "",
            "_view_count": null,
            "_view_module_version": "1.5.0",
            "description_tooltip": null,
            "_model_module": "@jupyter-widgets/controls",
            "layout": "IPY_MODEL_b8a8805ecb4b43b19970619b6cfbcf7a"
          }
        },
        "9e1e201c70bc424eb515213513329a40": {
          "model_module": "@jupyter-widgets/controls",
          "model_name": "FloatProgressModel",
          "model_module_version": "1.5.0",
          "state": {
            "_view_name": "ProgressView",
            "style": "IPY_MODEL_57f7f222dd284649826c864304ee9908",
            "_dom_classes": [],
            "description": "",
            "_model_name": "FloatProgressModel",
            "bar_style": "info",
            "max": 1,
            "_view_module": "@jupyter-widgets/controls",
            "_model_module_version": "1.5.0",
            "value": 1,
            "_view_count": null,
            "_view_module_version": "1.5.0",
            "orientation": "horizontal",
            "min": 0,
            "description_tooltip": null,
            "_model_module": "@jupyter-widgets/controls",
            "layout": "IPY_MODEL_3691778b36454410b0c2ff3067cc1553"
          }
        },
        "699e6af0adc041eb89164e41bd41d9a0": {
          "model_module": "@jupyter-widgets/controls",
          "model_name": "HTMLModel",
          "model_module_version": "1.5.0",
          "state": {
            "_view_name": "HTMLView",
            "style": "IPY_MODEL_dcbb9e8ab6bb4b8985fa1a052a70f842",
            "_dom_classes": [],
            "description": "",
            "_model_name": "HTMLModel",
            "placeholder": "​",
            "_view_module": "@jupyter-widgets/controls",
            "_model_module_version": "1.5.0",
            "value": " 788/0 [00:00&lt;00:00, 7876.68 examples/s]",
            "_view_count": null,
            "_view_module_version": "1.5.0",
            "description_tooltip": null,
            "_model_module": "@jupyter-widgets/controls",
            "layout": "IPY_MODEL_5f8b91119e724b56b0b50598019e0180"
          }
        },
        "ab843dd3363748caaf179a3cd2efa8d3": {
          "model_module": "@jupyter-widgets/controls",
          "model_name": "DescriptionStyleModel",
          "model_module_version": "1.5.0",
          "state": {
            "_view_name": "StyleView",
            "_model_name": "DescriptionStyleModel",
            "description_width": "",
            "_view_module": "@jupyter-widgets/base",
            "_model_module_version": "1.5.0",
            "_view_count": null,
            "_view_module_version": "1.2.0",
            "_model_module": "@jupyter-widgets/controls"
          }
        },
        "b8a8805ecb4b43b19970619b6cfbcf7a": {
          "model_module": "@jupyter-widgets/base",
          "model_name": "LayoutModel",
          "model_module_version": "1.2.0",
          "state": {
            "_view_name": "LayoutView",
            "grid_template_rows": null,
            "right": null,
            "justify_content": null,
            "_view_module": "@jupyter-widgets/base",
            "overflow": null,
            "_model_module_version": "1.2.0",
            "_view_count": null,
            "flex_flow": null,
            "width": null,
            "min_width": null,
            "border": null,
            "align_items": null,
            "bottom": null,
            "_model_module": "@jupyter-widgets/base",
            "top": null,
            "grid_column": null,
            "overflow_y": null,
            "overflow_x": null,
            "grid_auto_flow": null,
            "grid_area": null,
            "grid_template_columns": null,
            "flex": null,
            "_model_name": "LayoutModel",
            "justify_items": null,
            "grid_row": null,
            "max_height": null,
            "align_content": null,
            "visibility": null,
            "align_self": null,
            "height": null,
            "min_height": null,
            "padding": null,
            "grid_auto_rows": null,
            "grid_gap": null,
            "max_width": null,
            "order": null,
            "_view_module_version": "1.2.0",
            "grid_template_areas": null,
            "object_position": null,
            "object_fit": null,
            "grid_auto_columns": null,
            "margin": null,
            "display": null,
            "left": null
          }
        },
        "57f7f222dd284649826c864304ee9908": {
          "model_module": "@jupyter-widgets/controls",
          "model_name": "ProgressStyleModel",
          "model_module_version": "1.5.0",
          "state": {
            "_view_name": "StyleView",
            "_model_name": "ProgressStyleModel",
            "description_width": "",
            "_view_module": "@jupyter-widgets/base",
            "_model_module_version": "1.5.0",
            "_view_count": null,
            "_view_module_version": "1.2.0",
            "bar_color": null,
            "_model_module": "@jupyter-widgets/controls"
          }
        },
        "3691778b36454410b0c2ff3067cc1553": {
          "model_module": "@jupyter-widgets/base",
          "model_name": "LayoutModel",
          "model_module_version": "1.2.0",
          "state": {
            "_view_name": "LayoutView",
            "grid_template_rows": null,
            "right": null,
            "justify_content": null,
            "_view_module": "@jupyter-widgets/base",
            "overflow": null,
            "_model_module_version": "1.2.0",
            "_view_count": null,
            "flex_flow": null,
            "width": "20px",
            "min_width": null,
            "border": null,
            "align_items": null,
            "bottom": null,
            "_model_module": "@jupyter-widgets/base",
            "top": null,
            "grid_column": null,
            "overflow_y": null,
            "overflow_x": null,
            "grid_auto_flow": null,
            "grid_area": null,
            "grid_template_columns": null,
            "flex": null,
            "_model_name": "LayoutModel",
            "justify_items": null,
            "grid_row": null,
            "max_height": null,
            "align_content": null,
            "visibility": null,
            "align_self": null,
            "height": null,
            "min_height": null,
            "padding": null,
            "grid_auto_rows": null,
            "grid_gap": null,
            "max_width": null,
            "order": null,
            "_view_module_version": "1.2.0",
            "grid_template_areas": null,
            "object_position": null,
            "object_fit": null,
            "grid_auto_columns": null,
            "margin": null,
            "display": null,
            "left": null
          }
        },
        "dcbb9e8ab6bb4b8985fa1a052a70f842": {
          "model_module": "@jupyter-widgets/controls",
          "model_name": "DescriptionStyleModel",
          "model_module_version": "1.5.0",
          "state": {
            "_view_name": "StyleView",
            "_model_name": "DescriptionStyleModel",
            "description_width": "",
            "_view_module": "@jupyter-widgets/base",
            "_model_module_version": "1.5.0",
            "_view_count": null,
            "_view_module_version": "1.2.0",
            "_model_module": "@jupyter-widgets/controls"
          }
        },
        "5f8b91119e724b56b0b50598019e0180": {
          "model_module": "@jupyter-widgets/base",
          "model_name": "LayoutModel",
          "model_module_version": "1.2.0",
          "state": {
            "_view_name": "LayoutView",
            "grid_template_rows": null,
            "right": null,
            "justify_content": null,
            "_view_module": "@jupyter-widgets/base",
            "overflow": null,
            "_model_module_version": "1.2.0",
            "_view_count": null,
            "flex_flow": null,
            "width": null,
            "min_width": null,
            "border": null,
            "align_items": null,
            "bottom": null,
            "_model_module": "@jupyter-widgets/base",
            "top": null,
            "grid_column": null,
            "overflow_y": null,
            "overflow_x": null,
            "grid_auto_flow": null,
            "grid_area": null,
            "grid_template_columns": null,
            "flex": null,
            "_model_name": "LayoutModel",
            "justify_items": null,
            "grid_row": null,
            "max_height": null,
            "align_content": null,
            "visibility": null,
            "align_self": null,
            "height": null,
            "min_height": null,
            "padding": null,
            "grid_auto_rows": null,
            "grid_gap": null,
            "max_width": null,
            "order": null,
            "_view_module_version": "1.2.0",
            "grid_template_areas": null,
            "object_position": null,
            "object_fit": null,
            "grid_auto_columns": null,
            "margin": null,
            "display": null,
            "left": null
          }
        },
        "a61098201c2445a5bb78692e28fdfeb8": {
          "model_module": "@jupyter-widgets/controls",
          "model_name": "HBoxModel",
          "model_module_version": "1.5.0",
          "state": {
            "_view_name": "HBoxView",
            "_dom_classes": [],
            "_model_name": "HBoxModel",
            "_view_module": "@jupyter-widgets/controls",
            "_model_module_version": "1.5.0",
            "_view_count": null,
            "_view_module_version": "1.5.0",
            "box_style": "",
            "layout": "IPY_MODEL_79bec8009ed743629b9cde2c813cb453",
            "_model_module": "@jupyter-widgets/controls",
            "children": [
              "IPY_MODEL_0d0fddcb6bc74ee48cdb55f8eb24196b",
              "IPY_MODEL_988b7bb508bb41509283702a03b58e97",
              "IPY_MODEL_5c677143e98a4924b4c2cf01ca201bc8"
            ]
          }
        },
        "79bec8009ed743629b9cde2c813cb453": {
          "model_module": "@jupyter-widgets/base",
          "model_name": "LayoutModel",
          "model_module_version": "1.2.0",
          "state": {
            "_view_name": "LayoutView",
            "grid_template_rows": null,
            "right": null,
            "justify_content": null,
            "_view_module": "@jupyter-widgets/base",
            "overflow": null,
            "_model_module_version": "1.2.0",
            "_view_count": null,
            "flex_flow": null,
            "width": null,
            "min_width": null,
            "border": null,
            "align_items": null,
            "bottom": null,
            "_model_module": "@jupyter-widgets/base",
            "top": null,
            "grid_column": null,
            "overflow_y": null,
            "overflow_x": null,
            "grid_auto_flow": null,
            "grid_area": null,
            "grid_template_columns": null,
            "flex": null,
            "_model_name": "LayoutModel",
            "justify_items": null,
            "grid_row": null,
            "max_height": null,
            "align_content": null,
            "visibility": null,
            "align_self": null,
            "height": null,
            "min_height": null,
            "padding": null,
            "grid_auto_rows": null,
            "grid_gap": null,
            "max_width": null,
            "order": null,
            "_view_module_version": "1.2.0",
            "grid_template_areas": null,
            "object_position": null,
            "object_fit": null,
            "grid_auto_columns": null,
            "margin": null,
            "display": null,
            "left": null
          }
        },
        "0d0fddcb6bc74ee48cdb55f8eb24196b": {
          "model_module": "@jupyter-widgets/controls",
          "model_name": "HTMLModel",
          "model_module_version": "1.5.0",
          "state": {
            "_view_name": "HTMLView",
            "style": "IPY_MODEL_87672f6275b64e81abaa9376a0af2496",
            "_dom_classes": [],
            "description": "",
            "_model_name": "HTMLModel",
            "placeholder": "​",
            "_view_module": "@jupyter-widgets/controls",
            "_model_module_version": "1.5.0",
            "value": "100%",
            "_view_count": null,
            "_view_module_version": "1.5.0",
            "description_tooltip": null,
            "_model_module": "@jupyter-widgets/controls",
            "layout": "IPY_MODEL_b5604dfa6d81459b91428bc1011250d6"
          }
        },
        "988b7bb508bb41509283702a03b58e97": {
          "model_module": "@jupyter-widgets/controls",
          "model_name": "FloatProgressModel",
          "model_module_version": "1.5.0",
          "state": {
            "_view_name": "ProgressView",
            "style": "IPY_MODEL_ccb356a1fed6402eb158c353210ac672",
            "_dom_classes": [],
            "description": "",
            "_model_name": "FloatProgressModel",
            "bar_style": "success",
            "max": 3478,
            "_view_module": "@jupyter-widgets/controls",
            "_model_module_version": "1.5.0",
            "value": 3478,
            "_view_count": null,
            "_view_module_version": "1.5.0",
            "orientation": "horizontal",
            "min": 0,
            "description_tooltip": null,
            "_model_module": "@jupyter-widgets/controls",
            "layout": "IPY_MODEL_cc917d1ea2714b3789fe1f0e76941b18"
          }
        },
        "5c677143e98a4924b4c2cf01ca201bc8": {
          "model_module": "@jupyter-widgets/controls",
          "model_name": "HTMLModel",
          "model_module_version": "1.5.0",
          "state": {
            "_view_name": "HTMLView",
            "style": "IPY_MODEL_b43baaec32f946ddbb7ecef66f942457",
            "_dom_classes": [],
            "description": "",
            "_model_name": "HTMLModel",
            "placeholder": "​",
            "_view_module": "@jupyter-widgets/controls",
            "_model_module_version": "1.5.0",
            "value": " 3478/3478 [00:00&lt;00:00, 11954.27ex/s]",
            "_view_count": null,
            "_view_module_version": "1.5.0",
            "description_tooltip": null,
            "_model_module": "@jupyter-widgets/controls",
            "layout": "IPY_MODEL_fdde3ee5bd644622b84397bd91d3c6f6"
          }
        },
        "87672f6275b64e81abaa9376a0af2496": {
          "model_module": "@jupyter-widgets/controls",
          "model_name": "DescriptionStyleModel",
          "model_module_version": "1.5.0",
          "state": {
            "_view_name": "StyleView",
            "_model_name": "DescriptionStyleModel",
            "description_width": "",
            "_view_module": "@jupyter-widgets/base",
            "_model_module_version": "1.5.0",
            "_view_count": null,
            "_view_module_version": "1.2.0",
            "_model_module": "@jupyter-widgets/controls"
          }
        },
        "b5604dfa6d81459b91428bc1011250d6": {
          "model_module": "@jupyter-widgets/base",
          "model_name": "LayoutModel",
          "model_module_version": "1.2.0",
          "state": {
            "_view_name": "LayoutView",
            "grid_template_rows": null,
            "right": null,
            "justify_content": null,
            "_view_module": "@jupyter-widgets/base",
            "overflow": null,
            "_model_module_version": "1.2.0",
            "_view_count": null,
            "flex_flow": null,
            "width": null,
            "min_width": null,
            "border": null,
            "align_items": null,
            "bottom": null,
            "_model_module": "@jupyter-widgets/base",
            "top": null,
            "grid_column": null,
            "overflow_y": null,
            "overflow_x": null,
            "grid_auto_flow": null,
            "grid_area": null,
            "grid_template_columns": null,
            "flex": null,
            "_model_name": "LayoutModel",
            "justify_items": null,
            "grid_row": null,
            "max_height": null,
            "align_content": null,
            "visibility": null,
            "align_self": null,
            "height": null,
            "min_height": null,
            "padding": null,
            "grid_auto_rows": null,
            "grid_gap": null,
            "max_width": null,
            "order": null,
            "_view_module_version": "1.2.0",
            "grid_template_areas": null,
            "object_position": null,
            "object_fit": null,
            "grid_auto_columns": null,
            "margin": null,
            "display": null,
            "left": null
          }
        },
        "ccb356a1fed6402eb158c353210ac672": {
          "model_module": "@jupyter-widgets/controls",
          "model_name": "ProgressStyleModel",
          "model_module_version": "1.5.0",
          "state": {
            "_view_name": "StyleView",
            "_model_name": "ProgressStyleModel",
            "description_width": "",
            "_view_module": "@jupyter-widgets/base",
            "_model_module_version": "1.5.0",
            "_view_count": null,
            "_view_module_version": "1.2.0",
            "bar_color": null,
            "_model_module": "@jupyter-widgets/controls"
          }
        },
        "cc917d1ea2714b3789fe1f0e76941b18": {
          "model_module": "@jupyter-widgets/base",
          "model_name": "LayoutModel",
          "model_module_version": "1.2.0",
          "state": {
            "_view_name": "LayoutView",
            "grid_template_rows": null,
            "right": null,
            "justify_content": null,
            "_view_module": "@jupyter-widgets/base",
            "overflow": null,
            "_model_module_version": "1.2.0",
            "_view_count": null,
            "flex_flow": null,
            "width": null,
            "min_width": null,
            "border": null,
            "align_items": null,
            "bottom": null,
            "_model_module": "@jupyter-widgets/base",
            "top": null,
            "grid_column": null,
            "overflow_y": null,
            "overflow_x": null,
            "grid_auto_flow": null,
            "grid_area": null,
            "grid_template_columns": null,
            "flex": null,
            "_model_name": "LayoutModel",
            "justify_items": null,
            "grid_row": null,
            "max_height": null,
            "align_content": null,
            "visibility": null,
            "align_self": null,
            "height": null,
            "min_height": null,
            "padding": null,
            "grid_auto_rows": null,
            "grid_gap": null,
            "max_width": null,
            "order": null,
            "_view_module_version": "1.2.0",
            "grid_template_areas": null,
            "object_position": null,
            "object_fit": null,
            "grid_auto_columns": null,
            "margin": null,
            "display": null,
            "left": null
          }
        },
        "b43baaec32f946ddbb7ecef66f942457": {
          "model_module": "@jupyter-widgets/controls",
          "model_name": "DescriptionStyleModel",
          "model_module_version": "1.5.0",
          "state": {
            "_view_name": "StyleView",
            "_model_name": "DescriptionStyleModel",
            "description_width": "",
            "_view_module": "@jupyter-widgets/base",
            "_model_module_version": "1.5.0",
            "_view_count": null,
            "_view_module_version": "1.2.0",
            "_model_module": "@jupyter-widgets/controls"
          }
        },
        "fdde3ee5bd644622b84397bd91d3c6f6": {
          "model_module": "@jupyter-widgets/base",
          "model_name": "LayoutModel",
          "model_module_version": "1.2.0",
          "state": {
            "_view_name": "LayoutView",
            "grid_template_rows": null,
            "right": null,
            "justify_content": null,
            "_view_module": "@jupyter-widgets/base",
            "overflow": null,
            "_model_module_version": "1.2.0",
            "_view_count": null,
            "flex_flow": null,
            "width": null,
            "min_width": null,
            "border": null,
            "align_items": null,
            "bottom": null,
            "_model_module": "@jupyter-widgets/base",
            "top": null,
            "grid_column": null,
            "overflow_y": null,
            "overflow_x": null,
            "grid_auto_flow": null,
            "grid_area": null,
            "grid_template_columns": null,
            "flex": null,
            "_model_name": "LayoutModel",
            "justify_items": null,
            "grid_row": null,
            "max_height": null,
            "align_content": null,
            "visibility": null,
            "align_self": null,
            "height": null,
            "min_height": null,
            "padding": null,
            "grid_auto_rows": null,
            "grid_gap": null,
            "max_width": null,
            "order": null,
            "_view_module_version": "1.2.0",
            "grid_template_areas": null,
            "object_position": null,
            "object_fit": null,
            "grid_auto_columns": null,
            "margin": null,
            "display": null,
            "left": null
          }
        },
        "bd9179a7c4294462b8ac2ad831c18ad8": {
          "model_module": "@jupyter-widgets/controls",
          "model_name": "HBoxModel",
          "model_module_version": "1.5.0",
          "state": {
            "_view_name": "HBoxView",
            "_dom_classes": [],
            "_model_name": "HBoxModel",
            "_view_module": "@jupyter-widgets/controls",
            "_model_module_version": "1.5.0",
            "_view_count": null,
            "_view_module_version": "1.5.0",
            "box_style": "",
            "layout": "IPY_MODEL_0b52b370b6a741f4ab28ed7f05f87079",
            "_model_module": "@jupyter-widgets/controls",
            "children": [
              "IPY_MODEL_b57d7e93a25041d09d6be75efad18de3",
              "IPY_MODEL_bae59f712f9a4c779a96d17e8e918bf5",
              "IPY_MODEL_50b90a1df790488a8433557889af09c1"
            ]
          }
        },
        "0b52b370b6a741f4ab28ed7f05f87079": {
          "model_module": "@jupyter-widgets/base",
          "model_name": "LayoutModel",
          "model_module_version": "1.2.0",
          "state": {
            "_view_name": "LayoutView",
            "grid_template_rows": null,
            "right": null,
            "justify_content": null,
            "_view_module": "@jupyter-widgets/base",
            "overflow": null,
            "_model_module_version": "1.2.0",
            "_view_count": null,
            "flex_flow": null,
            "width": null,
            "min_width": null,
            "border": null,
            "align_items": null,
            "bottom": null,
            "_model_module": "@jupyter-widgets/base",
            "top": null,
            "grid_column": null,
            "overflow_y": null,
            "overflow_x": null,
            "grid_auto_flow": null,
            "grid_area": null,
            "grid_template_columns": null,
            "flex": null,
            "_model_name": "LayoutModel",
            "justify_items": null,
            "grid_row": null,
            "max_height": null,
            "align_content": null,
            "visibility": null,
            "align_self": null,
            "height": null,
            "min_height": null,
            "padding": null,
            "grid_auto_rows": null,
            "grid_gap": null,
            "max_width": null,
            "order": null,
            "_view_module_version": "1.2.0",
            "grid_template_areas": null,
            "object_position": null,
            "object_fit": null,
            "grid_auto_columns": null,
            "margin": null,
            "display": null,
            "left": null
          }
        },
        "b57d7e93a25041d09d6be75efad18de3": {
          "model_module": "@jupyter-widgets/controls",
          "model_name": "HTMLModel",
          "model_module_version": "1.5.0",
          "state": {
            "_view_name": "HTMLView",
            "style": "IPY_MODEL_e543cc580e0c4c71a8059ccd366078ff",
            "_dom_classes": [],
            "description": "",
            "_model_name": "HTMLModel",
            "placeholder": "​",
            "_view_module": "@jupyter-widgets/controls",
            "_model_module_version": "1.5.0",
            "value": "100%",
            "_view_count": null,
            "_view_module_version": "1.5.0",
            "description_tooltip": null,
            "_model_module": "@jupyter-widgets/controls",
            "layout": "IPY_MODEL_314e8b55d85b40beae4fd88b257b4feb"
          }
        },
        "bae59f712f9a4c779a96d17e8e918bf5": {
          "model_module": "@jupyter-widgets/controls",
          "model_name": "FloatProgressModel",
          "model_module_version": "1.5.0",
          "state": {
            "_view_name": "ProgressView",
            "style": "IPY_MODEL_1fa12a93e7ae4357ae11f8f7cb25d956",
            "_dom_classes": [],
            "description": "",
            "_model_name": "FloatProgressModel",
            "bar_style": "success",
            "max": 1647,
            "_view_module": "@jupyter-widgets/controls",
            "_model_module_version": "1.5.0",
            "value": 1647,
            "_view_count": null,
            "_view_module_version": "1.5.0",
            "orientation": "horizontal",
            "min": 0,
            "description_tooltip": null,
            "_model_module": "@jupyter-widgets/controls",
            "layout": "IPY_MODEL_ae415bf85b28427d9849fc609c8852b0"
          }
        },
        "50b90a1df790488a8433557889af09c1": {
          "model_module": "@jupyter-widgets/controls",
          "model_name": "HTMLModel",
          "model_module_version": "1.5.0",
          "state": {
            "_view_name": "HTMLView",
            "style": "IPY_MODEL_11bd7c860af9468f8724092d13ae3cea",
            "_dom_classes": [],
            "description": "",
            "_model_name": "HTMLModel",
            "placeholder": "​",
            "_view_module": "@jupyter-widgets/controls",
            "_model_module_version": "1.5.0",
            "value": " 1647/1647 [00:00&lt;00:00, 9798.40ex/s]",
            "_view_count": null,
            "_view_module_version": "1.5.0",
            "description_tooltip": null,
            "_model_module": "@jupyter-widgets/controls",
            "layout": "IPY_MODEL_611ca0780e434c34a2d240071a4255d0"
          }
        },
        "e543cc580e0c4c71a8059ccd366078ff": {
          "model_module": "@jupyter-widgets/controls",
          "model_name": "DescriptionStyleModel",
          "model_module_version": "1.5.0",
          "state": {
            "_view_name": "StyleView",
            "_model_name": "DescriptionStyleModel",
            "description_width": "",
            "_view_module": "@jupyter-widgets/base",
            "_model_module_version": "1.5.0",
            "_view_count": null,
            "_view_module_version": "1.2.0",
            "_model_module": "@jupyter-widgets/controls"
          }
        },
        "314e8b55d85b40beae4fd88b257b4feb": {
          "model_module": "@jupyter-widgets/base",
          "model_name": "LayoutModel",
          "model_module_version": "1.2.0",
          "state": {
            "_view_name": "LayoutView",
            "grid_template_rows": null,
            "right": null,
            "justify_content": null,
            "_view_module": "@jupyter-widgets/base",
            "overflow": null,
            "_model_module_version": "1.2.0",
            "_view_count": null,
            "flex_flow": null,
            "width": null,
            "min_width": null,
            "border": null,
            "align_items": null,
            "bottom": null,
            "_model_module": "@jupyter-widgets/base",
            "top": null,
            "grid_column": null,
            "overflow_y": null,
            "overflow_x": null,
            "grid_auto_flow": null,
            "grid_area": null,
            "grid_template_columns": null,
            "flex": null,
            "_model_name": "LayoutModel",
            "justify_items": null,
            "grid_row": null,
            "max_height": null,
            "align_content": null,
            "visibility": null,
            "align_self": null,
            "height": null,
            "min_height": null,
            "padding": null,
            "grid_auto_rows": null,
            "grid_gap": null,
            "max_width": null,
            "order": null,
            "_view_module_version": "1.2.0",
            "grid_template_areas": null,
            "object_position": null,
            "object_fit": null,
            "grid_auto_columns": null,
            "margin": null,
            "display": null,
            "left": null
          }
        },
        "1fa12a93e7ae4357ae11f8f7cb25d956": {
          "model_module": "@jupyter-widgets/controls",
          "model_name": "ProgressStyleModel",
          "model_module_version": "1.5.0",
          "state": {
            "_view_name": "StyleView",
            "_model_name": "ProgressStyleModel",
            "description_width": "",
            "_view_module": "@jupyter-widgets/base",
            "_model_module_version": "1.5.0",
            "_view_count": null,
            "_view_module_version": "1.2.0",
            "bar_color": null,
            "_model_module": "@jupyter-widgets/controls"
          }
        },
        "ae415bf85b28427d9849fc609c8852b0": {
          "model_module": "@jupyter-widgets/base",
          "model_name": "LayoutModel",
          "model_module_version": "1.2.0",
          "state": {
            "_view_name": "LayoutView",
            "grid_template_rows": null,
            "right": null,
            "justify_content": null,
            "_view_module": "@jupyter-widgets/base",
            "overflow": null,
            "_model_module_version": "1.2.0",
            "_view_count": null,
            "flex_flow": null,
            "width": null,
            "min_width": null,
            "border": null,
            "align_items": null,
            "bottom": null,
            "_model_module": "@jupyter-widgets/base",
            "top": null,
            "grid_column": null,
            "overflow_y": null,
            "overflow_x": null,
            "grid_auto_flow": null,
            "grid_area": null,
            "grid_template_columns": null,
            "flex": null,
            "_model_name": "LayoutModel",
            "justify_items": null,
            "grid_row": null,
            "max_height": null,
            "align_content": null,
            "visibility": null,
            "align_self": null,
            "height": null,
            "min_height": null,
            "padding": null,
            "grid_auto_rows": null,
            "grid_gap": null,
            "max_width": null,
            "order": null,
            "_view_module_version": "1.2.0",
            "grid_template_areas": null,
            "object_position": null,
            "object_fit": null,
            "grid_auto_columns": null,
            "margin": null,
            "display": null,
            "left": null
          }
        },
        "11bd7c860af9468f8724092d13ae3cea": {
          "model_module": "@jupyter-widgets/controls",
          "model_name": "DescriptionStyleModel",
          "model_module_version": "1.5.0",
          "state": {
            "_view_name": "StyleView",
            "_model_name": "DescriptionStyleModel",
            "description_width": "",
            "_view_module": "@jupyter-widgets/base",
            "_model_module_version": "1.5.0",
            "_view_count": null,
            "_view_module_version": "1.2.0",
            "_model_module": "@jupyter-widgets/controls"
          }
        },
        "611ca0780e434c34a2d240071a4255d0": {
          "model_module": "@jupyter-widgets/base",
          "model_name": "LayoutModel",
          "model_module_version": "1.2.0",
          "state": {
            "_view_name": "LayoutView",
            "grid_template_rows": null,
            "right": null,
            "justify_content": null,
            "_view_module": "@jupyter-widgets/base",
            "overflow": null,
            "_model_module_version": "1.2.0",
            "_view_count": null,
            "flex_flow": null,
            "width": null,
            "min_width": null,
            "border": null,
            "align_items": null,
            "bottom": null,
            "_model_module": "@jupyter-widgets/base",
            "top": null,
            "grid_column": null,
            "overflow_y": null,
            "overflow_x": null,
            "grid_auto_flow": null,
            "grid_area": null,
            "grid_template_columns": null,
            "flex": null,
            "_model_name": "LayoutModel",
            "justify_items": null,
            "grid_row": null,
            "max_height": null,
            "align_content": null,
            "visibility": null,
            "align_self": null,
            "height": null,
            "min_height": null,
            "padding": null,
            "grid_auto_rows": null,
            "grid_gap": null,
            "max_width": null,
            "order": null,
            "_view_module_version": "1.2.0",
            "grid_template_areas": null,
            "object_position": null,
            "object_fit": null,
            "grid_auto_columns": null,
            "margin": null,
            "display": null,
            "left": null
          }
        },
        "3500c8e6b69745a0a09accda1c918384": {
          "model_module": "@jupyter-widgets/controls",
          "model_name": "HBoxModel",
          "model_module_version": "1.5.0",
          "state": {
            "_view_name": "HBoxView",
            "_dom_classes": [],
            "_model_name": "HBoxModel",
            "_view_module": "@jupyter-widgets/controls",
            "_model_module_version": "1.5.0",
            "_view_count": null,
            "_view_module_version": "1.5.0",
            "box_style": "",
            "layout": "IPY_MODEL_09581cec6408430793b35be720e02237",
            "_model_module": "@jupyter-widgets/controls",
            "children": [
              "IPY_MODEL_bb4a88d033624433ac3dd8ec36c8d9ba",
              "IPY_MODEL_6a101c73c57d45c49471e62cac03b11f",
              "IPY_MODEL_f69fd47726cf47bf9651f70f82a9b936"
            ]
          }
        },
        "09581cec6408430793b35be720e02237": {
          "model_module": "@jupyter-widgets/base",
          "model_name": "LayoutModel",
          "model_module_version": "1.2.0",
          "state": {
            "_view_name": "LayoutView",
            "grid_template_rows": null,
            "right": null,
            "justify_content": null,
            "_view_module": "@jupyter-widgets/base",
            "overflow": null,
            "_model_module_version": "1.2.0",
            "_view_count": null,
            "flex_flow": null,
            "width": null,
            "min_width": null,
            "border": null,
            "align_items": null,
            "bottom": null,
            "_model_module": "@jupyter-widgets/base",
            "top": null,
            "grid_column": null,
            "overflow_y": null,
            "overflow_x": null,
            "grid_auto_flow": null,
            "grid_area": null,
            "grid_template_columns": null,
            "flex": null,
            "_model_name": "LayoutModel",
            "justify_items": null,
            "grid_row": null,
            "max_height": null,
            "align_content": null,
            "visibility": null,
            "align_self": null,
            "height": null,
            "min_height": null,
            "padding": null,
            "grid_auto_rows": null,
            "grid_gap": null,
            "max_width": null,
            "order": null,
            "_view_module_version": "1.2.0",
            "grid_template_areas": null,
            "object_position": null,
            "object_fit": null,
            "grid_auto_columns": null,
            "margin": null,
            "display": null,
            "left": null
          }
        },
        "bb4a88d033624433ac3dd8ec36c8d9ba": {
          "model_module": "@jupyter-widgets/controls",
          "model_name": "HTMLModel",
          "model_module_version": "1.5.0",
          "state": {
            "_view_name": "HTMLView",
            "style": "IPY_MODEL_95b1c6bd5a70450d8f46f79d8f6acfc8",
            "_dom_classes": [],
            "description": "",
            "_model_name": "HTMLModel",
            "placeholder": "​",
            "_view_module": "@jupyter-widgets/controls",
            "_model_module_version": "1.5.0",
            "value": "100%",
            "_view_count": null,
            "_view_module_version": "1.5.0",
            "description_tooltip": null,
            "_model_module": "@jupyter-widgets/controls",
            "layout": "IPY_MODEL_83c79870213d4764aba789e7cb1d01da"
          }
        },
        "6a101c73c57d45c49471e62cac03b11f": {
          "model_module": "@jupyter-widgets/controls",
          "model_name": "FloatProgressModel",
          "model_module_version": "1.5.0",
          "state": {
            "_view_name": "ProgressView",
            "style": "IPY_MODEL_8d5f53a4b2164c16a57268be72a934c5",
            "_dom_classes": [],
            "description": "",
            "_model_name": "FloatProgressModel",
            "bar_style": "success",
            "max": 1,
            "_view_module": "@jupyter-widgets/controls",
            "_model_module_version": "1.5.0",
            "value": 1,
            "_view_count": null,
            "_view_module_version": "1.5.0",
            "orientation": "horizontal",
            "min": 0,
            "description_tooltip": null,
            "_model_module": "@jupyter-widgets/controls",
            "layout": "IPY_MODEL_237e3a90359c404abe5b7c9c286326e2"
          }
        },
        "f69fd47726cf47bf9651f70f82a9b936": {
          "model_module": "@jupyter-widgets/controls",
          "model_name": "HTMLModel",
          "model_module_version": "1.5.0",
          "state": {
            "_view_name": "HTMLView",
            "style": "IPY_MODEL_17e022680adc45f38772fc35716aa276",
            "_dom_classes": [],
            "description": "",
            "_model_name": "HTMLModel",
            "placeholder": "​",
            "_view_module": "@jupyter-widgets/controls",
            "_model_module_version": "1.5.0",
            "value": " 1/1 [00:00&lt;00:00, 18.89ba/s]",
            "_view_count": null,
            "_view_module_version": "1.5.0",
            "description_tooltip": null,
            "_model_module": "@jupyter-widgets/controls",
            "layout": "IPY_MODEL_a628134b4dc849f885438fb1713150cd"
          }
        },
        "95b1c6bd5a70450d8f46f79d8f6acfc8": {
          "model_module": "@jupyter-widgets/controls",
          "model_name": "DescriptionStyleModel",
          "model_module_version": "1.5.0",
          "state": {
            "_view_name": "StyleView",
            "_model_name": "DescriptionStyleModel",
            "description_width": "",
            "_view_module": "@jupyter-widgets/base",
            "_model_module_version": "1.5.0",
            "_view_count": null,
            "_view_module_version": "1.2.0",
            "_model_module": "@jupyter-widgets/controls"
          }
        },
        "83c79870213d4764aba789e7cb1d01da": {
          "model_module": "@jupyter-widgets/base",
          "model_name": "LayoutModel",
          "model_module_version": "1.2.0",
          "state": {
            "_view_name": "LayoutView",
            "grid_template_rows": null,
            "right": null,
            "justify_content": null,
            "_view_module": "@jupyter-widgets/base",
            "overflow": null,
            "_model_module_version": "1.2.0",
            "_view_count": null,
            "flex_flow": null,
            "width": null,
            "min_width": null,
            "border": null,
            "align_items": null,
            "bottom": null,
            "_model_module": "@jupyter-widgets/base",
            "top": null,
            "grid_column": null,
            "overflow_y": null,
            "overflow_x": null,
            "grid_auto_flow": null,
            "grid_area": null,
            "grid_template_columns": null,
            "flex": null,
            "_model_name": "LayoutModel",
            "justify_items": null,
            "grid_row": null,
            "max_height": null,
            "align_content": null,
            "visibility": null,
            "align_self": null,
            "height": null,
            "min_height": null,
            "padding": null,
            "grid_auto_rows": null,
            "grid_gap": null,
            "max_width": null,
            "order": null,
            "_view_module_version": "1.2.0",
            "grid_template_areas": null,
            "object_position": null,
            "object_fit": null,
            "grid_auto_columns": null,
            "margin": null,
            "display": null,
            "left": null
          }
        },
        "8d5f53a4b2164c16a57268be72a934c5": {
          "model_module": "@jupyter-widgets/controls",
          "model_name": "ProgressStyleModel",
          "model_module_version": "1.5.0",
          "state": {
            "_view_name": "StyleView",
            "_model_name": "ProgressStyleModel",
            "description_width": "",
            "_view_module": "@jupyter-widgets/base",
            "_model_module_version": "1.5.0",
            "_view_count": null,
            "_view_module_version": "1.2.0",
            "bar_color": null,
            "_model_module": "@jupyter-widgets/controls"
          }
        },
        "237e3a90359c404abe5b7c9c286326e2": {
          "model_module": "@jupyter-widgets/base",
          "model_name": "LayoutModel",
          "model_module_version": "1.2.0",
          "state": {
            "_view_name": "LayoutView",
            "grid_template_rows": null,
            "right": null,
            "justify_content": null,
            "_view_module": "@jupyter-widgets/base",
            "overflow": null,
            "_model_module_version": "1.2.0",
            "_view_count": null,
            "flex_flow": null,
            "width": null,
            "min_width": null,
            "border": null,
            "align_items": null,
            "bottom": null,
            "_model_module": "@jupyter-widgets/base",
            "top": null,
            "grid_column": null,
            "overflow_y": null,
            "overflow_x": null,
            "grid_auto_flow": null,
            "grid_area": null,
            "grid_template_columns": null,
            "flex": null,
            "_model_name": "LayoutModel",
            "justify_items": null,
            "grid_row": null,
            "max_height": null,
            "align_content": null,
            "visibility": null,
            "align_self": null,
            "height": null,
            "min_height": null,
            "padding": null,
            "grid_auto_rows": null,
            "grid_gap": null,
            "max_width": null,
            "order": null,
            "_view_module_version": "1.2.0",
            "grid_template_areas": null,
            "object_position": null,
            "object_fit": null,
            "grid_auto_columns": null,
            "margin": null,
            "display": null,
            "left": null
          }
        },
        "17e022680adc45f38772fc35716aa276": {
          "model_module": "@jupyter-widgets/controls",
          "model_name": "DescriptionStyleModel",
          "model_module_version": "1.5.0",
          "state": {
            "_view_name": "StyleView",
            "_model_name": "DescriptionStyleModel",
            "description_width": "",
            "_view_module": "@jupyter-widgets/base",
            "_model_module_version": "1.5.0",
            "_view_count": null,
            "_view_module_version": "1.2.0",
            "_model_module": "@jupyter-widgets/controls"
          }
        },
        "a628134b4dc849f885438fb1713150cd": {
          "model_module": "@jupyter-widgets/base",
          "model_name": "LayoutModel",
          "model_module_version": "1.2.0",
          "state": {
            "_view_name": "LayoutView",
            "grid_template_rows": null,
            "right": null,
            "justify_content": null,
            "_view_module": "@jupyter-widgets/base",
            "overflow": null,
            "_model_module_version": "1.2.0",
            "_view_count": null,
            "flex_flow": null,
            "width": null,
            "min_width": null,
            "border": null,
            "align_items": null,
            "bottom": null,
            "_model_module": "@jupyter-widgets/base",
            "top": null,
            "grid_column": null,
            "overflow_y": null,
            "overflow_x": null,
            "grid_auto_flow": null,
            "grid_area": null,
            "grid_template_columns": null,
            "flex": null,
            "_model_name": "LayoutModel",
            "justify_items": null,
            "grid_row": null,
            "max_height": null,
            "align_content": null,
            "visibility": null,
            "align_self": null,
            "height": null,
            "min_height": null,
            "padding": null,
            "grid_auto_rows": null,
            "grid_gap": null,
            "max_width": null,
            "order": null,
            "_view_module_version": "1.2.0",
            "grid_template_areas": null,
            "object_position": null,
            "object_fit": null,
            "grid_auto_columns": null,
            "margin": null,
            "display": null,
            "left": null
          }
        },
        "857c95910418494abd25826332fd971f": {
          "model_module": "@jupyter-widgets/controls",
          "model_name": "HBoxModel",
          "model_module_version": "1.5.0",
          "state": {
            "_view_name": "HBoxView",
            "_dom_classes": [],
            "_model_name": "HBoxModel",
            "_view_module": "@jupyter-widgets/controls",
            "_model_module_version": "1.5.0",
            "_view_count": null,
            "_view_module_version": "1.5.0",
            "box_style": "",
            "layout": "IPY_MODEL_1ee0d1aac79b4b0eb2b37c42ea4f342c",
            "_model_module": "@jupyter-widgets/controls",
            "children": [
              "IPY_MODEL_4ef7c32594344e25991d94904c9d60b5",
              "IPY_MODEL_94394c54c61b41a99c2a77fa75bd05f9",
              "IPY_MODEL_cf066093cb4149d9b26fa39103ef68d2"
            ]
          }
        },
        "1ee0d1aac79b4b0eb2b37c42ea4f342c": {
          "model_module": "@jupyter-widgets/base",
          "model_name": "LayoutModel",
          "model_module_version": "1.2.0",
          "state": {
            "_view_name": "LayoutView",
            "grid_template_rows": null,
            "right": null,
            "justify_content": null,
            "_view_module": "@jupyter-widgets/base",
            "overflow": null,
            "_model_module_version": "1.2.0",
            "_view_count": null,
            "flex_flow": null,
            "width": null,
            "min_width": null,
            "border": null,
            "align_items": null,
            "bottom": null,
            "_model_module": "@jupyter-widgets/base",
            "top": null,
            "grid_column": null,
            "overflow_y": null,
            "overflow_x": null,
            "grid_auto_flow": null,
            "grid_area": null,
            "grid_template_columns": null,
            "flex": null,
            "_model_name": "LayoutModel",
            "justify_items": null,
            "grid_row": null,
            "max_height": null,
            "align_content": null,
            "visibility": null,
            "align_self": null,
            "height": null,
            "min_height": null,
            "padding": null,
            "grid_auto_rows": null,
            "grid_gap": null,
            "max_width": null,
            "order": null,
            "_view_module_version": "1.2.0",
            "grid_template_areas": null,
            "object_position": null,
            "object_fit": null,
            "grid_auto_columns": null,
            "margin": null,
            "display": null,
            "left": null
          }
        },
        "4ef7c32594344e25991d94904c9d60b5": {
          "model_module": "@jupyter-widgets/controls",
          "model_name": "HTMLModel",
          "model_module_version": "1.5.0",
          "state": {
            "_view_name": "HTMLView",
            "style": "IPY_MODEL_2ef7c9107bdb43f49397cef508368205",
            "_dom_classes": [],
            "description": "",
            "_model_name": "HTMLModel",
            "placeholder": "​",
            "_view_module": "@jupyter-widgets/controls",
            "_model_module_version": "1.5.0",
            "value": "100%",
            "_view_count": null,
            "_view_module_version": "1.5.0",
            "description_tooltip": null,
            "_model_module": "@jupyter-widgets/controls",
            "layout": "IPY_MODEL_0aac820582c24b628bee9c1b7e5ed825"
          }
        },
        "94394c54c61b41a99c2a77fa75bd05f9": {
          "model_module": "@jupyter-widgets/controls",
          "model_name": "FloatProgressModel",
          "model_module_version": "1.5.0",
          "state": {
            "_view_name": "ProgressView",
            "style": "IPY_MODEL_3fd972cfed58417b8f0f4b8bf13eb73f",
            "_dom_classes": [],
            "description": "",
            "_model_name": "FloatProgressModel",
            "bar_style": "success",
            "max": 1,
            "_view_module": "@jupyter-widgets/controls",
            "_model_module_version": "1.5.0",
            "value": 1,
            "_view_count": null,
            "_view_module_version": "1.5.0",
            "orientation": "horizontal",
            "min": 0,
            "description_tooltip": null,
            "_model_module": "@jupyter-widgets/controls",
            "layout": "IPY_MODEL_983765af789d44669af0110d8a876a33"
          }
        },
        "cf066093cb4149d9b26fa39103ef68d2": {
          "model_module": "@jupyter-widgets/controls",
          "model_name": "HTMLModel",
          "model_module_version": "1.5.0",
          "state": {
            "_view_name": "HTMLView",
            "style": "IPY_MODEL_3ae01213ca594a1eb2bb39c517592c2b",
            "_dom_classes": [],
            "description": "",
            "_model_name": "HTMLModel",
            "placeholder": "​",
            "_view_module": "@jupyter-widgets/controls",
            "_model_module_version": "1.5.0",
            "value": " 1/1 [00:00&lt;00:00, 27.47ba/s]",
            "_view_count": null,
            "_view_module_version": "1.5.0",
            "description_tooltip": null,
            "_model_module": "@jupyter-widgets/controls",
            "layout": "IPY_MODEL_f6ad0a5ad4824c3391b324d7eb469131"
          }
        },
        "2ef7c9107bdb43f49397cef508368205": {
          "model_module": "@jupyter-widgets/controls",
          "model_name": "DescriptionStyleModel",
          "model_module_version": "1.5.0",
          "state": {
            "_view_name": "StyleView",
            "_model_name": "DescriptionStyleModel",
            "description_width": "",
            "_view_module": "@jupyter-widgets/base",
            "_model_module_version": "1.5.0",
            "_view_count": null,
            "_view_module_version": "1.2.0",
            "_model_module": "@jupyter-widgets/controls"
          }
        },
        "0aac820582c24b628bee9c1b7e5ed825": {
          "model_module": "@jupyter-widgets/base",
          "model_name": "LayoutModel",
          "model_module_version": "1.2.0",
          "state": {
            "_view_name": "LayoutView",
            "grid_template_rows": null,
            "right": null,
            "justify_content": null,
            "_view_module": "@jupyter-widgets/base",
            "overflow": null,
            "_model_module_version": "1.2.0",
            "_view_count": null,
            "flex_flow": null,
            "width": null,
            "min_width": null,
            "border": null,
            "align_items": null,
            "bottom": null,
            "_model_module": "@jupyter-widgets/base",
            "top": null,
            "grid_column": null,
            "overflow_y": null,
            "overflow_x": null,
            "grid_auto_flow": null,
            "grid_area": null,
            "grid_template_columns": null,
            "flex": null,
            "_model_name": "LayoutModel",
            "justify_items": null,
            "grid_row": null,
            "max_height": null,
            "align_content": null,
            "visibility": null,
            "align_self": null,
            "height": null,
            "min_height": null,
            "padding": null,
            "grid_auto_rows": null,
            "grid_gap": null,
            "max_width": null,
            "order": null,
            "_view_module_version": "1.2.0",
            "grid_template_areas": null,
            "object_position": null,
            "object_fit": null,
            "grid_auto_columns": null,
            "margin": null,
            "display": null,
            "left": null
          }
        },
        "3fd972cfed58417b8f0f4b8bf13eb73f": {
          "model_module": "@jupyter-widgets/controls",
          "model_name": "ProgressStyleModel",
          "model_module_version": "1.5.0",
          "state": {
            "_view_name": "StyleView",
            "_model_name": "ProgressStyleModel",
            "description_width": "",
            "_view_module": "@jupyter-widgets/base",
            "_model_module_version": "1.5.0",
            "_view_count": null,
            "_view_module_version": "1.2.0",
            "bar_color": null,
            "_model_module": "@jupyter-widgets/controls"
          }
        },
        "983765af789d44669af0110d8a876a33": {
          "model_module": "@jupyter-widgets/base",
          "model_name": "LayoutModel",
          "model_module_version": "1.2.0",
          "state": {
            "_view_name": "LayoutView",
            "grid_template_rows": null,
            "right": null,
            "justify_content": null,
            "_view_module": "@jupyter-widgets/base",
            "overflow": null,
            "_model_module_version": "1.2.0",
            "_view_count": null,
            "flex_flow": null,
            "width": null,
            "min_width": null,
            "border": null,
            "align_items": null,
            "bottom": null,
            "_model_module": "@jupyter-widgets/base",
            "top": null,
            "grid_column": null,
            "overflow_y": null,
            "overflow_x": null,
            "grid_auto_flow": null,
            "grid_area": null,
            "grid_template_columns": null,
            "flex": null,
            "_model_name": "LayoutModel",
            "justify_items": null,
            "grid_row": null,
            "max_height": null,
            "align_content": null,
            "visibility": null,
            "align_self": null,
            "height": null,
            "min_height": null,
            "padding": null,
            "grid_auto_rows": null,
            "grid_gap": null,
            "max_width": null,
            "order": null,
            "_view_module_version": "1.2.0",
            "grid_template_areas": null,
            "object_position": null,
            "object_fit": null,
            "grid_auto_columns": null,
            "margin": null,
            "display": null,
            "left": null
          }
        },
        "3ae01213ca594a1eb2bb39c517592c2b": {
          "model_module": "@jupyter-widgets/controls",
          "model_name": "DescriptionStyleModel",
          "model_module_version": "1.5.0",
          "state": {
            "_view_name": "StyleView",
            "_model_name": "DescriptionStyleModel",
            "description_width": "",
            "_view_module": "@jupyter-widgets/base",
            "_model_module_version": "1.5.0",
            "_view_count": null,
            "_view_module_version": "1.2.0",
            "_model_module": "@jupyter-widgets/controls"
          }
        },
        "f6ad0a5ad4824c3391b324d7eb469131": {
          "model_module": "@jupyter-widgets/base",
          "model_name": "LayoutModel",
          "model_module_version": "1.2.0",
          "state": {
            "_view_name": "LayoutView",
            "grid_template_rows": null,
            "right": null,
            "justify_content": null,
            "_view_module": "@jupyter-widgets/base",
            "overflow": null,
            "_model_module_version": "1.2.0",
            "_view_count": null,
            "flex_flow": null,
            "width": null,
            "min_width": null,
            "border": null,
            "align_items": null,
            "bottom": null,
            "_model_module": "@jupyter-widgets/base",
            "top": null,
            "grid_column": null,
            "overflow_y": null,
            "overflow_x": null,
            "grid_auto_flow": null,
            "grid_area": null,
            "grid_template_columns": null,
            "flex": null,
            "_model_name": "LayoutModel",
            "justify_items": null,
            "grid_row": null,
            "max_height": null,
            "align_content": null,
            "visibility": null,
            "align_self": null,
            "height": null,
            "min_height": null,
            "padding": null,
            "grid_auto_rows": null,
            "grid_gap": null,
            "max_width": null,
            "order": null,
            "_view_module_version": "1.2.0",
            "grid_template_areas": null,
            "object_position": null,
            "object_fit": null,
            "grid_auto_columns": null,
            "margin": null,
            "display": null,
            "left": null
          }
        },
        "4025100282fe497895a23bd314dd4c77": {
          "model_module": "@jupyter-widgets/controls",
          "model_name": "HBoxModel",
          "model_module_version": "1.5.0",
          "state": {
            "_view_name": "HBoxView",
            "_dom_classes": [],
            "_model_name": "HBoxModel",
            "_view_module": "@jupyter-widgets/controls",
            "_model_module_version": "1.5.0",
            "_view_count": null,
            "_view_module_version": "1.5.0",
            "box_style": "",
            "layout": "IPY_MODEL_6fc4d82bdc314800ab19b879bd139404",
            "_model_module": "@jupyter-widgets/controls",
            "children": [
              "IPY_MODEL_5739f4540d194b4ba6f464cc1d5cf938",
              "IPY_MODEL_6a46422aa91144bd87a015c53c107a2a",
              "IPY_MODEL_2483ec26cc9a4f3bb5cb6ef32c8830fb"
            ]
          }
        },
        "6fc4d82bdc314800ab19b879bd139404": {
          "model_module": "@jupyter-widgets/base",
          "model_name": "LayoutModel",
          "model_module_version": "1.2.0",
          "state": {
            "_view_name": "LayoutView",
            "grid_template_rows": null,
            "right": null,
            "justify_content": null,
            "_view_module": "@jupyter-widgets/base",
            "overflow": null,
            "_model_module_version": "1.2.0",
            "_view_count": null,
            "flex_flow": null,
            "width": null,
            "min_width": null,
            "border": null,
            "align_items": null,
            "bottom": null,
            "_model_module": "@jupyter-widgets/base",
            "top": null,
            "grid_column": null,
            "overflow_y": null,
            "overflow_x": null,
            "grid_auto_flow": null,
            "grid_area": null,
            "grid_template_columns": null,
            "flex": null,
            "_model_name": "LayoutModel",
            "justify_items": null,
            "grid_row": null,
            "max_height": null,
            "align_content": null,
            "visibility": null,
            "align_self": null,
            "height": null,
            "min_height": null,
            "padding": null,
            "grid_auto_rows": null,
            "grid_gap": null,
            "max_width": null,
            "order": null,
            "_view_module_version": "1.2.0",
            "grid_template_areas": null,
            "object_position": null,
            "object_fit": null,
            "grid_auto_columns": null,
            "margin": null,
            "display": null,
            "left": null
          }
        },
        "5739f4540d194b4ba6f464cc1d5cf938": {
          "model_module": "@jupyter-widgets/controls",
          "model_name": "HTMLModel",
          "model_module_version": "1.5.0",
          "state": {
            "_view_name": "HTMLView",
            "style": "IPY_MODEL_5967bbe4ceb44f75bf7ec3240cf1a4c6",
            "_dom_classes": [],
            "description": "",
            "_model_name": "HTMLModel",
            "placeholder": "​",
            "_view_module": "@jupyter-widgets/controls",
            "_model_module_version": "1.5.0",
            "value": "Downloading: 100%",
            "_view_count": null,
            "_view_module_version": "1.5.0",
            "description_tooltip": null,
            "_model_module": "@jupyter-widgets/controls",
            "layout": "IPY_MODEL_49e59e6a20294de4aef4e64fcbb720a3"
          }
        },
        "6a46422aa91144bd87a015c53c107a2a": {
          "model_module": "@jupyter-widgets/controls",
          "model_name": "FloatProgressModel",
          "model_module_version": "1.5.0",
          "state": {
            "_view_name": "ProgressView",
            "style": "IPY_MODEL_00672c32b7b04243af79853ecd6ecd44",
            "_dom_classes": [],
            "description": "",
            "_model_name": "FloatProgressModel",
            "bar_style": "success",
            "max": 1768,
            "_view_module": "@jupyter-widgets/controls",
            "_model_module_version": "1.5.0",
            "value": 1768,
            "_view_count": null,
            "_view_module_version": "1.5.0",
            "orientation": "horizontal",
            "min": 0,
            "description_tooltip": null,
            "_model_module": "@jupyter-widgets/controls",
            "layout": "IPY_MODEL_9cf7fb1693a64d6aad63ae57c603cac4"
          }
        },
        "2483ec26cc9a4f3bb5cb6ef32c8830fb": {
          "model_module": "@jupyter-widgets/controls",
          "model_name": "HTMLModel",
          "model_module_version": "1.5.0",
          "state": {
            "_view_name": "HTMLView",
            "style": "IPY_MODEL_795f326ad3e341399a298a4fb81d12f2",
            "_dom_classes": [],
            "description": "",
            "_model_name": "HTMLModel",
            "placeholder": "​",
            "_view_module": "@jupyter-widgets/controls",
            "_model_module_version": "1.5.0",
            "value": " 1.73k/1.73k [00:00&lt;00:00, 77.8kB/s]",
            "_view_count": null,
            "_view_module_version": "1.5.0",
            "description_tooltip": null,
            "_model_module": "@jupyter-widgets/controls",
            "layout": "IPY_MODEL_baf255dbede94c1dbf18b226125b2530"
          }
        },
        "5967bbe4ceb44f75bf7ec3240cf1a4c6": {
          "model_module": "@jupyter-widgets/controls",
          "model_name": "DescriptionStyleModel",
          "model_module_version": "1.5.0",
          "state": {
            "_view_name": "StyleView",
            "_model_name": "DescriptionStyleModel",
            "description_width": "",
            "_view_module": "@jupyter-widgets/base",
            "_model_module_version": "1.5.0",
            "_view_count": null,
            "_view_module_version": "1.2.0",
            "_model_module": "@jupyter-widgets/controls"
          }
        },
        "49e59e6a20294de4aef4e64fcbb720a3": {
          "model_module": "@jupyter-widgets/base",
          "model_name": "LayoutModel",
          "model_module_version": "1.2.0",
          "state": {
            "_view_name": "LayoutView",
            "grid_template_rows": null,
            "right": null,
            "justify_content": null,
            "_view_module": "@jupyter-widgets/base",
            "overflow": null,
            "_model_module_version": "1.2.0",
            "_view_count": null,
            "flex_flow": null,
            "width": null,
            "min_width": null,
            "border": null,
            "align_items": null,
            "bottom": null,
            "_model_module": "@jupyter-widgets/base",
            "top": null,
            "grid_column": null,
            "overflow_y": null,
            "overflow_x": null,
            "grid_auto_flow": null,
            "grid_area": null,
            "grid_template_columns": null,
            "flex": null,
            "_model_name": "LayoutModel",
            "justify_items": null,
            "grid_row": null,
            "max_height": null,
            "align_content": null,
            "visibility": null,
            "align_self": null,
            "height": null,
            "min_height": null,
            "padding": null,
            "grid_auto_rows": null,
            "grid_gap": null,
            "max_width": null,
            "order": null,
            "_view_module_version": "1.2.0",
            "grid_template_areas": null,
            "object_position": null,
            "object_fit": null,
            "grid_auto_columns": null,
            "margin": null,
            "display": null,
            "left": null
          }
        },
        "00672c32b7b04243af79853ecd6ecd44": {
          "model_module": "@jupyter-widgets/controls",
          "model_name": "ProgressStyleModel",
          "model_module_version": "1.5.0",
          "state": {
            "_view_name": "StyleView",
            "_model_name": "ProgressStyleModel",
            "description_width": "",
            "_view_module": "@jupyter-widgets/base",
            "_model_module_version": "1.5.0",
            "_view_count": null,
            "_view_module_version": "1.2.0",
            "bar_color": null,
            "_model_module": "@jupyter-widgets/controls"
          }
        },
        "9cf7fb1693a64d6aad63ae57c603cac4": {
          "model_module": "@jupyter-widgets/base",
          "model_name": "LayoutModel",
          "model_module_version": "1.2.0",
          "state": {
            "_view_name": "LayoutView",
            "grid_template_rows": null,
            "right": null,
            "justify_content": null,
            "_view_module": "@jupyter-widgets/base",
            "overflow": null,
            "_model_module_version": "1.2.0",
            "_view_count": null,
            "flex_flow": null,
            "width": null,
            "min_width": null,
            "border": null,
            "align_items": null,
            "bottom": null,
            "_model_module": "@jupyter-widgets/base",
            "top": null,
            "grid_column": null,
            "overflow_y": null,
            "overflow_x": null,
            "grid_auto_flow": null,
            "grid_area": null,
            "grid_template_columns": null,
            "flex": null,
            "_model_name": "LayoutModel",
            "justify_items": null,
            "grid_row": null,
            "max_height": null,
            "align_content": null,
            "visibility": null,
            "align_self": null,
            "height": null,
            "min_height": null,
            "padding": null,
            "grid_auto_rows": null,
            "grid_gap": null,
            "max_width": null,
            "order": null,
            "_view_module_version": "1.2.0",
            "grid_template_areas": null,
            "object_position": null,
            "object_fit": null,
            "grid_auto_columns": null,
            "margin": null,
            "display": null,
            "left": null
          }
        },
        "795f326ad3e341399a298a4fb81d12f2": {
          "model_module": "@jupyter-widgets/controls",
          "model_name": "DescriptionStyleModel",
          "model_module_version": "1.5.0",
          "state": {
            "_view_name": "StyleView",
            "_model_name": "DescriptionStyleModel",
            "description_width": "",
            "_view_module": "@jupyter-widgets/base",
            "_model_module_version": "1.5.0",
            "_view_count": null,
            "_view_module_version": "1.2.0",
            "_model_module": "@jupyter-widgets/controls"
          }
        },
        "baf255dbede94c1dbf18b226125b2530": {
          "model_module": "@jupyter-widgets/base",
          "model_name": "LayoutModel",
          "model_module_version": "1.2.0",
          "state": {
            "_view_name": "LayoutView",
            "grid_template_rows": null,
            "right": null,
            "justify_content": null,
            "_view_module": "@jupyter-widgets/base",
            "overflow": null,
            "_model_module_version": "1.2.0",
            "_view_count": null,
            "flex_flow": null,
            "width": null,
            "min_width": null,
            "border": null,
            "align_items": null,
            "bottom": null,
            "_model_module": "@jupyter-widgets/base",
            "top": null,
            "grid_column": null,
            "overflow_y": null,
            "overflow_x": null,
            "grid_auto_flow": null,
            "grid_area": null,
            "grid_template_columns": null,
            "flex": null,
            "_model_name": "LayoutModel",
            "justify_items": null,
            "grid_row": null,
            "max_height": null,
            "align_content": null,
            "visibility": null,
            "align_self": null,
            "height": null,
            "min_height": null,
            "padding": null,
            "grid_auto_rows": null,
            "grid_gap": null,
            "max_width": null,
            "order": null,
            "_view_module_version": "1.2.0",
            "grid_template_areas": null,
            "object_position": null,
            "object_fit": null,
            "grid_auto_columns": null,
            "margin": null,
            "display": null,
            "left": null
          }
        },
        "f1d78ce265f44ea8b313aa3a7c3b3536": {
          "model_module": "@jupyter-widgets/controls",
          "model_name": "HBoxModel",
          "model_module_version": "1.5.0",
          "state": {
            "_view_name": "HBoxView",
            "_dom_classes": [],
            "_model_name": "HBoxModel",
            "_view_module": "@jupyter-widgets/controls",
            "_model_module_version": "1.5.0",
            "_view_count": null,
            "_view_module_version": "1.5.0",
            "box_style": "",
            "layout": "IPY_MODEL_7e7ecd60c18648c8ac2cf2902ee36ce3",
            "_model_module": "@jupyter-widgets/controls",
            "children": [
              "IPY_MODEL_7d44ce0b3584406fb9176c9f5c830104",
              "IPY_MODEL_0ce8ce1815f947e087b611c05331acad",
              "IPY_MODEL_334d7a23ce0240deb6ecba7dd5989955"
            ]
          }
        },
        "7e7ecd60c18648c8ac2cf2902ee36ce3": {
          "model_module": "@jupyter-widgets/base",
          "model_name": "LayoutModel",
          "model_module_version": "1.2.0",
          "state": {
            "_view_name": "LayoutView",
            "grid_template_rows": null,
            "right": null,
            "justify_content": null,
            "_view_module": "@jupyter-widgets/base",
            "overflow": null,
            "_model_module_version": "1.2.0",
            "_view_count": null,
            "flex_flow": null,
            "width": null,
            "min_width": null,
            "border": null,
            "align_items": null,
            "bottom": null,
            "_model_module": "@jupyter-widgets/base",
            "top": null,
            "grid_column": null,
            "overflow_y": null,
            "overflow_x": null,
            "grid_auto_flow": null,
            "grid_area": null,
            "grid_template_columns": null,
            "flex": null,
            "_model_name": "LayoutModel",
            "justify_items": null,
            "grid_row": null,
            "max_height": null,
            "align_content": null,
            "visibility": null,
            "align_self": null,
            "height": null,
            "min_height": null,
            "padding": null,
            "grid_auto_rows": null,
            "grid_gap": null,
            "max_width": null,
            "order": null,
            "_view_module_version": "1.2.0",
            "grid_template_areas": null,
            "object_position": null,
            "object_fit": null,
            "grid_auto_columns": null,
            "margin": null,
            "display": null,
            "left": null
          }
        },
        "7d44ce0b3584406fb9176c9f5c830104": {
          "model_module": "@jupyter-widgets/controls",
          "model_name": "HTMLModel",
          "model_module_version": "1.5.0",
          "state": {
            "_view_name": "HTMLView",
            "style": "IPY_MODEL_ed12aff4c83542f7a244e346d1fef1ec",
            "_dom_classes": [],
            "description": "",
            "_model_name": "HTMLModel",
            "placeholder": "​",
            "_view_module": "@jupyter-widgets/controls",
            "_model_module_version": "1.5.0",
            "value": "Downloading: 100%",
            "_view_count": null,
            "_view_module_version": "1.5.0",
            "description_tooltip": null,
            "_model_module": "@jupyter-widgets/controls",
            "layout": "IPY_MODEL_5c755a9657b74644908ed643b81d306f"
          }
        },
        "0ce8ce1815f947e087b611c05331acad": {
          "model_module": "@jupyter-widgets/controls",
          "model_name": "FloatProgressModel",
          "model_module_version": "1.5.0",
          "state": {
            "_view_name": "ProgressView",
            "style": "IPY_MODEL_8e9e01ca882f4a7495cfc7b9e5e92051",
            "_dom_classes": [],
            "description": "",
            "_model_name": "FloatProgressModel",
            "bar_style": "success",
            "max": 212,
            "_view_module": "@jupyter-widgets/controls",
            "_model_module_version": "1.5.0",
            "value": 212,
            "_view_count": null,
            "_view_module_version": "1.5.0",
            "orientation": "horizontal",
            "min": 0,
            "description_tooltip": null,
            "_model_module": "@jupyter-widgets/controls",
            "layout": "IPY_MODEL_6e5492f8042649d4bcceb08f09c8b914"
          }
        },
        "334d7a23ce0240deb6ecba7dd5989955": {
          "model_module": "@jupyter-widgets/controls",
          "model_name": "HTMLModel",
          "model_module_version": "1.5.0",
          "state": {
            "_view_name": "HTMLView",
            "style": "IPY_MODEL_6ed22fbabf5a49adb664bad2badadb9d",
            "_dom_classes": [],
            "description": "",
            "_model_name": "HTMLModel",
            "placeholder": "​",
            "_view_module": "@jupyter-widgets/controls",
            "_model_module_version": "1.5.0",
            "value": " 212/212 [00:00&lt;00:00, 7.57kB/s]",
            "_view_count": null,
            "_view_module_version": "1.5.0",
            "description_tooltip": null,
            "_model_module": "@jupyter-widgets/controls",
            "layout": "IPY_MODEL_29c2c52b0c1346d0818e2914765aba33"
          }
        },
        "ed12aff4c83542f7a244e346d1fef1ec": {
          "model_module": "@jupyter-widgets/controls",
          "model_name": "DescriptionStyleModel",
          "model_module_version": "1.5.0",
          "state": {
            "_view_name": "StyleView",
            "_model_name": "DescriptionStyleModel",
            "description_width": "",
            "_view_module": "@jupyter-widgets/base",
            "_model_module_version": "1.5.0",
            "_view_count": null,
            "_view_module_version": "1.2.0",
            "_model_module": "@jupyter-widgets/controls"
          }
        },
        "5c755a9657b74644908ed643b81d306f": {
          "model_module": "@jupyter-widgets/base",
          "model_name": "LayoutModel",
          "model_module_version": "1.2.0",
          "state": {
            "_view_name": "LayoutView",
            "grid_template_rows": null,
            "right": null,
            "justify_content": null,
            "_view_module": "@jupyter-widgets/base",
            "overflow": null,
            "_model_module_version": "1.2.0",
            "_view_count": null,
            "flex_flow": null,
            "width": null,
            "min_width": null,
            "border": null,
            "align_items": null,
            "bottom": null,
            "_model_module": "@jupyter-widgets/base",
            "top": null,
            "grid_column": null,
            "overflow_y": null,
            "overflow_x": null,
            "grid_auto_flow": null,
            "grid_area": null,
            "grid_template_columns": null,
            "flex": null,
            "_model_name": "LayoutModel",
            "justify_items": null,
            "grid_row": null,
            "max_height": null,
            "align_content": null,
            "visibility": null,
            "align_self": null,
            "height": null,
            "min_height": null,
            "padding": null,
            "grid_auto_rows": null,
            "grid_gap": null,
            "max_width": null,
            "order": null,
            "_view_module_version": "1.2.0",
            "grid_template_areas": null,
            "object_position": null,
            "object_fit": null,
            "grid_auto_columns": null,
            "margin": null,
            "display": null,
            "left": null
          }
        },
        "8e9e01ca882f4a7495cfc7b9e5e92051": {
          "model_module": "@jupyter-widgets/controls",
          "model_name": "ProgressStyleModel",
          "model_module_version": "1.5.0",
          "state": {
            "_view_name": "StyleView",
            "_model_name": "ProgressStyleModel",
            "description_width": "",
            "_view_module": "@jupyter-widgets/base",
            "_model_module_version": "1.5.0",
            "_view_count": null,
            "_view_module_version": "1.2.0",
            "bar_color": null,
            "_model_module": "@jupyter-widgets/controls"
          }
        },
        "6e5492f8042649d4bcceb08f09c8b914": {
          "model_module": "@jupyter-widgets/base",
          "model_name": "LayoutModel",
          "model_module_version": "1.2.0",
          "state": {
            "_view_name": "LayoutView",
            "grid_template_rows": null,
            "right": null,
            "justify_content": null,
            "_view_module": "@jupyter-widgets/base",
            "overflow": null,
            "_model_module_version": "1.2.0",
            "_view_count": null,
            "flex_flow": null,
            "width": null,
            "min_width": null,
            "border": null,
            "align_items": null,
            "bottom": null,
            "_model_module": "@jupyter-widgets/base",
            "top": null,
            "grid_column": null,
            "overflow_y": null,
            "overflow_x": null,
            "grid_auto_flow": null,
            "grid_area": null,
            "grid_template_columns": null,
            "flex": null,
            "_model_name": "LayoutModel",
            "justify_items": null,
            "grid_row": null,
            "max_height": null,
            "align_content": null,
            "visibility": null,
            "align_self": null,
            "height": null,
            "min_height": null,
            "padding": null,
            "grid_auto_rows": null,
            "grid_gap": null,
            "max_width": null,
            "order": null,
            "_view_module_version": "1.2.0",
            "grid_template_areas": null,
            "object_position": null,
            "object_fit": null,
            "grid_auto_columns": null,
            "margin": null,
            "display": null,
            "left": null
          }
        },
        "6ed22fbabf5a49adb664bad2badadb9d": {
          "model_module": "@jupyter-widgets/controls",
          "model_name": "DescriptionStyleModel",
          "model_module_version": "1.5.0",
          "state": {
            "_view_name": "StyleView",
            "_model_name": "DescriptionStyleModel",
            "description_width": "",
            "_view_module": "@jupyter-widgets/base",
            "_model_module_version": "1.5.0",
            "_view_count": null,
            "_view_module_version": "1.2.0",
            "_model_module": "@jupyter-widgets/controls"
          }
        },
        "29c2c52b0c1346d0818e2914765aba33": {
          "model_module": "@jupyter-widgets/base",
          "model_name": "LayoutModel",
          "model_module_version": "1.2.0",
          "state": {
            "_view_name": "LayoutView",
            "grid_template_rows": null,
            "right": null,
            "justify_content": null,
            "_view_module": "@jupyter-widgets/base",
            "overflow": null,
            "_model_module_version": "1.2.0",
            "_view_count": null,
            "flex_flow": null,
            "width": null,
            "min_width": null,
            "border": null,
            "align_items": null,
            "bottom": null,
            "_model_module": "@jupyter-widgets/base",
            "top": null,
            "grid_column": null,
            "overflow_y": null,
            "overflow_x": null,
            "grid_auto_flow": null,
            "grid_area": null,
            "grid_template_columns": null,
            "flex": null,
            "_model_name": "LayoutModel",
            "justify_items": null,
            "grid_row": null,
            "max_height": null,
            "align_content": null,
            "visibility": null,
            "align_self": null,
            "height": null,
            "min_height": null,
            "padding": null,
            "grid_auto_rows": null,
            "grid_gap": null,
            "max_width": null,
            "order": null,
            "_view_module_version": "1.2.0",
            "grid_template_areas": null,
            "object_position": null,
            "object_fit": null,
            "grid_auto_columns": null,
            "margin": null,
            "display": null,
            "left": null
          }
        },
        "d9480140d24a4060b273cda99b1160f7": {
          "model_module": "@jupyter-widgets/controls",
          "model_name": "HBoxModel",
          "model_module_version": "1.5.0",
          "state": {
            "_view_name": "HBoxView",
            "_dom_classes": [],
            "_model_name": "HBoxModel",
            "_view_module": "@jupyter-widgets/controls",
            "_model_module_version": "1.5.0",
            "_view_count": null,
            "_view_module_version": "1.5.0",
            "box_style": "",
            "layout": "IPY_MODEL_e5764cf518fb430f9a5c91da18dcb63b",
            "_model_module": "@jupyter-widgets/controls",
            "children": [
              "IPY_MODEL_d3a6415d8e0240e7850ba1614e25e2f0",
              "IPY_MODEL_2650f3ad62ea40eb919fd4c9d41ba6f9",
              "IPY_MODEL_c780755676e741d2b5d8575997be4ef2"
            ]
          }
        },
        "e5764cf518fb430f9a5c91da18dcb63b": {
          "model_module": "@jupyter-widgets/base",
          "model_name": "LayoutModel",
          "model_module_version": "1.2.0",
          "state": {
            "_view_name": "LayoutView",
            "grid_template_rows": null,
            "right": null,
            "justify_content": null,
            "_view_module": "@jupyter-widgets/base",
            "overflow": null,
            "_model_module_version": "1.2.0",
            "_view_count": null,
            "flex_flow": null,
            "width": null,
            "min_width": null,
            "border": null,
            "align_items": null,
            "bottom": null,
            "_model_module": "@jupyter-widgets/base",
            "top": null,
            "grid_column": null,
            "overflow_y": null,
            "overflow_x": null,
            "grid_auto_flow": null,
            "grid_area": null,
            "grid_template_columns": null,
            "flex": null,
            "_model_name": "LayoutModel",
            "justify_items": null,
            "grid_row": null,
            "max_height": null,
            "align_content": null,
            "visibility": null,
            "align_self": null,
            "height": null,
            "min_height": null,
            "padding": null,
            "grid_auto_rows": null,
            "grid_gap": null,
            "max_width": null,
            "order": null,
            "_view_module_version": "1.2.0",
            "grid_template_areas": null,
            "object_position": null,
            "object_fit": null,
            "grid_auto_columns": null,
            "margin": null,
            "display": null,
            "left": null
          }
        },
        "d3a6415d8e0240e7850ba1614e25e2f0": {
          "model_module": "@jupyter-widgets/controls",
          "model_name": "HTMLModel",
          "model_module_version": "1.5.0",
          "state": {
            "_view_name": "HTMLView",
            "style": "IPY_MODEL_3040a09cd6d0443283506a54fbf53b10",
            "_dom_classes": [],
            "description": "",
            "_model_name": "HTMLModel",
            "placeholder": "​",
            "_view_module": "@jupyter-widgets/controls",
            "_model_module_version": "1.5.0",
            "value": "100%",
            "_view_count": null,
            "_view_module_version": "1.5.0",
            "description_tooltip": null,
            "_model_module": "@jupyter-widgets/controls",
            "layout": "IPY_MODEL_596b0736bfe146399964dfdf5c16cf2d"
          }
        },
        "2650f3ad62ea40eb919fd4c9d41ba6f9": {
          "model_module": "@jupyter-widgets/controls",
          "model_name": "FloatProgressModel",
          "model_module_version": "1.5.0",
          "state": {
            "_view_name": "ProgressView",
            "style": "IPY_MODEL_66b5f284585145e09141c2aca7af0bc5",
            "_dom_classes": [],
            "description": "",
            "_model_name": "FloatProgressModel",
            "bar_style": "success",
            "max": 3478,
            "_view_module": "@jupyter-widgets/controls",
            "_model_module_version": "1.5.0",
            "value": 3478,
            "_view_count": null,
            "_view_module_version": "1.5.0",
            "orientation": "horizontal",
            "min": 0,
            "description_tooltip": null,
            "_model_module": "@jupyter-widgets/controls",
            "layout": "IPY_MODEL_7aebd6ecf8654762850d9728a9dd8046"
          }
        },
        "c780755676e741d2b5d8575997be4ef2": {
          "model_module": "@jupyter-widgets/controls",
          "model_name": "HTMLModel",
          "model_module_version": "1.5.0",
          "state": {
            "_view_name": "HTMLView",
            "style": "IPY_MODEL_fec6d80d75ec46208459fa2e415a0541",
            "_dom_classes": [],
            "description": "",
            "_model_name": "HTMLModel",
            "placeholder": "​",
            "_view_module": "@jupyter-widgets/controls",
            "_model_module_version": "1.5.0",
            "value": " 3478/3478 [00:31&lt;00:00, 114.20ex/s]",
            "_view_count": null,
            "_view_module_version": "1.5.0",
            "description_tooltip": null,
            "_model_module": "@jupyter-widgets/controls",
            "layout": "IPY_MODEL_495cf2397b6443b6b7a227beccc8c6bb"
          }
        },
        "3040a09cd6d0443283506a54fbf53b10": {
          "model_module": "@jupyter-widgets/controls",
          "model_name": "DescriptionStyleModel",
          "model_module_version": "1.5.0",
          "state": {
            "_view_name": "StyleView",
            "_model_name": "DescriptionStyleModel",
            "description_width": "",
            "_view_module": "@jupyter-widgets/base",
            "_model_module_version": "1.5.0",
            "_view_count": null,
            "_view_module_version": "1.2.0",
            "_model_module": "@jupyter-widgets/controls"
          }
        },
        "596b0736bfe146399964dfdf5c16cf2d": {
          "model_module": "@jupyter-widgets/base",
          "model_name": "LayoutModel",
          "model_module_version": "1.2.0",
          "state": {
            "_view_name": "LayoutView",
            "grid_template_rows": null,
            "right": null,
            "justify_content": null,
            "_view_module": "@jupyter-widgets/base",
            "overflow": null,
            "_model_module_version": "1.2.0",
            "_view_count": null,
            "flex_flow": null,
            "width": null,
            "min_width": null,
            "border": null,
            "align_items": null,
            "bottom": null,
            "_model_module": "@jupyter-widgets/base",
            "top": null,
            "grid_column": null,
            "overflow_y": null,
            "overflow_x": null,
            "grid_auto_flow": null,
            "grid_area": null,
            "grid_template_columns": null,
            "flex": null,
            "_model_name": "LayoutModel",
            "justify_items": null,
            "grid_row": null,
            "max_height": null,
            "align_content": null,
            "visibility": null,
            "align_self": null,
            "height": null,
            "min_height": null,
            "padding": null,
            "grid_auto_rows": null,
            "grid_gap": null,
            "max_width": null,
            "order": null,
            "_view_module_version": "1.2.0",
            "grid_template_areas": null,
            "object_position": null,
            "object_fit": null,
            "grid_auto_columns": null,
            "margin": null,
            "display": null,
            "left": null
          }
        },
        "66b5f284585145e09141c2aca7af0bc5": {
          "model_module": "@jupyter-widgets/controls",
          "model_name": "ProgressStyleModel",
          "model_module_version": "1.5.0",
          "state": {
            "_view_name": "StyleView",
            "_model_name": "ProgressStyleModel",
            "description_width": "",
            "_view_module": "@jupyter-widgets/base",
            "_model_module_version": "1.5.0",
            "_view_count": null,
            "_view_module_version": "1.2.0",
            "bar_color": null,
            "_model_module": "@jupyter-widgets/controls"
          }
        },
        "7aebd6ecf8654762850d9728a9dd8046": {
          "model_module": "@jupyter-widgets/base",
          "model_name": "LayoutModel",
          "model_module_version": "1.2.0",
          "state": {
            "_view_name": "LayoutView",
            "grid_template_rows": null,
            "right": null,
            "justify_content": null,
            "_view_module": "@jupyter-widgets/base",
            "overflow": null,
            "_model_module_version": "1.2.0",
            "_view_count": null,
            "flex_flow": null,
            "width": null,
            "min_width": null,
            "border": null,
            "align_items": null,
            "bottom": null,
            "_model_module": "@jupyter-widgets/base",
            "top": null,
            "grid_column": null,
            "overflow_y": null,
            "overflow_x": null,
            "grid_auto_flow": null,
            "grid_area": null,
            "grid_template_columns": null,
            "flex": null,
            "_model_name": "LayoutModel",
            "justify_items": null,
            "grid_row": null,
            "max_height": null,
            "align_content": null,
            "visibility": null,
            "align_self": null,
            "height": null,
            "min_height": null,
            "padding": null,
            "grid_auto_rows": null,
            "grid_gap": null,
            "max_width": null,
            "order": null,
            "_view_module_version": "1.2.0",
            "grid_template_areas": null,
            "object_position": null,
            "object_fit": null,
            "grid_auto_columns": null,
            "margin": null,
            "display": null,
            "left": null
          }
        },
        "fec6d80d75ec46208459fa2e415a0541": {
          "model_module": "@jupyter-widgets/controls",
          "model_name": "DescriptionStyleModel",
          "model_module_version": "1.5.0",
          "state": {
            "_view_name": "StyleView",
            "_model_name": "DescriptionStyleModel",
            "description_width": "",
            "_view_module": "@jupyter-widgets/base",
            "_model_module_version": "1.5.0",
            "_view_count": null,
            "_view_module_version": "1.2.0",
            "_model_module": "@jupyter-widgets/controls"
          }
        },
        "495cf2397b6443b6b7a227beccc8c6bb": {
          "model_module": "@jupyter-widgets/base",
          "model_name": "LayoutModel",
          "model_module_version": "1.2.0",
          "state": {
            "_view_name": "LayoutView",
            "grid_template_rows": null,
            "right": null,
            "justify_content": null,
            "_view_module": "@jupyter-widgets/base",
            "overflow": null,
            "_model_module_version": "1.2.0",
            "_view_count": null,
            "flex_flow": null,
            "width": null,
            "min_width": null,
            "border": null,
            "align_items": null,
            "bottom": null,
            "_model_module": "@jupyter-widgets/base",
            "top": null,
            "grid_column": null,
            "overflow_y": null,
            "overflow_x": null,
            "grid_auto_flow": null,
            "grid_area": null,
            "grid_template_columns": null,
            "flex": null,
            "_model_name": "LayoutModel",
            "justify_items": null,
            "grid_row": null,
            "max_height": null,
            "align_content": null,
            "visibility": null,
            "align_self": null,
            "height": null,
            "min_height": null,
            "padding": null,
            "grid_auto_rows": null,
            "grid_gap": null,
            "max_width": null,
            "order": null,
            "_view_module_version": "1.2.0",
            "grid_template_areas": null,
            "object_position": null,
            "object_fit": null,
            "grid_auto_columns": null,
            "margin": null,
            "display": null,
            "left": null
          }
        },
        "af50c147a76a420481fc78aba1d44c3b": {
          "model_module": "@jupyter-widgets/controls",
          "model_name": "HBoxModel",
          "model_module_version": "1.5.0",
          "state": {
            "_view_name": "HBoxView",
            "_dom_classes": [],
            "_model_name": "HBoxModel",
            "_view_module": "@jupyter-widgets/controls",
            "_model_module_version": "1.5.0",
            "_view_count": null,
            "_view_module_version": "1.5.0",
            "box_style": "",
            "layout": "IPY_MODEL_532e74d04e8c4de798adf5d722023c45",
            "_model_module": "@jupyter-widgets/controls",
            "children": [
              "IPY_MODEL_6692eba4525c420887ca34e7cc432e4a",
              "IPY_MODEL_a86361aec5b14fab98653b9e8334b191",
              "IPY_MODEL_bb31ab59422b4cdc9242a15b5c417c17"
            ]
          }
        },
        "532e74d04e8c4de798adf5d722023c45": {
          "model_module": "@jupyter-widgets/base",
          "model_name": "LayoutModel",
          "model_module_version": "1.2.0",
          "state": {
            "_view_name": "LayoutView",
            "grid_template_rows": null,
            "right": null,
            "justify_content": null,
            "_view_module": "@jupyter-widgets/base",
            "overflow": null,
            "_model_module_version": "1.2.0",
            "_view_count": null,
            "flex_flow": null,
            "width": null,
            "min_width": null,
            "border": null,
            "align_items": null,
            "bottom": null,
            "_model_module": "@jupyter-widgets/base",
            "top": null,
            "grid_column": null,
            "overflow_y": null,
            "overflow_x": null,
            "grid_auto_flow": null,
            "grid_area": null,
            "grid_template_columns": null,
            "flex": null,
            "_model_name": "LayoutModel",
            "justify_items": null,
            "grid_row": null,
            "max_height": null,
            "align_content": null,
            "visibility": null,
            "align_self": null,
            "height": null,
            "min_height": null,
            "padding": null,
            "grid_auto_rows": null,
            "grid_gap": null,
            "max_width": null,
            "order": null,
            "_view_module_version": "1.2.0",
            "grid_template_areas": null,
            "object_position": null,
            "object_fit": null,
            "grid_auto_columns": null,
            "margin": null,
            "display": null,
            "left": null
          }
        },
        "6692eba4525c420887ca34e7cc432e4a": {
          "model_module": "@jupyter-widgets/controls",
          "model_name": "HTMLModel",
          "model_module_version": "1.5.0",
          "state": {
            "_view_name": "HTMLView",
            "style": "IPY_MODEL_762ebf8d5cc84d2d950f8be060a67dfc",
            "_dom_classes": [],
            "description": "",
            "_model_name": "HTMLModel",
            "placeholder": "​",
            "_view_module": "@jupyter-widgets/controls",
            "_model_module_version": "1.5.0",
            "value": "100%",
            "_view_count": null,
            "_view_module_version": "1.5.0",
            "description_tooltip": null,
            "_model_module": "@jupyter-widgets/controls",
            "layout": "IPY_MODEL_29794c9d3b8a4d0fafc067a32ee86906"
          }
        },
        "a86361aec5b14fab98653b9e8334b191": {
          "model_module": "@jupyter-widgets/controls",
          "model_name": "FloatProgressModel",
          "model_module_version": "1.5.0",
          "state": {
            "_view_name": "ProgressView",
            "style": "IPY_MODEL_c5641ede36c841998c5f6a824c4a90b0",
            "_dom_classes": [],
            "description": "",
            "_model_name": "FloatProgressModel",
            "bar_style": "success",
            "max": 1647,
            "_view_module": "@jupyter-widgets/controls",
            "_model_module_version": "1.5.0",
            "value": 1647,
            "_view_count": null,
            "_view_module_version": "1.5.0",
            "orientation": "horizontal",
            "min": 0,
            "description_tooltip": null,
            "_model_module": "@jupyter-widgets/controls",
            "layout": "IPY_MODEL_6a8bbe93d6d04f5c9f6ede7a9777ffa9"
          }
        },
        "bb31ab59422b4cdc9242a15b5c417c17": {
          "model_module": "@jupyter-widgets/controls",
          "model_name": "HTMLModel",
          "model_module_version": "1.5.0",
          "state": {
            "_view_name": "HTMLView",
            "style": "IPY_MODEL_61141d0990584d9cb4e2404698ac8303",
            "_dom_classes": [],
            "description": "",
            "_model_name": "HTMLModel",
            "placeholder": "​",
            "_view_module": "@jupyter-widgets/controls",
            "_model_module_version": "1.5.0",
            "value": " 1647/1647 [00:16&lt;00:00, 112.52ex/s]",
            "_view_count": null,
            "_view_module_version": "1.5.0",
            "description_tooltip": null,
            "_model_module": "@jupyter-widgets/controls",
            "layout": "IPY_MODEL_373dd6ea73e14e628ee749052af2f1dc"
          }
        },
        "762ebf8d5cc84d2d950f8be060a67dfc": {
          "model_module": "@jupyter-widgets/controls",
          "model_name": "DescriptionStyleModel",
          "model_module_version": "1.5.0",
          "state": {
            "_view_name": "StyleView",
            "_model_name": "DescriptionStyleModel",
            "description_width": "",
            "_view_module": "@jupyter-widgets/base",
            "_model_module_version": "1.5.0",
            "_view_count": null,
            "_view_module_version": "1.2.0",
            "_model_module": "@jupyter-widgets/controls"
          }
        },
        "29794c9d3b8a4d0fafc067a32ee86906": {
          "model_module": "@jupyter-widgets/base",
          "model_name": "LayoutModel",
          "model_module_version": "1.2.0",
          "state": {
            "_view_name": "LayoutView",
            "grid_template_rows": null,
            "right": null,
            "justify_content": null,
            "_view_module": "@jupyter-widgets/base",
            "overflow": null,
            "_model_module_version": "1.2.0",
            "_view_count": null,
            "flex_flow": null,
            "width": null,
            "min_width": null,
            "border": null,
            "align_items": null,
            "bottom": null,
            "_model_module": "@jupyter-widgets/base",
            "top": null,
            "grid_column": null,
            "overflow_y": null,
            "overflow_x": null,
            "grid_auto_flow": null,
            "grid_area": null,
            "grid_template_columns": null,
            "flex": null,
            "_model_name": "LayoutModel",
            "justify_items": null,
            "grid_row": null,
            "max_height": null,
            "align_content": null,
            "visibility": null,
            "align_self": null,
            "height": null,
            "min_height": null,
            "padding": null,
            "grid_auto_rows": null,
            "grid_gap": null,
            "max_width": null,
            "order": null,
            "_view_module_version": "1.2.0",
            "grid_template_areas": null,
            "object_position": null,
            "object_fit": null,
            "grid_auto_columns": null,
            "margin": null,
            "display": null,
            "left": null
          }
        },
        "c5641ede36c841998c5f6a824c4a90b0": {
          "model_module": "@jupyter-widgets/controls",
          "model_name": "ProgressStyleModel",
          "model_module_version": "1.5.0",
          "state": {
            "_view_name": "StyleView",
            "_model_name": "ProgressStyleModel",
            "description_width": "",
            "_view_module": "@jupyter-widgets/base",
            "_model_module_version": "1.5.0",
            "_view_count": null,
            "_view_module_version": "1.2.0",
            "bar_color": null,
            "_model_module": "@jupyter-widgets/controls"
          }
        },
        "6a8bbe93d6d04f5c9f6ede7a9777ffa9": {
          "model_module": "@jupyter-widgets/base",
          "model_name": "LayoutModel",
          "model_module_version": "1.2.0",
          "state": {
            "_view_name": "LayoutView",
            "grid_template_rows": null,
            "right": null,
            "justify_content": null,
            "_view_module": "@jupyter-widgets/base",
            "overflow": null,
            "_model_module_version": "1.2.0",
            "_view_count": null,
            "flex_flow": null,
            "width": null,
            "min_width": null,
            "border": null,
            "align_items": null,
            "bottom": null,
            "_model_module": "@jupyter-widgets/base",
            "top": null,
            "grid_column": null,
            "overflow_y": null,
            "overflow_x": null,
            "grid_auto_flow": null,
            "grid_area": null,
            "grid_template_columns": null,
            "flex": null,
            "_model_name": "LayoutModel",
            "justify_items": null,
            "grid_row": null,
            "max_height": null,
            "align_content": null,
            "visibility": null,
            "align_self": null,
            "height": null,
            "min_height": null,
            "padding": null,
            "grid_auto_rows": null,
            "grid_gap": null,
            "max_width": null,
            "order": null,
            "_view_module_version": "1.2.0",
            "grid_template_areas": null,
            "object_position": null,
            "object_fit": null,
            "grid_auto_columns": null,
            "margin": null,
            "display": null,
            "left": null
          }
        },
        "61141d0990584d9cb4e2404698ac8303": {
          "model_module": "@jupyter-widgets/controls",
          "model_name": "DescriptionStyleModel",
          "model_module_version": "1.5.0",
          "state": {
            "_view_name": "StyleView",
            "_model_name": "DescriptionStyleModel",
            "description_width": "",
            "_view_module": "@jupyter-widgets/base",
            "_model_module_version": "1.5.0",
            "_view_count": null,
            "_view_module_version": "1.2.0",
            "_model_module": "@jupyter-widgets/controls"
          }
        },
        "373dd6ea73e14e628ee749052af2f1dc": {
          "model_module": "@jupyter-widgets/base",
          "model_name": "LayoutModel",
          "model_module_version": "1.2.0",
          "state": {
            "_view_name": "LayoutView",
            "grid_template_rows": null,
            "right": null,
            "justify_content": null,
            "_view_module": "@jupyter-widgets/base",
            "overflow": null,
            "_model_module_version": "1.2.0",
            "_view_count": null,
            "flex_flow": null,
            "width": null,
            "min_width": null,
            "border": null,
            "align_items": null,
            "bottom": null,
            "_model_module": "@jupyter-widgets/base",
            "top": null,
            "grid_column": null,
            "overflow_y": null,
            "overflow_x": null,
            "grid_auto_flow": null,
            "grid_area": null,
            "grid_template_columns": null,
            "flex": null,
            "_model_name": "LayoutModel",
            "justify_items": null,
            "grid_row": null,
            "max_height": null,
            "align_content": null,
            "visibility": null,
            "align_self": null,
            "height": null,
            "min_height": null,
            "padding": null,
            "grid_auto_rows": null,
            "grid_gap": null,
            "max_width": null,
            "order": null,
            "_view_module_version": "1.2.0",
            "grid_template_areas": null,
            "object_position": null,
            "object_fit": null,
            "grid_auto_columns": null,
            "margin": null,
            "display": null,
            "left": null
          }
        },
        "d2e4dd1f92c0484684f7f1ba212bbf8a": {
          "model_module": "@jupyter-widgets/controls",
          "model_name": "HBoxModel",
          "model_module_version": "1.5.0",
          "state": {
            "_view_name": "HBoxView",
            "_dom_classes": [],
            "_model_name": "HBoxModel",
            "_view_module": "@jupyter-widgets/controls",
            "_model_module_version": "1.5.0",
            "_view_count": null,
            "_view_module_version": "1.5.0",
            "box_style": "",
            "layout": "IPY_MODEL_e219e8b8016c483bbf1a59b51d0f6d0a",
            "_model_module": "@jupyter-widgets/controls",
            "children": [
              "IPY_MODEL_6772056d2ee04f30a2e50e35de67a6a2",
              "IPY_MODEL_2a0bb92c7c1b465fb496d6a91f448b6b",
              "IPY_MODEL_5f87b9527faf4c17b1e8b978d98dd2bf"
            ]
          }
        },
        "e219e8b8016c483bbf1a59b51d0f6d0a": {
          "model_module": "@jupyter-widgets/base",
          "model_name": "LayoutModel",
          "model_module_version": "1.2.0",
          "state": {
            "_view_name": "LayoutView",
            "grid_template_rows": null,
            "right": null,
            "justify_content": null,
            "_view_module": "@jupyter-widgets/base",
            "overflow": null,
            "_model_module_version": "1.2.0",
            "_view_count": null,
            "flex_flow": null,
            "width": null,
            "min_width": null,
            "border": null,
            "align_items": null,
            "bottom": null,
            "_model_module": "@jupyter-widgets/base",
            "top": null,
            "grid_column": null,
            "overflow_y": null,
            "overflow_x": null,
            "grid_auto_flow": null,
            "grid_area": null,
            "grid_template_columns": null,
            "flex": null,
            "_model_name": "LayoutModel",
            "justify_items": null,
            "grid_row": null,
            "max_height": null,
            "align_content": null,
            "visibility": null,
            "align_self": null,
            "height": null,
            "min_height": null,
            "padding": null,
            "grid_auto_rows": null,
            "grid_gap": null,
            "max_width": null,
            "order": null,
            "_view_module_version": "1.2.0",
            "grid_template_areas": null,
            "object_position": null,
            "object_fit": null,
            "grid_auto_columns": null,
            "margin": null,
            "display": null,
            "left": null
          }
        },
        "6772056d2ee04f30a2e50e35de67a6a2": {
          "model_module": "@jupyter-widgets/controls",
          "model_name": "HTMLModel",
          "model_module_version": "1.5.0",
          "state": {
            "_view_name": "HTMLView",
            "style": "IPY_MODEL_2024a81af4ed4c0c8c2032cda424fe4f",
            "_dom_classes": [],
            "description": "",
            "_model_name": "HTMLModel",
            "placeholder": "​",
            "_view_module": "@jupyter-widgets/controls",
            "_model_module_version": "1.5.0",
            "value": "100%",
            "_view_count": null,
            "_view_module_version": "1.5.0",
            "description_tooltip": null,
            "_model_module": "@jupyter-widgets/controls",
            "layout": "IPY_MODEL_4f9416ff63b74e7bbeaaafcd097373c9"
          }
        },
        "2a0bb92c7c1b465fb496d6a91f448b6b": {
          "model_module": "@jupyter-widgets/controls",
          "model_name": "FloatProgressModel",
          "model_module_version": "1.5.0",
          "state": {
            "_view_name": "ProgressView",
            "style": "IPY_MODEL_b76aeefc0853455c802550a7cab991e8",
            "_dom_classes": [],
            "description": "",
            "_model_name": "FloatProgressModel",
            "bar_style": "success",
            "max": 4,
            "_view_module": "@jupyter-widgets/controls",
            "_model_module_version": "1.5.0",
            "value": 4,
            "_view_count": null,
            "_view_module_version": "1.5.0",
            "orientation": "horizontal",
            "min": 0,
            "description_tooltip": null,
            "_model_module": "@jupyter-widgets/controls",
            "layout": "IPY_MODEL_99955656f9ab49c9b3f1d2bfffcf7428"
          }
        },
        "5f87b9527faf4c17b1e8b978d98dd2bf": {
          "model_module": "@jupyter-widgets/controls",
          "model_name": "HTMLModel",
          "model_module_version": "1.5.0",
          "state": {
            "_view_name": "HTMLView",
            "style": "IPY_MODEL_4fb68e2ae82d463f95e41bf014fd0136",
            "_dom_classes": [],
            "description": "",
            "_model_name": "HTMLModel",
            "placeholder": "​",
            "_view_module": "@jupyter-widgets/controls",
            "_model_module_version": "1.5.0",
            "value": " 4/4 [00:00&lt;00:00, 129.71ba/s]",
            "_view_count": null,
            "_view_module_version": "1.5.0",
            "description_tooltip": null,
            "_model_module": "@jupyter-widgets/controls",
            "layout": "IPY_MODEL_cd6fea9089054b35b26786843200bd1e"
          }
        },
        "2024a81af4ed4c0c8c2032cda424fe4f": {
          "model_module": "@jupyter-widgets/controls",
          "model_name": "DescriptionStyleModel",
          "model_module_version": "1.5.0",
          "state": {
            "_view_name": "StyleView",
            "_model_name": "DescriptionStyleModel",
            "description_width": "",
            "_view_module": "@jupyter-widgets/base",
            "_model_module_version": "1.5.0",
            "_view_count": null,
            "_view_module_version": "1.2.0",
            "_model_module": "@jupyter-widgets/controls"
          }
        },
        "4f9416ff63b74e7bbeaaafcd097373c9": {
          "model_module": "@jupyter-widgets/base",
          "model_name": "LayoutModel",
          "model_module_version": "1.2.0",
          "state": {
            "_view_name": "LayoutView",
            "grid_template_rows": null,
            "right": null,
            "justify_content": null,
            "_view_module": "@jupyter-widgets/base",
            "overflow": null,
            "_model_module_version": "1.2.0",
            "_view_count": null,
            "flex_flow": null,
            "width": null,
            "min_width": null,
            "border": null,
            "align_items": null,
            "bottom": null,
            "_model_module": "@jupyter-widgets/base",
            "top": null,
            "grid_column": null,
            "overflow_y": null,
            "overflow_x": null,
            "grid_auto_flow": null,
            "grid_area": null,
            "grid_template_columns": null,
            "flex": null,
            "_model_name": "LayoutModel",
            "justify_items": null,
            "grid_row": null,
            "max_height": null,
            "align_content": null,
            "visibility": null,
            "align_self": null,
            "height": null,
            "min_height": null,
            "padding": null,
            "grid_auto_rows": null,
            "grid_gap": null,
            "max_width": null,
            "order": null,
            "_view_module_version": "1.2.0",
            "grid_template_areas": null,
            "object_position": null,
            "object_fit": null,
            "grid_auto_columns": null,
            "margin": null,
            "display": null,
            "left": null
          }
        },
        "b76aeefc0853455c802550a7cab991e8": {
          "model_module": "@jupyter-widgets/controls",
          "model_name": "ProgressStyleModel",
          "model_module_version": "1.5.0",
          "state": {
            "_view_name": "StyleView",
            "_model_name": "ProgressStyleModel",
            "description_width": "",
            "_view_module": "@jupyter-widgets/base",
            "_model_module_version": "1.5.0",
            "_view_count": null,
            "_view_module_version": "1.2.0",
            "bar_color": null,
            "_model_module": "@jupyter-widgets/controls"
          }
        },
        "99955656f9ab49c9b3f1d2bfffcf7428": {
          "model_module": "@jupyter-widgets/base",
          "model_name": "LayoutModel",
          "model_module_version": "1.2.0",
          "state": {
            "_view_name": "LayoutView",
            "grid_template_rows": null,
            "right": null,
            "justify_content": null,
            "_view_module": "@jupyter-widgets/base",
            "overflow": null,
            "_model_module_version": "1.2.0",
            "_view_count": null,
            "flex_flow": null,
            "width": null,
            "min_width": null,
            "border": null,
            "align_items": null,
            "bottom": null,
            "_model_module": "@jupyter-widgets/base",
            "top": null,
            "grid_column": null,
            "overflow_y": null,
            "overflow_x": null,
            "grid_auto_flow": null,
            "grid_area": null,
            "grid_template_columns": null,
            "flex": null,
            "_model_name": "LayoutModel",
            "justify_items": null,
            "grid_row": null,
            "max_height": null,
            "align_content": null,
            "visibility": null,
            "align_self": null,
            "height": null,
            "min_height": null,
            "padding": null,
            "grid_auto_rows": null,
            "grid_gap": null,
            "max_width": null,
            "order": null,
            "_view_module_version": "1.2.0",
            "grid_template_areas": null,
            "object_position": null,
            "object_fit": null,
            "grid_auto_columns": null,
            "margin": null,
            "display": null,
            "left": null
          }
        },
        "4fb68e2ae82d463f95e41bf014fd0136": {
          "model_module": "@jupyter-widgets/controls",
          "model_name": "DescriptionStyleModel",
          "model_module_version": "1.5.0",
          "state": {
            "_view_name": "StyleView",
            "_model_name": "DescriptionStyleModel",
            "description_width": "",
            "_view_module": "@jupyter-widgets/base",
            "_model_module_version": "1.5.0",
            "_view_count": null,
            "_view_module_version": "1.2.0",
            "_model_module": "@jupyter-widgets/controls"
          }
        },
        "cd6fea9089054b35b26786843200bd1e": {
          "model_module": "@jupyter-widgets/base",
          "model_name": "LayoutModel",
          "model_module_version": "1.2.0",
          "state": {
            "_view_name": "LayoutView",
            "grid_template_rows": null,
            "right": null,
            "justify_content": null,
            "_view_module": "@jupyter-widgets/base",
            "overflow": null,
            "_model_module_version": "1.2.0",
            "_view_count": null,
            "flex_flow": null,
            "width": null,
            "min_width": null,
            "border": null,
            "align_items": null,
            "bottom": null,
            "_model_module": "@jupyter-widgets/base",
            "top": null,
            "grid_column": null,
            "overflow_y": null,
            "overflow_x": null,
            "grid_auto_flow": null,
            "grid_area": null,
            "grid_template_columns": null,
            "flex": null,
            "_model_name": "LayoutModel",
            "justify_items": null,
            "grid_row": null,
            "max_height": null,
            "align_content": null,
            "visibility": null,
            "align_self": null,
            "height": null,
            "min_height": null,
            "padding": null,
            "grid_auto_rows": null,
            "grid_gap": null,
            "max_width": null,
            "order": null,
            "_view_module_version": "1.2.0",
            "grid_template_areas": null,
            "object_position": null,
            "object_fit": null,
            "grid_auto_columns": null,
            "margin": null,
            "display": null,
            "left": null
          }
        },
        "7fbf8468c1e245f9ac3d5260bd739113": {
          "model_module": "@jupyter-widgets/controls",
          "model_name": "HBoxModel",
          "model_module_version": "1.5.0",
          "state": {
            "_view_name": "HBoxView",
            "_dom_classes": [],
            "_model_name": "HBoxModel",
            "_view_module": "@jupyter-widgets/controls",
            "_model_module_version": "1.5.0",
            "_view_count": null,
            "_view_module_version": "1.5.0",
            "box_style": "",
            "layout": "IPY_MODEL_7977935b6a9341ff86bd3eec1ec6d491",
            "_model_module": "@jupyter-widgets/controls",
            "children": [
              "IPY_MODEL_e5129674dd4c4d519d11640160823b2d",
              "IPY_MODEL_14756588b7b94abc85a8570b52f0238b",
              "IPY_MODEL_130029a9ee024ef18b90daf850f8e60a"
            ]
          }
        },
        "7977935b6a9341ff86bd3eec1ec6d491": {
          "model_module": "@jupyter-widgets/base",
          "model_name": "LayoutModel",
          "model_module_version": "1.2.0",
          "state": {
            "_view_name": "LayoutView",
            "grid_template_rows": null,
            "right": null,
            "justify_content": null,
            "_view_module": "@jupyter-widgets/base",
            "overflow": null,
            "_model_module_version": "1.2.0",
            "_view_count": null,
            "flex_flow": null,
            "width": null,
            "min_width": null,
            "border": null,
            "align_items": null,
            "bottom": null,
            "_model_module": "@jupyter-widgets/base",
            "top": null,
            "grid_column": null,
            "overflow_y": null,
            "overflow_x": null,
            "grid_auto_flow": null,
            "grid_area": null,
            "grid_template_columns": null,
            "flex": null,
            "_model_name": "LayoutModel",
            "justify_items": null,
            "grid_row": null,
            "max_height": null,
            "align_content": null,
            "visibility": null,
            "align_self": null,
            "height": null,
            "min_height": null,
            "padding": null,
            "grid_auto_rows": null,
            "grid_gap": null,
            "max_width": null,
            "order": null,
            "_view_module_version": "1.2.0",
            "grid_template_areas": null,
            "object_position": null,
            "object_fit": null,
            "grid_auto_columns": null,
            "margin": null,
            "display": null,
            "left": null
          }
        },
        "e5129674dd4c4d519d11640160823b2d": {
          "model_module": "@jupyter-widgets/controls",
          "model_name": "HTMLModel",
          "model_module_version": "1.5.0",
          "state": {
            "_view_name": "HTMLView",
            "style": "IPY_MODEL_cd10b6c4cefc4fb681befbd2158cf1f0",
            "_dom_classes": [],
            "description": "",
            "_model_name": "HTMLModel",
            "placeholder": "​",
            "_view_module": "@jupyter-widgets/controls",
            "_model_module_version": "1.5.0",
            "value": "Downloading: ",
            "_view_count": null,
            "_view_module_version": "1.5.0",
            "description_tooltip": null,
            "_model_module": "@jupyter-widgets/controls",
            "layout": "IPY_MODEL_f6f682406e774f2fba0a8f7b254a8e06"
          }
        },
        "14756588b7b94abc85a8570b52f0238b": {
          "model_module": "@jupyter-widgets/controls",
          "model_name": "FloatProgressModel",
          "model_module_version": "1.5.0",
          "state": {
            "_view_name": "ProgressView",
            "style": "IPY_MODEL_ccf6a350ed9749b9a31bf854d08dcb54",
            "_dom_classes": [],
            "description": "",
            "_model_name": "FloatProgressModel",
            "bar_style": "success",
            "max": 1947,
            "_view_module": "@jupyter-widgets/controls",
            "_model_module_version": "1.5.0",
            "value": 1947,
            "_view_count": null,
            "_view_module_version": "1.5.0",
            "orientation": "horizontal",
            "min": 0,
            "description_tooltip": null,
            "_model_module": "@jupyter-widgets/controls",
            "layout": "IPY_MODEL_8d936cbaeab04cac8a8da7d4a4232f31"
          }
        },
        "130029a9ee024ef18b90daf850f8e60a": {
          "model_module": "@jupyter-widgets/controls",
          "model_name": "HTMLModel",
          "model_module_version": "1.5.0",
          "state": {
            "_view_name": "HTMLView",
            "style": "IPY_MODEL_73716752a867429bac45786b1ae002a1",
            "_dom_classes": [],
            "description": "",
            "_model_name": "HTMLModel",
            "placeholder": "​",
            "_view_module": "@jupyter-widgets/controls",
            "_model_module_version": "1.5.0",
            "value": " 4.55k/? [00:00&lt;00:00, 184kB/s]",
            "_view_count": null,
            "_view_module_version": "1.5.0",
            "description_tooltip": null,
            "_model_module": "@jupyter-widgets/controls",
            "layout": "IPY_MODEL_b8bbc01373b945979d2c1cadb7587d3c"
          }
        },
        "cd10b6c4cefc4fb681befbd2158cf1f0": {
          "model_module": "@jupyter-widgets/controls",
          "model_name": "DescriptionStyleModel",
          "model_module_version": "1.5.0",
          "state": {
            "_view_name": "StyleView",
            "_model_name": "DescriptionStyleModel",
            "description_width": "",
            "_view_module": "@jupyter-widgets/base",
            "_model_module_version": "1.5.0",
            "_view_count": null,
            "_view_module_version": "1.2.0",
            "_model_module": "@jupyter-widgets/controls"
          }
        },
        "f6f682406e774f2fba0a8f7b254a8e06": {
          "model_module": "@jupyter-widgets/base",
          "model_name": "LayoutModel",
          "model_module_version": "1.2.0",
          "state": {
            "_view_name": "LayoutView",
            "grid_template_rows": null,
            "right": null,
            "justify_content": null,
            "_view_module": "@jupyter-widgets/base",
            "overflow": null,
            "_model_module_version": "1.2.0",
            "_view_count": null,
            "flex_flow": null,
            "width": null,
            "min_width": null,
            "border": null,
            "align_items": null,
            "bottom": null,
            "_model_module": "@jupyter-widgets/base",
            "top": null,
            "grid_column": null,
            "overflow_y": null,
            "overflow_x": null,
            "grid_auto_flow": null,
            "grid_area": null,
            "grid_template_columns": null,
            "flex": null,
            "_model_name": "LayoutModel",
            "justify_items": null,
            "grid_row": null,
            "max_height": null,
            "align_content": null,
            "visibility": null,
            "align_self": null,
            "height": null,
            "min_height": null,
            "padding": null,
            "grid_auto_rows": null,
            "grid_gap": null,
            "max_width": null,
            "order": null,
            "_view_module_version": "1.2.0",
            "grid_template_areas": null,
            "object_position": null,
            "object_fit": null,
            "grid_auto_columns": null,
            "margin": null,
            "display": null,
            "left": null
          }
        },
        "ccf6a350ed9749b9a31bf854d08dcb54": {
          "model_module": "@jupyter-widgets/controls",
          "model_name": "ProgressStyleModel",
          "model_module_version": "1.5.0",
          "state": {
            "_view_name": "StyleView",
            "_model_name": "ProgressStyleModel",
            "description_width": "",
            "_view_module": "@jupyter-widgets/base",
            "_model_module_version": "1.5.0",
            "_view_count": null,
            "_view_module_version": "1.2.0",
            "bar_color": null,
            "_model_module": "@jupyter-widgets/controls"
          }
        },
        "8d936cbaeab04cac8a8da7d4a4232f31": {
          "model_module": "@jupyter-widgets/base",
          "model_name": "LayoutModel",
          "model_module_version": "1.2.0",
          "state": {
            "_view_name": "LayoutView",
            "grid_template_rows": null,
            "right": null,
            "justify_content": null,
            "_view_module": "@jupyter-widgets/base",
            "overflow": null,
            "_model_module_version": "1.2.0",
            "_view_count": null,
            "flex_flow": null,
            "width": null,
            "min_width": null,
            "border": null,
            "align_items": null,
            "bottom": null,
            "_model_module": "@jupyter-widgets/base",
            "top": null,
            "grid_column": null,
            "overflow_y": null,
            "overflow_x": null,
            "grid_auto_flow": null,
            "grid_area": null,
            "grid_template_columns": null,
            "flex": null,
            "_model_name": "LayoutModel",
            "justify_items": null,
            "grid_row": null,
            "max_height": null,
            "align_content": null,
            "visibility": null,
            "align_self": null,
            "height": null,
            "min_height": null,
            "padding": null,
            "grid_auto_rows": null,
            "grid_gap": null,
            "max_width": null,
            "order": null,
            "_view_module_version": "1.2.0",
            "grid_template_areas": null,
            "object_position": null,
            "object_fit": null,
            "grid_auto_columns": null,
            "margin": null,
            "display": null,
            "left": null
          }
        },
        "73716752a867429bac45786b1ae002a1": {
          "model_module": "@jupyter-widgets/controls",
          "model_name": "DescriptionStyleModel",
          "model_module_version": "1.5.0",
          "state": {
            "_view_name": "StyleView",
            "_model_name": "DescriptionStyleModel",
            "description_width": "",
            "_view_module": "@jupyter-widgets/base",
            "_model_module_version": "1.5.0",
            "_view_count": null,
            "_view_module_version": "1.2.0",
            "_model_module": "@jupyter-widgets/controls"
          }
        },
        "b8bbc01373b945979d2c1cadb7587d3c": {
          "model_module": "@jupyter-widgets/base",
          "model_name": "LayoutModel",
          "model_module_version": "1.2.0",
          "state": {
            "_view_name": "LayoutView",
            "grid_template_rows": null,
            "right": null,
            "justify_content": null,
            "_view_module": "@jupyter-widgets/base",
            "overflow": null,
            "_model_module_version": "1.2.0",
            "_view_count": null,
            "flex_flow": null,
            "width": null,
            "min_width": null,
            "border": null,
            "align_items": null,
            "bottom": null,
            "_model_module": "@jupyter-widgets/base",
            "top": null,
            "grid_column": null,
            "overflow_y": null,
            "overflow_x": null,
            "grid_auto_flow": null,
            "grid_area": null,
            "grid_template_columns": null,
            "flex": null,
            "_model_name": "LayoutModel",
            "justify_items": null,
            "grid_row": null,
            "max_height": null,
            "align_content": null,
            "visibility": null,
            "align_self": null,
            "height": null,
            "min_height": null,
            "padding": null,
            "grid_auto_rows": null,
            "grid_gap": null,
            "max_width": null,
            "order": null,
            "_view_module_version": "1.2.0",
            "grid_template_areas": null,
            "object_position": null,
            "object_fit": null,
            "grid_auto_columns": null,
            "margin": null,
            "display": null,
            "left": null
          }
        },
        "dfa54f48e96b4a93aa6ddac58e74d7a4": {
          "model_module": "@jupyter-widgets/controls",
          "model_name": "HBoxModel",
          "model_module_version": "1.5.0",
          "state": {
            "_view_name": "HBoxView",
            "_dom_classes": [],
            "_model_name": "HBoxModel",
            "_view_module": "@jupyter-widgets/controls",
            "_model_module_version": "1.5.0",
            "_view_count": null,
            "_view_module_version": "1.5.0",
            "box_style": "",
            "layout": "IPY_MODEL_e116538c49184d6b8915f30b7a0392a6",
            "_model_module": "@jupyter-widgets/controls",
            "children": [
              "IPY_MODEL_ab17d876a7f94a2c81994f339bb67e92",
              "IPY_MODEL_bea17c349160426282be26e0897e22aa",
              "IPY_MODEL_78144e4e0f3e411cbf7fb7d62d009411"
            ]
          }
        },
        "e116538c49184d6b8915f30b7a0392a6": {
          "model_module": "@jupyter-widgets/base",
          "model_name": "LayoutModel",
          "model_module_version": "1.2.0",
          "state": {
            "_view_name": "LayoutView",
            "grid_template_rows": null,
            "right": null,
            "justify_content": null,
            "_view_module": "@jupyter-widgets/base",
            "overflow": null,
            "_model_module_version": "1.2.0",
            "_view_count": null,
            "flex_flow": null,
            "width": null,
            "min_width": null,
            "border": null,
            "align_items": null,
            "bottom": null,
            "_model_module": "@jupyter-widgets/base",
            "top": null,
            "grid_column": null,
            "overflow_y": null,
            "overflow_x": null,
            "grid_auto_flow": null,
            "grid_area": null,
            "grid_template_columns": null,
            "flex": null,
            "_model_name": "LayoutModel",
            "justify_items": null,
            "grid_row": null,
            "max_height": null,
            "align_content": null,
            "visibility": null,
            "align_self": null,
            "height": null,
            "min_height": null,
            "padding": null,
            "grid_auto_rows": null,
            "grid_gap": null,
            "max_width": null,
            "order": null,
            "_view_module_version": "1.2.0",
            "grid_template_areas": null,
            "object_position": null,
            "object_fit": null,
            "grid_auto_columns": null,
            "margin": null,
            "display": null,
            "left": null
          }
        },
        "ab17d876a7f94a2c81994f339bb67e92": {
          "model_module": "@jupyter-widgets/controls",
          "model_name": "HTMLModel",
          "model_module_version": "1.5.0",
          "state": {
            "_view_name": "HTMLView",
            "style": "IPY_MODEL_1bf0d65a381e48c6bcdbcebb15d2c59c",
            "_dom_classes": [],
            "description": "",
            "_model_name": "HTMLModel",
            "placeholder": "​",
            "_view_module": "@jupyter-widgets/controls",
            "_model_module_version": "1.5.0",
            "value": "Downloading: 100%",
            "_view_count": null,
            "_view_module_version": "1.5.0",
            "description_tooltip": null,
            "_model_module": "@jupyter-widgets/controls",
            "layout": "IPY_MODEL_66fcd2b18fa848f6ae43d09825ba0007"
          }
        },
        "bea17c349160426282be26e0897e22aa": {
          "model_module": "@jupyter-widgets/controls",
          "model_name": "FloatProgressModel",
          "model_module_version": "1.5.0",
          "state": {
            "_view_name": "ProgressView",
            "style": "IPY_MODEL_715cf9b3411643a0a72c86a4e2ccf3bd",
            "_dom_classes": [],
            "description": "",
            "_model_name": "FloatProgressModel",
            "bar_style": "success",
            "max": 1269737156,
            "_view_module": "@jupyter-widgets/controls",
            "_model_module_version": "1.5.0",
            "value": 1269737156,
            "_view_count": null,
            "_view_module_version": "1.5.0",
            "orientation": "horizontal",
            "min": 0,
            "description_tooltip": null,
            "_model_module": "@jupyter-widgets/controls",
            "layout": "IPY_MODEL_02416034e6234ac0ad3c4232f88a99e1"
          }
        },
        "78144e4e0f3e411cbf7fb7d62d009411": {
          "model_module": "@jupyter-widgets/controls",
          "model_name": "HTMLModel",
          "model_module_version": "1.5.0",
          "state": {
            "_view_name": "HTMLView",
            "style": "IPY_MODEL_683474cc2c0f40b3a996723650e4ce77",
            "_dom_classes": [],
            "description": "",
            "_model_name": "HTMLModel",
            "placeholder": "​",
            "_view_module": "@jupyter-widgets/controls",
            "_model_module_version": "1.5.0",
            "value": " 1.18G/1.18G [00:59&lt;00:00, 22.6MB/s]",
            "_view_count": null,
            "_view_module_version": "1.5.0",
            "description_tooltip": null,
            "_model_module": "@jupyter-widgets/controls",
            "layout": "IPY_MODEL_f383e537549443fdabc79fc9ecd9ffbc"
          }
        },
        "1bf0d65a381e48c6bcdbcebb15d2c59c": {
          "model_module": "@jupyter-widgets/controls",
          "model_name": "DescriptionStyleModel",
          "model_module_version": "1.5.0",
          "state": {
            "_view_name": "StyleView",
            "_model_name": "DescriptionStyleModel",
            "description_width": "",
            "_view_module": "@jupyter-widgets/base",
            "_model_module_version": "1.5.0",
            "_view_count": null,
            "_view_module_version": "1.2.0",
            "_model_module": "@jupyter-widgets/controls"
          }
        },
        "66fcd2b18fa848f6ae43d09825ba0007": {
          "model_module": "@jupyter-widgets/base",
          "model_name": "LayoutModel",
          "model_module_version": "1.2.0",
          "state": {
            "_view_name": "LayoutView",
            "grid_template_rows": null,
            "right": null,
            "justify_content": null,
            "_view_module": "@jupyter-widgets/base",
            "overflow": null,
            "_model_module_version": "1.2.0",
            "_view_count": null,
            "flex_flow": null,
            "width": null,
            "min_width": null,
            "border": null,
            "align_items": null,
            "bottom": null,
            "_model_module": "@jupyter-widgets/base",
            "top": null,
            "grid_column": null,
            "overflow_y": null,
            "overflow_x": null,
            "grid_auto_flow": null,
            "grid_area": null,
            "grid_template_columns": null,
            "flex": null,
            "_model_name": "LayoutModel",
            "justify_items": null,
            "grid_row": null,
            "max_height": null,
            "align_content": null,
            "visibility": null,
            "align_self": null,
            "height": null,
            "min_height": null,
            "padding": null,
            "grid_auto_rows": null,
            "grid_gap": null,
            "max_width": null,
            "order": null,
            "_view_module_version": "1.2.0",
            "grid_template_areas": null,
            "object_position": null,
            "object_fit": null,
            "grid_auto_columns": null,
            "margin": null,
            "display": null,
            "left": null
          }
        },
        "715cf9b3411643a0a72c86a4e2ccf3bd": {
          "model_module": "@jupyter-widgets/controls",
          "model_name": "ProgressStyleModel",
          "model_module_version": "1.5.0",
          "state": {
            "_view_name": "StyleView",
            "_model_name": "ProgressStyleModel",
            "description_width": "",
            "_view_module": "@jupyter-widgets/base",
            "_model_module_version": "1.5.0",
            "_view_count": null,
            "_view_module_version": "1.2.0",
            "bar_color": null,
            "_model_module": "@jupyter-widgets/controls"
          }
        },
        "02416034e6234ac0ad3c4232f88a99e1": {
          "model_module": "@jupyter-widgets/base",
          "model_name": "LayoutModel",
          "model_module_version": "1.2.0",
          "state": {
            "_view_name": "LayoutView",
            "grid_template_rows": null,
            "right": null,
            "justify_content": null,
            "_view_module": "@jupyter-widgets/base",
            "overflow": null,
            "_model_module_version": "1.2.0",
            "_view_count": null,
            "flex_flow": null,
            "width": null,
            "min_width": null,
            "border": null,
            "align_items": null,
            "bottom": null,
            "_model_module": "@jupyter-widgets/base",
            "top": null,
            "grid_column": null,
            "overflow_y": null,
            "overflow_x": null,
            "grid_auto_flow": null,
            "grid_area": null,
            "grid_template_columns": null,
            "flex": null,
            "_model_name": "LayoutModel",
            "justify_items": null,
            "grid_row": null,
            "max_height": null,
            "align_content": null,
            "visibility": null,
            "align_self": null,
            "height": null,
            "min_height": null,
            "padding": null,
            "grid_auto_rows": null,
            "grid_gap": null,
            "max_width": null,
            "order": null,
            "_view_module_version": "1.2.0",
            "grid_template_areas": null,
            "object_position": null,
            "object_fit": null,
            "grid_auto_columns": null,
            "margin": null,
            "display": null,
            "left": null
          }
        },
        "683474cc2c0f40b3a996723650e4ce77": {
          "model_module": "@jupyter-widgets/controls",
          "model_name": "DescriptionStyleModel",
          "model_module_version": "1.5.0",
          "state": {
            "_view_name": "StyleView",
            "_model_name": "DescriptionStyleModel",
            "description_width": "",
            "_view_module": "@jupyter-widgets/base",
            "_model_module_version": "1.5.0",
            "_view_count": null,
            "_view_module_version": "1.2.0",
            "_model_module": "@jupyter-widgets/controls"
          }
        },
        "f383e537549443fdabc79fc9ecd9ffbc": {
          "model_module": "@jupyter-widgets/base",
          "model_name": "LayoutModel",
          "model_module_version": "1.2.0",
          "state": {
            "_view_name": "LayoutView",
            "grid_template_rows": null,
            "right": null,
            "justify_content": null,
            "_view_module": "@jupyter-widgets/base",
            "overflow": null,
            "_model_module_version": "1.2.0",
            "_view_count": null,
            "flex_flow": null,
            "width": null,
            "min_width": null,
            "border": null,
            "align_items": null,
            "bottom": null,
            "_model_module": "@jupyter-widgets/base",
            "top": null,
            "grid_column": null,
            "overflow_y": null,
            "overflow_x": null,
            "grid_auto_flow": null,
            "grid_area": null,
            "grid_template_columns": null,
            "flex": null,
            "_model_name": "LayoutModel",
            "justify_items": null,
            "grid_row": null,
            "max_height": null,
            "align_content": null,
            "visibility": null,
            "align_self": null,
            "height": null,
            "min_height": null,
            "padding": null,
            "grid_auto_rows": null,
            "grid_gap": null,
            "max_width": null,
            "order": null,
            "_view_module_version": "1.2.0",
            "grid_template_areas": null,
            "object_position": null,
            "object_fit": null,
            "grid_auto_columns": null,
            "margin": null,
            "display": null,
            "left": null
          }
        }
      }
    },
    "accelerator": "GPU"
  },
  "cells": [
    {
      "cell_type": "markdown",
      "metadata": {
        "id": "view-in-github",
        "colab_type": "text"
      },
      "source": [
        "<a href=\"https://colab.research.google.com/github/detasar/My-NLP-Colab-Notebooks/blob/main/Emre_Turkish_Fine_Tune_Multi_Lingual_Speech_Recognition_Model_with_%F0%9F%A4%97_Transformers_using_CTC.ipynb\" target=\"_parent\"><img src=\"https://colab.research.google.com/assets/colab-badge.svg\" alt=\"Open In Colab\"/></a>"
      ]
    },
    {
      "cell_type": "markdown",
      "metadata": {
        "id": "LBSYoWbi-45k"
      },
      "source": [
        "# **Fine-tuning Multi-Lingual Speech Model with 🤗 Transformers**"
      ]
    },
    {
      "cell_type": "markdown",
      "metadata": {
        "id": "nT_QrfWtsxIz"
      },
      "source": [
        "This notebook shows how to fine-tune multi-lingual pretrained speech models for Automatic Speech Recognition."
      ]
    },
    {
      "cell_type": "markdown",
      "metadata": {
        "id": "OK7AOAkwVOrx"
      },
      "source": [
        "This notebook is built to run on the [Common Voice dataset](https://huggingface.co/datasets/common_voice) with any multi-lingual speech model checkpoint from the [Model Hub](https://huggingface.co/models?language=multilingual&pipeline_tag=automatic-speech-recognition&sort=downloads) as long as that model has a version with a Connectionist Temporal Classification (CTC) head. Depending on the model and the GPU you are using, you might need to adjust the batch size to avoid out-of-memory errors. Set those two parameters, then the rest of the notebook should run smoothly:"
      ]
    },
    {
      "cell_type": "code",
      "metadata": {
        "id": "fw_GGnvwVjOl"
      },
      "source": [
        "model_checkpoint = \"facebook/wav2vec2-large-xlsr-53\"\n",
        "batch_size = 16"
      ],
      "execution_count": 1,
      "outputs": []
    },
    {
      "cell_type": "markdown",
      "metadata": {
        "id": "ZUUqzyKnVpvc"
      },
      "source": [
        "For a more in-detail explanation of how multi-lingual pretrained speech models function, please take a look at the [🤗 Blog](https://huggingface.co/blog/fine-tune-xlsr-wav2vec2)."
      ]
    },
    {
      "cell_type": "markdown",
      "metadata": {
        "id": "e335hPmdtASZ"
      },
      "source": [
        "Before we start, let's install both `datasets` and `transformers` from master. Also, we need the `torchaudio` and `librosa` package to load audio files and the `jiwer` to evaluate our fine-tuned model using the [word error rate (WER)](https://huggingface.co/metrics/wer) metric ${}^1$."
      ]
    },
    {
      "cell_type": "code",
      "metadata": {
        "id": "c8eh87Hoee5d"
      },
      "source": [
        "%%capture\n",
        "!pip install datasets==1.14\n",
        "!pip install transformers==4.11.3\n",
        "!pip install torchaudio\n",
        "!pip install librosa\n",
        "!pip install jiwer"
      ],
      "execution_count": 2,
      "outputs": []
    },
    {
      "cell_type": "markdown",
      "metadata": {
        "id": "0xxt_LwxDQlO"
      },
      "source": [
        "Next we strongly suggest to upload your training checkpoints directly to the [🤗 Hub](https://huggingface.co/) while training. The [🤗 Hub](https://huggingface.co/) has integrated version control so you can be sure that no model checkpoint is getting lost during training. \n",
        "\n",
        "To do so you have to store your authentication token from the Hugging Face website (sign up [here](https://huggingface.co/join) if you haven't already!)"
      ]
    },
    {
      "cell_type": "code",
      "metadata": {
        "colab": {
          "base_uri": "https://localhost:8080/",
          "height": 239,
          "referenced_widgets": [
            "23cb5b7023c344318808ce966bd4deef",
            "590b65ca9c174291a0b60a6b403f6991",
            "8ce5efc8fd754a4da8a9a70b1ea808ae",
            "a75667c468bc4584b9c34161f0b45644",
            "2d42187ad0ff454ebce969023dede989",
            "05e39fe92e104d3d8a38df5fdfe9f733",
            "cc583908c8784c4cbacc90066de7b751",
            "82063961b92a4af1b09e39b7b8a7ecd9",
            "1dd5a8c5327944de87e9c348b8a04ba6",
            "151a6dca64384c519ae42c609f74fc95",
            "98f6b975ee3446158a110ac17530f43b",
            "6b66f597790e4f918a7b869d47a766d8",
            "bcfab0197367460e966dcc7283650c52",
            "c1f3db74cd52478dae76f6e510f097f6",
            "88d6b1596a284fbc9f1cff768bf7161f",
            "1637e3c525ff4be490d45d6cdf0d157c"
          ]
        },
        "id": "mlMSH3T3EazV",
        "outputId": "38ebd1d3-2d69-4d5b-969c-798139e97f27"
      },
      "source": [
        "from huggingface_hub import notebook_login\n",
        "\n",
        "notebook_login()"
      ],
      "execution_count": 3,
      "outputs": [
        {
          "output_type": "stream",
          "name": "stdout",
          "text": [
            "Login successful\n",
            "Your token has been saved to /root/.huggingface/token\n",
            "\u001b[1m\u001b[31mAuthenticated through git-crendential store but this isn't the helper defined on your machine.\n",
            "You will have to re-authenticate when pushing to the Hugging Face Hub. Run the following command in your terminal to set it as the default\n",
            "\n",
            "git config --global credential.helper store\u001b[0m\n"
          ]
        }
      ]
    },
    {
      "cell_type": "markdown",
      "metadata": {
        "id": "ujdZ2TxhElk6"
      },
      "source": [
        "\n",
        "Then you need to install Git-LFS to upload your model checkpoints:"
      ]
    },
    {
      "cell_type": "code",
      "metadata": {
        "id": "WcR-d83OEkqb"
      },
      "source": [
        "%%capture\n",
        "!apt install git-lfs"
      ],
      "execution_count": 4,
      "outputs": []
    },
    {
      "cell_type": "markdown",
      "metadata": {
        "id": "Mn9swf6EQ9Vd"
      },
      "source": [
        "\n",
        "\n",
        "\n",
        "---\n",
        "\n",
        "${}^1$ In the [paper](https://arxiv.org/pdf/2006.13979.pdf), the model was evaluated using the phoneme error rate (PER), but by far the most common metric in ASR is the word error rate (WER). To keep this notebook as general as possible we decided to evaluate the model using WER."
      ]
    },
    {
      "cell_type": "markdown",
      "metadata": {
        "id": "0mW-C1Nt-j7k"
      },
      "source": [
        "## Prepare Data, Tokenizer, Feature Extractor"
      ]
    },
    {
      "cell_type": "markdown",
      "metadata": {
        "id": "BeBosnY9BH3e"
      },
      "source": [
        "ASR models transcribe speech to text, which means that we both need a feature extractor that processes the speech signal to the model's input format, *e.g.* a feature vector, and a tokenizer that processes the model's output format to text. \n",
        "\n",
        "In 🤗 Transformers, speech recognition models are thus accompanied by both a tokenizer, and a feature extractor.\n",
        "\n",
        "Let's start by creating the tokenizer responsible for decoding the model's predictions."
      ]
    },
    {
      "cell_type": "markdown",
      "metadata": {
        "id": "sEXEWEJGQPqD"
      },
      "source": [
        "### Create Tokenizer for Speech Recognition"
      ]
    },
    {
      "cell_type": "markdown",
      "metadata": {
        "id": "idBczw8mWzgt"
      },
      "source": [
        "First, let's go to [Common Voice](https://commonvoice.mozilla.org/en/datasets) and pick a language to fine-tune XLSR-Wav2Vec2 on. For this notebook, we will use Turkish. \n",
        "\n",
        "For each language-specific dataset, you can find a language code corresponding to your chosen language. On [Common Voice](https://commonvoice.mozilla.org/en/datasets), look for the field \"Version\". The language code then corresponds to the prefix before the underscore. For Turkish, *e.g.* the language code is `\"tr\"`.\n",
        "\n",
        "Great, now we can use 🤗 Datasets' simple API to download the data. The dataset name will be `\"common_voice\"`, the config name corresponds to the language code - `\"tr\"` in our case."
      ]
    },
    {
      "cell_type": "markdown",
      "metadata": {
        "id": "bee4g9rpLxll"
      },
      "source": [
        "Common Voice has many different splits including `invalidated`, which refers to data that was not rated as \"clean enough\" to be considered useful. In this notebook, we will only make use of the splits `\"train\"`, `\"validation\"` and `\"test\"`. \n",
        "\n",
        "Because the Turkish dataset is so small, we will merge both the validation and training data into a training dataset and simply use the test data for validation."
      ]
    },
    {
      "cell_type": "code",
      "metadata": {
        "id": "2MMXcWFFgCXU",
        "colab": {
          "base_uri": "https://localhost:8080/",
          "height": 185,
          "referenced_widgets": [
            "e76ba95271ad4c36ade114e4eaaf0a37",
            "3a12ce778aa048e78516531cb4a9d9ec",
            "9a02468e0ab24cc2bdd90dc4cc5b8cc5",
            "7be2f1b309db4feb9ec4abce11426750",
            "7bd6aa5eaf2346aca344b16d0d75f89e",
            "4c9f75e9ed774f29891fcaa077012576",
            "34cc82f9a3b24311b440bdeb605ad1a4",
            "eabde6d6e97442b9aaae514f03cb0770",
            "9a81bf2e87db4e6396348d8ea9a7356b",
            "b11831fdc74a436ca36c3b8342a5a284",
            "798b8c0070454315a027cabb71746236",
            "178330e6da26462e80521fdca42a88d2",
            "57a67e3dc3ad41c3b2a6ed6c66d9c7f3",
            "5fd7ab5923264501979e2795faad1166",
            "309299ee084c4d81a484b992d2feef46",
            "6ba4d11dc86a430287063b804ed5dede",
            "a0c28a0ad2c442e8bf62313ca06cc945",
            "ebac481054b2464cb11ad704d77f3fee",
            "bcbab8c8ba1547988cc84ab98009b0fb",
            "59d252ddd0904280a413acaa14d547be",
            "7742193e08de4c10ad24b8e2c23ff9fe",
            "35100a0bb7144d228e4da51796dc7cc9",
            "3b228e92778a4b4d910284183efbe109",
            "325665a47677443d879bc637cbf02010",
            "9bf5ac30afdb43359e6d1effa8e8bc6a",
            "1b8eb3b601ab4e64aa4f74989640e7c5",
            "b54a032ad3e8406fa04b3206d9a34d73",
            "dbf206e6192d4da99add213a98527aef",
            "c8328bae94b945ffb9a24bddc04fbdc6",
            "803ed7e9dc854b8c8ecdcbc9d5fe9308",
            "80a050061499430983ea5b8329c2a1ea",
            "36ccaaba84cc48a4926a239ea93c7ca4",
            "d3ecdbba64344a4b9b377dfa3c0df639",
            "221e46dd63984cb085487274c787f3e4",
            "a7a06655295148c085932eb3d086f0b7",
            "38c0b5f5454c47c89cdaabc733a3a4aa",
            "6f6b972d130f4ecbabfa6446ca9e0d76",
            "871952e09526462ea467b162d62aa3b0",
            "d5a75c64f8134be8a5209cb369b5352a",
            "20e71306851146cf931628806f712802",
            "02ecd1fc7c4243ef806c7e17fdf2ea6f",
            "b4013a7ef11a401094d462742f9147a3",
            "691fe4811c7d4a1cb6d5ddd6241e3e36",
            "b22ba4fbf0ae4f858f97c046ec4585b9",
            "89e3e29cabae499b8cdcbdc9547ba416",
            "adc774dd22c2465cab09e6e511abfc54",
            "f5dc1fc9bcfa47a987e99cb42afdb440",
            "7fd66b9ffb614d9c850d89bfb9a54151",
            "d25768cbc2c14bbe80abc31c81605e75",
            "df0ef0e7ed3341e0ad30730fde51970e",
            "e1b9f7f377234635b3bad26a501d58c4",
            "31e553f29e004588aec199e8e1f340ef",
            "d8b5ddd3a2bc4f3b80bb4124de926e65",
            "f7c91098d1a94336a5630a83af236f09",
            "c60dc756c5cc48b59e51344b68b5ba23",
            "c7e2c2a3d1be42ca819736296078c3e1",
            "f74bae6c55e645a7a641b61b86059483",
            "ee6c6b3fd99445a5bec1b92d80606cdd",
            "3ebdb835ccd64616bcf5fcec3953ab54",
            "031d3d6bf70f42aba96485bab4cafbff",
            "c3b888af57d74139b109a459eb107686",
            "d4c10f0c478448ea8797b6c208419311",
            "e21923963683448bbc300058bf1c8621",
            "ab7a0ab95bde48c0a5d8cc313dd58791",
            "ac401255723f4dd3b657e19fb309bcaa",
            "d74569908d854f83a3287e7507d45692",
            "5968e7014bdf49279b670b5449e9428f",
            "c69e1dee34bc492bb3d07d171c925c68",
            "5922d6229c6740458f6062ea4c8c4f9c",
            "f0158513d94e411684bcbb65aca90e11",
            "9cba87019ca04eb4b1c157b3311f0b8a",
            "6126a40e95054354bf5b1fb87eeeb0c3",
            "11c3abbd354249aa8786b108013291f8",
            "140c19fc72fe4184a1a164e746e9b0dc",
            "817c694399b9421ca19ca5cda8c0eeae",
            "b80c85c0a9134d37b914ee26ebb71301",
            "b0efc3b8ea5a45c698f02d73bca30ef0",
            "5cc97c95f4f344dca742d359baa07bf8",
            "a33b4d1141764c5db3f8df6af9c80c60",
            "3314803003144308ad111b4957009d93",
            "9e1e201c70bc424eb515213513329a40",
            "699e6af0adc041eb89164e41bd41d9a0",
            "ab843dd3363748caaf179a3cd2efa8d3",
            "b8a8805ecb4b43b19970619b6cfbcf7a",
            "57f7f222dd284649826c864304ee9908",
            "3691778b36454410b0c2ff3067cc1553",
            "dcbb9e8ab6bb4b8985fa1a052a70f842",
            "5f8b91119e724b56b0b50598019e0180"
          ]
        },
        "outputId": "70ff517f-06d8-42aa-a508-1368ee6ab890"
      },
      "source": [
        "from datasets import load_dataset, load_metric, Audio\n",
        "\n",
        "common_voice_train = load_dataset(\"common_voice\", \"tr\", split=\"train+validation\")\n",
        "common_voice_test = load_dataset(\"common_voice\", \"tr\", split=\"test\")"
      ],
      "execution_count": 5,
      "outputs": [
        {
          "output_type": "display_data",
          "data": {
            "application/vnd.jupyter.widget-view+json": {
              "model_id": "e76ba95271ad4c36ade114e4eaaf0a37",
              "version_minor": 0,
              "version_major": 2
            },
            "text/plain": [
              "Downloading:   0%|          | 0.00/4.44k [00:00<?, ?B/s]"
            ]
          },
          "metadata": {}
        },
        {
          "output_type": "display_data",
          "data": {
            "application/vnd.jupyter.widget-view+json": {
              "model_id": "178330e6da26462e80521fdca42a88d2",
              "version_minor": 0,
              "version_major": 2
            },
            "text/plain": [
              "Downloading:   0%|          | 0.00/10.2k [00:00<?, ?B/s]"
            ]
          },
          "metadata": {}
        },
        {
          "output_type": "stream",
          "name": "stdout",
          "text": [
            "Downloading and preparing dataset common_voice/tr (download: 592.09 MiB, generated: 2.89 MiB, post-processed: Unknown size, total: 594.98 MiB) to /root/.cache/huggingface/datasets/common_voice/tr/6.1.0/f7a9d973839b7706e9e281c19b7e512f31badf3c0fdbd21c671f3c4bf9acf3b9...\n"
          ]
        },
        {
          "output_type": "display_data",
          "data": {
            "application/vnd.jupyter.widget-view+json": {
              "model_id": "3b228e92778a4b4d910284183efbe109",
              "version_minor": 0,
              "version_major": 2
            },
            "text/plain": [
              "Downloading:   0%|          | 0.00/621M [00:00<?, ?B/s]"
            ]
          },
          "metadata": {}
        },
        {
          "output_type": "display_data",
          "data": {
            "application/vnd.jupyter.widget-view+json": {
              "model_id": "221e46dd63984cb085487274c787f3e4",
              "version_minor": 0,
              "version_major": 2
            },
            "text/plain": [
              "0 examples [00:00, ? examples/s]"
            ]
          },
          "metadata": {}
        },
        {
          "output_type": "display_data",
          "data": {
            "application/vnd.jupyter.widget-view+json": {
              "model_id": "89e3e29cabae499b8cdcbdc9547ba416",
              "version_minor": 0,
              "version_major": 2
            },
            "text/plain": [
              "0 examples [00:00, ? examples/s]"
            ]
          },
          "metadata": {}
        },
        {
          "output_type": "display_data",
          "data": {
            "application/vnd.jupyter.widget-view+json": {
              "model_id": "c7e2c2a3d1be42ca819736296078c3e1",
              "version_minor": 0,
              "version_major": 2
            },
            "text/plain": [
              "0 examples [00:00, ? examples/s]"
            ]
          },
          "metadata": {}
        },
        {
          "output_type": "display_data",
          "data": {
            "application/vnd.jupyter.widget-view+json": {
              "model_id": "5968e7014bdf49279b670b5449e9428f",
              "version_minor": 0,
              "version_major": 2
            },
            "text/plain": [
              "0 examples [00:00, ? examples/s]"
            ]
          },
          "metadata": {}
        },
        {
          "output_type": "display_data",
          "data": {
            "application/vnd.jupyter.widget-view+json": {
              "model_id": "5cc97c95f4f344dca742d359baa07bf8",
              "version_minor": 0,
              "version_major": 2
            },
            "text/plain": [
              "0 examples [00:00, ? examples/s]"
            ]
          },
          "metadata": {}
        },
        {
          "output_type": "stream",
          "name": "stdout",
          "text": [
            "Dataset common_voice downloaded and prepared to /root/.cache/huggingface/datasets/common_voice/tr/6.1.0/f7a9d973839b7706e9e281c19b7e512f31badf3c0fdbd21c671f3c4bf9acf3b9. Subsequent calls will reuse this data.\n"
          ]
        },
        {
          "output_type": "stream",
          "name": "stderr",
          "text": [
            "Reusing dataset common_voice (/root/.cache/huggingface/datasets/common_voice/tr/6.1.0/f7a9d973839b7706e9e281c19b7e512f31badf3c0fdbd21c671f3c4bf9acf3b9)\n"
          ]
        }
      ]
    },
    {
      "cell_type": "markdown",
      "metadata": {
        "id": "ri5y5N_HMANq"
      },
      "source": [
        "Many ASR datasets only provide the target text, `'sentence'` for each audio array `'audio'` and file `'path'`. Common Voice actually provides much more information about each audio file, such as the `'accent'`, etc. However, we want to keep the notebook as general as possible, so that we will only consider the transcribed text for fine-tuning.\n",
        "\n"
      ]
    },
    {
      "cell_type": "code",
      "metadata": {
        "id": "kbyq6lDgQc2a"
      },
      "source": [
        "common_voice_train = common_voice_train.remove_columns([\"accent\", \"age\", \"client_id\", \"down_votes\", \"gender\", \"locale\", \"segment\", \"up_votes\"])\n",
        "common_voice_test = common_voice_test.remove_columns([\"accent\", \"age\", \"client_id\", \"down_votes\", \"gender\", \"locale\", \"segment\", \"up_votes\"])"
      ],
      "execution_count": 6,
      "outputs": []
    },
    {
      "cell_type": "markdown",
      "metadata": {
        "id": "Go9Hq4e4NDT9"
      },
      "source": [
        "Let's write a short function to display some random samples of the dataset and run it a couple of times to get a feeling for the transcriptions."
      ]
    },
    {
      "cell_type": "code",
      "metadata": {
        "id": "72737oog2F6U"
      },
      "source": [
        "from datasets import ClassLabel\n",
        "import random\n",
        "import pandas as pd\n",
        "from IPython.display import display, HTML\n",
        "\n",
        "def show_random_elements(dataset, num_examples=10):\n",
        "    assert num_examples <= len(dataset), \"Can't pick more elements than there are in the dataset.\"\n",
        "    picks = []\n",
        "    for _ in range(num_examples):\n",
        "        pick = random.randint(0, len(dataset)-1)\n",
        "        while pick in picks:\n",
        "            pick = random.randint(0, len(dataset)-1)\n",
        "        picks.append(pick)\n",
        "    \n",
        "    df = pd.DataFrame(dataset[picks])\n",
        "    display(HTML(df.to_html()))"
      ],
      "execution_count": 7,
      "outputs": []
    },
    {
      "cell_type": "code",
      "metadata": {
        "colab": {
          "base_uri": "https://localhost:8080/",
          "height": 363
        },
        "id": "K_JUmf3G3b9S",
        "outputId": "340ecd7a-d0b0-4c12-de06-67b61f3cb3b7"
      },
      "source": [
        "show_random_elements(common_voice_train.remove_columns([\"path\", \"audio\"]), num_examples=10)"
      ],
      "execution_count": 8,
      "outputs": [
        {
          "output_type": "display_data",
          "data": {
            "text/html": [
              "<table border=\"1\" class=\"dataframe\">\n",
              "  <thead>\n",
              "    <tr style=\"text-align: right;\">\n",
              "      <th></th>\n",
              "      <th>sentence</th>\n",
              "    </tr>\n",
              "  </thead>\n",
              "  <tbody>\n",
              "    <tr>\n",
              "      <th>0</th>\n",
              "      <td>Ve sonumuz geçmişteki gibi olacak.</td>\n",
              "    </tr>\n",
              "    <tr>\n",
              "      <th>1</th>\n",
              "      <td>Asıl geçişse Aralık bin dokuz yüz doksan yedide gerçekleşti.</td>\n",
              "    </tr>\n",
              "    <tr>\n",
              "      <th>2</th>\n",
              "      <td>İş dışında da kendini sürekli meşgul ediyor.</td>\n",
              "    </tr>\n",
              "    <tr>\n",
              "      <th>3</th>\n",
              "      <td>Ancak sokakta görüşler farklı.</td>\n",
              "    </tr>\n",
              "    <tr>\n",
              "      <th>4</th>\n",
              "      <td>\"Konser tarihi on beş Aralık'ta belirlenecek.\"</td>\n",
              "    </tr>\n",
              "    <tr>\n",
              "      <th>5</th>\n",
              "      <td>\"Yazar, böyle bir zihniyetle \"\"aldığımız madalyalar bile büyük ikramiye!\"\" diyor.\"</td>\n",
              "    </tr>\n",
              "    <tr>\n",
              "      <th>6</th>\n",
              "      <td>Gemi seyahati düzenleyen şirketlerin, yeterli rıhtımı bile olmayan bir yeri niçin tercih etsin?</td>\n",
              "    </tr>\n",
              "    <tr>\n",
              "      <th>7</th>\n",
              "      <td>Pek çok çiftlik rekabet edemediği için kapandı.</td>\n",
              "    </tr>\n",
              "    <tr>\n",
              "      <th>8</th>\n",
              "      <td>Durres turizm sektörü için de önemli.</td>\n",
              "    </tr>\n",
              "    <tr>\n",
              "      <th>9</th>\n",
              "      <td>Yurtdışında da bin sekiz yüz altı seçmen bulunuyor.</td>\n",
              "    </tr>\n",
              "  </tbody>\n",
              "</table>"
            ],
            "text/plain": [
              "<IPython.core.display.HTML object>"
            ]
          },
          "metadata": {}
        }
      ]
    },
    {
      "cell_type": "markdown",
      "metadata": {
        "id": "fowcOllGNNju"
      },
      "source": [
        "Alright! The transcriptions look fairly clean. Having translated the transcribed sentences, it seems that the language corresponds more to written-out text than noisy dialogue. This makes sense considering that [Common Voice](https://huggingface.co/datasets/common_voice) is a crowd-sourced read speech corpus."
      ]
    },
    {
      "cell_type": "markdown",
      "metadata": {
        "id": "vq7OR50LN49m"
      },
      "source": [
        "We can see that the transcriptions contain some special characters, such as `,.?!;:`. Without a language model, it is much harder to classify speech chunks to such special characters because they don't really correspond to a characteristic sound unit. *E.g.*, the letter `\"s\"` has a more or less clear sound, whereas the special character `\".\"` does not.\n",
        "Also in order to understand the meaning of a speech signal, it is usually not necessary to include special characters in the transcription.\n",
        "\n",
        "In addition, we normalize the text to only have lower case letters and append a word separator token at the end."
      ]
    },
    {
      "cell_type": "code",
      "metadata": {
        "id": "svKzVJ_hQGK6"
      },
      "source": [
        "import re\n",
        "chars_to_ignore_regex = '[\\,\\?\\.\\!\\-\\;\\:\\\"\\“\\%\\‘\\”\\�]'\n",
        "\n",
        "def remove_special_characters(batch):\n",
        "    batch[\"sentence\"] = re.sub(chars_to_ignore_regex, '', batch[\"sentence\"]).lower() + \" \"\n",
        "    return batch"
      ],
      "execution_count": 9,
      "outputs": []
    },
    {
      "cell_type": "code",
      "metadata": {
        "colab": {
          "base_uri": "https://localhost:8080/",
          "height": 81,
          "referenced_widgets": [
            "a61098201c2445a5bb78692e28fdfeb8",
            "79bec8009ed743629b9cde2c813cb453",
            "0d0fddcb6bc74ee48cdb55f8eb24196b",
            "988b7bb508bb41509283702a03b58e97",
            "5c677143e98a4924b4c2cf01ca201bc8",
            "87672f6275b64e81abaa9376a0af2496",
            "b5604dfa6d81459b91428bc1011250d6",
            "ccb356a1fed6402eb158c353210ac672",
            "cc917d1ea2714b3789fe1f0e76941b18",
            "b43baaec32f946ddbb7ecef66f942457",
            "fdde3ee5bd644622b84397bd91d3c6f6",
            "bd9179a7c4294462b8ac2ad831c18ad8",
            "0b52b370b6a741f4ab28ed7f05f87079",
            "b57d7e93a25041d09d6be75efad18de3",
            "bae59f712f9a4c779a96d17e8e918bf5",
            "50b90a1df790488a8433557889af09c1",
            "e543cc580e0c4c71a8059ccd366078ff",
            "314e8b55d85b40beae4fd88b257b4feb",
            "1fa12a93e7ae4357ae11f8f7cb25d956",
            "ae415bf85b28427d9849fc609c8852b0",
            "11bd7c860af9468f8724092d13ae3cea",
            "611ca0780e434c34a2d240071a4255d0"
          ]
        },
        "id": "XIHocAuTQbBR",
        "outputId": "3372fb61-31c0-41f9-9ac3-4a84034af459"
      },
      "source": [
        "common_voice_train = common_voice_train.map(remove_special_characters)\n",
        "common_voice_test = common_voice_test.map(remove_special_characters)"
      ],
      "execution_count": 10,
      "outputs": [
        {
          "output_type": "display_data",
          "data": {
            "application/vnd.jupyter.widget-view+json": {
              "model_id": "a61098201c2445a5bb78692e28fdfeb8",
              "version_minor": 0,
              "version_major": 2
            },
            "text/plain": [
              "  0%|          | 0/3478 [00:00<?, ?ex/s]"
            ]
          },
          "metadata": {}
        },
        {
          "output_type": "display_data",
          "data": {
            "application/vnd.jupyter.widget-view+json": {
              "model_id": "bd9179a7c4294462b8ac2ad831c18ad8",
              "version_minor": 0,
              "version_major": 2
            },
            "text/plain": [
              "  0%|          | 0/1647 [00:00<?, ?ex/s]"
            ]
          },
          "metadata": {}
        }
      ]
    },
    {
      "cell_type": "code",
      "metadata": {
        "colab": {
          "base_uri": "https://localhost:8080/",
          "height": 363
        },
        "id": "RBDRAAYxRE6n",
        "outputId": "930087f4-8076-48e4-eddc-743a4a66b57b"
      },
      "source": [
        "show_random_elements(common_voice_train.remove_columns([\"path\",\"audio\"]))"
      ],
      "execution_count": 11,
      "outputs": [
        {
          "output_type": "display_data",
          "data": {
            "text/html": [
              "<table border=\"1\" class=\"dataframe\">\n",
              "  <thead>\n",
              "    <tr style=\"text-align: right;\">\n",
              "      <th></th>\n",
              "      <th>sentence</th>\n",
              "    </tr>\n",
              "  </thead>\n",
              "  <tbody>\n",
              "    <tr>\n",
              "      <th>0</th>\n",
              "      <td>muhalefet potansiyel seçim kaosu hakkında uyardı</td>\n",
              "    </tr>\n",
              "    <tr>\n",
              "      <th>1</th>\n",
              "      <td>hırvat borçlular frank başına beş virgül sekiz kuna ödeyecek</td>\n",
              "    </tr>\n",
              "    <tr>\n",
              "      <th>2</th>\n",
              "      <td>fransız taraftar on iki gün sonra yaşamını yitirdi</td>\n",
              "    </tr>\n",
              "    <tr>\n",
              "      <th>3</th>\n",
              "      <td>sergi üç aralık'a kadar açık kalacak</td>\n",
              "    </tr>\n",
              "    <tr>\n",
              "      <th>4</th>\n",
              "      <td>gerçekler oldukça çatışan sinyaller vermektedir</td>\n",
              "    </tr>\n",
              "    <tr>\n",
              "      <th>5</th>\n",
              "      <td>belediye sınırları dahilinde on altı köy var</td>\n",
              "    </tr>\n",
              "    <tr>\n",
              "      <th>6</th>\n",
              "      <td>allahverdi örgütün ilk türk üyesi oldu</td>\n",
              "    </tr>\n",
              "    <tr>\n",
              "      <th>7</th>\n",
              "      <td>bu bakımdan kosova ile kıyaslanamaz</td>\n",
              "    </tr>\n",
              "    <tr>\n",
              "      <th>8</th>\n",
              "      <td>kredi yirmi yıl vadeli olacak</td>\n",
              "    </tr>\n",
              "    <tr>\n",
              "      <th>9</th>\n",
              "      <td>bu hiç de haksız bir heveslilik değil</td>\n",
              "    </tr>\n",
              "  </tbody>\n",
              "</table>"
            ],
            "text/plain": [
              "<IPython.core.display.HTML object>"
            ]
          },
          "metadata": {}
        }
      ]
    },
    {
      "cell_type": "markdown",
      "metadata": {
        "id": "jwfaptH5RJwA"
      },
      "source": [
        "Good! This looks better. We have removed most special characters from transcriptions and normalized them to lower-case only.\n",
        "\n",
        "In CTC, it is common to classify speech chunks into letters, so we will do the same here. \n",
        "Let's extract all distinct letters of the training and test data and build our vocabulary from this set of letters.\n",
        "\n",
        "We write a mapping function that concatenates all transcriptions into one long transcription and then transforms the string into a set of chars. \n",
        "It is important to pass the argument `batched=True` to the `map(...)` function so that the mapping function has access to all transcriptions at once."
      ]
    },
    {
      "cell_type": "code",
      "metadata": {
        "id": "LwCshNbbeRZR"
      },
      "source": [
        "def extract_all_chars(batch):\n",
        "  all_text = \" \".join(batch[\"sentence\"])\n",
        "  vocab = list(set(all_text))\n",
        "  return {\"vocab\": [vocab], \"all_text\": [all_text]}"
      ],
      "execution_count": 12,
      "outputs": []
    },
    {
      "cell_type": "code",
      "metadata": {
        "colab": {
          "base_uri": "https://localhost:8080/",
          "height": 81,
          "referenced_widgets": [
            "3500c8e6b69745a0a09accda1c918384",
            "09581cec6408430793b35be720e02237",
            "bb4a88d033624433ac3dd8ec36c8d9ba",
            "6a101c73c57d45c49471e62cac03b11f",
            "f69fd47726cf47bf9651f70f82a9b936",
            "95b1c6bd5a70450d8f46f79d8f6acfc8",
            "83c79870213d4764aba789e7cb1d01da",
            "8d5f53a4b2164c16a57268be72a934c5",
            "237e3a90359c404abe5b7c9c286326e2",
            "17e022680adc45f38772fc35716aa276",
            "a628134b4dc849f885438fb1713150cd",
            "857c95910418494abd25826332fd971f",
            "1ee0d1aac79b4b0eb2b37c42ea4f342c",
            "4ef7c32594344e25991d94904c9d60b5",
            "94394c54c61b41a99c2a77fa75bd05f9",
            "cf066093cb4149d9b26fa39103ef68d2",
            "2ef7c9107bdb43f49397cef508368205",
            "0aac820582c24b628bee9c1b7e5ed825",
            "3fd972cfed58417b8f0f4b8bf13eb73f",
            "983765af789d44669af0110d8a876a33",
            "3ae01213ca594a1eb2bb39c517592c2b",
            "f6ad0a5ad4824c3391b324d7eb469131"
          ]
        },
        "id": "_m6uUjjcfbjH",
        "outputId": "184a95ae-bd8d-43a9-8e36-6f09b7c554a1"
      },
      "source": [
        "vocab_train = common_voice_train.map(\n",
        "  extract_all_chars, batched=True, \n",
        "  batch_size=-1, keep_in_memory=True, \n",
        "  remove_columns=common_voice_train.column_names\n",
        ")\n",
        "vocab_test = common_voice_test.map(\n",
        "  extract_all_chars, batched=True, \n",
        "  batch_size=-1, keep_in_memory=True, \n",
        "  remove_columns=common_voice_test.column_names\n",
        ")"
      ],
      "execution_count": 13,
      "outputs": [
        {
          "output_type": "display_data",
          "data": {
            "application/vnd.jupyter.widget-view+json": {
              "model_id": "3500c8e6b69745a0a09accda1c918384",
              "version_minor": 0,
              "version_major": 2
            },
            "text/plain": [
              "  0%|          | 0/1 [00:00<?, ?ba/s]"
            ]
          },
          "metadata": {}
        },
        {
          "output_type": "display_data",
          "data": {
            "application/vnd.jupyter.widget-view+json": {
              "model_id": "857c95910418494abd25826332fd971f",
              "version_minor": 0,
              "version_major": 2
            },
            "text/plain": [
              "  0%|          | 0/1 [00:00<?, ?ba/s]"
            ]
          },
          "metadata": {}
        }
      ]
    },
    {
      "cell_type": "markdown",
      "metadata": {
        "id": "7oVgE8RZSJNP"
      },
      "source": [
        "Now, we create the union of all distinct letters in the training dataset and test dataset and convert the resulting list into an enumerated dictionary."
      ]
    },
    {
      "cell_type": "code",
      "metadata": {
        "id": "aQfneNsmlJI0"
      },
      "source": [
        "vocab_list = list(set(vocab_train[\"vocab\"][0]) | set(vocab_test[\"vocab\"][0]))"
      ],
      "execution_count": 14,
      "outputs": []
    },
    {
      "cell_type": "code",
      "metadata": {
        "colab": {
          "base_uri": "https://localhost:8080/"
        },
        "id": "_0kRndSvqaKk",
        "outputId": "31b1a088-3701-49a3-a5d2-11746a43330c"
      },
      "source": [
        "vocab_dict = {v: k for k, v in enumerate(vocab_list)}\n",
        "vocab_dict"
      ],
      "execution_count": 15,
      "outputs": [
        {
          "output_type": "execute_result",
          "data": {
            "text/plain": [
              "{' ': 28,\n",
              " \"'\": 22,\n",
              " 'a': 31,\n",
              " 'b': 35,\n",
              " 'c': 0,\n",
              " 'd': 27,\n",
              " 'e': 19,\n",
              " 'f': 25,\n",
              " 'g': 21,\n",
              " 'h': 30,\n",
              " 'i': 6,\n",
              " 'j': 9,\n",
              " 'k': 18,\n",
              " 'l': 2,\n",
              " 'm': 12,\n",
              " 'n': 5,\n",
              " 'o': 23,\n",
              " 'p': 4,\n",
              " 'q': 29,\n",
              " 'r': 36,\n",
              " 's': 32,\n",
              " 't': 17,\n",
              " 'u': 1,\n",
              " 'v': 3,\n",
              " 'w': 26,\n",
              " 'x': 33,\n",
              " 'y': 37,\n",
              " 'z': 7,\n",
              " 'â': 16,\n",
              " 'ç': 15,\n",
              " 'ë': 10,\n",
              " 'î': 11,\n",
              " 'ö': 14,\n",
              " 'ü': 13,\n",
              " 'ğ': 20,\n",
              " 'ı': 34,\n",
              " 'ş': 8,\n",
              " '̇': 24}"
            ]
          },
          "metadata": {},
          "execution_count": 15
        }
      ]
    },
    {
      "cell_type": "markdown",
      "metadata": {
        "id": "JOSzbvs9SXT1"
      },
      "source": [
        "Cool, we see that all letters of the alphabet occur in the dataset (which is not really surprising) and we also extracted the special characters `\" \"` and `'`. Note that we did not exclude those special characters because: \n",
        "\n",
        "- The model has to learn to predict when a word is finished or else the model prediction would always be a sequence of chars which would make it impossible to separate words from each other.\n",
        "- From the transcriptions above it seems that words that include an apostrophe, such as `maktouf'un` do exist in Turkish, so I decided to keep the apostrophe in the dataset. This might be a wrong assumption though.\n",
        "\n",
        "One should always keep in mind that the data-preprocessing is a very important step before training your model. E.g., we don't want our model to differentiate between `a` and `A` just because we forgot to normalize the data. The difference between `a` and `A` does not depend on the \"sound\" of the letter at all, but more on grammatical rules - *e.g.* use a capitalized letter at the beginning of the sentence. So it is sensible to remove the difference between capitalized and non-capitalized letters so that the model has an easier time learning to transcribe speech. \n",
        "\n",
        "It is always advantageous to get help from a native speaker of the language you would like to transcribe to verify whether the assumptions you made are sensible, *e.g.* I should have made sure that keeping `'`, but removing other special characters is a sensible choice for Turkish. "
      ]
    },
    {
      "cell_type": "markdown",
      "metadata": {
        "id": "b1fBRCn-TRaO"
      },
      "source": [
        "To make it clearer to the reader that `\" \"` has its own token class, we give it a more visible character `|`. In addition, we also add an \"unknown\" token so that the model can later deal with characters not encountered in Common Voice's training set. \n",
        "\n",
        "Finally, we also add a padding token that corresponds to CTC's \"*blank token*\". The \"blank token\" is a core component of the CTC algorithm. For more information, please take a look at the \"Alignment\" section [here](https://distill.pub/2017/ctc/)."
      ]
    },
    {
      "cell_type": "code",
      "metadata": {
        "id": "npbIbBoLgaFX"
      },
      "source": [
        "vocab_dict[\"|\"] = vocab_dict[\" \"]\n",
        "del vocab_dict[\" \"]"
      ],
      "execution_count": 16,
      "outputs": []
    },
    {
      "cell_type": "code",
      "metadata": {
        "id": "znF0bNunsjbl",
        "colab": {
          "base_uri": "https://localhost:8080/"
        },
        "outputId": "eb8343fd-988d-4f22-c03d-d3a1b5f77584"
      },
      "source": [
        "vocab_dict[\"[UNK]\"] = len(vocab_dict)\n",
        "vocab_dict[\"[PAD]\"] = len(vocab_dict)\n",
        "len(vocab_dict)"
      ],
      "execution_count": 17,
      "outputs": [
        {
          "output_type": "execute_result",
          "data": {
            "text/plain": [
              "40"
            ]
          },
          "metadata": {},
          "execution_count": 17
        }
      ]
    },
    {
      "cell_type": "markdown",
      "metadata": {
        "id": "SFPGfet8U5sL"
      },
      "source": [
        "Cool, now our vocabulary is complete and consists of 40 tokens, which means that the linear layer that we will add on top of the pretrained XLSR-Wav2Vec2 checkpoint will have an output dimension of 40."
      ]
    },
    {
      "cell_type": "markdown",
      "metadata": {
        "id": "1CujRgBNVRaD"
      },
      "source": [
        "Let's now save the vocabulary as a json file."
      ]
    },
    {
      "cell_type": "code",
      "metadata": {
        "id": "ehyUoh9vk191"
      },
      "source": [
        "import json\n",
        "with open('vocab.json', 'w') as vocab_file:\n",
        "    json.dump(vocab_dict, vocab_file)"
      ],
      "execution_count": 18,
      "outputs": []
    },
    {
      "cell_type": "markdown",
      "metadata": {
        "id": "SHJDaKlIVVim"
      },
      "source": [
        "In a final step, we use the json file to instantiate a tokenizer object with the just created vocabulary file. The correct `tokenizer_type` can be retrieved from the model configuration. If a `tokenizer_class` is defined in the config, we can use it, else we assume the `tokenizer_type` corresponds to the `model_type`."
      ]
    },
    {
      "cell_type": "code",
      "metadata": {
        "colab": {
          "base_uri": "https://localhost:8080/",
          "height": 49,
          "referenced_widgets": [
            "4025100282fe497895a23bd314dd4c77",
            "6fc4d82bdc314800ab19b879bd139404",
            "5739f4540d194b4ba6f464cc1d5cf938",
            "6a46422aa91144bd87a015c53c107a2a",
            "2483ec26cc9a4f3bb5cb6ef32c8830fb",
            "5967bbe4ceb44f75bf7ec3240cf1a4c6",
            "49e59e6a20294de4aef4e64fcbb720a3",
            "00672c32b7b04243af79853ecd6ecd44",
            "9cf7fb1693a64d6aad63ae57c603cac4",
            "795f326ad3e341399a298a4fb81d12f2",
            "baf255dbede94c1dbf18b226125b2530"
          ]
        },
        "id": "1VKVaSZm7Clh",
        "outputId": "6bf8dfa9-f3af-4f97-feac-1735bcbaf3e3"
      },
      "source": [
        "from transformers import AutoConfig\n",
        "\n",
        "config = AutoConfig.from_pretrained(model_checkpoint)\n",
        "\n",
        "tokenizer_type = config.model_type if config.tokenizer_class is None else None\n",
        "config = config if config.tokenizer_class is not None else None"
      ],
      "execution_count": 19,
      "outputs": [
        {
          "output_type": "display_data",
          "data": {
            "application/vnd.jupyter.widget-view+json": {
              "model_id": "4025100282fe497895a23bd314dd4c77",
              "version_minor": 0,
              "version_major": 2
            },
            "text/plain": [
              "Downloading:   0%|          | 0.00/1.73k [00:00<?, ?B/s]"
            ]
          },
          "metadata": {}
        }
      ]
    },
    {
      "cell_type": "markdown",
      "metadata": {
        "id": "P5B_bVhf7H_K"
      },
      "source": [
        "Now we can instantiate a tokenizer using `AutoTokenizer`. Additionally, we set the tokenizer's special tokens."
      ]
    },
    {
      "cell_type": "code",
      "metadata": {
        "id": "xriFGEWQkO4M",
        "colab": {
          "base_uri": "https://localhost:8080/"
        },
        "outputId": "33318d8a-dd65-4dcc-f847-b1679fc3b1d6"
      },
      "source": [
        "from transformers import AutoTokenizer\n",
        "\n",
        "tokenizer = AutoTokenizer.from_pretrained(\n",
        "  \"./\",\n",
        "  config=config,\n",
        "  tokenizer_type=tokenizer_type,\n",
        "  unk_token=\"[UNK]\",\n",
        "  pad_token=\"[PAD]\",\n",
        "  word_delimiter_token=\"|\",\n",
        ")"
      ],
      "execution_count": 20,
      "outputs": [
        {
          "output_type": "stream",
          "name": "stderr",
          "text": [
            "file ./config.json not found\n",
            "Special tokens have been added in the vocabulary, make sure the associated word embeddings are fine-tuned or trained.\n"
          ]
        }
      ]
    },
    {
      "cell_type": "markdown",
      "metadata": {
        "id": "KvL12DrNV4cx"
      },
      "source": [
        "If one wants to re-use the just created tokenizer with the fine-tuned model of this notebook, it is strongly advised to upload the `tokenizer` to the [🤗 Hub](https://huggingface.co/). Let's call the repo to which we will upload the files\n",
        "`\"wav2vec2-large-xlsr-turkish-demo-colab\"`:"
      ]
    },
    {
      "cell_type": "code",
      "metadata": {
        "id": "A1XApZBAF2zr"
      },
      "source": [
        "model_checkpoint_name = model_checkpoint.split(\"/\")[-1]\n",
        "repo_name = f\"{model_checkpoint_name}-W2V2-TR-LARGE\""
      ],
      "execution_count": 21,
      "outputs": []
    },
    {
      "cell_type": "markdown",
      "metadata": {
        "id": "B1BiezWZF16d"
      },
      "source": [
        "and upload the tokenizer to the [🤗 Hub](https://huggingface.co/)."
      ]
    },
    {
      "cell_type": "code",
      "metadata": {
        "colab": {
          "base_uri": "https://localhost:8080/",
          "height": 105
        },
        "id": "zytE1175GAKM",
        "outputId": "15b3a168-f247-4c05-922e-13d9c6b02272"
      },
      "source": [
        "tokenizer.push_to_hub(repo_name)"
      ],
      "execution_count": 22,
      "outputs": [
        {
          "output_type": "stream",
          "name": "stderr",
          "text": [
            "Cloning https://huggingface.co/emre/wav2vec2-large-xlsr-53-W2V2-TR-LARGE into local empty directory.\n",
            "To https://huggingface.co/emre/wav2vec2-large-xlsr-53-W2V2-TR-LARGE\n",
            "   d1b8877..ce75a06  main -> main\n",
            "\n"
          ]
        },
        {
          "output_type": "execute_result",
          "data": {
            "application/vnd.google.colaboratory.intrinsic+json": {
              "type": "string"
            },
            "text/plain": [
              "'https://huggingface.co/emre/wav2vec2-large-xlsr-53-W2V2-TR-LARGE/commit/ce75a0659dfd718a064ef0725202d34effd959cb'"
            ]
          },
          "metadata": {},
          "execution_count": 22
        }
      ]
    },
    {
      "cell_type": "markdown",
      "metadata": {
        "id": "SwQM8lH_GGuP"
      },
      "source": [
        "Great, you can see the just created repository under `https://huggingface.co/<your-username>/wav2vec2-large-xlsr-turkish-demo-colab` ."
      ]
    },
    {
      "cell_type": "markdown",
      "metadata": {
        "id": "YFmShnl7RE35"
      },
      "source": [
        "### Preprocess Data\n",
        "\n",
        "So far, we have not looked at the actual values of the speech signal but just the transcription. In addition to `sentence`, our datasets include two more column names `path` and `audio`. `path` states the absolute path of the audio file. Let's take a look.\n"
      ]
    },
    {
      "cell_type": "code",
      "metadata": {
        "colab": {
          "base_uri": "https://localhost:8080/",
          "height": 35
        },
        "id": "TTCS7W6XJ9BG",
        "outputId": "5ae0c279-095f-41cc-ac22-fc665b283288"
      },
      "source": [
        "common_voice_train[0][\"path\"]"
      ],
      "execution_count": 23,
      "outputs": [
        {
          "output_type": "execute_result",
          "data": {
            "application/vnd.google.colaboratory.intrinsic+json": {
              "type": "string"
            },
            "text/plain": [
              "'/root/.cache/huggingface/datasets/downloads/extracted/05be0c29807a73c9b099873d2f5975dae6d05e9f7d577458a2466ecb9a2b0c6b/cv-corpus-6.1-2020-12-11/tr/clips/common_voice_tr_21921195.mp3'"
            ]
          },
          "metadata": {},
          "execution_count": 23
        }
      ]
    },
    {
      "cell_type": "markdown",
      "metadata": {
        "id": "T6ndIjHGFp0W"
      },
      "source": [
        "`XLSR-Wav2Vec2` expects the input in the format of a 1-dimensional array of 16 kHz. This means that the audio file has to be loaded and resampled.\n",
        "\n",
        " Thankfully, `datasets` does this automatically by calling the other column `audio`. Let try it out. "
      ]
    },
    {
      "cell_type": "code",
      "metadata": {
        "colab": {
          "base_uri": "https://localhost:8080/"
        },
        "id": "qj_z5Zc3GAs9",
        "outputId": "368a5b87-0aba-46a0-fa71-91f95f10434d"
      },
      "source": [
        "common_voice_train[0][\"audio\"]"
      ],
      "execution_count": 24,
      "outputs": [
        {
          "output_type": "execute_result",
          "data": {
            "text/plain": [
              "{'array': array([ 0.0000000e+00,  0.0000000e+00,  0.0000000e+00, ...,\n",
              "        -8.8930130e-05, -3.8027763e-05, -2.9146671e-05], dtype=float32),\n",
              " 'path': '/root/.cache/huggingface/datasets/downloads/extracted/05be0c29807a73c9b099873d2f5975dae6d05e9f7d577458a2466ecb9a2b0c6b/cv-corpus-6.1-2020-12-11/tr/clips/common_voice_tr_21921195.mp3',\n",
              " 'sampling_rate': 48000}"
            ]
          },
          "metadata": {},
          "execution_count": 24
        }
      ]
    },
    {
      "cell_type": "markdown",
      "metadata": {
        "id": "WUUTgI1bGHW-"
      },
      "source": [
        "Great, we can see that the audio file has automatically been loaded. This is thanks to the new [`\"Audio\"` feature](https://huggingface.co/docs/datasets/package_reference/main_classes.html?highlight=audio#datasets.Audio) introduced in `datasets == 1.13.3`, which loads and resamples audio files on-the-fly upon calling.\n",
        "\n",
        "In the example above we can see that the audio data is loaded with a sampling rate of 48kHz whereas 16kHz are expected by the model. We can set the audio feature to the correct sampling rate by making use of [`cast_column`](https://huggingface.co/docs/datasets/package_reference/main_classes.html?highlight=cast_column#datasets.DatasetDict.cast_column):"
      ]
    },
    {
      "cell_type": "code",
      "metadata": {
        "id": "rrv65aj7G95i"
      },
      "source": [
        "common_voice_train = common_voice_train.cast_column(\"audio\", Audio(sampling_rate=16_000))\n",
        "common_voice_test = common_voice_test.cast_column(\"audio\", Audio(sampling_rate=16_000))"
      ],
      "execution_count": 25,
      "outputs": []
    },
    {
      "cell_type": "markdown",
      "metadata": {
        "id": "PcnO4x-NGBEi"
      },
      "source": [
        "Let's take a look at `\"audio\"` again."
      ]
    },
    {
      "cell_type": "code",
      "metadata": {
        "colab": {
          "base_uri": "https://localhost:8080/"
        },
        "id": "aKtkc1o_HWHC",
        "outputId": "3793acc1-15d7-475c-f229-30ddb1f9694b"
      },
      "source": [
        "common_voice_train[0][\"audio\"]"
      ],
      "execution_count": 26,
      "outputs": [
        {
          "output_type": "execute_result",
          "data": {
            "text/plain": [
              "{'array': array([ 0.0000000e+00,  0.0000000e+00,  0.0000000e+00, ...,\n",
              "        -7.4556941e-05, -1.4621433e-05, -5.7861507e-05], dtype=float32),\n",
              " 'path': '/root/.cache/huggingface/datasets/downloads/extracted/05be0c29807a73c9b099873d2f5975dae6d05e9f7d577458a2466ecb9a2b0c6b/cv-corpus-6.1-2020-12-11/tr/clips/common_voice_tr_21921195.mp3',\n",
              " 'sampling_rate': 16000}"
            ]
          },
          "metadata": {},
          "execution_count": 26
        }
      ]
    },
    {
      "cell_type": "markdown",
      "metadata": {
        "id": "SOckzFd4Mbzq"
      },
      "source": [
        "This seemed to have worked! Let's listen to a couple of audio files to better understand the dataset and verify that the audio was correctly loaded. \n",
        "\n",
        "**Note**: *You can click the following cell a couple of times to listen to different speech samples.*"
      ]
    },
    {
      "cell_type": "code",
      "metadata": {
        "colab": {
          "base_uri": "https://localhost:8080/",
          "height": 93
        },
        "id": "dueM6U7Ev0OA",
        "outputId": "21904e49-0030-43b6-8b57-10d17e6035c0"
      },
      "source": [
        "import IPython.display as ipd\n",
        "import numpy as np\n",
        "import random\n",
        "\n",
        "rand_int = random.randint(0, len(common_voice_train)-1)\n",
        "\n",
        "print(common_voice_train[rand_int][\"sentence\"])\n",
        "ipd.Audio(data=common_voice_train[rand_int][\"audio\"][\"array\"], autoplay=True, rate=16000)"
      ],
      "execution_count": 27,
      "outputs": [
        {
          "output_type": "stream",
          "name": "stdout",
          "text": [
            "görüşmelerden sonra hiçbir açıklama yapılmadı \n"
          ]
        },
        {
          "output_type": "execute_result",
          "data": {
            "text/html": [
              "\n",
              "                <audio controls=\"controls\" autoplay=\"autoplay\">\n",
              "                    <source src=\"data:audio/wav;base64,UklGRiSkAQBXQVZFZm10IBAAAAABAAEAgD4AAAB9AAACABAAZGF0YQCkAQAAAAAAAAAAAAAAAAAAAAAAAAAAAAAAAAAAAAAAAAAAAAAAAAAAAAAAAAAAAAAAAAAAAAAAAAAAAAAAAAAAAAAAAAAAAAAAAAAAAAAAAAAAAAAAAAAAAAAAAAAAAAAAAAAAAAAAAAAAAAAAAAAAAAAAAAAAAAAAAAAAAAAAAAAAAAAAAAAAAAAAAAAAAAAAAAAAAAAAAAAAAAAAAAAAAAAAAAAAAAAAAAAAAAAAAAAAAAAAAAAAAAAAAAAAAAAAAAAAAAAAAAAAAAAAAAAAAAAAAAAAAAAAAAAAAAAAAAAAAAAAAAAAAAAAAAAAAAAAAAAAAAAAAAAAAAAAAAAAAAAAAAAAAAAAAAAAAAAAAAAAAAAAAAAAAAAAAAAAAAAAAAAAAAAAAAAAAAAAAAAAAAAAAAAAAAAAAAAAAAAAAAAAAAAAAAAAAAAAAAAAAAAAAAAAAAAAAAAAAAAAAAAAAAAAAAAAAAAAAAAAAAAAAAAAAAAAAAAAAAAAAAAAAAAAAAAAAAAAAAAAAAAAAAAAAAAAAAAAAAAAAAAAAAAAAAAAAAAAAAAAAAAAAAAAAAAAAAAAAAAAAAAAAAAAAAAAAAAAAAAAAAAAAAAAAAAAAAAAAAAAAAAAAAAAAAAAAAAAAAAAAAAAAAAAAAAAAAAAAAAAAAAAAAAAAAAAAAAAAAAAAAAAAAAAAAAAAAAAAAAAAAAAAAAAAAAAAAAAAAAAAAAAAAAAAAAAAAAAAAAAAAAAAAAAAAAAAAAAAAAAAAAAAAAAAAAAAAAAAAAAAAAAAAAAAAAAAAAAAAAAAAAAAAAAAAAAAAAAAAAAAAAAAAAAAAAAAAAAAAAAAAAAAAAAAAAAAAAAAAAAAAAAAAAAAAAAAAAAAAAAAAAAAAAAAAAAAAAAAAAAAAAAAAAAAAAAAAAAAAAAAAAAAAAAAAAAAAAAAAAAAAAAAAAAAAAAAAAAAAAAAAAAAAAAAAAAAAAAAAAAAAAAAAAAAAAAAAAAAAAAAAAAAAAAAAAAAAAAAAAAAAAAAAAAAAAAAAAAAAAAAAAAAAAAAAAAAAAAAAAAAAAAAAAAAAAAAAAAAAAAAAAAAAAAAAAAAAAAAAAAAAAAAAAAAAAAAAAAAAAAAAAAAAAAAAAAAAAAAAAAAAAAAAAAAAAAAAAAAAAAAAAAAAAAAAAAAAAAAAAAAAAAAAAAAAAAAAAAAAAAAAAAAAAAAAAAAAAAAAAAAAAAAAAAAAAAAAAAAAAAAAAAAAAAAAAAAAAAAAAAAAAAAAAAAAAAAAAAAAAAAAAAAAAAAAAAAAAAAAAAAAAAAAAAAAAAAAAAAAAAAAAAAAAAAAAAAAAAAAAAAAAAAAAAAAAAAAAAAAAAAAAAAAAAAAAAAAAAAAAAAAAAAAAAAAAAAAAAAAAAAAAAAAAAAAAAAAAAAAAAAAAAAAAAAAAAAAAAAAAAAAAAAAAAAAAAAAAAAAAAAAAAAAAAAAAAAAAAAAAAAAAAAAAAAAAAAAAAAAAAAAAAAAAAAAAAAAAAAAAAAAAAAAAAAAAAAAAAAAAAAAAAAAAAAAAAAAAAAAAAAAAAAAAAAAAAAAAAAAAAAAAAAAAAAAAAAAAAAAAAAAAAAAAAAAAAAAAAAAAAAAAAAAAAAAAAAAAAAAAAAAAAAAAAAAAAAAAAAAAAAAAAAAAAAAAAAAAAAAAAAAAAAAAAAAAAAAAAAAAAAAAAAAAAAAAAAAAAAAAAAAAAAAAAAAAAAAAAAAAAAAAAAAAAAAAAAAAAAAAAAAAAAAAAAAAAAAAAAAAAAAAAAAAAAAAAAAAAAAAAAAAAAAAAAAAAAAAAAAAAAAAAAAAAAAAAAAAAAAAAAAAAAAAAAAAAAAAAAAAAAAAAAAAAAAAAAAAAAAAAAAAAAAAAAAAAAAAAAAAAAAAAAAAAAAAAAAAAAAAAAAAAAAAAAAAAAAAAAAAAAAAAAAAAAAAAAAAAAAAAAAAAAAAAAAAAAAAAAAAAAAAAAAAAAAAAAAAAAAAAAAAAAAAAAAAAAAAAAAAAAAAAAAAAAAAAAAAAAAAAAAAAAAAAAAAAAAAAAAAAAAAAAAAAAAAAAAAAAAAAAAAAAAAAAAAAAAAAAAAAAAAAAAAAAAAAAAAAAAAAAAAAAAAAAAAAAAAAAAAAAAAAAAAAAAAAAAAAAAAAAAAAAAAAAAAAAAAAAAAAAAAAAAAAAAAAAAAAAAAAAAAAAAAAAAAAAAAAAAAAAAAAAAAAAAAAAAAAAAAAAAAAAAAAAAAAAAAAAAAAAAAAAAAAAAAAAAAAAAAAAAAAAAAAAAAAAAAAAAAAAAAAAAAAAAAAAAAAAAAAAAAAAAAAAAAAAAAAAAAAAAAAAAAAAAAAAAAAAAAAAAAAAAAAAAAAAAAAAAAAAAAAAAAAAAAAAAAAAAAAAAAAAAAAAAAAAAAAAAAAAAAAAAAAAAAAAAAAAAAAAAAAAAAAAAAAAAAAAAAAAAAAAAAAAAAAAAAAAAAAAAAAAAAAAAAAAAAAAAAAAAAAAAAAAAAAAAAAAAAAAAAAAAAAAAAAAAAAAAAAAAAAAAAAAAAAAAAAAAAAAAAAAAAAAAAAAAAAAAAAAAAAAAAAAAD//wAAAQAAAAAAAAABAP///v8AAAAA/v///wAAAAD///7/AAAAAP///v8AAP////8AAAIAAwADAAQAAQD3//f/BAAHAPv/+v8FAAQA+f/9/wsABQD1//P//f8BAAIABgAHAP7/+f///wEAAQAAAAMABQD6//X/+//9//f/8v/5//H/3//m//j/8P/u//f/+f/8//7/AgD4/+H/9/8BAPD/BAD///j/+/8CAAwA+v/2//v/7//z/+//AQD4/wIABAD1/woACADH/48AdwHrAaQBmAH1AfcBSgGUAeIBTwFwAKEAOQE5ARkBPgEPAY8AkADMAGEAvv98ALoAQAAAAG4ADwH/ANgAWAH1AMoA7wBHAQoB9gDYALsAswAdAXsBXgGWAV0CvwIOAxQD9QJcAysD4wITA7cCkgLvApMCBALyAcgBegESAbgAuQAmAMb/5f88AMr/gf/d/53/l/8M/2v+g/6K/hP/D//0/lD+3v3+/fb96v3p/cj9LP6j/qD+yv5v/pD+Cf81/8H+gP6l/vD+0v4g/0b/0P4Z/53/qv9j/yb/ZP/0/iT/6v7G/rz+OP++//7/+v+k//P/HgFaAUgB2ABEAZQBYgE2AVQBBQEbAeEAcwGAARwBXAF4ASsBXgGQAYMBQAEtAUsB+gAVAckAhwDwAGQAUgC/ADAAPQCzALAA4ACSAKQAcwHMAPAAdwFPAVIBEwG1ACkB3AFMAq4BHgEhArMC7gHMARQCywE7AeMBJgJzAdQAuAH5ArsBFgG6AfEBXQGfADIBwwAEACQAoQAlANL/j//H/zX//v5s/2L/zP6R/2X/qv6T/vT+J/9h/lD+gP7p/Zz9+/13/qT9b/1M/tP+eP6U/vz+cP8H//b+rf+y/0L/lP+z/+j/YQCXADkA0f8/APoABwF8AKoAaQFrAHoAnADS/wP/XP/p/y7/mP4O/1T/xv5b/tL+af6f/fH9Jf4m/cT8Xv2H/R/9DP1u/eX8n/xr/bT97fzQ/Lz9/P2t/eP8uf0U/hT+I/6V/q3+nf7p/lX/Xv8C/+n+gP6Q/gz/sf5B/hD+cv5L/qL94/39/V39Tv2g/ZP9Jf1v/RT+OP6s/cH96f2W/W79g/2t/fb99v1z/g//RP9w/9//cwBtAAcBZQHgAJoAFwFCAV0A1gBEATsB2ADyAJgBHgGlANMAJwGnAAsAFQBQAEwAOQBvAFgABwAbADkAUgB7AIkAlgC0AC4ASwBfAGsAtAByABwAfABnAUQBFAGEAVkBIQFLAfEBJgKtAY8BPwK6Ag0CnwHjAfgB2AHkAXoBBAHBAGIBSQGTAFQAMwAkAO3/zv96/yz/p/9c/xr/h/4h/hr+Y/1X/T79nfxP/Kv8//ze/Kf8tfxn/DH9kf2q/ZX9av2G/fb9zv0t/bD95/19/gX/8v6R/qP+3f7Q/gb/8f7j/iX/bP/P/9T/3v/5/9v/9f9JAJgAuwCiAO4AhQCWAB4AswC8AE8AkgC4APEAPAEOAdcALwEhAV4ARAB/AMwA+gBgAGMAiwB3AJ4AcwGtAYUBAQL7AcABpwHuAQcCMwIkAoICagIAAlYC9QLgAukC4wLuAgADrAPcAwMEdQOdA/QDkAPRA1sEYwSgAykDuAO2Az8CuAH+AcsBTgFTAewA3QDeAHkB7wBFAIIAqwAiAIT/uf+Z/zL/Qv8A/6/+g/55/nX+6P2Z/Uv+6f0Q/Xf9/f3+/Rb95vxA/ZL9bv3s/Xz+Rf4o/qb+fv6R/gX/Pv+X/8f/HgAFAPH/SAChALsABQAZANQAlADg/zgATwAbACAA3P9w/5r/iv/T/97/8P8fAOP/xv/E/97/7f+0/9X/9/8QAJgAygBZACYAsAD/AJoAbgBSAJQAtABNADwAgQCzAIgA2wDgAOcAHgFUAQUBEQFTAfcANwH4AI0B+wDNAM4AkwCi/7//CABWANr/TgBqAGEAPQB9AIgA4f+z/ykABgBd/xD/s/+3/yQAPQAhAEAAQgAVAOn/IwC8AM0ACwC5/6X/dv8j/37+Pf6X/on+5P1Q/kj+nv36/Bv9kP1g/Qf92fwk/Sf93PzS/Mn8T/0C/dn8hPwK/XT9cP0j/cH8IP3R/XH9TP2h/af+QP8s/7X/mwBGAPH/qQA7AGQADQHwAIgAoQD+AGEB5QBJAKUATAEWATcAMQDbAC4BiQAUAEsAMwA3AP3/3v9j/5r/qv9e/zT/+v54/uf9Vf4h/kT9Bf1y/b39wv0a/jD+Bf7e/Xj+yf5T/u/9JP4M/hb+SP2P/aL94P3v/Qv+z/2S/ZD93P10/tf+V/7U/V7+xf6T/pn+kv6E/yMA/v+v/ycA4f8DAF0A7/89AAgBwwDtACYBVgEnAewAIgEdAScBBAEHAb8A4QB/Aa4BcQFAAeIAlwGEAU0BTgGqAQ8CCAKXAXMBUgH4AOQAXAF+AYQBTQGnAcgBYAFTAVUBIwHsAbMBTAJ7AhoCgAK3AlwCdAKhAv8ClAImAs4CNwMEA8kCoAJZA44DcAO/A8YDWwNAAzgD1AKLAvYBMAJlAhMCbwJKAqQCtAIxAwUDiQKGAr8CHwL1ASsCvAEMAdAA+QACAQAA0f/1/8v/GP+7/9j/Xf8i/0z/Xf9Z/q3+a/8r/+j+L/9g/4L/+f8HAHj/Tv8MABcAlv8q/37/5/8i/2X+5/7I/m/+UP6i/rD+GP7T/fv9+v2y/Xn9Mv0L/d/8//wV/cX8hvzS/Fz9VP0Y/dj8cPwl/av9gP36/K39C/4y/rD9Tv74/vz+g/6L/h//Zv8Y/8H++v7u/oX/AAADAE0AQABcAPsALQHbAOYAJgECAbMAZwCRAHIACQD8/2YA7f+P/yIAVABIAAkAnQCZAHUA4QDiAK0AZgCEAEcAyv/t/yQAz/8c/03/cf9r/8r+Av8Q/7L+UP5z/nn+J/4d/kL+Lv4l/on9Nf7u/nz+HP7A/pP+Yv4q/1r/zP7+/g//Z//R/9z/GAAUABIA6QAJAb4A0AAcAeIAQQACAIsAQQA0AD0AqwA9APT/EgBaAGUAcQAwAKD/wP/q//P/ev8Z/yP/U/+l/3j/BP8n/yz/q/6Y/o/+hP6p/sr+Cf/m/uv+kf+S/3T/tP/A/6v/mf+9/7//Xf/5/oj//P8hAPX/JgB4AHMAhgCQAPgA9QAiATYBjgHVAcIBogFrAa4ByQHJAb4BjQHOAVECfQJaAk4CRQLEAqQCGwJyApIClgLGAoUC5gIOA1wCcQKSAkACYQEJARkBYwGOAXYBawEdATUBZQGKAWMBPAFjASABOgHeASQCJAL4AYsBQwKUAvgB9wENAiICYALXAV0BbQGNAb4BBwJNAcEBLwLcAaMB7gHxAcMBeQFXAXgBaQG1ALEAvgA0AGwA0wBqAGAAeABuAAEAHADm//L/rf/f/wIAm//q/8z/3v+a/2T/M/8i/9X+7P4Y/73+FP6Y/m3+J/6a/Yb97/1t/lL+av6F/jr+aP4J//H+yf5K/xv/Gf8cADEA5/8aADcA/AB1AfsAzwBDAUMBUgFqAV4BagGBAdoBmwFLAT8BBQG8AeEBxwEcAcMA7QBHAKf/yv+Q/yP/pP96/6T/zf9z/7j/9v+J/zT/zv/f/9j/3f+w/2//3P/Y/4r/hv9d/1z/AQCN/zf/WP/s/vz+tf5j/jr+x/75/rj+0P6h/in+HP7i/ff92f0C/uf9tP0p/jv+Dv4X/nX+Z/4D/pj+GP/z/gz/5f7S/4z/6P4w/5L/1P8c/x//Pf9//8//nf+N/4f/Rv/M/5b/d/4T/qr+/f7j/Z/9vP11/Tb9Z/10/Tj9+fzL/QT+3f3Z/TP+oP5q/t3+P/85/7//0f9wALcAvwC6AOMA3ADdAKIAwACuAJQAsADHACcBPQESARMBfwGlAZ8BiQFiAikCYgEbAVEBwQH8ADsAJwBWAD4AGQCl/9P+pv4k/+H+e/7J/pH+8/7l/rz+vP0m/jL+tf20/W/9kP2s/cz8bPwJ/Y39nvyd/Bv9yvwm/ff8z/zx/HL8pPw3/S/9+Px2/XT9C/75/ZH9Ff67/uj+C/85/xD/Bf87/5D/EP/O/hT/h//2/qb+8f4f/zD/yf7H/i7/4/5+/ob+kf6T/sL+4/73/sX+N/+e/4b/p/+7//z/igBwADEAtwAkAYEBlQHnAfcBjwJYAuECwwPIA2YDJASCBOYDywPeA0gEmgN5AyAEggSGA1sDNwQKBGEDpAPrA6QDRQNGA7oDCgOIArUCowKOAjUCXwK/AuICGAM+AxoDDgO2A6gDvANdAwcD1QKHAkACqQGvANQAqQCUAEIA4/9PAFcA5v8u/3X/Nf/t/vT+2P5//h3+1/1l/p79pv3g/Vz9fP1s/UP9P/3//fH9j/1p/b/9BP4P/lr94P3Q/qv+kP7X/ij/2/6y/h7/l/99/6r+8f56/0f/4P7p/kn/Jv+3/qj/hv8y/3L/8v+nAJAAXgAmASwBeAGYAbAB6QFfAgAChQGRAlkDqAKqAWsC8gKdAh8CUQKkAh0CAgLdAWoBtwA9AaEB8ABtAN8A0wAYAAMAPgDU/4H/vf9y/yL/O//U/tz+kP6w/sn+pv5k/mD+n/5V/hz+Jf6W/lP+jf63/tL+Gv8Z/4z+xf6d/jr+R/5O/uH95v16/aP9h/1c/Yv8e/wf/Tz99PzQ/D790fw9/HD8AP1C/aD8Pvx3/Mb8j/xo/LT8Jf0r/V/9NP3M/dL9l/2I/YT9GP1t/Rr+Hf5H/mD+h/75/g7/rP6W/iv/bP+s/tb+vv5Y/zD/iv6p/tT+Jf+w/5//bP8V/0n/0P+Y/mb+yP7O/tn+mv6t/p3+qf4c/hf+xP7l/nj+Yv6z/u3+/P6W/oj+7P6z/9L/+/+0/+j/+f9DAPkAnQCNAMEAJwHhAV0B0ABGAbAA1QA2ARkBVQECAjIClwLzAjUDuwJIAoECUwOxA+EC0wKOA/ACygKsAmICBQLoAQQC5AEFAYgA4wD+AAcBrAAqANUAgQBEAJAAWABcAMkAgAB4ACwBPgEKAfEADwEIARsBnAH5AQMCvgEfAtwCogKRAi8D0gInAgUCcgJPAosBFgHzATcBJAHOATgCHwLWAQsCSwKtAQACNALpAW8C3wIkA7UClwLxAh0D6gJQA3kDBQM8AwgEBQQMAwcDgwOXA98CHANNA6ACVALOAiEDTwKzATMC3gFBAUEBvAAVAFkAeAC3AMH/w/9FABUAwv9RAMsAz/+I/zsA2AAeAPn/4QAKAScBWgEkASwBIwFtAUMBpwCxAFIBOgF/ACgBswECAZIAGwHjAEwASgCTALAA/v+HAJgA6//F/ykA3wDA/+3//P/G/67/9v+j/yz/z/7u/6D/Fv98//r/nf8l/33/BgBy/6b/hgCmABQA7/9QAAIAuv8dAD0Azf/A/3f/f//8/nX/Rv8D/8P+2/5t/x7/A//q/6b/9v7+/q//9/94/w4ASQD4/xsA4gC5ABgAXQDGAHsAIwCzAPsAYgDZ/zYAAwBl/+X/BgCR/xD/kP+w/7X+mf7z/sj+WP7F/r7+4/3m/UL+E/6e/S/9eP1L/Yz9f/48/sT9Jf0q/jf+sv2L/SX+Qf///uD+lv+JAMoAxwDtACwBPQETAWABdQEOAbEADgGVALUA5QDHAP0ADAF+ADgAjQBXALT/WP+V/7//T/8Q/7L/uv/W/v/+Av9V/uL9HP4f/tH9QP0+/ar9Av2M/Qz+Af15/WD9a/3y/AD9Yf1O/Wf9Av78/O38Iv33/Sb+A/7j/TD+K/5g/tD+o/4E/jj+kf6p/kf+8/4O/9L+Kv9b/3f/Nf/L/zMA1P+z/6f/zv8cAOv/RgArANn/dAAeAC4AKwAmAFsA9P8hAAUA+f/J/0H/4/4E/5T/Wf/O/p/+dv8h/7L+jP+R//b/N//G/8oAsf+G/8L/OgAPAA8AKwDq/yQAnwAMAX4ABwBGAMQA5gA4ATkB5QAHAX4B5gG8AZgAvAAQAVQBcAFYATMBowGDAmcCjQHdAf8BXwLrAeEBRgIOAlkBPQE+AT8B6ADIAN4A7QCaAPwAHQGLAG0AogD//3//7P+V/zf/2f5a/hT+h/2f/fr9Gv3J/CL9Gf23/Cr8Af2s/T/9Vf1r/kP+o/2p/Yz++v6F/lT+c/6j/k7/tf8z/zb/5P9GALX/GwCuAG4ACgCCAPUAhwDu/80AbwEVAVYBdQJbAmsCcwNyA/gCmwLaAm8DrgPSAqcCRAIgApcClwKiAakB7AE2AlkB/QBSAQIBAgEHAcgACgEKAecAKgHCAJsAxgC+AAEAyP9u/8T/DQCK/z3/Nf+G//7/i//X/zoARgBBAFQA5ADeANYABQGXAckBfAHBAWwC6AEbAXsBowHQAFsA9v/MAMUAHwDx/9P/Nv8h/+L+Df///pj+Zf5y/hD+DP70/ST+iv4Z/mz9ev36/fz97/0L/oH9HP18/aX9tP0z/ZT9pv3M/ab9ov2K/bT9tP02/sP+E/8y/zT/V//V/1kAVQBU/8j/UABHAM3/xf+QAMQA8f8YAEQAVgAvAOP/6/+s/+b/7f/J/3f//v4O/0T/OP9A/2D/H/91/+P/BQDK/7j/FAD1/y0AZgAKAKH/Gv/E/5r/4/4z/2D/j/+9//P/EAAfAOv/r/8ZAIIA5f/H/+7/jADOAAUBKwEGASwBKwGeAcUBRAErAZ0BIALJASABOAFxAfwBeQFoAYYBuAHUAW8BiQHuAJwAiwDNAGMAFgC1/xoAKADK/zT/VP9z/z7/Hf83/2r/Xf+3/zAAVQDnAOoAQAH/AJUADAH2AM0AdgC+ABkB2QDtABsBdgFwAcoBzgHVAfsBlQLtAg4DXAMOAx0DFANDA5sDjQOgA/8DhQMCAwYD9QKvAmYCcwKMAu0BHwKCAvQCdQLnAfIBKALxAU0BpAHPAc8BogFjARIB8ACkACUA4v/q/wz/BP/3/nb+yP2A/Zr92Pxz/HL8zvwp/ez8+fyq/FX82fzz/AP98fzk/Mj8ff1R/bn8uPwR/d78Jf2c/Zb9R/1A/aP9KP42/tj9av7L/vv+Uf8x/2T/AwCxAPH/+P+3/+b/RQA+AO3/iv8lAIYAWADL/xYAZACMAEwA5P/f/zwAxP+8//L/7/9//07/H/83//3+6/5S//f+9P7d/rX+yP40/0//yf52/pP+I/85/7v+z/5B/0L/4P4z/xT/9v5k/67/W/+V/7v/j/+E/z7/8v/x/8b/4/9s/8D/DwBOANf/3//+/zcAawDI/1n/f/9b/yz/+P4d/+n+OP87/yn/Cf9U/y3/U/87/zD/zf4T/6D/+/7V/mL/TP8B/wv/nf9Y/7X+vv61/g/+WP58/jH+dv0//Yv9Pv2G/YH9hv3j/Q3+t/11/Tr+Z/6V/ir+m/6Z/w8Aif8U/yj/s/+4/6H/kP95/1r/JwA8ABwAWADtAGEBEwEcAYUBnQF4AaMBxQHzAc4BBQGZANkA+wCeAGoAGgDuAIYAiQBkAGAAbADHAHgAwACgALAAmQC2ALAACwBSAPMAcQF2AXEB0AEAAtwBIwKFAp8CTQIdAkkCZQKaArMB8QE7Aj4CVQJeAgYCDQIlAuMBiwEhARQBQAGzAI4AjAD7/x0AIwG6APL/5v8vAKsAdADv/9H/EACU/wAA4f+o/6T/rf/9/14AYgDJAHcAJgCFAFQAgwBmAKUANgHGALIAZAGQARsB+gCcAfoBqQH6ATgC8QEQAn4CsAIdAuMBkwJEA8gCDQM2A/kCsgIiA0IDPgIHAkECLAKEAWYBMgEzAdEA8gBsAQ8BLQASAN//Vv/y/k//M/9l/n/+xf4b/tP9q/3X/Wz9Hv3R/fD9x/2//Sf+K/64/bD9Sv6//ZH9Ov55/tP9Tv7g/tf+BP4y/qX+Ev79/bf+mP6M/Zj9q/6U/sr9G/4s/7X+L/76/h//3P7Z/hb/+v7H/ir/e/9r/gz+wf6O/v39wf6l/hz+J/5v/nT+Kv7b/i7/xP7U/n//Zf/U/uL+Qv/3/hL/lP+///b+w/6v/30AXv89/xwABgAv/yP/wf9y/6n/NQAxAGoAZgDBAC8B5ACIAOYA7QDIAFoBlQEKAfsAkAEzATAB0gG1ARcBvgB/AJ0AlgBxABcBWgGuABcBZAEgAfwAbQGCATUB/gCfAbEBYQHwANQA5wATAbwAsAC9AMkAegA5AH0APACz/3D/mv/T/yv/vf6D/rr+IP8//47+b/5Z/mz+Av6O/e/8Df3M/b39Av2u/GT9iP1V/QD9qf1Q/lz+1f00/tH+ov5B/qn+7P4o/2//0f+W/6T/AAC3ADEB4gDOAKwB+wEcAh0CFQLVAYoBtAHZAQ4CbQExARsBlAGMAdMAEQEEAWgBUgHoAKUAIwG/AKgAVAFuAbAA/AAnAWkB7wDXAFYBRgEwAXsB4wHdAbUBjgKqAokClwKwAqkCdgJoAjsChAJAAvIBnQGmAYEBSgEAAdoA1gDVAAYBHwEgAZkAcwAFAdUAhwAWATYBwwDQABUBNAERAb4ALgHNANL/3v9yAKoAeAD1/37/CwBPAEIA+/8jAHEAWgBJACUARwAPAPL/6P8wAP//JP/c/xUAhP+I/7X/GgDv/+f/vwD/AOsAkwAmARUBWQGbAbkBDwHCALQBxAE2ASwBzgDOAD8ALAD1/wb/iv5u/of+Z/4H/r794/3Q/Qn+df6j/bb9Hf56/p79vP33/Rz+5f1U/uf+qv4u/gr/nP/Y/oP+UP+5/37/V/+c/7//xv/o/3kAjQBYALMAEgHaAD4BiwHQAHUBuQF9AQQBygCEAVUBlwC9AJcARAAHAHQAeQADAAIAvP81AH7/KP/Y/ygAuf8lAB4Axv8LABEAHABTACAAWgCJACMATADEALgAggDZAFAAzv9GALkA7/9X/6f/zf/F/0AAvwCEAEMAygC4AEEANQB4AGYAVgBsAMEABwBvAIYATwBnAHEA+QB4AMP/OQC2ABAAgP/I/yIAFgAhAGwAiwBpAOMABAGhAWcBWAG7AXoB1AEnAdEABAE5Ac4Axf/M/6gA1QB6ALsAdACCAJIA5wB0APr/nv8a/x3/Rv4I/sD9gv2Z/Sv9XfzP+xP8Ifzp+7n7j/to+3n77/v6+8n7Dfsi+6X7QPym/Jr8F/zo/FT9bP1x/bz9Kv6W/hf/+f56/rT+OgBxAHQACQDvALAB7ABwAXcBFwFKAfQA1gAQAdAAqgBDAFAAVQDU/+r/UP96/+b/NAABAIT/uv8zAJcAJgAvAPj/xP9qAIAANwAjAPcA7ABkAFUABgEaAe8AJwE+AZAA4gA1AfsApgDdAJgAhAD4/z0AwQAoACQA7/8hAPn/RACn/4P/NP++/wUAp/8s/yf/JP9j/33/lv9S/0H/vf8hADoAjwD/AAIBbABwAE0BswBKAJcAOgFqATUBgwAtAFAABAAZALv/Wv/m/yUA+/8XAJr/s/+V/wAAdQA3AJ0A1gARAfIAfAG/AWoBwgEzAoQCAwKtATMC+AHdAZkBegFaAXcBaQECAYUAqQBWANr/JwB5ANn/Zv/v/4oAfP9o/8r/7P86/zb+dP5k/uX9wf2f/oX+Jv4F/qP+3v65/vX+Wv8C/2X+pv9EAM//hP/q/+v/dv8CAFAAbf8n/6X/5//A//f/iwAqAM7/PQAUAC//dv9VAI8A+v+H/yQA2P9sAG4AJAAEANj/7v+rAFIA9f/u/18AKwBCAAoAYgBQABwAIwCn/zr/e/8pAKz/vf8SAD7/zv7d/vX+8P6R/tb+zP59/rT+CP97/ij+Jf4z/vL+1f69/jn+5v75/vn+Hf/L/9D/p/9E/7j/JADq//X/rf+e/6L/BwB3AOEAkgBfAMMAuQCkAKMAOQFjASsBtgDtAFMBgAHSAW0BnAFcAiECkAGKAaEBAAHgAF8BUQGqALQAsAAjAH3/jP+w/wsAYv84/z7/Gv8E/zD/Av+W/if+9v3U/dT9oP2I/ZD9tP0M/Yj8d/2y/ab9Q/1w/a798f0i/Rb98P3t/cf9af6K/ub+Rv+M/9T/tgCVAJkAigC/ACABEgGUAZgBlAGuAXcCzwF6AYcB1AEOAjYBfQF8AYMBVgGNARsBuQDHALoAtABlALUApQAFAT0BBAH0AEQALwDXAL4AhADyAPcAsgGuAaEBAgJ2AlYC7gIXA7kCtgJQAi4CEQJUAqMBEgKGAj0D9QJUApACOQPvA9kDvwKjABn/Qv40/vL/0QAaAjUD2QPZAzQEmwQ/A9kCsQDzAG0BPQG8AMP/Gv7R/Rf+sf7N/4gAEP/x/V/9Fv53/uP+g/8M/in8kfui/Kn9pv4JAEoAWf+4/kn/8gBRAdIBqgELAjcCfwI6AxoEhwQQBFcDkQP1AxoESQRQBBYE6QN3AzkENwVaBQwFAgRlA58DigPbAwYEoALeAX8BcQEAAesArACi/8n+8v7n/qr+Ev5E/g3+Sf2t/Xr+G/7O/T7+Mf6d/cT95v1j/sb9jv2y/cr9cv36/S3+Zv0G/iD+lP28/Vf+F/9N/7/+EP+P/0X/Lv8AAAsAgP9I/8f/QgBPADcAYQAUAPz/qwDPAJYA7gAHAagAVgCTAOEAsgA7ADMALAB4/5X/Nf8x/zz/s/+X/zH/YP+m/3H/EP8A/93+5/7z/gL/Cv8q/xb/ef81/2z/pf7W/uD+m/5I/ib+AP7t/fH9p/2F/Xf91/3n/cP9Bv77/Wb+Sf5g/jH+y/0A/g3+Nv43/pD+rf7A/tT+Yv8e/5z+fv6J/lb+nP6V/mD/8f61/oX+Wv+J/1H/+f5O/wr/A//8/rr+jv5//ob+av5K/in+Ff84/zr/3v4g/lH+X/53/tT9nv3P/an9Wv1G/ZT9hf0k/Q3+W/5w/uf9Yf6j/t3+d//Y/w4ALgBjAHcA5QBWAYEBNwFYAYoBWAFTAJEAAQGCAccBmwEwAjkCLALLAkcCywIFA7cCIgLtAeMBgwF/AckAxQAqANn/9v+t/7v/+//m/3v/Yf93/5b/ov8IAI//nv/E/6b/DAA1APMA8wBeAGkA3wAgAZwB3AEDApIChwKuAhIDPgPfAw4EtwOVAyIDdQMbA4cDlAPKA0IDAgMNAwMDBAPSAjcCJAIdAuIBkQHGAQACvQEZAVEBUwFyAZcBNgGtARcBhgDJAI0ADgA+AIj/TP8O/0f/u/9B/yT/Ov9U/43/y//6/7H/QQAbAHT/d/90/zL/6/6C/wUAVP83/7T/NQDj/9b///8wABYAzP+nAJEAHABsAMEAwQDlAMMArAAqADgAYAAGAAEAyf/d/2v/af8uAEgAyv9z/yUA/v98/1v/CABmAPf/af+e/8//h/96/z4Av/8e/1z/EgCb/wP/kv4r/zL/8P4g/lz+df7y/qr+o/7n/gj/Df/k/sH/5P8U/87+Wf96/6r+i/62/sL+9f0p/on+ev7a/s7+bf7w/hb+wP0w/gf/vP52/pf+Rf8M/8P+Df6O/rT+Ef6J/r3+Sv97/z7/TP9+/0n/3f5k/83/W/9V/67/UAA8APT/5//4/4IAqQA3AKYAeAAHAKQAJwFlAXABywCcAWABQQGDARQCbQLPAScChALpAd8BFwLoAb4BCQLVAcoB0QHIAb4BdAE4AZYAqgCkAGUAPQDI/5b/Rf+c/0D/tP4M/yv/xP75/YP9dP36/WL9FP0j/bH8RPx+/B/8jvvk+4L8F/xb+3z7svt8+9P6mvrJ+p36ifpj+t/6NPsH+yf7cvtr+xL85PsF/Ib8nvxr/DX9of2z/b/9r/4S/7r+cf41/zEAEQDM/+v/IwBXAFsA+AALAggCDALhAvMC+gKaArkCWAJWAhwCmAK9AhwCPwIbAqwB+AGqAUgBkAH7AVsCEQJCAUEBIwIJAi4CSAIhAjUCcwLeAfwB5gFhAT4BFAGbAWsBOgGxASICYAGtAIwA0QB8AF0A9P/t/w0AhP8E/4//Uf8P/wX/1/7H/tj+Df+A/1D/p/4G/wz/Dv85/wX/Ev9L//r+Yf+2/57/x/+3/5D/GADT/x8AuABZACUAUAB8AFcACwBgAIIAnABXAOz/df/Q/iH/i/9r/6n/pP8p/yT/Gf8b/13/e/6B/vf+u/6u/lv/vP9V/3r/4P+xAE0AQwCqAO8AoABdABgBbwBVADwAuQCLACkApwASAXUBBgE4AbEBQgFyAdQBBwJ2AjkC+QERAjkClQJaAhQCUQLTAtgBlgGyAvYCVgKFAjYCOQJHAuMCjwP3AkIC4gLdApgCTAK2AjUC/wEIAqMBOwINAvIBJQH6AN8AFgF/AQIBvACwAFEA5/91/2//GP+FAJgB0QPrBHgDiQIFAG4AQ////VD9Vv2x/Zb9zv3K/kYB1QHSAuMD2wTFAxQCWgE1/+39df0R/YP9r/7n/l0AbgA+/78ARgG/AEwBdwETAfn/YP6N/hv+L/6W/yUA5wA9Ae0B3AL2AlgDDQTJAZ0BIAJsAj4BMwDaAIEATAB/AQgCAQE+AskA8gGFAhcBlwGM/xX9S/3S/Hb+/v+eAWsBVQGsAJL/+f5y/eL6Svr/+8v8CP42AK4BkQGO/zP+7v34/Pb7Kf09/kb+MP7E/uT+VP4i/1z+2f36+yX8+fx7/aL9kP2s/l3/0f47/4H+ov5p/hz+YP1h/BL8uPwZ/fH8qP3F/Y79rfwY/Ur+I//V/lf/8P60/h7/rP42/5X/9v/w/yL/UP6a/lP/5v/i/2P/3P5o/8gACgEaAT4B1wAIAdr/aQA8AbABcALjAnYCVwG9ALcAmgH+ASUDfASpBIoEGgQcBAsD/AFUAsgBVwL2A9wDKgRhArwBGgLLAOYAyQE9Al4CMAJqAt8BCQFIAYYB5wEqAvQCGQOWA1kDvQKkAvoB+gEDAogBhAGzAa4BZwFvAe4B4QHzAccAJgE0AdoA8wDuABcBEgAvAHAAFACx/z3/if/A/0X/AP+u/vv+ff5T/qr+1P12/br9j/77/uX9hP5Q/sX9Xf3D/ev9Ov2C/ZL+6f3E/O38PP0P/Z/8Iv1n/ab9Zv2a/jX++v0L//r+e/+l/7r/jQAZAaMBFQKZAQQBxgFxAXcBtgG9AcYBTgHQAYgChAJkAgoCYQIyAZsBEAL1AaIBPwKgAgECswAbAbgBAQFHAMUAugDA/+z/HgA+ALv/rP82AJAADgDuAHABXgEzAWMBxQAVAT4B1ACHALIAAwAVAHz/HACgAJz/uv7t/h//Av9o/hD/6f74/QX+T/7b/Z39LP7//Zb9pf0U/e/9Gf4n/cD8J/1P/Q/9Lf1i/VP9Zf1S/VD9Pf6U/rv+U/7a/tD/lv83/8z/OQDx/6D/p//1/r3+Zv+b/xL/Y/7u/mr+B/4O/4j+4P12/cz9JP5y/Yf92/3x/Vb9a/0n/e38Bv1B/RT9WPwF/WH9X/3t/Pf8Sf0S/fn8y/xD/Wr9hv37/eH9cP0M/rP+Mv6g/Zn+eP7C/cD9s/6H/7b+yP6v/2b/Sv+2/9j/av9x/4oAEQGwAAQA+/9cALj/9P9IAO7/9P8xAFgAbwDBAOIBBgJrAVYBCgIPAlsBngEGAogBDwHcAcgBygBTAGcANQBTAM8A1gEKAQQAdgAhASwBEQFFAMEA7wAAAc0BHALpAbMBXwKDAqoBOAIeA7wCEQKWAvMCjgJ0AqcC1wKiAl0CKwIAAmYBDgJJAv8BNwLbAlIDEQMsA78CQgIcAtABrQHFAFMBzwFKAYAA+wDLAMwA1ABWAdsBIwHCAM0APwGGAOQAUAFnAIgADAFMAX8AaP+TAOsAkQBWAJ0AZAAoAHkAzQCCAPf/NgDUAEkAwQBLATYB2QFiAX0BoQElAZ8BpwGGAakB6QGnASwBdwGgAY4BwgHLAcYBlgFaAaMBtQDN/6j/HgD3/1L/I/9K/z//1f7G/tr+0P5e/6n/6v7u/tb+Af8o/yb/FgA/AF3/wv+cAFoAj//U/xwAvP95/7r/cv/x/q3+Mv9k/4D/5/8qAOQAbwA9AEYAYP+N/8H/Mv9l/4H/B/+1/lD/bf90/1X+s/41/63+pv6n/tn+nf4F/m3+VP5E/ln+8v7i/rX+R//M/w//8/7A/1j/Jf+R/5T/ef4u/lD//f6g/Z39S/4F/pz9ef3j/V39kv30/QD+gf6s/gj/ov6j/sz+BwBAACYAaAAsAPwAkgERAQAB/AB6AYcB8gAPAY0BjAHqATcC9gGAAf8BkgJpApwCLwPFArQCmgK0AlYCCAHWAAcBXAAf/13/qv+7/rj+uP5I/qz9E/40/gL+sv2a/W/+9f1c/dP8Nf1h/XD9VP0M/a38n/ws/cj8ivwI/W79XP2p/S/+Uf5u/hv/7f84AGr/OACEAOkAXgEhAYQBgQFqAsQCJQJxAgQD3QLpArMCUQLfAnECjAIQA/oCeQKhAlwCOQJ2AtQBjAGNAKAARQHWADL/Mv9//97+Kv7f/dL9S/2M/Bn9h/y4+0n7svsl/NL7m/vF++X7WPx7/e794P3u/dn9uf51/8n/cgC8AJAAgQDoACMB7AGqAUoC+QLWAhcDwgLiAykEHQRaBfoEYQVpBVQFMAUmBccFxQWkBREF7ATtBMkEuwSoBN0DPQP6ArYCwgINAuoBUQGrAOEAlgCZ/w8AFgCa/yr/bf5i/tv9yv2Q/V79LPzC+wz8SfsE+pX6zfpr+kn5Yfnl+fH5tfoy+rv6/Ppr+9/7Jfwb/XH9Sv7K/k//CgAwAKAAfgFTAcoBdgJSAtICCwPuA+0DiwRMBGUEMwRrBD4E8gSBBUIFpgRoBP8EbgTkA/EDxAMOAwoDNQPkA2YDRAMOAzUCYQEdAcQAnP9I/9r+MP6p/RP97fz5++f7GfxO/Hz75Pr1+1f8KPwU/J/82Px2/N/8Uf07/XH9aP1g/uT+av+BAOkAtAD1AbcCtwLQAo4DkQSNBFIFMQb4BT4GBgfwB/8HzweTCF4IjgilCLUIFwgmCFUIHwduBpYFCAWABFED7wIiAvcA+gByAF7/NP5t/nj9ifzw+sj6dPqE+aD4MvhO9732rPb99SL1Q/QG9G70PPRi8+TyBfMO82PzDvQb9OLzJfXt9Xv24vaP92z53/n3+Yr7xP1Q/gf/cAB7AfsBSgJSBGsFlAWWBgsIjghhCaMKlwu9C1AMLA0NDaAM5AxsDbQMrgu+C/sLTwukCgAKpQiVB1gGggUcBMgCeQJWAaf/xf1m/Kf6EPoA+Zb2KfX89ETzc/GW8P3v2u7O7WHtvux564jrDuys63Xrc+vj67zrmOuL7HbsHu3r7QzvO/Db8CXyqvP39Bf38vhA+6v8bP4tASIEpgUtBzQJUAsNDQAPDRGVEqYUbxayF7EYdBkUG70biRxeHWoddx1iHdId2x0JHWgc0xvtGmQZlxc5Fn8UgBIoEJIOAQxDCd0GIgTBAaD/c/wS+cT2IfUo8iHvd+3C68ron+Y+5X7jgOHo32ff3d3W3O7cXNzD2wXb/dpk2xrbkNsv3HbdQd7p3xfh0eJA5cTn9OnJ7Knw4/NW9iD5D/06ARUERwf6Cp8OURLoFPsXdhujHpUhYSQsJpEoNSvPLB8uTi+4MFcxqzEcMuYyojIwMX0w5i8pLmQs6SrnJw0lSSPKICgdDhrOFuUTSBA0DMwITAWlATb+VPud95TzcPCU7Zrqk+Zx5NvhHd973Ufbe9kp11fV2NQ60/zRNNHZ0GnQ4M8p0JLPus/r0CPSHNOI1W3X+dgE2k3cu97c33/hueTA5y/qqewJ8PvyNPUP+dD82v+FA0gHXQvsDf8QSRUyGCQb+h2sIAgjxyUZKT8rhCz8LhwxMzLcMgc0MzWMNTI11zRsNDYznTKDMikweS6xLe4r/ynVJ2Mm+CNlIboePhwQGQQWmhOqEBINzgn3BpkDAQBw/Fn5/fUw8u7udOwZ6dLlMuOj4P/dj9tX2S/Xb9UE1G7SNNFs0DDQHtAczzzPhc+wz+bPxs+K0NbQMNIV09/T3dQJ17TZaNvX3Z7gTuOA5gzquOwN8LXzIviK+/3+vwK1BlQKdQ0RERkUoBc7G3ge+x+hIoclqSe3KYQrAS1WLnQvhjBZMRgyRDLZMaQxnzHyMOcuXC3gK4IqoihlJvAjqSHoHr8b0BiaFQMSYQ4uC5EIvwSyALD8M/n09afxie4667nn/eNv4V3ecNu12P3VJtQ20h/R285lzZTMhMzLy5jLjMtny6bLbczazUjOSs8O0dbTYNVJ1m/YrNoB3RbffeGp5GDnf+pU7cvvsPK39oH5vPwAAJIDUgYPCVENehHnE0IX0hpGHXgf+SK/JacnCiphLF8ugi+OMcUyWjPKM/c0PjXLNKM0rjQQNA4zXDI+Me0vpS79LM8qJCgcJqkjpCCMHqwbGBl7FXwSEQ9QC/gHIwSGAFn90PhQ9Xvyw+5S697nKOX54nTffd2B2+fYXdeG1jLVbdOy0fvQYtDzz/zPZc8Yz6zPvdA70a3RO9OM1ITVMdfY2HbaKdxv3kXhq+Nn5Y/oeutI7uXwa/R1+A37xP7+An8G2QlLDSoR4xTwFy4bGB7nIFsjYibJJ3sp3isFLisvZjAGMp0ydjKFM1I0TjT7MpQzYTPdMYkw+y40LdgqVinLJyUlIyJOIDMe/xo4GMoVoBKJD+wMmQl7BegBz/6i+0z3+/OS8Sruyupb6H/lHuKQ3ybdFds22GzWeNV104nRftCC0E3PKM/YzyLO8sygzOnM1c8S09/VEdhc1qLUetcy2SDc9d5q3kDf698O48Dnw+kd7BPtAO5m8DL0Sfkg/CL+EwFPAxUGkAqGDnEQthH7EgYWiBhUGw4fMiHFIdUipSR8JhEo8ykzKzArYytpK2YryythK+sqJirIKGAoNidWJiclySNfIXwfmR0HHLUZgxcCFbAS9Q+6DO4JSwesBGwB/P24+rj3FPUK83nws+xW6S/nMeXq4k/hhd+z3RDcVNqg2ArYWdcf1x/WHdUw1crVZtWJ1uXXnddc12bYfNqB28bc5t3U3oPfb+Hw47Dlv+Yv6JTq8ez47pHxjfS09vH5Z/2Y/0cCOAWkCBcMLg/YEAwTcxWlGG8bBx7jH/wh9SMXJugmqSjFKRor6CwGLvEtQC5wLVYtwy1pLeUsPCtGKYMnMybTJB8jfiGlH8Ec/RlfFx8UxhDGDkQMOgmpBfMCzwCs/cX6B/jw9a3z7/Fy77TsgOls6CPnVeU944rhS9/43TDd1dxi3EDcL9u62jzbHNt+20fci9yV3LDc89xP3nffmN/t4P/hmeK54snjTeRw5tfoguuy7Bvunu8F84P1sfcx+rv8LP9vAVYEzwdmCTQLKg6nEJsT7BX0FxQaxRtvHZIfXCFeIksjkCQlJfYlTibvJSomDyeqJicmISRpIqcfkx/aH58f1B+WHwobqxNZD+kNARCOEYYUPBT5DO4DVAAx/of+zP9HAuL88/am8jHzvPHj8Xrzw/H86eLk4eSB5djjouUY5ZXgB9xz3J7efd063h7gY97S21/cHt9q4GvgvuDE4T7gTuHf5Kfnfeik6Snr4Osy7B3ugvGz8iH0RfZL+Uz6Fv0Q/8sB5gNIBv8JZQ0mEGYSXRMvFnMakR1fIAEhDyFCIgMjNSe7KYYrZyvyKf4ohCcyKsQrHCzTKVEnHCTFIUYiXSPbInUf1BsfF20SLBEjEVoP2AxnCUAFq/6J/JT7g/ox96/yAu2d6K3l0uR45AXkgeAC3IPWyNQK1/zZVNrl2JTVN9NB0oTUL9jp2b3as9gz17vYMdy44XXlWeWf4/Xi9+FK6drsse8a8D/uOO3l7RLyV/ls/C780/qd+u39OgKeCKoNEg2+C3EMcw49Er4XgR2FH9wdaR1uHTYimSb7KzEtTislKvIq3itFLg8vhi+rLZIrPSqIKGgpCShwKWgn/CBNG0oWuRPTFSQVRRRwDVYHJAN3AJP+KP4k+zH2xO/D6y7pNOgD6MbnzOO531rbdtlh12TYUNln2CjWs9VM1lPXM9Ye2JLZ+tjU2EbaEN0u36jhI+YW6G3oxeiv523ocOja7Kzw1PJr8W3w6vBa8Rj1O/oJ/m7/t/+G/wAApwQ2DPsQ2hE8EnQShBNEFw8eEiOfJGYkCCWaJLslESuTME4wFC6kLAcr/CqDLnYxezIqL1sr3yZlI3okayiOJ0ki0hqdFKkPcw59D7gNLwnNAd/6IPUZ8jX0R/O97ujoz+Ie3pTcUN2W36Xefdqx1MnSDdIl1VHYv9lj2iLYbNZI19zYRdxo3nHeyN6G363iDuaN6WXqfecD5tjia+bZ6D3qje3t6Nzl+eVW6SHwufOu9SP4uPUx9/T7+wKZC10OGhDeD1ASwRdfHvYlESzcLmkvAzA5NI06uz/ZRABFpEKvQEFBpUSAR/ZIRkfwQQo8vDcjNrA2sTRuLwYmOR21F9UTwRAhDgMJIgED9z/wcOxu6onoUuaM4ZHaVNWs0/bS5dLU0Q7PpMtmx4LJNcylzVfQbM89ztvMt8yu0nnU/9U52TTXitkm3oLjFuqR5WHitOCe2kTe7+Gj5tnq/OPt4DDeft4m5xXuDfOu9rTzivMO9dT7TgeHD2AVABfuF5gaSyB0Kpsy/zhYO1A8W0ARRD9JZk7gTX1NgUsJTKtPTU6zTfJJXkJgPWA40zjONlwvvSdsHN8TdQ7uCr4KYgRg+/zwreZY4g/fst/j3OfWTtAzyMbFasbsx7/JM8biwtrAmcC1xdjKws1szZjLfcqPzVbP9dNb2OnWTdjy21XfaugF5yjlWuLb197ZV9tI4IjoD+NC4bzb0Ncb4hnmhPBV9l/2Rfnx9qD9LAizEDwbVB5fJD4o3iyHOBY/dUZZS91N+1TyV69b417SXBNcEFoDWQFdLVyPWaZSLUdDQTw6sjbBNH0tFiUyFysLsgOb/H75L/PU7NDk3NqW1OzQ5c4wzf/ImMZ2w6/CN8MNw3nEEMKiwpPFYMjDzw/SndPe013PodJy0zrX/Ntz117Y3NSl1gDfTuLR587iBtqX09HM8tCV1dXZ/twm1gLUsNBj0k3bfuGf64bxPfbA/boAGgk3EPIW1B8MJwEzWj5LRjVNt1A4VL9YeV9HZ9prjW1rbPVnvmNQYexh/WA0XARV+0rzQGs3KzClKlMhGhjPDqQE0/209nLwF+rh4Qvchtci1GzUbdLN0JTMDcmKyELJmc2U0H/T3tKaz7fR8NAR2A/dC92I4Y3a7dgN2S/UUtxm2PLXhNgq0bXY0teU2PHbtdL10g/Onstz0CrNQ9Byz+vNLNGV0SHYAt0J4hTqlvGT/LAF3A7tFtEchCJ5Kl01tkPkTu5WFF2cXt1if2a1aZ9wGHERc9Zv1me8ZKNeuVu7V99Ne0cnPSU0qiykIgoaNw8CA3b5t/Hw7XjrKufx31bXZ9FxzfDM5c4K0aPSk87eymLLr8wD01XY9Ni92BXVw9Rh2HTZ7t2j3izbqdj/1U/VcdTW0cLOTsqyxu3G082c0BbScM9QxfzC3L+Ewv3JQcd7yxXKCchPzUrN4dTX2q7dTeiL8S4B5Q9yF40gHiQgKTUyfj17TVtZ4GPRafhp22sDbj1yjnOpcghz42/hattlGGF5WvlP1EZ7Plg1Yy1CJmsfSheBCpMAqvd/78vsnun66JHlZd9F3vLa3dmZ2Sba89u7297bgNwh4B3hWuNn5f7hsuMF4oXiDeSq4AXh49tw2DTWm9OQ0UjL0sdVwIzA6sMTx3PP3si9xuu+HrR9uum4TMG+xqXFzc/0zV7UBdoj2VLfLN7d6OT2kgSFGAIivinWKewoHTFVOW1IU1aFX7FmWWckaf9rPmtgagxo2WTtZApkRmODYD5XFExePg00Oi55Kn8pOSQOHUoSjgfYAB75NfYk8p7ujO0y6qTsvey/6ijom+FR38LcKd6C4nzkf+e95uvmo+RN4bHgotyw3D/c1Nz/3ELXE9dV0rvM7snoxHTH+MTUw/zGqMTeyiHQrtOD1PXJJ8V+wgTEiswn0XLW5dYf1kvZstsE4nfoZO2F8hj5WgXTEgsfuCp2MCMxMjKFN+9CcE2FVslfxGHcYPFglWKCZWtil175WvFTVU+cTP5Ki0agO6Ix2CYOHYEZFRnSGNQTkQskBYL84fiU+GP40fYI83fymfI78xX4MvgK9Xnvyupl69ntavII+Nj39vPm7iDotuRT5QDg7d9p2tLXMdmx00TXItRAy9PDoLkduOG8o8CTzEPQxM/Dy0jE+L73vcW8XcAowkzH0c+i1Q/b9t8W4e/g8N+L6Hn0MgQNE4chKCpPLkswgjTxN8g/V0jhUCBXm1+XYwZmUmJoY5VY+lZTSdZNvkaSRulG3DojO0slCCZIFlQSxBJMCOIL+gAXBAT8PflB9dLxdO/56WLuHey265nuR+zQ65PnUuYv46DkE+Nt6cnr1+Yq6GPfPdyO15vUGtST0EDNOckVyXrHTcWWxlq/8b3quE67IsLJyf3PVdXF0qfPXcpozPvL+9JW02jXktcJ2Vnfcudu6jTszOct7LjvMADeDychPClZK+gtOTA/ObtCmk32U/dVMFsFYJZp/2xDbKZn2V6xV6pSjlOgVItRoUpvPw0zySmRIpwewRZvD8sJrgR0AEL9TPsl9+PwvujZ4/3h8OM86OzpG+q/5iTjweFC4A/hbeCj4S7jDOTN5cHlFuUt4G/Zj9MSzwbOucwtzkzPsc0vy6jFlcO4wCS+kr71vbPD2MrI00Tbvtmt1ijO4MZ1xeLHi9P43sHodO1/6prqpezs8hz7QgHBCXISpB9WL987n0PAQ59AVT19P4lI91U+Y5pqEGwiZ3FhvlzTWAFWAFDrSRtFOkSKRv5FHEHKNAklSxdwDzUOPw8iEDMNKQbA/R33QvMY8FztS+ql5rXkEuU+6Y/s4evq55XgyNvW2jbdEuJh5NvjMOHa3BncTNuF2bnWMdAEzUXJNsmozazN0c7syKjC174Pu4vBgsl/0qPY9tU70sbLkMmEzS7Tc9n62+DbzNud4Hvn7u328D3xhfJ4944DshMgIxQubTIUNBU08zVVPYtGwFCkWIBc216MYK5j6GXRYrNdgVa6UFRQ2U+HUAVNbkZmPusy2SisH3caXReHEisP3wcE/zn5L/Jr7t3o5ONB4XfdC9103q/ezdzx16nUANN50uXSDdVG16TYKNpf2ODWjtTV0gHTuNFY0m3SdNLK0jPSidOs03LS9c8wzCnLVM600SrYAtxp3pLe/tjx1F/R+dCJ1H/ateNy6o3tg+0R7MDtNvFK+SUB9gjVEWsYUiFgKMYuHDQRNqE2pjgQPQZFAk4PVHdXY1buU5hQT05PTRNON00YTItIz0OjPiM57TTaL58qNSOPHMAXMRPAD3wLTQRG/KPzl+yq5/LkZOQ95QvkUOBC3FXaD9nY2OjYh9hA2S3Zodqu2xfbad3G2sTZy9kq1yPYBdaT2OPdON+c4nXh9OCp30DeTeC439/iYecS67Huhe+w8ErvQ+vE6THphetp8Er30fxV/kb9tPs3+j/6Wv1OAagFLwppDoERlBNPFvkX2hizGAsZ/hpMHfEhPSjoKj8tby0ULN4qwygFKfcosylCLE8wNDKIMZAtFin4IjgeOBy0G10bxxlhGOUTGw60BxsBUPvx9dHx0O9m7UrtsewG7L3plOa75qriyOG53tDf3OED43vlm+O34tngn+Dv4ODgUeJ15a3nR+pO6VDq0+od7Hnv6e9F8cTt5esz7P3tlvHG9LL2qfVe9Bb0AfSm85j0hPWg9cn0K/Vb9y/7AgAKBP0F4QawBlwI/wkdELQUdBllHKIemiCaIckkAydLKJMqrCyKL/UwDDIgMwcyLzCILx0wfDDcLmUtcCuKKJQmCCWXIQEdixczElQMTwarAsT+DPp39B/vxupe5qXjZeJM4Nrgm97x383dzN0Z2uLaEdv/2t7dC97D4PjdG98v33fda+Pi5SfoTuS033Hik+Qh7T7wz+3s5ijfoeDd5IzpEe8W7KToa+UZ5nHqOupb7PHqJuqy6QHq3u0l8mH3Fftr/BT7O/oo/MX/5AZBD9cWZBtkHvIeqx5vIVUk4SiFLHgxajVLN1E52zkNOFs1GDQGNN4z+TThNDIzui70KcwkXh7UF8gTsQ/WC0EJ/wSvAEz6/vNY7djlGuEe4BbhLORe5Cfjw+B23Kzc2NyF3qDbEdxT3SPgR+W36NfqbOnQ5xvl9ub85+np8OvY6c7qYeqj7uru0Oq36I/kWucw6QHtu+1f7VLqoeUR5ZDlg+g27C7v1+/Q7mzt2O0q8Qz1ufrY/Z8A0QFcBOMJDBA3FisaIB2aHGMdpiOzK2Yz6TbVN343JDbANqE5PDsfPYc9gjvzOQM39jWiMnMuVirWJF0fUhpCFmMSbA+qCiwDOfwT9k/vc+p46BfmYuWb41nieOGj4OLftN+L3jHfIeJV4xbiqeGy4xzn5umf7UvuIum45nHkeue67IPwH/In7VHsOOvd72Xww+0p63LmJOVR6DDtTe9K8MftCukm5JHkH+fw6gbu7PFW8i/wH+9r8Lz13fubAXsEBwQiB7sOCRfCHG4gJiFaIAUj9ShXMNw2wzs3Pic+tD67Py0/9TxdO746rjlDOvU5SjjCMv8sTShPIegaSRalEXINkAuEB3UCIvvG8b7sgOjg5dvjK+Op46/kmeRp47/hdN+v3bTd1+BB5a3pFeo46+7pSuld6OXmOuSD513q++1p79jufu++6r7oa+Rv4vfg6eMj507q+O3W7AfoueKk3l7eBd9f35Dj4uh57tLwLfB96x3oGugj7ub3oAKGCcoM7g1PDykUzBp+ICQiUSMtJoUs2DSSPBBBbkHTPHs4AjaGN5c8M0JQQjw/WjmaMkouhiqhJqkh8xyQFxwT8g4VDIAG/P7z9rXvkOog6Qvp3eiF50DmBuP934beZd+k48zk2eX54/Tjf+QB5T7nVug+6A7nrucs6Nbpqen75lLkSOOt47HkZeU85NDge95i3KDdhN233sTfxN483WjbTdrk2PnaE9954XTjO+Ls4zXp+fCl+Dj+cv7F+3n8RgOYDrIbaiSWJikorijDLCYyZzcROmM7qT53QsNGKkgFSCtEdD96PL46ljoMOYo5RDdtNPQuMCfCHngXHBQ7EZoNIgiwA5j9tPir9NPw8uu35uLjx+Fj4f/gZN/x3Xvd4N2+3hHfPN7o3TbdOd3f29ved+Hg4aXjc+Pd4Evdotql2QzcW92B31XgXeHc4dHhsOC32yvZQ9gO2oneDuL+5sTmUOfF5s3jrt5C3DvcfeVr86P/JAaLBp4Blv0oAIsHuxEdG0wiXyjoLagxdTTwNNg0uTYEO9ZAO0YrS2FMB0uWRmdBAT4/O+g7nTwnPTA5dzLuLOUkKh4jGZUUDw+cCokIOQZjABf50vIa7GHmcuX95cPl1+QU43rifuBE33nepd7v3mfebd8o3QXf3uCf4mvjUd+l3TvZK9nt3ALkMuWF4TndWthh2VvcEuCa4efemN303mfi+eV654vmAuEC3n/er9++467on+999SH4+frH+ff31vhx/xAIKhG4G6AkZCpNKxArnyjBJmUqODMPPxNH8krlSWRGb0C6PCk9PjwtPUtAX0DMPoU6XDU1LlIlRx/sGlcWvBScFHwSJQu2ADD3pO7/6pzpeOwg6xjmZ+Q64f7d9ttK2+3bhtth3BHdgd2X3UPcTtxB27LasNyP3oHfT+Ji4tncENth13DZttzJ4XTorecO5Fbc+NUF087W9+H26lPt2u2X5oHhGN6G4ozmqepQ7iHvXPGt9Tn6FQPABkkHPge9B6MHiRJTIG4rKy/iLRgq3Sf8KlQ0Pj0WQdhB2j8YP88+Ez+dP5Q9EzvAONo3mTXsMzUx4SvfI6EdXBhpFNgTPBPvDVsE8Ptt9Mrx8/Fn8iTxdew55wHlFOJn40/jQuML3sncI9xN28vfoOCi4l7gx9z+3BHdx+AW49TkMeG43Fjc/N8T49fmAejz58XfEuC43QPfTOKf5cjnYOnN62vqZ+hp5SXiA+Q25X/ukPcZ+237OfcB9LPzHfbb/iMJqxAzFuUYARjxF98bpiCaJrcrGDEyMWgyYzcJPNE6dDnjNko2HjeMOi8+kDqxNKwvxii9JgAljCjnJQciVhoaEGAIKQUkBpgE1wPT/MH1I/D67l/tpO/e7nLqzOea4jbhI+Pg5VjpYOgF5HPe8dzg3xLkTOtv6qXnWeJ/3qveTOMn6P3pLupy5zDkteKF4V3f++I547PlEupA6T3qienL5R7f3N5v4yLqCfIj8Rb0n+2m6SDsCPD69Cf69v96AcQFiwiHCn0MLA3wFMEbgiBkJDooFimUKNcr5i6nMJsySzlSOzc6CjZ5MdQuRizDLRsygzFLMZAqBiNYGh0UTA97EkIUyQ+NDdQFfv109+b1bfS29ObxQvH68Kztcen/5J/hDOES4yfqeOw57NHnD+L032Xg8+CI5sbrzusw76buZ+vC7MjmOuSV5ZPowuzV76rtqe1T5jDl2ONr5ebuk+xM7xLjqeJP32jo2+659dv6nfDu7DTkBuu371H3QwGkADkEBgbiB0sEdgWGCUUO8RaVG/wfByCiGmkYGxxPIWQpmyzZLWorCymBI0olrye6Kx0sHConKdMhIx76G4IZyRXNEwwWrxNJEcINwwd1/xL2bfXN9/T7cwLo/DP6e+z35JzhreZW78f0NPNr7h/tpuUC6tznmOfR54TrafBT8VrxbfKW6mXs3Ol+7JXzje7L8BvqBesx6yzt/fqL6MLtcO395BXw4u0n8KHy2+/V6PjvRe+K7j7+CPoE9vb3ofJw+2r+Pgw9DWcRPgfCAPwDegeMFL4aFx5yGLwVExBqFiMYmCA3HSEZ0ROrElsXGyExJJkiNRnxEmsNaBD1D2AUFRN4EtkTKwyZET4MsQnk/5n2CfZU+yAIgxWJEn0D4/Jp5TbkQOeeAOsPOg4lB63xvOMn5qLpI/neBC36wPoz8+T0ffJ+A7/0wfTC9CTtkfnZAcr8mPhs9LDoHum+8cP+xgTc+P/2DeMy593wQPNsBH/5u/Rm83HttfAu/3r/W/w7/QHwRfmnAUEC6Qv9Bnn+NP5EA2YKNhcCFfMP3QHL9UkBnAp2FpgiOBbtELoBd/+XBZUNFRGpDwoL1ANRBVUIWQybEesIwAQOAZD4ef6nBz8AlQc3BRcBXgJy/2IA9wKy/Bb9tgLv/eAH9ghICNECN/qt+6/1af/rA9gKdwmk/uj3MvFM/Gv4pgexBYb9PvZr8wT6kvga/nr2U/lT83TxfPvZ/Jv/5vhm+I/2fu5pANf8pwJJ+iP81P+fAbj/FgJqAJ75AvpRBTAKrwjMDIEDwAPFBiUJ/gkdDi392AIdA6UHvQz3CvsHzAGm+8n/rwRrDjgB0gIO+e/03feoAEsC+/1L+P/5MP7B7B/9q/fc+TD8uPMh/4f8z/mPADX1gPrG8BD9UwFp9ZAGr/m7/1UAHQNjBDcFw/pw+ZcAxQHlB5QALQMu/ZAFRQJDA/n+J/R4+P4HewVYCh39OPTO9Vz3UATaDWT9zv6V9tT4iP8i/pgO3QLNCUL9XfYB+ksFGgShFCUL9fnnCOoC+wsXCvMDv/7B+2ULH/3rFJkRiQKLApb5QvGg/X34jhciFeUJovx4967kau9pBHsPnQQN/oP1Kuvn9Pv4ZBPxCrD1xe+e5qH7JfYtC8IRIfZh6SYAJQM2BWsItAQ49Cnw7fh3F+sExgn7CWLxyP6G79QFKRt//UcPVfw+6gj0kQNmBm4bvglS/Qz86tz5+vD/GA7jD/kAkPZC8qD/ZQktADgFcPZl80T3cwMsC3UQOAD3/pb3QezPCF4LQgh/ES8PAf8D+FLxKgxd/XcXPAg0BfYArwNJ+737bAPL9AEQovUaAUgRZAUBBbTwBOrL6M395BumJLYJrPGz3nrPQfSvEQcr0xBRCNfqGNp83g8GORC3IQURzPmf5mXo+fd4Ct8QHhXkBqf53P3B7VP8GhCE+5QaRwIj61oBu+1eAOAdIPuVAy36uv38EY4Ay/yy7Dvo7AooGFgVywQ88Mje0e5ICwYXBRv+Ckr9pvIv7fz9pQV/Gl8TBBI9Ac76QfykAg/+PRrIFj8IEwlB5APs5QV4H6IivCCu9Zbi+Nfi/vwQbi6xCp7nQvDi3lX87wxRABMNqvxZ9ZXrDOd+7b0I4xNeAkcACdk05+j6wwVsCDEIn+6n7PD8RAPG/s79IfcDAPf1jwtjBNwDbfPu/b73aPkaCi0CdQVi6vbkBghpCSQc4hKV8nHWdOTD+I0oRxjlEKP1gN7c7ukH0wLmBe8HcQax+k/55AL7/twIwwzj+nwA6+oiDm8acAu5BT8Cc/SO974PrBVKBh4BaQ6eAujw9P2kFvAHUgA8BF7uhuhUAYETtx3i98zw0OVn9ErzOhQICpv3afXD/3zzTOee+3MGiQXBEpPt6++Y2cLnzRdkBwcSYf/v7/b0Zf2S/QUHifQ8AMXuCAFUFY4KOxJZ5tbmsuxR85wZ2CEYEC3/SPKx6Ob1wgT/DocZJwMj8RTzKuZ2CTwh8RdYBkTreeF28UMNNhZ9GyMKvfJr+CL+vwSCDGYCZAUsCKb7LAaNCWcVOQ2R/y70hvAlAXYdhCAGD7TqqOlU7ycHASBuItUKKOGM5sDkD/ybFmwdJBGS7fbeFPQ29fkDJw5gBJ/wXe+89nD+OAgbBV/vf/la61Dy6A7I/o8HnQJX+ZXwWOzy9RYMEBGxFHD9Gesc46juYw7OHZAjovgP8Brf2+zfBagYuhV+AcjmK+0++T4ImRSGDCsGKudy87P/Jf7uDEUA1ASaAWP21gfw+1AHXP+ZBT4FfgKrAKIOrf4hEW0CNfu89Iv2Yg7CIYIZ2A4f9mnvwwDOAvoI6gk3BvUDPwGOBqsEfP1+/wj99/olAwEAzf+lAx4D6APL/ebvlfHw8YkDNw7XExoFXfQG4AHkeO/uEY8euAyxAsXtpfGq+4T8IwsNB0j+3v9/99T3tP8eB3oKxQMIALf1dfZc/Wb2ogrq/vb+d/zO++r7nfDgADT+DwNPAWD+h/1H+2X79P8z6gX8pAMXCUwQmPqr82b1uPJQBocR0AX7+ioBqvvTB4AEnQNI+678lQ24Cp8KmQTW/akNafta/W/9EPeaC3wNBQf9AdbwdPF69P/7GAw6BR4Kx/5h86n7hu9Y++j/8/TGCmr1Lf01AdbyWfpM/jP0qgIvAQ0FcvsNAKrpJPrV8I78iQvL/YgIBvp1/Lf9yPI3+U38AgmVDFL+zwQI6EHveQUGB98XggFk/cXtxurRAtYRxh/OEdz+R+s25bvszwVnFz8dIwvb/AjwdvDO+5gMWwoNA8r2SvYRAvQLNRpRE2AB1/Oi6jP6whA9G08TXAjj+g38Svu4D10Rlwn+AcEAtfll93EIsgYDDYMAcvlt+J/r0/w+BO8Sbg0nAgb/YvYn8HD1cgHZBZILOAq6Agj1De6h96LzlP70+eIFwvv5Aeb9wAQp/sH6XvYQ+Eb2rAJmBg8GFv5u+1v18/kv/ecFOgUR+5/53fk18iUA0PdxA6IC2AE0BRQIsPoO+4/4YvX8+vsEKg6HDocD5ANOBLv4MP7I/3YAaQl1AFMUUAhfAloCsABqA2kJiBNECd4JeQKzBTQC4Afw/XwIIgd9CiMLCAn+CRoGvv+s/P/2R/zoAPYFDwjeC9oESAHJ/xP05POx+Zv5ofsq/ioLBgtuB+MDEPRm66/gofVpBqwRnRexCWkB2+5i8i/3C/d3AUAFIwnZBjII+f3W+Ez6C/Vp/ej8OPz1By0FMgIIAED1pvfz+FMDfAQuA+sEHAB8/SL5wPhG/h4EVQV5BtkHRASTCFgFev3h9h/8sgJAB4QMrA6TDF8FWPtU/Dn7zvpMBQsKwg8bDYkGXwGl+NH2ovSe/N/9fwVLCTcIhAN4/R/3f+777lD49ANMB9IHXwGF/o70zPNM8Kjx8/YkANQJWwcoCWQB0/YY9kjynvkj/2MEnALkBI4CWwOv+hT1Gvgh/Jj9ZwUACEUIcQXt+JP4VfJp+X75OfyK/YsDOgnPBir8iPRM8V/vufKI+xsEdQU2CCsFbwPw92b1qfZQ+HoBoQcJEJcGUQD++1b2Rvmo/B4GqA6mEEMT0wz4BVf65/LB8yj1uwGfDC0P/Ra5DUkNqvlJ8Fjt7+/n9fr8SwKfDjAQuw/HBRTzguy+5Hfq9PJtAkEMYw5PDLkDPflv7wns++9N9HX8XQlsCzMO6wdtAO7zwO2V7mn14/3HA/II9Ax0DXYLjAHA+NXvs+919if+5gVTEWkSUguwADr3E/Lh9Fb78/5x/0MA//+/BY0HEQYsBYz+svhK9Yb4Cf6ABoEKRg7BCm4EcgNY/zIC0gAVAhMBKf99Au8ETQTVBs8F9AkMBFz/f/k0+Eb8MgMuBRsDYgFd/m3+6gOOBScFev1r+7b+iwExBcUDof+o/Hv20/kv/d4D9gmLCFkDuPuR+K37WvnA/QD/6f3n/C7/UAI4BDgCdAGU+9z2rfbv/DICygESA5wBHP6c/1/+VgOI/XX7N/wi/pL+QQBJAXoDggKSAnD/RPtz+6D9HgC7//7/aQNtBbIECAR0AUAAywQiBcYGiQcmCskLJwxcCEoK8wUlBfAEIwY4BRUDFgQMBtQDaQNxAkkAkvwX+mH4YvoU/Cz/gP0x+hD3gvbk+BT+dP6G/eT57/Vi+Kr7YP0QAPX/TQJuAhr/w/19/5IASgFd/2gA8ALFBdkHeweQCGcFSAKQBLMEKQjJBjAIDgZoA1gCQgVcCj0JKAmDBecDfgMOBCcFAgPNAfEBQv8bAD3/IgFtAB0CNQEi/4X/nf/XAAr/l/3L/dr8Wv0i/IX9mf7b/v38hPs3+436Gvv++s77s/uH+2P7Vfso/Xn9gfwO+wT6PfmT+y77m/wc/Hb78Pyr/L77uvrF+sT83P6G/Fz7B/w8/P383P35+yz86P21/Gf9nfxE/Jz8yP2F/fP8dfoJ/B8BKv8//rf9zPpt+zf9D/0K/df9Cv0+/ZT7F/qY/HL9hP3+/Vj66Pk6+mn6KPot+xH6Qvp6+sv46Poi/Hf7Wfvf+cf7f/pf+Sv7Wvu++9r5jvsg/oX9IwDb/qz/wvyw/AH/k/8//bv/lwA9A10BcwELA/kCngSIAxQCzgP6AgsE2gMOBQMFAgUzBHEF7wP+AV4BQwPoAU0BQQCeAawDjQMFBYEBKgIfARoBHALnALgC9wJFASwDyAIOBEsDswN9Bq4DRQUuBPsCgQIGAhsEzANpBAEGNwYTB30EWQM0Ap4CgQZwBEACogEMA5MBIwDRAVYDCQN6BK0FDAXMAUIESwY+BjsEwQKkAZEBIAIcAw8ELwPQA+sDUAKSAi0DNQO5A2oCUP9J//kADQKcA3EFTATiAjYB9AE9A+gBUQFKAHoAvP6+/loBWwISA8cBYwC3AE8Bgv/7/20B3AHOAYEAtgBRAt4B+wFxAmsARwIFAroBKwIHA2EDVgJYAP0AnwNpA5AB5wDg/wcAFQJmA1EEZwR2A3cDnAOfAUsCMAPsAiAD5wLxApsB+QCLAPsAdgCwAUQBJwHD/6T/xv8n/x7+2fwB/bf7sP1A/cz8kv1X/eD96P1g/bL9BP2m+xD9Wfsf/In7Nvtc+7z63vvz/M/7UPpO+kv6nfrs+Yb6CvtT+zj78/oj+mn7y/z4++P7qPvB/DP9gv13/hn+mv4E/43/Vf+J/qj/yf+xAHgBOwL0ArsDXAKsASECaAOkAn8B5QAYA9IDFwOhAqUCrwHmACb/zv3Z/iT/EAAT/8b72/qs+wr7u/ns+BT43Pd59/72x/Zh9jj0KfNJ8qLwPfJW867ztPP98nLyg/FU8SbydPP08RDx3vQn9gT2Dvig+Ef78P39/4MDyQN0BRYHiAfZByYJ6gpVDDQOihDyEHcRbhNzFRkXWxc2FswWzRf2GOoYVxcOF6AWghWOFE4UJBNgFK0TsBN+Em4P7QyGCmAJ8AcvBrsCmv9O/mP7afhp9Unweuxb67vo6uVH5Fnj7N+N3MHZzdj41WDSQtCxzALJPchsxjfFGsW0xu/Jd8zG0KrW9dn63fPgPeMH5xDrEvHT9vT9oAQiCu0PXBUSGzEgwCUIKxYwGjPDNEg4JzuBPPY8zj7cP9VBCUTQRkNHTUUYRVxDez+LPKQ3VTVOMmAwty0ZKlgkHyEiHXQYjBR8ELwL/AYdAzj+uPgH8tvquuV94LDc39pP2EHTFc/yy0/IhcVSwlq+IbxWuni7eb1Jvvu+sb7CvKS5NLfHtBG1orU/ue+9NcF6xDHLPdAn1iTc++CK547slPCA9w/+NQRUC1sSNRfxGz8i6yjcMCU3DD7DQ+5ELkb3R/NIt0nPS6NMIU4mT7tQoVJDU8pTu1K1T2JMhkpAR1hEVUNmP3s75jVPMUIsGijkI0ofaxr9FMQQXQ0HCAECDPvh83bscOYf4e3cXdhE1LvR6Mz/x6DFh8GAvni9WbpNuIa0HrB5sL+uxq2irgOsbKzNrCqskK9QsY61sLpxvMTA/sUWzcPTxdoH4vXnmOv17+j3fwBOCc8RqxirHeEhdShoL8w0lztBPkFBk0KzRYNKP0sDTcdNRU76TsdMYU4jUNJQAlD/S99HjEPUP5A+BjtrNvExiS2NKbUm8iDiG9MUwQ2JCFECuPwi+O/xA+zg5XDfYNrf1IzQTcxaxyrDDcHBvbC6BbiOtOKxgq8Er1avJ7D2r7ev16+MrdOtoqsErFauM7BgtH62lLowvzXDTsm4zxjVEtqK4efnH/A09an73wJXCK4PDBbRHP0jRCvdMtg4sj2DQrxHtUuPT6NRj1JxU3NUkFUzV+VYN1qXW0Zbzlp1WNhVv1FFTrJKn0b1QeU8cDoWN8Qy0itHJbwflhpWFP0O9AgFA238ufVQ8Fbov+Hc2xLWjdHCy5jGDMJlvk+8oLnDtJSxK7A2r9CuX61kqwmp2qW4pi6oaKlpqzCstaxBrlSwM7R0uC+9SsT8yQbOx9Ik2uvit+vk8l76NP+/BJIMDxV0HW8mkS1gMwg4Ej2EQ0FJnk7JUpJVUlYqWOda91yuXcxdcl61Xe1dbF4tXeFafFdrVBNQrktoSL1FFEH8Ovo1LzE2K2Ql0CCmG40Tag1rBzYA4Pn385PuYejl4CrbetUMz/jK5cekwje+xrqZuLe1+rH+sJWw7axqrAStb6i0pe+f/58an6GdAaGpo+akLamYr/G1Ib7rwsXLZ9ID1nvhCulg8OP6cABRCf4OxhNoHJQfESOQKecuxTSqOvBAIEh6TZJSdliWWDhWXVTOUdJQs09AUadUYVcLW7ddk115WnBWMVBFSe9B7TpvNrcyKTC8LZMoyCDFGXgQvwZH/jD14e6N6ALjHt782FPTa81ex1nBlL0Vume4VLYxszav16nmpnil/6VRqqatVa/ernysJKuQp7Wix545mpyaOZ+3pYqt47TsvcHJXdSx347rMPZEAkENEBdiIKwoyzExO+tA90RhSOlLHU/aUaFSkFKPUeZQj1ELUcNPbk7XTXNNmk1DT0hQ/E8mUPdP+0/aTgdN/EmtRSQ/kTlyNB4sCSVqHecTDQzUAyj8cfYx7uDnFeGL2HXRZ8ybx0PEy8B+vcW6ernBuuy65bkUtwWyG60aqQGo06o+r122hL07wd/Aj76FuKitOaINm9CZkaM/sX3BZtE224XkDuwD7uXyUviDAcQPrB1mLFo67UOySINHmUD0PD880T4JRNhHME2kUcRSPlGjTLxDkj2ZOaY5yD/9RC1Kvk2mTHRKtEbpPx87UDcJNekzlDBWL1MsuybFHaMQzAR6+/j0GfQa8hvv9+sU5jveNtf8zobH+cBPvZ+/jMWTyUHNy81ayPXAw7hCsiCxO6+0tsK+L8bQy3nIycB7to+p3KKFouejba0UuBrBNsu2ztfQ19dD3PLmifOPAm4UmiQeMdQ5kj2YPrk8HTz+O94+l0M+Sb9MdE7GSy9HaEE5OvU19zViOLE8HUFURh1JVkrCSJ1G6UORQPI/HUGhQitCMEBxOcEwPSSiGOkNwgR1AJ38t/rD9/zywuw/5WXaF9YCzlTLO8tozNrPqc8az7vNKsoFwIS9DLeVuFu4mrfuu8DE6crm0b/Hfrp9rFqhvJ6UpTKoG7SdtUi+Fsptzf7Vwdgp29DrrPMeB9QXsx7XMM4w5zC2MvktwTgPOvQ9aEhxSKZNTU3iRIZLFTpROBE3BDQBQpBAkUUiSV1FoEJBQ4s8zkAQPvQ/Qj9+P78/wD3qM3opCh32FaEMJgbQBD/+FvtO9LHtoeXu2urSr8yXxxbGxsbbxxTKu8h7ylTEM8FSvqq9Wb3Hu129472JvkrDisZBylfITb6PucyyIrCwsmCzYLQqtY6vl7E1uQDE9tHo3N3mTfatB2gYSydRLnUyuzZzOPVAf0gKTeRLhkjqRgFGUESGQcE7hzYeMoI2hTjqN2A2XjR7NpY2+Tm/P9JDT0cFSDlHNEUKRMpBWj9aNqQwHikPImca0xC3CNYB//iB9JXtQOii46HbVNVO0PDLPspsxzjGCsmuyVDKOckHxrrH48erx9fHl8LCwBO97rxFw3zFbsduw5q66bLUqhSqG63yrCmuRbCqueDDj8yY0SrWtuB670QA4w/vHFQnWzCUNtI+bkKcQghBeECVQ3pHgUorS9lGXD+COjo0NTKwL3Ev0DAyMoE1vjo/PjBBlz/8PAg7HzweQPRBjUGNPnk4UDOKLGQmVB7TEZYI8wDK+0D6J/UC8C3oFt4Y1y3RTs06ysfHuMjbzHbQlNGZ0cbNKMvFyNbIUskbyP/Gx8bnySDQltMP1PrJXr3UshGrarDQt9G5BbeCry+y7777yPnS3thO3hrtkAELF5Yq+C+wMHczBDVEPg1FMkTvQ0VEUkkdT/9Nb0g4QX83KzEZMdEwjzIgNUI1yTaRNt41TDidOAE1IzT0Nls77EJNQWU61TOkLBQnkyOgGZUPXAk9ArsAY/169Uztm+Q22zPWJdJbz77NZslFyNXKEsszydnID8fjx5/KMcgFyNrD7b49v/HA48MKyr/L2Mc+xAe7R7INrUGnDqbCqNSsc7b+wT/LxtQF3CzhVOp69S4EBhadJVk2MERGSq5LnEncRjJHoEivSu9M90xxT0tNY0jdQUw4DzHJKTcmwyvoMpw6JEEMQXM/sT1CO6Y5hjjTNUM3IDioObI5mzOaKaQcWBE/Ch4Dlf0b+lj2M/MR7c3lm9wH0uXIXsIzvxa/kL+2wHDESsVMxBrDZbtVuta5EbnVvZa9d75uyADOKtHI06jGCL6XtuWsS6+YrCSnyq3kspa9Wc9n0/jXx9vn3e7uxQAREH8hlywQOadFWkmWS6VIvUXWRv5GMEzgULBRz1EMTZJGT0AiNUUu5yuiJ0ottzGVNrI78TlIOSU3sDL8L4UwzTDwNb45zzrrOGIxvScYHZgSLwsYBbQBcf4I+ob0EexO5BDbqdHuyvnE3MMOxhLIwcqIyrbFEcXtwizAscGbviS+a8D0wFLF2suGzMPPBMtswMy6U7VWs360zLQgtuO3wrcEvIfD08uq1TLgyuuG+AgINRd3Ixku5TPAN4g9CEGTRwJOtE5cUHZQvE0BTnxKgEU6QCI3GTKpLwswwTJkM8QyDjM3MrUzcTPEM6c2Xzf2Nno4eTYhN203rTEaLPgjtBtPFlQPzAjlBEz/o/kh9gDx6+lV4XDY7dIfzn7MhMsozbrNAMxBzb/LhskbyNPE/sEEwKa/JMKCx6jLGdLE04vOAcYLu6iy6a6Kr++xt7UCuUHAYcfgzlvVK9gr3Q7lw/MuB5QYOydvM885oT3uPxdCk0SlRLNE3Ee4TBZQ1E9pSoRDKjt5MxgurypfLMkvlzJBNw853DgFN/Ux9S4oLmgtYS9ZMJgxpTN5McAsDyVGHMkTjwpNBEQAo/0B/N34i/NC62Pgt9erz/XIC8VMwxbDkcMJxNPDDMTowOG/0r2iupS6ZrofvAq+OcPgy7bPh86gxdG417IprBWp+KuWqEWxjLzpwjPPLtDiz0fXl9oj6Rf6lQeIHccuYz2iSENIt0jrR5NFQ0plSyVQLFVFVq9X+VF3SS5AWTToLhQtay7cNKk3JDsWPlM7TTpkNoQycDLtMg83lju3PQ4+3zmlMvopdR8jFtUM/QVjAiIBsf/Z+9r0Beqv4LLYwc+0xmPAc74twYXCdMMbxVPEZsOvvaO7Pbk1uQS80776wRnHR8uPzIPLsL64tHar8KWOqJ+ssa8Fs5SzuLa0wJXKANhE3znk8vCIAiEZKisPNRQ8njxJQMBHQU75UjpQTU79UPNTNVYSUqVGADxSMQIrkyl3KCcpRykZLDQwczMPNQo1RjblNtc2HTgiPOA/wEFWPzk6SzP3Ko8itBo7E04Ngwn8Axj+E/Vp6P/cZ9S00YbRmdBmzVzKpMZVxNLFtccLxjbFnsfpyU3NHcrIxK69x7eFuu3CyMrNzlfE/rgxrxOoPadioAycSqKlrQi+q88s1oDbd9tx3+nuNv+YEIghHjHNQhJRclc4VvtNhEYARjNIBE0VUpVTh1JrTP9DMTosLgEmCyT1JXMsbTSBPJtC90LmQE88JTc3NTc0wjayPNdCNkbiQSk49CqXGrMMzQIr/+P+g/2p/J/5HPAN5czVW8i0wQbB68Z8zWzTqNYf2IzT/sowwlO62LbquAq/HMR6x5XHnclpy3vLmsNFt1Cpnp0gnzqhzqVDrJ6qfK5GuU/DAdId2bDc5umT+VYNQCSJMlw9B0W9SIhN3U/tTmBL/UeQSNBNwlGzTzNJEUAWNZUrpSWcI0ckECfaKz8y1jocPmM+QDuyNW01XzjlOw9BLkL8QEA7GTM2K1Ig8xVbCgIBSv11+Dv1l/J161PldtwB00zMcMhcyAnLP8xMzTrQbtLn037Uu9AgzEjILcORwFW+nLrhuwbCucrj0HLMYLvLqrqe4ZiwmBuZLJx/pai0U8Sx1M/c/N4Z5Mrq4fv3ERsmszrGScRT+lh0VvlQ2ksKR4FEYEMvRpxKiEyFSAE+6jJUJ4sfpBxlHJ0k6y2MOApE70haS+JHPEDwPIQ6Pzs6P/ZAq0F3Pvw2xSxGHHsMJv8J9RDxEu777oTvMutZ5vXczNPOzbfJ0srqzWbRO9X52GvZONew1LXN5ciyxOTBpMKswRXAs8JayAfMs8wCxGyz26cQoTmdoJ9jmTeZr6AQqX3BL9X63m3nEuYU8A8FghnNMMA+Xkb6UKtXYlonWL9OPEbmP3k/N0IAQ3JBazs8M3UqOiF2HOsaNRwII/ssdTgmRH9LlEwjSLRAhjtcOjw8Ez6+Pgg9YDcEMIQkVBSdBjf6QvLV8FfvLvGN8dLtPOqM4cbZONYn1JbWc9lg3UviAOJ/4JXcvNZP0EbKLMgGyfrLic08zCDH6sSyxznIxMbwvKOwhK1rqRiq6KoKpAuj66VMsFnHv9tP7AX53AHUDZscESvsN7dBs0fSTFlRNVQtVIVPJEZFPiE3rDKdMlwxjSwlJ1cirSDTIZ4hOSLvJdkp/jL7P0lINU4pTUVHlkDnOiA40zTjMXos2iPJG30PmgaP/XHxD+z15m7kWubq5ELk9uLa3YzcWNo317/YF9ov2wDect7T3eHcoti00MTJOsEovRq/Qr2NwEbEescmzdrKq8YBvcuuWaSanBSdy6Kjqyu2a8DFyh3WceMU7d73jQRHFFkrBT5UTjlZGlu9WlpTG0xtR+lAoT05PU0/S0BlO3QxuSbwHswX0BRhF1kbNyW+LxE6ckRVRkRFhkI9QA1BLUCqQNA97Ta5MWMo7R0OEPv/7PWh7aPpE+l758LnwuYt5KTiRN/i3BnbB9kI3EPgdOOU51jmgeKh3dTU7tOE0BTJZ8iLvcW4yboUtzXELsk/xxDNEb4ztjuxV6C7nwqba5xxr6+7Vc4v32bl9+599Ab8vAuJG5osCj7aSwZWu1pxV2JQZ0eVPC00nDCbMdI0ADhANpgwaChxHEMTcA61Dx4XJCL/MbU+nUhkTNVHsENsO/I2YzccNd02OjZGMostMCHHEfwAVfDp5hTkkuSO6LfsAuy26XHkYt4Z3SbbCtyp4APjLOgv7O3q6efB3uPT8cxcx+HF3sb+xKvFesSfwLrCU8O5xhTHs7h+rKChzZgnm+2dLKgPunPH0dUS4XHn0fDM+XIDDhTBJCU1pUa9U6Je7F9fUypGaDx9NZYz0jGMMQQ0PTReMvQs2CRRHg4YfhVcG5QmtTftRgBOpVF/TfJGZkNpPCQ4NDdfNqE4HjcjL2AjGhOPAeT12O0s66Ptye238Wzxku0V7PflzeME4RDeWOHE4wrp6+zY63Hnad+b2HnP9sgmyG7HvMlGy7TJocmAyIfI+svCyMy/c7Q2qLKgn57noAqkUKu6tQDDlNLM3ljqqPIQ/FwKqxtYLpw9eU3/V95Zs1YpTXNC8jgxMtAtTSvOKeYpOCy/KBEgmRc6EIYNOhOCGuslHzfHQTNMok+jSjlJoUG7PCs7tjXINO0xKy6hKcscVA4B/+vuwOYa4wDj+Ont7lvzkPXN7vrpx+VA4GfeQ9z53gPmhOuQ8OHtMOQr2GXJP8FLvb27DMNkx0fH/8djwsvBn8bbwbC90bNbpzmnKKPDo3Wq66vxs/C+gM5x40Xwc/juAdgNoh4AMBU+FUmNTpZOqUyqSIxDSzzjM80t8ioZLAUuTS9tLR0nyx9jGb8W3hl0IH4rXzkpRT5PPFIhUFZMaEWUQIU6sDUSNBQyYTHxKnYf2BC6/uTxe+kR5Yvn3unW7GXwlfAs85vxBu3N6erjPePh4vzjFugA5z3mnOHw14rPKcbOvSS7A7ipuJi6eLcOvofEF8v0zo3Bb7PepEOe/KFUoqWkyaWOrH+6TM4I5RD1FwNjDF0YPSdMNTJEz0p+TKhKNEUwQFA6wjT7MGctciooKmcp6Si3KFcj7x8rIPofLCXMKooyNT+CRstOT1T5UnxQLUnXQog81jUIMr8s1SV4HIMRWAWe+Qjwkef14znjxuTG6A/sqe/z8oLy7u9a7NDod+cQ5gvnSedQ5bDgytj+0R3L18fzxUrEscKuu6+5mrjzu8DJUtFw1pzQs8Fjtrmpd6ajpoajEaagrVy/admk8S4EAgxyCj0MhRWkIgE1EEZxUt5YClYlUZFJPT99NtQrFyU/JNwneS8TM6wx5SpiIWsa5RaRGrojmjCZQKZMsFWXWN9T40tQQHM39DAyK7cqNyp3Jn4dsQ3PALn1wesv5inhoeE250ruqfU+9q7y1usT4wzezdwe4IzjK+fN57rjAd2q03XM+MTbvum6/rdSuZe7EL2avDu7g72jwljFpsNPu5qur6JNm5eePqf6tE7DMdA13hXnO/PU/5QM3BuIJpgzkD9KSjlUQVTjTxxIiT22Nc4vSi0WLgMuAC8EL5MqXCSVHuobtxslH7wmPjOKQbtNRldzWNJTbUtnQcw8DzmxNUkyJSsRJWIdRRFdA3z0NOjc4JDeIeI76ofxQvVI8tLo1+H62/rZcNym3MDiZ+bF5WDmLdv+0H3HWLzUvAi4Vbs8whDAhMVDvtS8dMNAwm7KkMK1tVauUaMWp6upEalcrASvCbupz1vlp/oZDPoXOSQ0L/g6dEi2UdRXRlehU0lPuEiGREc+vDkLOP40WDZ/NZYyBy9dJ5Qj2CAvIVYlDSoRNIg+OEcBS6hIUUWJQZk98jntNYwwdCppIt8XeAygAZL4ffK77W3ot+Rq4vLjK+hg6k3qTOd34//gcd9M3Tjc5d2q3sbdbNsT1pTSoc5LyTrHMMFMvXO707c7uZu7bcMizPzRPtIuxyK6Vql/nGWZ2Z2PrXu/o8/L3D3kaumO8QD/aBBSI+00R0VyU8BeFmRqYOdWaEpDP7I4pjctPNFBfUUfRFQ8dzD+ImwZzBTfFX4cJyVbMUQ92EVISYFDVjvUNQkzcjWAN7I3yTeAMocp/BvGC6v9fPL27QTs+uwP74Hvi++z6ergJ9co0EvQXdSs29ThM+ct6+rpyObG3dvRysiTwOfAMsT1xdjKY8ofxnfDdMLFxmDMB8kRxCi9YLCCqQ+fepr2oOepLMOJ22vur/1wAM8IfxWJIvcxAz39SGZUollwW0tZDlMCSfY90DaRMjUyGzaoOkE7MTN+JlgdbRddFm0ZMBy9JKgtmTU4Pdo67zVTL8sqgy2GLi4uyiztKaIk5hoVDjEBI/be7BLnGORK44HjquM74V7c69cf05jRpNJL1STbmt8H41jlyeIj3c3VDM9Iza3ONdF01FHUOdC6yjHFHMZTzKjO78s9w2C547EEquKlLagCsGa8Jcsx1/HfQufD8Z8DjhYGKZc4kEU/U8tcF2HhXVtVS01FRy1FbEVZRYdEvEIjPoo0niYaGlkT3BHlFDgbaSJjKRIvTjIrMsAtuyknKcwtCDYbPHk+zjk8Ma0lCBeyCikBV/sG9sbvNesW6V3msuEy2uXPhsrQyIbNu9e13qbjieI13qraadVf0RDQfdFm08fSutCOzYfJiMXJw6DKWdRt25DaCs17vVWrLp+Eng+hjav3tnvDnNXe4/7tN/Ug+XcCBhGNIZY440zKWglgRVtcVp9OfEfNRM9EFEm0TQtQTU73Ros5PyphHc8VsRXpGGkdHSQwKoosDyw8J18g9hqIGYEh7isoNDQ4FjOxKu4fRRTJDIgEKP65+jz1XfMb8eDrSubc2sbPt8aRwDDEaMqk0V/XVNaE1dLTe9Ic1GbTOdOQ0iHRS9KO0+fTydMs1HHWOtkr167PisW/u7y01q+vrRiv3rPSupfGatQw3rjjuuc98SEBqxS4KhU/M03oU09V4lTQVVJUXlLsUr9U21m/Wk5YoFLyRVU2DijoH2odvR24H+ohRyBZG9sWlhNQEykRahAeFTQd+icdLtgtoyjvH+UXjRN9Ep4QFw3HCX0GXwIQ+jnwYObe3FLV6s67zLPL0cvuzJnMvMwDy0jJocieyDfNitLN1vHWtNF5zITJsM3Q2dvjEuSA11HFDbmotGS5ncCXwgzBX7yqvQTIp9Sl4i/rqPKA/6AOjh8UMM461ECAQTdBT0diTsRUf1k0Ws9ZCldbUkZObkhNQOk2oS2QKKYm0CX5I8ofRxqbExcPiw1wDkERXhKqEwAWlxjqGkkaDBjeFJkQeA6IDvgPDRDXDEUIqgIP/Gr18u015tDfONtb2R/YmdXo0RjOtcqpx9zDUsKxxHfIUcwXzTfLIMmIyBfNodX72xLc+tRVy8DCS7xcuge9BcaS0PnVj9el1GrR0dNq3KftggDpDeQYKSL5K2A0mjWTNDE0DDcbQLtKIlTqWVhYeFT0TpZHzz5hNoQzwTRiN/c2LzIBLEwkAR0MFp8P/AtZDN8PFBNCE/sOfgkGBaYCZAOaA+oDlARiBp4JBwqBBxoCh/vS9ZnynfHy8MvuKuxi59XgSNoc08POk8yOzcbQ9tEl0U3MMsZgwci+E8EWxy3Qhdnu3LDX7Mthv5256rzEx4HU092r5JXpJO2X75jt5ek+6nryvQNFFqYj4SkcKTElxiJAIwMnKSuwMag7F0aWTu5PfUnoP2s2jTGKMbo0hDmbPJ09AzxaN6UvqST3GmsXjReqGVUakxhBFtYSHg7aB0//aPdu9NT1Ivkz/W7+2vwZ+Z7zgu4K6B3k7OPA5IDlTuUl5bXjxN+j23/YsNSH1MjXM9m92bvWS9SZ0n3RZ9PO1BTVFNSn1SvXtdeq2I7aN93M39nim+T15TLo/+vx8Kn0PPeG+ff7rf/NA8MHXAsND6cTfBiIHNAfqyIWJd4nJStdLeks1is6LeEuNjDdLygvNi/ILxUyxTQ0NYoyVy+1Kx4pJic4JcMiECACHncbLBYbDxMJPAQEAaX+kv3e/Fb7B/va+0P63PbQ8xzyvPAR70vtZ+ul6k7q7+kT59zjAuJA4Crf/9yV2vbX+NZf2MbZTtmV117VwNJT0YLRZ9JT0mnTrtay2Y7bY9wu3R7fNOFu4wnnoOqg7QjxXvNI9eD2s/jo++X+fwKmBcMHWQuaEKgUWxcFGuEcWyCVIzknTCqOK9ssqy6iMAMyJTM8NLM0TDU5NYkz7jFzMKEv4C1vKxcqSSjgJeUiSiASHn0bYxmyF+gUmBKqD/sMmwozB2YElwGP/TD5D/ae85Xx5u6e69XnAuRO32Dbv9jo1W3T7dDDztHN4MxGy47JksfcxazEWMX4xpbJacvUzC3QD9K10gfUE9Yn2Uvci98j497lqui96w3vFfKX9Jv2JvlK/TAC6gf2C1IOGBKXFusa7B7UIhUmzSdEKsct5DA1M3U0GTZAN2k30jfIN3A35DYdNm000jILMrow8i6MLLIp8CY7Jc0jyiF/Hk4bkRjbFgQVsRLXDlsKIQZkAYz9dvrl9xz1lvGM7WrpReXM4bTeEtul13rVitMG0dXOksuJyOfHYsi8yXbLrcqayfDIwcjIy9XPA9No1LrVydeU2ZXbGd9/4tblqedn6Uzrk+wX7wXz1fab+vn91QHiBfEJ3w1qEaIU6BjPHCIhviQjKGUq9yvILYMwAzOWNI41yDVjNds05TSdNIE06jMFM8IxOjDJLuksXSoTKN4lpiPeIW0gTR5/GrQW6xJND8gM3gmzBuAC8v5T/DT5//WE8WHtQ+m05UbjauDM3cfbaNnS1iLUyNFm0F7Pys4HzpDNg81vzrjP6dBv0qHTrNQn1jrYidr421XefOC04unkY+ei6KDpVutR7TrwafP59Zv4r/tL/58DygYCCvANexHpFEoYNBtEHoYhXyRJJ/kodCqyK/IsIS7ELuAukC5qLjIvkC/yLqYuCS4tLUMrrSmqKPcmoSU/JMAiGCE2HvkaWheDE/0P/wvFCUoHJwS4APH8MvnZ9N7w0+2o6tPmsuMv4RHfjdyt2WzWG9Tl0efPOM4UzV/N380zzhLP489C0DjRNdLq05zVwta52OvaYty63U/fl+GO4/DkHOdm6WfsQO928b7zPveF+1P/gwIWBtUJ2g2lEd0VDhnfGwcfpCH8I5YlVifhKUIslSxALf4tyC5xL5cvzi9DMC8wFC/nLUYtQCzKKicpyydvJgglVSIIHyYcKhk8Fg8TKA8LDKIIygXgAv/+E/uO9pryyu9u7Xvrw+iM5bPiRd+f3KjaU9hp1jLUstKl0QzR69DG0H/QhdCH0SnSnNLj093VcNfM1/LYS9sI3abeb+C74m3kEOYM6Xvrf+0w8HHz/PaJ+jr+TQKRBd8IZgylD3ATHRbOGLgbHR6sIIwi2yO+JXQnPyhKKcEpmyp9KxEsxCxnLOsr/yvRK4kr8SpCKt4pKSkpKEwmDCTjIRYfTRySGdsWOhQrEfgN3wq+BlsCK/7D+r73FvSS8Vnvrexj6bHmUOSt4gbg7twM2xLZ7ddM19jV49RG1IvUpdRB1FDUL9VS1nXXr9jU2bPaytxa3rjfOuHj4v/k4OZF6RrsXO1C7+bylvZ0+iH+sAFZBXII2AuhD2MSNxR7Fw4aWxx/Hp8fuiA5ISki6iPkJOAkxyXRJnonDicIJ30n8CalJt8m2iVeJfEk7SReIwEhcB/eHUIb8hiEFsMT6Q9VDf8Kywd4BDEBu/2b+rj3PfVP8jDv4ez26mbodeV446vh7t8k3q7cINvD2V/Zgtnr2PfXK9cd1/zW99ae14rYW9nx2qHcgN2p3prgj+JF5Ofl0edQ6ibt1O+p8kz1FPgy+7/9oQB3BGAIlQtdDsEQJxNPFT8XBRmNGvwbbB3lHiYgJyG3In8j6iMDJVUmcibdJZkl5CVtJiomkiVYJack6iIUIfwexh0vHJAZ+xYOFA8RIQ5kCxwJYwViAuT/b/0Y+mH38vRQ8kLwnO1C60fpNOcW5nbkZOLI4Inf9t3U3GzcyttF2yPbMdtw21Xb79pZ3KLdpt5735HgO+Id5KXlc+fr6NDqC+3p7zPyQ/T99kn6CP07/xoBXAQLCDoLuw11EK0SphQ8FmoXshnLGmMbERxEHVId8h1YHVodnhwSHEUcbBx6GxQbghreGQ4ZCRmaGEQYjRfTFqAVqxM9EnAR/Q4WDLkJQwcYBWoCA/+2/Db58/dg+9H7c/Uv7G/kceNd5oTs4fTs9z74ufey97jz4Ou244Tc69kD2rPU/81iyALMUc1RzeXOsNDf1F/aueMJ6tbpHOcK5mnoSuqg7WrymvZd/QYCoQUsCtEOMBSSGjQejCBRIhAotiqHKuEqtCY3J7cmhCjVKwMntCnaJbUkvSG5I2ok7CMaJawerBokDUQOCg+zCTQKnwoQC30LZw4BFDoSsQyvBzAMEQtABJ4Bn/rf7rLq6+nX62bnB+Kf4CbiDOT042nlnt6t1oXVqtIm0WbQidEm0fHPfdIj0+rR/9DU0o7a094l5MrtFvRo9lX6i/6QAvQGkQ7PFTMZ6RwsIuMnTCrWKv4rSysjKx4uMzAkMPwvzC2hLBEp6yMfINYbLho4G8YYwhcmF90SgBH3D1wMlQqQCPEH1Ac0BK8A1P4O++j5QPo6+GX35vMJ8RPwq+ul5rHiyt8b38je1dwU3MfbsNkg2T3bKdwN3IDX1M/Py/nH/cRZxUvDqcKLw9XEbsqPz4PTsNmq4Hbum/5bC6IU0xlBH9YiMSiSL9ozSjdoOa06KDz/Oe8zPCxLJDsgpR+YHIIZ+RZoE6EQhQwKCS0GXQFGAdoDPQeBC00NEg6xDjsOkw4IEF0QfBCDESYQQw4jCukAp/lF9GXxQPFe8InvRO/I64Por+UC3xfZZdNw0GvV4tui4Brg2dhz0w7NTMRyv/W8V7+JxTLNbNfg3oTgCuK45rPty/hRB2IXVCYBMV82qDi3N3Yz0jJcNHY2wDr7Omw5czPsJ0ggxhYuDywNmAoaDWoOXw5YEYMNhghuBvMFaAuLEMUVThrpGEoXDBXFEjkS8w8NDb0JHQe1BikFCwLo/Hr1MO2G5Ivfnt2G3IfbsNts3ZXecuGN4SPg5+Hx4MLgNN9x1ZHMQMMVva/DUMuz0WfVbNGH0dLXNN6v5ovtC/Q4AnUSgCFWLegvFi7CLWUwhTd2PoBBJULPQptE1kEwOasrUx8YGvEYOB30H0Efeh84Hesc/xrrFXQV9RTqGPMgTSatKgom2B1OFScMXAlHBfgB1QAk/Vb7V/jB8RzsdeW03/PetN4z31bg6N884GPeaNpY14vUodV216PYYtrP2GTY7NXszcvC47QhrZyuSrWbwMnLCNW63+TpZPX8/8EHKhOCIKcwTkBGSYlNZUvSR8hFDEFVPa45zzRaMdos9CbkHu0Udg2AC+4KzQrlDvsTwhqnIPsi6iQ0JY4miSnDKzYt6yqSJc4fbRjUEPIGTPvD893s9+ef52fnMOch5FrgZN9a3Sbc/9ov2HvXs9dy2NrXFtIazVTOC9EZ1AbVQc8dzLjIYcJFvEqu+qIWn4uhJbC+vxDONdxm5972XwbaERQdziXaMNI+50lJUHtRy064SKpBPzmwMe4r7CUiIR0eQBpkFyYXqhVnFQgYVByvJF8spTHQN/c4nTpNPCE66DhAMhAqyyJTGf8SxAl7/gT1Ce1k6evkwuKd4ubfAeCe3//dmdwV1n/RCdEo0FnRbNKYz3rMvM0a0UnRGMxTv/ixZan8njidtqPFpKqsh7XlvoXQNNR71iTf1ud9/LsQxiC8MTU5eTwsPjY7yzeaMAorVCtiLTwvVi5fKrkkoR0jGIgX/xuIJK8tFzeRQP5JrU0MSrpEDz24ORM6yjgJObA0jisQJAsY1gwCA8j2R/Kx8Sfz4vYs9M7u/OjC4VXf5Nxx2h3bR9pN28zc89Yuz5HFTb0ewHfGY8pwy8DES7/IvjK20azjo7qaw57gpaKuh78fy5fYounR9wMKSRZSHZgp2TJQO9hANj58O2Y2ADEqLRUn5iJfIXMdyxyZHfUfhyNZJmIqZDF6OI4/UEfrSwNQpFBATn9LWkctQDk58C8WKBMhARiPDkcFp/0V+PTyWfBO7pHsI+0Y7lTvVe2j6WTmVeCF2gTYitUk1pvU+NK10YLNdMpcxM+5Z7M3q3SiZZoYlZebmKV0rXq1XL6ry4DbLul39/YD2Q8dHAonBy+RMaotWyjFJE8kMiMMHy4byBpqHdsecB6aHPUbGB+RJtsvTjdCP9dHi04oU5lU0VGeTDNF/z4YOSkxDyr3If8ZExQ+DtQHYQCC+SP4iveV9dvzSPFg7m3tWuxw6xrqi+es5TrjbN0h2AvSpsonxuPDmsVbyF3HxcOCurmuN6VvmouUdZbeoAKxqr8NzZvaBuPf6Cvt/vPRAKYPgx5YKo8wDzT4MZYpcB8VFpEO/ApoDXEU0x1VIwgnhSp2LMguHzE9NPg7FkXTT/ZYWlshWUFR90RjOyYx0ibtHVcX+hbfGAIYDRMdCioBu/sS+VP3ZPWa9RT4cvt9+t30k+ty4DXY3tMz0dDQec/Az8XTC9hW2JjQb8OwuMe10LXlsq2sH6SNnlmg6qXwsKi9gsuo38/1kArKG6gjhyd0KV8qlCxmKyoo/CWtJEQlkSTvHw0XOA+oDLwO0xNqGRYgZSp5NIA970RLR1hIzEgqSQ1JOEYlQRg6WjFuKUkgMBexDTYGVwGy/Wr7YPpX+av2/fGY7aXsWO148EPy6/BR7SPnkN4m1N/LkMbXw7/Gt8y31OfY5dIrx4W8FrJXrHWnuaB0nqag76kBu2TLZdlA5qvxMQMRFSAikirrLRIxsDbrN5k1cS4oJBseSxu7GdkXGxMfEe8UphoUIQYm1ijFLXg0yj5rSQRPWE/YTbBLXEmmQ+w5iy0mIRgZphOZDRcHM/859yzy/+/X8Mfx6PLf9IX5tfxj/Gj3lO1Y4wrcPdj31EHQ/8v5yTLIT8t10GXTZ9OJyhG/QrcnreimtqI3n/qk062hutTLn9ni5iX2RwPVFOchTyjoLOguwDCiMhQwESvlJPActxfaF60Z5RmFFw4X9hrGIbwm+injLUo1MEHXS1lSUVEVTd1HqUITPdU2ZS6GJdMeJBu9Fz0QcQat+4TzRPBW7s3tS+5E72Hy8/Qw9Bryleyj5OrcNNch1OTSANDgzInJVcgtyaPJYMmIyO3Dgbztr0ah05eYk9iWjaF3sIDHo+I7+OMJdBR8GYEdlB61IIol5CbqKbUtvS9+MIkrWiHdFyUQLQ02DnkQcRhXI4ItTDh/QIREoUVERc9GvEl0ShFKeUd1QlU9VjbpLOAgTxV6DRkINwT+ATn/bvti+Jj2CPbf9GnzCvDB7M/nSeGn21DVMtDvzWbK5cYCxZnB/cP7x1LJhMuMx1zACbmCq/qelZdlkbSVTaAgrvDDEddb5sr4zQawEyYedCGqJqwt1TE5Nzg3XTLMLzIrDSQmHeAUIhK/E+sUmxoDIh4ouS7sNJg5lkEvR8lKrE3nTVhNNEvgQoM4zS4QJH8bCBWzDkMLgwhgBkMFIALG/bT5FvQr8CztQerU6KbnEOfX5i3jfd/+2kDTs8x+yP7Ios6/0N3OQ8jkvHywQaSCmZeTHpAPkgqd669ByUTfYe53+cICbQuUE7kXJRtxHzgk2yqFMXcyHC02I3gZQhTLEVsOxQzADTsTAx4vKrUzMzmlO7s/gkYVTPRNckucSUNJcUi2Q+E4iCs7IIcXPhJlDogJaQWwAhEDMAW2BSYDH/7r+EL26/WJ86Htq+Vf333c79n01WrRzszxysTOttFp06fSgs07yK+/IrJFptWbx5UhmOSd6qlFvH3Or+PU99cH9BRoHQQkzysZMLgxrDCxLdks8izfKRkjmRrUEYYNJQwZDfIPGhPSGBcjHix9MzI7HUFlRt5JTUvnS5hG5j/qOWQz3is9JKwbdBMRCugD4ABR/GT4IfYt9cr1A/Y19rf1TvKV7oDqPOU74WXfVtz31qvS0NDB0mDUc9G8zDrDCrlmtD2xa6zPqLmjg6UcrZ22O8T3zu/X5uYh+FgKHhkQIDIlKSr6LhszYzAnKgElaCL4IkojpiAVHMsWhBVOGG0bFx7FHzkjhCsWNpc+e0HtQEZCV0PSQYE+HTiJMAYofiAGHJsVgA17BXr+A/tx+nX5offk9Fj00fVb9T/yoe5w6BLjLN/R2zvZetSFzsrMisxL0XvXddh61qrP9cNkuXarN6E7neKby6XQtXXG3tjW5EbskvSG+e0AHQfbCWwRFx0cKUcy4TWfNNYxhCxiJYUfrhlIFY4U9hUCG2QiNSZCKKQqDjDrNpE6QzvBPIQ+n0AYQMU8NjcVMNEoAiJOGtAUtg7VB6YCzv5Q/Kr5RfUc83Lxg+/o7VHqveX83ozYzdUt0w7TFtRO0nLUAtSh0SvUbdBWzZrKor7zuqu2368ese+ssKtOtJS4osU10zbbI+s7+MYE+RP6G30isygNKhEulTCcL0swTS70K9QrXypuKUwn5SKxIvgkXSfqKows2S+ENTE5GD0xQbtBnUJNQec9hjwTN6MvBClwIPgZqxNzC1gFpwDJ/aL7G/l09V7zZfGE7yfuOutD5p3hOdv91d/R680uykjInsf/yoPQktOY1aPTZc7+yRrDQroKslSqyamWrTm0eb/mykvWa+H87JP6dwQPDA4TXhwTJtAszzDLMiMzyDX4NCIyay6MKZgndSX6Iosk3SSuJcUpKC3mM9E4IDttPnQ+wz0PPpk6fzgbNSwyqDDwLF8pSiPyGvcS3Ak8Aoj7XPUN8z3yMfMP9BfzD/ER7K7mauAT2vLU9dD7z9/PW884z0rO/s7hzvHN1cuvxXG/ELs2th60e7LzrwCxurLVtve+Q8WNzOnWJOFo8SoArQzYGGQh6ymYMKkxRzJIMI4sICrLKKAn/SYoI2whBySJIzIlhSYsJ98sEy9MMaw16DUrOTM5yzeyOHA1rTP7MbItACtXJqYhwB2BF/gR3g2tBwcCSP0+9xvygO1b6bXm8+PF4fveINyU2YnY+dYD1IbRcM53yxXJYsaryO7Hp8fayOTE8sRJwt++2Lyltxy4i7vWvU/GtMxe1aThiuxn+SwEFguWE6MYeByVIhklOybDJ38pririKpUqwSqNKu0qSSrIKy8tvC4pMk4z0zVaObU5AzvEOTc3qzYKNN8wVi27Ksgn5SPyINYdnBqTF+QTOQ8nCvsF5AHn/OP39PJR8AztculO5iHiG96y2ebVWdJ5zf7JeskUyG3Izsi3xnvFOsfmxdTECcIbv0fACMELwoTFfMa3x1fNEtOK2f3eweQW6yH04frZAmYI4Au4EHoXqBvQHsQgryLsJZAoxigpKtsrrisEMDox3DPINvQ17DYDOMI3zDcCNd8ySTIAMjMvsS2DKisovSTuIdgetRvAGScXjRQfEScP+gyxCeIDkgAp+6L17PE17TTo5uTX4GPd69r217jVtNIFz1LOJc27yaLHbsYixtzGmcdGx4jG48b2xsPH5MkkywXOkdHE1Lvb2OE+5brr5vGS+Cv+HgQoC7EM1xAcFoIZihwMH5ghkCMTJX0mdikAKtorEi2zLg8wNTKqM9YzwTAXMCUwPi50LMgrviktJsIksCLsH4QbWhrwF/sUohO2EwgRdwwdCYYGEwIf/gD6svgu9aXwcu+O6wPoM+Wr4LbbbNng2a7VFtAs0P/QDtN2zWTRT9Rb0IvR5tZ/1pHUUNa/1tjZ+9ZM2l3badvU25Lgf+ZE4dziVuxc7Irx2PmYAeMENQdQESUTPBNZGG8exyEmJOwn0ytYLGMqUiwOMN8s5C6eMS4v3zDFMLsvnC5dLmEqmicnKIIjHyOsIZQbnxzBGoQQKBNsEFgJeAfiCHIE4gSnApMDLflv/VXzsvRC8ufsNew067bqHeQD5Gfg4d4I3bfZpdn12LLZOtt125/cQtuD2YnY+NaU2P3WjNlt2Ujeld+L4Nbk5elq6kHrA/FY8fryUfiX91f8QP1sAYoAdweCBesLCA8vDs4TdhiPGcoaUiABJFMihCUOJhMkQSm+I/MnNST0ICsfECCDIAodihkuHsQYyxiTFDAWgxRaEB0Tzw+nCFUIBwXVBxcFPP/eAv4Cl/uM/5z+ev25+gb7BPnw9sr0gPQ57oPs+O0b6l/pMeyq6qXmsOQz663ma+O96QLmh+MF4MvnEeWQ5a/jou5g79Pqkfcx9FvyEfD192n0yPH7/aoBqftD/E0IXwX1A50G5wsCCGQFmghcEUILhAyBF18U9xqIGmMcbBnsEmsVLhUvFgcQ9BHLF80PVRS/EpkRSQnMDMEK4ApoDUQMUBKtC6AH6xEgCgwDywgcA8T/pQH0/SUI8v7I/+L9CvUv94H0Xvp+6D3zm+216UTog+g37Cnqwe5x73Pzqe5l7a/wxfIE7+jvDvXm7VX2svnY+VPyKPjA+BX2hfiF/sv4Dfld+UD/sAKvA9f9twp5/doBEAxcCqkE8Ak8ELQHqQYpC1AKWgYSAlQGOguBAqkDmwlBCPQM+wi7Dp4GCgNDBmMElAZvBdcJaAoVA2ABTAqhAcT/AQQ+/8j/z/2QAIEA6PSH9e36NvXX8nH2Efcx8fjtQPu29HzzNvim9Jzy6u6y/CP4jPWM/vn+AwAE86T9//wv++j9z/2VADMBPP+r+w0E5ACu/KEBnP6gBYkIhQPNCU0I9AArCFYGrAVVABAJGwb3AcAIEQkgBd4B3gZIB9YAov0tCQsICwDVAVQLegTjAKUEnAcpAKb9pwogBIIG8v2xBD8DWvtnBFUDnvZQ/Y76dPz6+wb1DPmh+XT0DvbE/GL3Ovhc/Tr5dfyo9zj80fgmAVv9UfpaBaT9o/td/64AAPx5AoL//gDPBpj/u/4kCRP/SQFGBxT9ggmK/nQE8wjNBSwJAQBQDLwBrf0iCHkBZP9qABQKUwBb+cwGrgD7+sEAKv4R/yz5r/3MAMgCQ/xf/O8E1vvnAdMCrf+G/4j/jgGJ/mX5WPs5ARX4QPpj/nP0T/o9+mf75vvp8JwCHPak9yMBrfihANf1JggM/wT5Wf9q/OsChfvFBY0CDQAs/tUH4ggO/zAG6waYCMEB+wYvCfsL4AbwA8sQGQbc/MwLUg8h+uQHIAtaBKT/JgliDr7/BgSe/kMLE/4r/WIF2gB++yb5awi3/Fn+nQCh/RIBdPcLAkP/G/mq/DX7kQb+8RT/fgMa+cb8+PeG+NP3v/mN8Z4CqfY490H/z/ht+SD6Wvs09pv9pvzWA1L9gQIoA4r+tgSX+o3+5AGfAToBRACTBJ0GcgOcC/sDaQTSCZAE6QrpCtYFnwlsDKADKw3PBOwFpAXaCTII2QIFBtADsARvBMMIzfp8Bcj+7gPT+tIAg/8L+tcDT/coAPX4lPwM+3UAGvoE/HD/ePdA9+D5IvZL+K/xtfYM/MrxKv1d9CL6BfOP9zr7DvJM/eH5SPrH/Wz4GwBuAVD25v2gBUH9YgBsA8j88wHiA0ACdARgAK0GlQfI/dEKKgAkCyUH8wGID90ExA0WCv4KNgg4DMwI+ASKCfsHJwUyBYoIJwZyCmQIWwQpAJYGqQReA5MCBf2VB337OQPcAer6kwMQ+vf/w/x+/xj+2fvB+L/5JP/k+533QP7z9RX2VPqp8Dz81vKB9jz2kvXo97f3Pful8rj53/nJ+hX52/ql/q36Gv1QAV79egDr/B3+ywVj+XgAiQOx/PMAfgItARoCbwIOBhgEgP+iCx4BjgroAfD/aQ5HALUHcQFxB+EE4AeEBHcChwoY+yoNQwEhAGQAwQCQAhL9pAGfBNr8Ff5+/Q4BYgEW+U0FVv7B/2L8Df7d/LP8BPyV/y74wvmgA9n6E/rj+m78QPxU+dv67foe+qb8Vv7k/jv79QF7+6b/+vxX+70EePwK/5cDOv4b+XkFLwTV96kAx/5m/noCePxSBbv9Wf1Q/64BsQKi+4YBygALAAoASgLd/Iv7BgYn/zsAgPfeA3YBAP8l/7j/GwN//fsAVgQb/mwEcgKjABUAIP9BBdcAj/80CAz+zAK5/YYClAjC+CwF6wKY/k39uwc1Beb7VgD3Af3+Bf9xA+wDawXUAB8BXggc/H0D+gQAAHT/CQZ0AjUDMAAK/+QJzvs1+9wC9QZFAUsBuQiQ+3gLOv1u/i8Cp/5l+dQClv3CAUgARfwkAN76tQB1+qv5TPz//mv93fzt/HIATvssADb3qfyTAjz58PjLAjL/owBhAm78agAUBL/54gDdA4H+z/1A/Ub9gv53An4BcAD9A8v77/vcBcj1rAJDCfH3ggKdCtgADQouBn//zwZt/hf9cwmj/wj72AOqBCoAQQMHCLEA1PwxACP9Qv6Z+jX/CQTZ930Ibf6B/az9zvjqA1H28vkI/mf2Jf9b+NH8Nfup+If+WvJN/WH71POh/rb10/gS+1/4gAO2/Jz8EgNv//T7L/5KBpAAE/q2/3YFq/pYABIHxf/X+0cBwg3H/ZD7PweoAHICAwXxB1QHggTHCyEMfgHoBwIAPAXm/jIC6QgiBfYIxALHEAj/zgO8Bhf9vP6uBXf94vi/Cg8HfvypC0gCA/e/BOD+oPpK/bL78Pme/Qr7GP4V/mb5XPPH/Nb3uvFL+B71G/cF9hj/t/ss+Ar+k/+V+xbzy/0e82z9FP/U/Av7UPZA/5n7ngHi+Ib+yP7k/EP+0wJ4AhQFnwRaACQGcwSyA6AGZAIPCK0HKga1BhEE2wtcA3YJeQfbBGoM6Qd4B/wE/QTWB74DBQX0BX8BmwSoAy4EGgTB/6UFWP99/tv+7wE5AIX+jP/t/vL97/tk/076afr6/Sn++/Xr/9399f2r+0P6TP6G+N39a/wg90r4Ffq8/HT9D/8vBZ/6u/zSAPD81PyA/Br+D/3WAJ4D9wQOAxcCeQLkAJX/KAIHA1UAYAM6CO8HUwTGCUQJdQYiBMcFygO+BvEEegQrBnsI8QYgAs4KQf/1AsP/mgIvCD8D3QUsB0sF3gUuBhMCl/1a+hIAGf9BAREANgI2++75sP6H/xL86vRv9vn5LP06+lv6evh298j51wGp+QH5iPkc+aD9xP3k/kT6cv/S+bcBD//6/LcBsgC+AGUAbv4E/cwDRf+q/wgA+QJyA04H+wfKCTUDdP5yAWYGIAflArEEz/0HB1QJEwYnAn4BzgIOAQsBIP8w/1MBKgARBLIC6P9QBqYEjASJ/NUBZv9B/fL8V/3iANn6df+1+tn8b/rp+GH53vjW+9H5WvWT8Ob2Z/tN+Iv5sfoq+Bf7Qfxt//P5C/d79uv6fwD9ALf8GvzR/jQB1wODAlMFQf8d/dkBKQbyAdYAHQA/A6IBTQf0B2oJvAfoAtoGlwGlBXkEQARqBFsCxgaaBe8GtQisAaf+ef+bAaAFWgE0/10EUwLKBRMFkwZDAd77Nv8m/gj+eP0N+3H8gPxwAoH+UPs7+9L5hvx+9uX3/vjE+nv4mvjC+TL8Ovrl+xj6N/yq+2L5IPxh+qD4jfmy+4D7cfsz+xP9yfsi/JL7L/xV/dT+KwCoAuYDLAQQBB0DXgNyAz8CmgIJA/EGhAXfAzgEAgZEBpwFOQU0Bs4EiwF2A88E/QNVAP8AugITBHcD3wIAAy8CcwAjAJL/IP98/CAA2wBy/u/+3P6g/uD7h/ky+/X7kv4RAKoBLQJdAewAV/94++v4yvkc+WL6uvvx/db+Df9U/hwAqP73+6D3avig+4T7IABk/739Uf9cAvYGuQLC/i39tgHeAhYDSQU4BdcFzAWMCSAHCQWcBNYDQwESA2gDnwREBaAGDgh1BiEG9QX9BQwBQv93AHEBEwESAkkEQATKBIQB2f5dALv+zv2p+w/+Wf8T/uT+ov6m/SH9K/vd+mr64vqs+wf/KPsh+kD6K/xa/SH7x/pE+iT+cf19/xr+lv0O/Kf8OP1b/GL8af9h/5cBqwILAwYB4v8+/pL9IP1o/cL+TwBoA4IEMAizBh4JYwrkCOgFIQV/ArYBFAEHAk0F+QPRB30J6gvLC6wGGgUKAtD+zPw//F78tPxSAaIECgaPBbwDIwPq//D8o/pm9tHzVvSX+DD6Bv3g/wADygOlAl8Azvs8+MDzAPCk7ibzFffx+vP/jwT8BB0C//1G/Kj33vOb8nDywfWl+r4AcAXFBTMHPwUjBqwE2AK2Ab0AeQQPBtwG7wgoCnwKJQw6DHgN5wreCYMItQcBB7YG1wQQBC8EuAUCBqwEswOqAgYBWv/H/8//dv8P/xAAZgDm/7v/ofw1+8f65foT+dn2i/Ys94v4F/gS+Yz4nPkh+Zn36PVm85ryi/KA8EH0+fQt9lL5Efuf+935q/oF+gT6nfg5+fD50flL+5788P4cAsIDFgQGBQoGogZcBZ4E4AQiBvYGegmYCkIK5At/DlwP9A2uDSkM8AuiDEUL8wjrB7cIJwjCBgEI1wpYCxcKrgh+CGIHuQR3AtT+Z/zB/Ib8/fwY/cD94vsH+Qr4LPfZ8pXuAO7G7QXw6++R76DvQO8E8UTyRPEG8dHvt/HK8X3wUfCR7G3qSuu37EjuJu6Y7/3y1/fm+/f8hf5IAG0D3gdzCM0L7g6HEUUTZhWoFsMWrRa+GPAZRBqWG4QfKiAzIAsh6R5hHZ4brRxpHVgd4BvbHtIgmiJWIlkgAx18Gw0azRdoE4sOaAtwChEI/wOV/+T8b/tM+An21/GM70XtR+rz5FfeWtql1vvTw8+FzDbK7MgKyzzKR8mbysnJhMfRwNC3YrQHr4msr6xIroO3sMT+0lrhwO3G+pAFeQsZEukVcRdWGuwbWiAXJRMoni9TM1o2QToaPN07TDn6M+UxUC79KxwspiuYLXkysDmvQWZFW0lES4tKsUhVQ6I+vjjdMfot0CmVJqwjQR73F3wRNAm8AW350PCu6eviIt9W3BvaX9eP11TXItgb1xvV+dFpzxjMg8nmxLjBOb8Tvsy7rLvYvdfCCMmvz07VINib1NjNZsYKvmm3JrBzrOmuJLkByInYcOjU9/0GgBbxIJ8mciVhI7cloyjvKnMs1C7+NGY70EDTRT9IEUeDRDRAwTvWNf4sACmiKHMpwS1FMys3xzwuQddD/EQOP0c6cDVnLqcpECXTIBEdORsIGtcV/w/sCNgBAvp58fPoceE92wXZNNj61yrYf9pr24jbzNpi1xnUo85yymPGMcEOvyq/rsDMxGDHAcgVyXrIS8Yww8y6U7N/rf6nSagBq4itY7ePxAPUWOUY8l/+OQkrEIkXsR2nH2khhiJTJ+EulTPFODE8ykAwROhDuEEAPWg4/TPIMIYtTCp3KW8rOy/dM803aju8P1VBr0FpP8A84jmFNpIxPSz/JwEj+x4XG60W2A4QCOoAnfmI8ebpyeP+3ovakdfV1bfR185Kz2PPFM44zcbM9cyny9bIE8acwb28SbjBtp245LupwpzKpNEG1EHTwsxUxRC7jq3gptKhpaJzrNC3JMm23MPu9gIaEk4eYiYbKfErUy5QL30w4TAcM6I35DxvRNxK1E39T8xQw00bSelBvDmuMSQt4ysyLLgwPzUGPTJFXkm9TU5O+UgXRTY+DDfkMEgp9SK1HjAbxRd9EkEL5ASX/kD35u6W58XfSNnl1N/Spc+OzZXMcc24zUDNZswcy0HIfcUvwx2/KLsYuOu3lLoVwMrFy8vjzhLRjNDKycnAF7eVrRup1KXnp0yvEbgsyEHbw+5hAZcPMhtOJhUt5TFgM5MyjDJTNMk2+DktPUlCSUftS/1PYE9ZTapI1EN7PqE3njI+MXkv8DCeNPo6Q0JKSV5OZlCST9xKf0bAP1g4gi9IJ3whFR0BGHUSbQ3gB5EBhPo78zXsxOSt3T/YzdOJz67LnMnNyLDHHcc9xybH5cUsxEDDtb/LvEm5araWtFq0u7f0vHfDccg+yyHKrcTOvn62j62eqFClPKYqr8m6eMtI3sjvrgLFEqwexCg0LwwyNDOMMtcyYTM7NAA3WDoyPnREs0kOTa9MmkqUR2xCNDttNUQvWiyMK8stkjESN6Q/EkdeS/1LzkofRwZB9jjgL20nVx/BGB4U/g2sCBkDEf2Q9+DxUe0H55jf7dqm1QfRfs1eyvbHw8W2xXTHA8nfyJDIvsfuxaPDi79ru/a2/7RFtom5dr5qw7/G8MgDxzXDN711tdywUKzOqr2vJreXw0jUQuVP948GuxOiIGwoHS9qMuIySjRTNMM11jhiOqI+RUTJSblOlVBVUblQUEyWSMdCTjujNxw1cDVnOH487UITSbJMWFA0T3tL0kVJPg42jiz7I+Ed0RfJEjANNgi+BLX/i/qQ8zbsSuY138/XXdE1zDDJF8eExVHDfsMAxMbEjsWKxQ3FDcRHwU69o7nIthi3L7mwvW3D88j2zIbOgs3gyPnCCLsztcCw1a7Ns7G7usfL1q/mZ/eeBv8VmiEJKk0w7zInNSU3pDecOKo6ZT27QoBH6ktOUS9TBFRpUgFOT0nJQd870zVhMFkvjS/BM7M5vT/rRFpIwUnAR7hDsj2hNSMtXCSgHBwXxg9kClgFIwCE+gT1xu/M6pDk6d582ovVN9DlynPIxcVJw13B3cBxwVnCU8OrxE/ElMLtvoe75bdetaq20blYvibDD8Z6yM3F5cHivJe2P7NgsJ2xZrbnvDvJNtiB6FD5jQkeF3YieirzL4E0oTVeNV81JTYJOPA6QT4BRPRJBE/fUYpS6k/7SlZFKD+tOHMy4i1aLLstQTJVOJs+dkTBR1FIpkWbQG05PzHEKXcj7h0jGJYTCQ+ZCsYF2gAY/Nb1u+/B6EbhD9sd1dfP/czCyRHIkcf0xjjH9MUrxuzG2MYixazCxsCrvd26brrou/G/B8RpxxjKhsjxxCTAkLgVs76uF67osTi3eMDQzEDZbOfR9aACqw4QFzEeMSQfKPIszS+/MB4zpDVoOTQ+2kGIR/JK9kv8S/pHH0SBQI07ITc5MoowZzFvM8w20zzOQWFFAEi3RqhEtz8LOQc0RiytJR8gIRtRFxYT8Q1sCREDMPwf9+Xwe+t95fLeq9nJ06bOdMuFx/3EZcPMwnXEkMR5xTzG8MTxwm6/17tPuj251LknvRjBAsa6yCjI18X5wJS8/bgLt3O5k71WxKbNCNgI5YLxJvwkBj0PJhexHXYjiSh1K/UsDjD3MkI2cDlzPfpCNUe+SRpMWEuPSdJGaUNTP547hTjBNok2BzjVOiU+VULwQ0VEZUSHQpo+kThlMkgt2ybKIIQbhBYnEfAMxghMBPf+cfre9YrvOunp4pjc99bg0HjLsMc+xSfEpMOPxJnF6sb1xp3Fy8N9wTS/Db4CvzLBFsXmxqvH08Zcw5O/6rrAuBa4NrgIvCzB4sga0nLbyuZC8q37IgVFDR0THxpRHm4irSRCJYspQi09MXM2dTvyQBNFgUdISaVGiENgQsA+fTt3OL82ajjUOYE8KkC5QMxBZUKsQJk9PzkqNJ4uxSfZIycgmxtTF34TrRC/DWAJ1gTv/6n5W/T97TPmbN/W2U7VKNF0zBnKFMhnxqXFlsRaw6vCiMCKv3C9mLtou2y8JL+HxBzJ48tYy9DHS8Rrvp25lLbltHG4jb0qxTTR8doM5/bxAPpCA+8JUw6lE9sXiByyIKIjTyhSLMMw2zYuPaZCuUaxSc5KKUg2RcNCCT+2Oi83pTUDNok40jtfP3RCW0T0RP9CZj+2Ozo2ADFUK/glvyEwHXkZMRaiEkQPcApkBbYAlfoy82btfeZa373Yk9LVzp/Kh8ZZxTbDFcJkwozA68BNv0696ryOurC6v7vUuxO/ub6hvsq+mLxnu9i4BLipuZS5or0VxDjKY9RY3ErkK+5p9Qz/dAbkClkROhamGtUfJSN4J7EsdzEEOEU92EECRvlGnkebR9FEukM6QQRAlT+CPns/5D8iQW9DPkR8RVFE5kICQTc8OzlmNDgufylHJAQhWR4DGu0VYhEbDNsHTAEw+9n0ke6d6Hvir90p2X/U9NBfzYbKc8cjxeDE9cPHw2DD1cJuwQTA4b6kvji+i78uwFnC5MK1wUvCP791vpq9prr2vUzBA8b8zgbVbd1B5yzuQPisAO8GVA5GEpQXZx2YHyglHSndLeQzgjaDOxE/jj9jQSFBjj8qPk47bTonOX82/Dc+OEI57TyZPFo+vD+HPQg9tjj0MwQx5iq/JvojoiANHwAdyRo+GAYSNgy1BVf9EfbH79PqguXc3zLcYtjC1MnSr9Bxz2XOSc1vzCLKqsbOw0HALr7qvQ/AQsJTxXjIIskryUvGX8TGwHK8YbtTu6m91sI/ycrREtop4+HravRy+xICvQg6DW4RoBW/Gp8fgSQnK6Mx8zftPDRB2EOyRPxDk0KKPy483znyNwE3ezabN1c5NzomPfo/dEB2QOM9tTonNloxyi2PKfIlZSTDIqQfGBzvGGQU/A1ICKUCD/xd9WLvq+k45FveFdoy1vrQls8AzYTKMMm8xwXGisQywem+h7wOuqy7FL+jwV3GksjfyWzIbcNhvzG4B7XAs7azYrgAvdDE0dCO2oLnMvNV+2UE1QfeCsEPXRHJFkIbPB+ZJ7QtpzXbPFpAFUQQRHBD+EHePSI6NTYWM1wzpjJkNb46tj00Qi1Df0H/QKU9pDpYNhAwLCwvKe4mXyanJigmJCR1H24ZOhHLCD0B3Pkg9B/vper75rnhn93D2jbWaNPVz2vKfMd7xQrEzMKCv3i+t77qvQe+mb+4wUHEdsTHxDLC2L3Lumy1VbNysluyabeQvdfE588v2QXkrO6E9Y79mQOHB8kMZBGtGPYgiiciL1Q2+TtqQbdEN0afRstEfkQFQgw/Qj3SOiY6UDkXOdc6fzzBPHNA00HFQLtAoT2FPIE6bzVcM1AveyvRKREnGSU4INcX4xDBCRcDnvym9envkOry5LnhE96h2vrVYNBvzXDJIcZGxeDCIcLYwYjAmcCRv2nAZ8NxxyHKHcpexwvCmrw0ueG0hLPesg2ycrbJuoDEM9Jh3e3qBvQK/LMEmAhEDtYS4RVNHGcf/yW8LlA0+jtNQCBCV0RuQVQ+szsbN2w1RDKOLvkvbDCvNBk6nzvIP58+lTxAPVE6Vjj9M2sukC3yK8MrkSyjKi0nniDnGcsS7wltAdj5fPVO8djsTunZ5TnjouGI3pDasNT4zj/LFMi+xlHF7MOVwwPEJcXZxlnIWMj/xWHCk78Bvuu8Vr26vH68lby7vIXBXcZTyyLSUtcu30voR/Hp+mUDhwqJEqQZSyBSJ44rTDB2NcA4BDzlPdw+n0GFQRVBjz/5PHo7uTnqOMY3VTXlNHY04DQYN9w2/zaKNkg2bTcbNq0yEy8gKckkgSKmHzQcCBZqEJ4LFgdNAfn6bvNF66zkj+Cl3vPbX9lw1jjT7NGpz+jMSsmwxA3EFMR6xJrE7cKrwebCj8IIxXDCCb2Cu/W3Obkfu4O7/rxcvWjCV8sn0unZvt5U5H/r2vOg/mAILg7PFHobZiH3KOYtjDEaNHk0KDiMO6I7pDy9OgY7+zvtOpc5qjZkMy0zIDS0Nc02yTWQNFI0yTSlNrw2BjQqMogu4StrKO0jOB/AGHoTqg8YCxIHTAI+/Qv5qvLu7GzngOI933Xcy9mg107VadQS1FLSnM9ayr7GXcInwa7CdMQixifIo8xLzubMQch/wzm9ZLlgur66zLuqvT3D8c1H14PilOrw7sr0rfqQA2cLLxKMGK8d7CO4K9wx/jWGOEM4azi1OTk8ZD/ePqc9BT17Oxo7NTlPN9g0RDJoM4Y0SzYeN8U2UzdtNpM1RjMlL9or9yhrJ08kHyABHBsXLRJpDIwGdQCE+i33D/Sb8DrrBOX64NTcJNvO2GPWBtNMzvbM5csxy3rJVsZEw5nBosLsxMHIUcoNzbfLAMfexMHAFb27ud21mLY1uSTB5M3M1cbck99S403rGfSm/g8GYwp3EzkdMidWL/QxczJOMW0yMza5OK45ITtqOxI8Mj5DPrM7hjf4MTsw2TAyMtY0zDUwNm42NTYZNrkzszAMLmksxCvrKqYo0CTUHmMZRhRGDcwHdQHT/F755/TG8bjs9ubK41ngPN2j2e/XCNa+0jPRJM+izDHKRMkYye7HKsbLxIvEaMVvyAXM/Mo4yX3GesPow8nCUcH1vHa3TruxwxHNLtgG3l3hUebU7jH73QSiCmwQjxe9INkr2DFeNGs0TjTLNjs3UTqvPf48Dz0lPZo8gjvLNrA0DDQwMjU08TXcN0w6yzlQOaQ23jI7MoYw3S6bLKUqGSnUJdAijR07FQgNBAZbAZL9+fj49hvzoe1d6a/l+uFF3Una8dZZ1PHRRtEt0KvLTcelw2fCD8ISxIzFhcXzw/PBCsHzv/TAU8GivT+8QrvBv7PER8b2xyTFpMXPyMvOXde03UrjR+tl9cYBkg2mEyoWxRkkIBcqzzERN1Y5PTplPI899z5mPnc6STgHN502rjnDO6M8bjzvORk4KzZYNbQ1/zSPNOszZTNoMy4xbyylJ+EhlyBxIO0eox3rF2ISMA1LCNwDVP6693Hz6e5T69Do/OSA4MjbldcP0/TNbMtNyb3HSMgqyM7JiMeCwjK+fbzLvQrDDMf0xoPC0rkbtMGzr7ZZvv3BkciLzqnTjtjv2Y3doeGU6LnyNP0UB0wPGBNoFikWmRdpG9wgrymaMv84aDxjPP072TjGNOAydTNENt06Kj7mPmA71jZ1NHozXjLTMrg0hDemOaM5vjfHM9cviSpkJ1sktCNeJDgi9B28F+QOHwhCA1//av3t+av1UvKX7mXquuVA32rYk9MG0aLPic5ey3fI78WBxHTDJsERwK2+3r+wvz2/Br6EvTK/osFUxr3MXc1/yy3Hd8WHzNLThNg21mbPd85S2LXnq/nuBlUN2xDUE2EdQigRLxAwjS6FMBI2EDz6PLk4TTIdMjw0rDwORCFG9USaPdE6/jyaQHVDg0L4PpE8rzv3O1M7qjhnNJEuwivyKsop5ycrISEaMRSXDyAOfQtjBon/D/n98hzwL+zd55Dh9Nma1DvR8c7OyWnEM715usq6tLynvt69YrlFtK6zqLQGuYW5ILgetqO4Q7uuwK/B+r7yvaC8IL5Kxg7NbtRB2NXXcdy84ZrpWPWL/W8GiwziERIZACAbJhUssDCVNZY4iTy1PRBABEHqQYVF8kbGSDhJbkiJSPVHzEnXTNdN2UxFSfdGUkb8Qw9CnTzKOKUzVS+mLBkoGiRTHWIYMxVkEOYMRgeiAn/+LvmB9TvxDess4zbcldRB0MDMA8lQxNG+r7YRtFiyubP/tEW0qa/srlmtiq2CtVu3H73Luy6y9rCfrASxpb3vwOLJEsuoyoXTa9m25gH0ovr6AYQGsQtqE4EZlSCCJF0p1i1PM182NDhKO+A/3kQrS+BPHFKMToFLu0ysUEJXGVo8WrtWWFCkTZpMrk5jT4VMa0crQAc8pzfyMrIuwieYI+UeVhvXGN0RwQr2Ap79ZfpS91rzu+sI4zLb7NX+0g/PDcxOx2/CXb6LvdG9q7yhutu1JrQBsCuxC7Uxt4a5EbfKs7ywKLDUtN+6+cDkw0/GrcQzxrrJn9Ok3LHndu9f9G73qfoXA4IM5RmPIvMnJCjKKBsubzZ5PrdGT0joRs5H6EdkTRpQplOJVlNVqFPTUqlTgVLeUfVPvUuPSLxDMkIlPWc2rzF/K64nTSNCHxwbqhJPDMsHdwPbAKj7u/Wb7p/pYudG5HTdfNfm0FvLHMeWxS7ERsENu0a4DbS/sge0NrUiuZ61JLT0sSys+K14rcizT7oyuDO6frb8uELCxcjr02zaad9Z5P/mvu9Y+WQEcQ6oFEobzRz4HmgmjS3DNv49akAUQYBA40C8RrpL2VAHU+FQ9U6GTVlPVFG4UGRP30uASBRFuEHsPgw7dDYUMuUscyjcIyMe/hh/E24QKgvIBcv+jvg99OLuoOsA5lbg/dvV1VnQscz+yDfI/8Lav628p7j1tq2zS7eHt464GLjIsYyvXqxornS18LacueC3fbXetre8O8jM0FvZYNnI2o3d5eXF8yL+FwisClQOvBBiF2AiJixiM2w2VTcZONM7JUGERZVJ2UkdSWhJBkiiSsJJ70gfSRZGzEMXQDA7DzmxN/819jKgLVQooSOHH+wbBBo6FYYQmAygBggCkv8m+//34vI27B/nmeGS4A3gtNsI1bTPhMyhyxnLYcqGyGTG08VfxZXFBcNywK2+QruOvcq/xMOHw9a+k8BTv8/JUdPZ1wXeT9xl3zTm+e/d++kCKAPbBfEJ4RCGG5AhRCbcKW0sqTEMNnw66T1hP3c/2D9wQxZDl0SJQUI+mz1pO747sjn7NXQxoy2+KbEoZyamImEeFxppGM0VbhPUD8kJtQRuAmcAgv5C+p/0U++s6cDmheaS5Vjj6t/I2x7XbNNZ0oPTH9UA1A/SNdDCyGXIfshGyvLOic0sy33HJMQRyuHPddYj2lPZi9oV3Z7jxO2i8034d/h4/OQCaAj9EE8VdhdVGxUfxSYzKu0tzy9WMpAzAza+ODY5ZjgeOP84VTn6Nw42NjLsLmcs2ytNKV0mmCBXHWMZDhYIFLYQTQ3zCtYHxwNkARP+sPy++c72UfY68Vnu3ezO6APo+eTj4z3gFN5I3TTextw52SbYqdQL1QvVn9Vr1I/TX9Cp0NHRj9TW1zzXpNrt2Q3fmONe5qrrn+448kb4Zv1LA7kFVwiBDTMQlxbqGycfqCFQI+QmeCkLLB0wsC76Llsv4TClMCcuLy7SKyEr/yqxJl8m1iBfH4ocxxnSFyYSlg52Cr0IiQibBM0ADPzj+Wb3Wfbs9M7wqu6367PpG+mi50jnHeUg4kjjYeEi4U7fhtyK3LPZWNln103WftZz1UjUcNUF16bYotpJ2h3d2uCm5Y3qjO4I8v/zsPWj+40AlgnVCxYOOg+5Eb4ZfR+2JEwm6SPPJz4pFS/JMkQzTzP4LvIutzBfL48v7SvcKa8lziAGINEcKhlhGNgTaw8QCvQG+AWGA3gBrv41+Zf13vIq8Qbx1uw06jLpYeZQ507meeMh40jjFuG54NHfO93Y3Z7cTdxb3D7aytdq1rLYcdtL3S3de9u025rfx+W+6evspfC08IP0hvj1/4YHJgl8DaoPLRLKGEIeFiPoJXMmGSkGLAEwwTJ2M7YzDjGnMLEuSTCTMc4uPSwXKScnrCPeIEEguBwNGPkRrA4MCnYHOQUpAsb9xPgc9Tnxue3q7t/tzezv5/riZuIL4Cbk+eLL3j/bOtZZ2SXZ0Nq22mvV89Ec0GrT/dU72fLYwtcA2GrYqtyz4DrmiurR61Lu1u8t9ej8DAFZBuwHjgnQDcsRQRnAHxwidSYkJXcn+ysBMPEzDjO9M/4xtzBBMbox1zKoMfUrtSjZJS8kxSICIKUcyhe6EisPNQ2xCrMGRgMm/xP64/Ym9BPxfu597MLq2Obo4n7iHOE+33bextyr2UXWCdaZ1YTVSdZr1JnT5NGA0JjUQ9d/1r3YztrR2lvgouOe50TsX+za7xb3ZPmV/r0EhgRXCzgPbhG0F4oYnh8RJQInBikcKXgsjS19MLMzaTPPMbwuQi+fL2gtZCw7KIcm8CVhIc0faRvKFxMVQBDEDgIK/gdzA9/+Kf/G+ZX4ZvWi75/vle5J7A3sleXX4EDf9N3r34zeU9qC12TUftQh2LPbTtdF0kPUBtPT2JLd8N9Q30ve2uAm56brIO5a8vHzsPa4/An/pANJBW4Kbw9lDmMTtxV9FncaCB5kH7QfFCElIcMi/CI5IqIk4yBDH+YfqBtZHAUdaxrDGgIWLBJpDvQKLw8rD/kKBQYxAdT+Mf6J/fj/Yf4a++b2YfXz8yP0PfIe8DrvUOsn6gPlUOdb6IXlS+Nq4onkjeEQ41zmuObf5pvoVuqx6hftXvER8XLz8Pe9+t/6NP1OAVsGzwZrC18OrAsKD9QSBBakFvUXeRcDGZIZKhrDF0QZuRh+GLMT2RGpDzASzQ25DDgNEgiPAmEEIQVqBIgAmv9x/Nr7nQHy9tr92fJq9fL8+/jw+FP01vTo80P0Qvjz+HvxivKV8ef0FPa08cjyPPP18yj0BPdx9XvyvPOV+YD4N/ou+nn9CPpU+38BDgPe//IC5wKbBBIHwAh9DUgJfQqeCukKZAqODIYOxg3BCqgJMQjfCC8L5QcBCN8FMwSZABEDmwEcAwgASvtY/bz6XP6i+VP7fPlh9c34h/ut9rP3O/0F+Znz8PsA+2r5QPvq+U36Afo3/Yv/zPqN+/v94/9J/u76vABF/7r/nQCYAdQBJf6sAmwDHAQWA+oEiQUMB/kJ6gg5CRkHWwo0C/4LYwkWCL8NLQd4CUEMiAuHCBUFfgqYCKkIjAcXCW8DoQIjBcgCzgKCAL8BFv8+/ML/Vf5K++v70vzz+mv3C/iz+c34s/hO9073x/ag9n/2Kve0+FL4m/d++FD5a/ma+PT6J/0+/V77ifsV/DT8j/9PARP+aP+TAPIAMQBuBMkECQM0A38E/wQ/BAcEHAfmBkMEDgadBjEGBwczB+4FrAdJB5sGrAUPB2sHyQbvBTQG7gYlBfMDvQVCBOsF7wKLAcQC2wIFAn3/0gH4/57/Of5f/oj9J/0//Ob7OfrY+dT6hPk1+dH3O/go+D730vZt+BX2SPYA92n3ZfYF96b3+PbV9tr39/eI+Mj3uPdc+fL5gvdS+jf8T/w6/e/7Ff5s/jn/AAG5AQsCxAHzAsED1ALYA1UFRgRqBXIFOgYABuwGFgh+B0UHnwYsCGUIGAhPCeQIOgeUByYIZwd2B28HfwWIBcUFBgblA3sDqwSkAzUBKAFrACv/mf7Q/kT+vf3R+2X75PsB+/L6Lfq6+Yr5Sfmb+PX3FPit93/3S/iX+MT3iPbE92v4jPjv9174PPkc+Wj6RPte+4f7YvuM/Hf92f0S/6L/CgAWAEkBLQF6Ak0DvgNpBO0DSwQOBfwFUga8BggHJwaCBi8HpAcyB+EH0AfeBpcGgQc5B7MFKgYvBwIFEgTfBDoFdgMeAkMCfgITAV4AfgEXAb7+tv6W/nv8zv2G/Tv8tvzm/O36rfpb+Zf5//rK+EL46vm2+NX3bvmV+AX33fc8+uL4R/o7+R36gvlJ+Qb7Zv1k++f6c/2e/v788v4BACz/bgBuAC4B6v9CAWsC1wUxA8YDiQV0BE0ChQYUBe4EHgV/BQ8G9QRMBbEH/gQKBiIFtAUGBZsEsgVCBR4GXwWGBOgEYgZ0BrYEMgMjBZwG3ALJArcC1APVALQD9QF6AT8A9wBi/zf/2ADHACT98vpx/87+HP9x/E77LAAo+pD7EAD//PH8L/yL+5/8LQCW/1b6Ef2Z/h78gP+u+Wf8PwBR+hX/c/+u+97+q/lX/Vn9Vf/U/U37QPxB/XkAVf9W+0f+RPzx/AT+/vwX/+r91fxg/F/8e/7q/jH+Tv7KAh/8uP9X/cYBFACp/wIAlP4qAe/++AQ7/o0B1gDLAPUChf1gBHD8HQJxAq4EKACZ/bID+AL8/XUFoPygBEABUP+JBG0BQ//JAvX+PwVbA84A1vzOAZ8EPP8TA1z/SAQj/r8DJAJe/uD9aQK4A678ZAIeAnj/K/r5/yIC3/z3+08DPQEZ+pH7XgTF/lT3cf6IA/n70fgRA5v/wvq8/VT97fwZBJf80f8k+7H3Jwc3/Bf+0Puo/w4Grfj0/CMCZ/zQAln/8QEo/YEHHv1SAmD6AQjjAMIAaANzBOsIFvvaA4UCSQRcAH8Nyv7fAGgHfwaUBCr+hAJxCtMFbgOF/hIBiADhCLQFLQJbAw3+kAQp+8wC6wcF/4D+w/znBHT/7wJD9uv+lP5O+6UEoPn5/tEBX/V8APj2YgGC/fb4xP6A9Vb86P5p+DT6z/v6/YYByf2x8WH9avkxB5v+zv+5+MEAIfr/A/f/Pwh/+if6/AbxATYK2gQEAvYB8fa7EaUMSwFYAJH7XAudBokIiAY1Ai4BvwVvAh8JXfylDB/76f5VENUATgI7+AT6OAqWCqEFMvn3+koGxgwI/igAVvgrAmUIvf3nCsj1Dfzd/yUAOgWS/j8Am/c3+XcCHQRU/K72YPdlAtT75feV/gj4EvmG96ECAv0Z9wv/mPi39i32G/fy/zQLav719Wf2zvSjCn0DpgGsBXL3BvyN/3AH4A+kA0v3QfreB18PMg/y/8P5mvjmCgUWehKvAqn3RfYJ/tsT3SEEDKz40elY+wYTERcaD+36KOg0/aMMIxtlB+H3NvIT9T8IoBRBCwn6lOUF7tECJxKtBUP/cfOR62X5MP4MAaX2Pveh+Ev5rvVO+FX2ufxX/K3rlfSX9Nv+Wv1RAeDtS+/++rUBaP4K/lr5Ffz7/fr3OgDw93EGogaHBXP4Qfvw/OAJtgIECrsB7fv5ADEHvAtK9z0Bxv97BTUQ/wYC+8L7EgNfC7kKvQOA+vMEJgKcCXAIcwGR/9r2wAZ4AccHpAo5BLP28vsT/TEBaQIpB1T8SPW4/of24ASA/Nj+Gfll80P++AeN+qwAxPosBXj5oPBw+An4OQjgChz9oPSB+bX42AhkAscFhf3g8Xf+3P7rCPQHRQTnBAv+XgHLAZ0BIgid/NcHXfynAhkFBgAIClQAzwIG+7L8jvkTD74NIgfbB53zCfVf+koIlxBcEcsGn/pv82HwtgPxClkZ8gz3/5f0dOtj+QIDHwsoChQJRPwa89z6o/oZBcQA5/x59bzyXv6CCAgOHf0c9dntK+/6/psQNBIYA+v14uXT70wAmxTVGZgMJ/5a6jLxk/hfC7wWRwkEBnz/4/ta+5kCyQZOBfH9X/3kAu39AQH3+VoAhgG5AW0DEfsZ/pr+RAJBAHn3tfYp/ZcGiwdNAdP5Nvkd/XD/Ef7kABUFfQDL/Bf6OvtuAf0F3gd/Aaj43vYi/AkEmgd/B+8Cg/2DAl4BVv1o/Aj/ywS7Afb9+PuqANMBG/9V/+T6nflU/1EIYgWaA2YFiAgwDZwJrQo5CbgL8g4aD+gMjwd+DBsNVgwjC1MJBAXsAlwGNwM7AJr7mf2j/038rfg09Y73efb397r0wfGC8nHzCPNU76jx8PA38Vrx3O6U7/7uKPU99vryAvEC88r0YPY8+Af3n/Zl9o77g/yd+TD5mfu+/j38fvx1AJ/+jP20//kBiwBcAdsCoAVfA/IBGQLCBKgF9wWpBl4GSQbyBQ4FPQSyBYMHkQaiBpIDXQPuArEGIQa8BJr/i/4iAKMD1ANv/sT98/7PAGD9rPra/EH+LAAG/Bj5Xvpi/c778Pwf/AT7uPxH+4X9Bf0J/wz/h/4X/gf80/5DAZwBKwGaAvQBlAO3A/8DkQZAB00IiwaRBsAI/guAC1sKYQtjDPgMgAtxC/gNhw/NDq8M3wsVC14Nqwz5C0UN4wxvC54KjgqXCSYJBwksB20F4QMgBBsF/ATT/zr+JgB9AisAq/xU/Z3+Cf6K+wv6Qvri/Nf7Ufgl9t72T/iI+tz6svgM9kb0bfYp+j/6YPf89Bf1p/eq+RL69/ex9y/5qvoA+sr73vv2/ij+/v3C+8L/jALjA8MAc/8GAqQGhgd8BJICKwMlBsUH/wZsBK4DLASpAz0EwwQUBR0DWAI4A5wDEgO9AaABWAChAAj/pP82/3//kv0Z/O/40PlF/XD9Ivvs9572/fZO+I74Efeq9EL09vZ09UH0T/LR9EL1EfS58qrxMfWO96b1PPG98LX0fPcx+GX28fS09iL6S/uI93X2QPlC/iv/yP0M/Or8SgALAlQBowDlA+EELQThAyQFlAaWBqAGxQdvB3MHLAqBC/cIHQchB9AItAiwCJsHiQf1BwYHBwftBBwE6AVWB7EGrgQhA30DpwMzBOoCbQJyAAsBIQB3ACf/Xv1O/eT9sf3w/Fb7I/wV/DP7u/oI+7D7u/qo+tD5qfmJ+k77hPrM+dL6ivrU+gD6kvzl/OX7Pfx+/AP9s/z4/cT+w//N/rT/6v9yACEDMQLcAUMBRQSUBXQGvAMOBLUGgQdaB20EOgVfB2oIewbjBEsGGQeRB2EH4wXXA5kDDgZsB1QFTwOdAi4DRgOxA1sE3QI4AiUCYADE/pEArADq/1f8q/xz/YT9s/wO/ev6Kflj+c76v/v0+ib7qPlM+dv6tfvf+ir5SPuW/FH8EfuF+uX6ivxt/0b/Ufz2+l3+DQGdAF3/OP+VAAcDxQPcAa0AWgKqBhIH0gRnA+UEmgdaCD8H0gYVBR4G5wflCLUHMAY+BgwG0gVQBZgGMAeiBd4EZgQ4AxADbwQVBbwDEgJiAVwC7wDXAS8BfQEX/8X++P/L/iT+o/0A/kr8ivsZ/cL9aPxX+0H69/oJ/Ij8H/sC+q/6Y/sR+lX6pvoz+5z69/pq/P367PtX/Mn7cfne+dz8BP7m/Cz8I/yZ/Az9GP6p/zP/m/6Y/0//tP/VAEAC6AHw/3IA5wG9AcEBlQKvAWoBSgKKAaUAgAAAA/AC9P+v/3wBnAIBAuoBuQFXATkBMwMUAokAVgEaBJgD7ACiADcCHQSKA4oC0wJSAcsAvQLPAaYA1wC+ASEBLf/b/cD+Cv/xAOoAGf4N+738nf/9/yf/vfy5/EH9zP2f/lr+ovz2/Lf9Yf67/eX9I/+7AFL/dv0d/kL/0ADqAXAAeP+gAGwB4gD0/yMCkgJNAVwBMAGkAJAABgHVAWj/cP4GAIEAIP+6/Uz+//20/cX+P/8o/3T/AgD4/5H/AQEzAq4BgABeAfMD5QICAWMCCwNwA9EDOgT2Ax8DOgRPBaUDIQN0BBMEEANYAt8C7AI0A08ChgCV/5AAjgEDAPL+S/5q/lv9UPw9/GH8aPzd+4v75Pr6+eb5D/o0+c33MPhQ+Yz4F/gQ+Qf5SPpp+xv7V/t++cD6z/zl/L78BvzC+8L80P0D/pz8Jf0J//T+AP89/wQB3gFUAagAcgBsANwC7gORAr4BvALABHEFFgUhBEgFgAXjBRoGSAW2BMgE/AT+BFwFYAaIBhgFBgTNA+cEHgT9AoUC1gLdAo8CKQPiAusBVQDe/lX+X/+1AKkAM/+r/K/8xPzH/Zj9zPwa/Q/9y/z1+hT7D/1c/iD+vPxt+lH69fvy+x/9Wf35/Tv+0/39/bL9mf5u/9P+yP0U/r7+6/81AEkAgQB8APz//QCtAoUEmAQcBWwF2ANtA6EDIgQUBbcE9gRsBmkGHgcACDMHrwY6BhAGywZ3BuQGHAaoBv8FAAUhBG8CKgPxAjsBWgBOAbUBgQGfAGUApP7U/EP8g/s4/UD+Af6j/PP5Nfzs/f/94P3E+6T6v/kT+t/7ofrn+bX5LPl8+Yj69fzl/SP8Gfvz+wn9EvzT+m77dfvn+pn89v1m/2v/TADZ/qP9u/7YAZ4DxgOgA08BsgBcAMEAkQF4AjAESgTXBIQHNQcNBZcDSwI+AoACPASqBikF6gTkBLgFmgXtBAAEmwQmBMwDVgNiAoQCRwL/AcUBHwGvAtEC7QBu/iD+VP43/pj9Of49/vv8jfsp+vz5rfhJ+eH5H/ss/Bb7yfuc++b7Wvts+dv5R/mD99H14fVd+FD6lvoY/Lf7lPt8+yP77vl495v4T/ym/qj/CgBGAU4B/v/X/1z/MQAeAqYDeAXfBiMIewiEBtgEFwTmA9oEFQcqCaQKUApYCuQI9wTuAzYEEgXPBAEF1wVuBnkFYwQkAnX+H/yZ+xj9cv/R//n+W/wv+3b7kPoL+bv44/jo99L1fvRI9db1YvWe9cb0QfMb8zP14/Zr9jf1rPbx+PL4ZPkH+WH6t/o7+/r9Vv42/08BYALBAhwBwQDCAu8DtQUmBtgFBAfaBsUH1wZ5BHsEjQPuA+YDOwNyA7ADsgNAA6gBPQF/AMf9ffzf+R35B/oF+l/6//j69+r4cfhs+HD4PvhO+1z8Pv1s/Rf85v4EAE4BRgJzApwEOwROBcYHJgm+CykNvA3xDtQNCQ5HDUYMOw7nDEMOyg36DBQOywo0CX4HPQRCAs0ATwLIBKYElQQ9AlD9a/lw80Twru3Y6gTseeyC7uXtaexm6zrpoekh6PvlDuad5f3ng+pM6svqG+lz6GLqcezW8tH6WALVCcoMwA5MD+4P2BOtGLkepSM4KLIsdy8uMo4z9TPfNNU1szVDNR01UTQpM7Au8SfcIPQbKxlUFz4VORE8DMQDmPpN83Hs5OdM4ybfGtzQ1evPBcucxj/FIMMywKS9z7dfsiCugqy7ru2w07PhuG2/+cRXy1zQH9bO3kznF/T3AKEMJRrNIkIq8jDQNlVA4kflUU9co1+7Yc1geV9fXy5ccln3VKNPFUzcRqhAIDnzL/kl6xldEdQLJwa6AN36ofOs6hjjDtyH1RfQpcz1yrvMIc/y0bjWTdYW2UfdNdyr38fgxN7D39rYHNKkz0LJd8pxy9fIe8p9yRXL5c270DjYSt1T3tTfqeCM45DsqPeeAgMLXhGyGMIhvipkM7w7eD0wQUBHPUuZVElaZV26Xf5UAFAJTd5JZEt3RwtCDztvLh8nnx8HGFYS1wf7/fDzpOsM6efjAt872djRX88WzlLWLt9H45/nZd/51pTPBMiZzZbQAM4FzczCZL2NvoK+6sfeyfTKL9C10BTZaeDD5l/rcOke7Hvyv/1SDyAebSfgKbgpKS6dNVhCXEyDUOxRcEy6S1BNHE5RU7xOv0XYPoI1WzQzNIMuSCeBGdQOMQnuAnIB1P3U9R3u9+KF3H/ZXNQj03nMzsccyufN/NZm3F/heeSa4Wrevtsz163UCtQe0JDSZNCiy2jItb5wvPS9eMCwxjzLHc9a1ofXeNb82E/ZbOJW7Tr6bggXEQ4bySA3JaIsGzf2QHZHlk5WUxVW01iVWTFZqVYUURFMNEUdP7c+ZzoxMRMnwRp/EoMKkwNtAJD2P+3V5QXeFNrl0/XNNcmqxFDGeMtS0PzWtN4D5mXnRueJ5t/g797i2knac9lE0irQOsgYxBXI3Mtu0rXSps4KzarL5dDm3UXlt+sf7rnrEPE++AsI2hj3HqAjGyZJLC05akTATBhQYUyfSu5LQVEbWiFbIVUZSGA8wTbNMnExeiuMI7QZgQ6sBdD9m/qu+DDz9uuU5Cjf8t232p/WwNKfzSjQJtWj22Lk2uvj89D3rvbR8HHoFuOO4NXf+uHM3/fY18/FxpjEFceYzC7RktFm0PjPxNFw2JLg1ec66t7o9+2w+CMJyxtmJ+Argy3OMCo7HEl0VHta7VcyVINRKFOvWyVeplqEUB9EmD03Oqo3OzGwJIkUqgm1ArP9sPvp9Z3rVuGd2a/ZO91c3DrYrtCbyw3P4NZ14J3p1OrB7oz1X/2FB2ACDff36J3bv9rr3hflVuT52XHK8b3Ku/zABcjmydfInciVzDXT8NrX3pnd+9354lvxzQbLG+0qoy8bLzwydzqlSn5YV19CYFhb/1gVW3ZfQ2DFWcZMT0GTOeg2LzVOLKYebQzU/fr1GvK78PvrFuUu3AzVrtNA1vbXztShzprMOM9G2Sfn6OtE8W7uIe9p9hL75QHO+v3unOJ228fayt8l3SnQpr/grKGry7LlwDLJQMarv2+7+sFyzjXfJuYg51rm8ez6Ac8boTBeOCA5EjjWPtVNz2FxcK5x/2mtYE1bF12uYjtf9lUvRps57zRrMkAvQCNpEeD/HfYn9I71zPTG7DTgyNff1R3Zld0Z3tTbj9dx1onbC+OU6SXs3e0M70bzR/5zCdUNvAOP8SrgztUC1LbY6Nm21JvK/7u4tWOy1rNjt1W3zLi+vk7JlNVV4DDjOeJ04LXnQ/p9EtkqgzkwP+k+GkERSrZWC2DsZQFn4WKUYZ1fu17LWV5NDT/6MiwtzCstKjcjUxcMCNj5le9/7Q3v1O496+Tj1OB24NDi8eZp58/jBOAC3mfjme1T9U37Z/kq+nv7evy8AuMGagy/CWgAIfIT5TTfsdsj2abPkMJvtTyvXbHQuBy8GLhaszWw6LeHxmHWYOHu4lbfD98u6Yf+dhS7I6QsQi8fNWQ++kuLV4Bav1mHV0ZX11heXFlbl1RyR/84sjDtK8ot1C0ZKN4dRw/ABGMA3wKjBikDmPpn8+bx/fU0+kH6K/Zy7ojpS+1h9cP7ifyn+DP13vQw+FD6tPm6+A326vS27xLlOtp3zKTDv8Dlvzi87LHFpFqaGprDnuWmkK37rxW0A7rPw+HQON0S5H/oj+uJ9UQIwBxIMfM8tUCHQatGxlD4W3Zj/2VdZzVm4WRkYHBbNlZBTklD1jiyM/kw6S4FKCMeKBBtA3n/gACLAr7/XPqe81nuQe0Y7m3uwuwG6i7oPOqX7XvvJu5f6rHneeaK5lPpYe3x7ZTqeOZj5GzjUN4S0jzEaL0bwFjHgsnAwZqzJKW3nk6iZqvCszC3crmLvQbHx9OA39bnVOrC7VL4gwytJWg6pEYrS0hL9kxPVVRi2G2QcRJuJmmqZ1hp12hdYcBSm0AsMPwmxCYZK2QphxyACKb1B+127/D1xfeq8aHoKOPY5BrrtvBd8bTs6+eA5qjsAPjgANsByvpq8xnx1/UK/fUC9AI9+hLx4+pa64nvEO2k36nLR7u4tlO96sKPwDy2saejnVaeU6ZxsPW1mbdEvA/FbtL44JLu+/b4/DwFaRQRK4BBuFNAW4VbL1p9XUJnIHJpeO90Rm13Zsdha13+VfdJ0TxfLu0iHhx/FsARQwmw/SLxfen45uHpdO3c7Rbs2+d757jrfPHX9Fj2+/Zm+Rv+XQI3BeMFuAJQ/6n+DwBTA9MC2f5a+Pbwi+oa5yDocefP48TXeMfNt+utYrC9tvK90rkksFSlh6BZpg6txrQRt2i7mcNf06zkWfTO//AErQzRFtMoDj0VUG5ckGCqXwReAWPOaTtvu21WZu5dGFdLVaJRJ0h5Oagp2BuMEqcMuglqBuj+Q/ln8+Tw2u+N8RH2nfe3+LT5ef1MAYIFywa0BlQGrQRnBmwIGQwcDV8KbARM/j36Tvaa8lHuy+mM5PHfz9rt1nXTRNON0nvQtcaBtrCpsqKjpZ+plqy+qomrE6tvrYWw562krw+04sOC1qPpX/Z2/cgCGgc4E3IgGDLxQTNPgVcQXdBi52TaZD9fUFuZVjtUrlLzTvRHUD6pNWwrMiN/Gb0S2g7iCi4H8ABg98PxFPEj9F35Xf0lAUUF1QkoDIIQnRIVFdIWVBdTGHYYRRcBE/0MKgQY/t74z/U+8j3s/+TE203U/86byybJgsa7weO7mbkLvYLDK8dfvwuwX6EPnlWr0bu5xDC9LqpVmhKZgqbVt/HDQsjUykbRz+B89gQKXhSaGJEccCcRPi5YaWxfcahpG2CpXF9kWHHEdy9zQmdCXGdS5UmJQ7s6OS78HsESqQ31DPEOnw0SArDwEOGu3TfmZ/TQ/wAEdwSDBYoKuQ8QFKoWmhjmGfYdxCOZKHYpmiBSEsIBu/Yw83PyLvC55+7e3NbX0HzLOcbwwF+6DrURslO2aLoDwjnKxM6Iy+297rHMrWO2LcJ+y1bI/b76smGrza6ZtUjBUchd0BvapOnR+6cNBhpFHBkfpyVjONVOXmKNbJZt52rEaH5qGW1Abz1roWOHWS9SFE7PSVJEYDmlKTMYMgtrBjIGSQa2BLL98vMy6o7llOkc8G/4CQGKB/0JnwtpD4EVXRx9HRgchxgiGRkeQyCuHP8RRQfx+vrwrOoq5mDh8Nrv1djRQM65ywrLFcZiwHi8A7u5veK/68e3003c+N7z1MbEzbh6uSfFec+wztXD+7UvrXexmrkKwG7C9cVg0Nbecu9VAXQPuRMGF6gc3yxNQglWyWTtZlRllWOOZTpp4mnmZO5cqVRjUIBOMkeuPzQ1bSiXGuIQ1Q1gDHkM1gnWCFwEe/13+iP33/ZQ+x4DpQxxFXga0R5oH4MfvSEvIcIgah+aHo8b6hVQDvoDlfaT6H/ey9Zt0eHO284TzenJ1MabxtfHDcZ8wrC8lLgKuYm9Usbe0OrXVNm300LJ8r8avPy8sMBdwl69F7dasF2rCquRrKyvfLajvz3OC+FV8NL+nQmBE2cfQS7gQRpUiGPTbgx24Hjiel194H0dekF0pW8kahdmYWEZWr5NOj7RL6oj7hqgFfYRXwrkAc779vkq+D7z9u3z6KXp6fAj+5EFTgxEDzoSUhJkE3YWrBfnGFYWaROjDsoFUPy1753iW9e4zhrKfcb4xE/GQcUuw8fCZMQMxsHE7MPQxEHJFNDr1BXYG9i02oLgOOAy3WfYodJA0+TVPdmT2k3SucUeuc2vi7G0u/7IgNZa4bDv6P+rDtIctibKL6g5G0W9VSBoMXf/f+1+T3hrctdt4W2FbuFrk2UtWZRNZ0OaOLst5h7EDsgCd/t2+Wr4NvPh7VDl/t6930Hi0+bF55joquzg8rP9dgkMEiUWaRc+GMQcMyJ/JuMlkx6BFZMJMQCD9x7vPebH2ejOosiHx23JZctoyIvEicAivtm+fMBZxL3Ge8rGzrXR39Pw0RzT8NZ72Uvcd9tK3freSODy4SvcwtE2xMO6rbo8wRPLJNWh3u3nMPGe+SYDyw0FGCMijS34PHNM0VhxX2RhDF8zW0pb1FyyX6VeTVvbVD5Mn0FaNqMt5yMQHWEVZRHJEEMPaQ3FBpz+rvff8VjzKf2WB+0MRAnoBEwGngv3FbwfbSZSKUkpFC64MqkyWCsMHdsMtP88+vv4Cvjl8Nzhws+Cw9fAm8UEypfJeMdpxTTI5s010prSn89bzjfRW9Yk3KrgjeCX3JDZHde81r/Sq8sWx77BSMBbvR25CLTcqyep8KktrpO7S8v42lzpkPPr/n8J5BRhJF80HkNJUYlegWnucHdz+3DzbCZqHmraaU1nTGKbWRlOXEB/NMUp6yAVGd8RWgyGBiUC+f3X+ET1Ke576onuqu9D9Un0O/PE+X38vAcvEfIVcxo9GCoZYx17HncedRXlB0v+J/aE9CLxU+pn4e7T7Myky5POltKI0irRAM4jy9HLg8//z9bMT8gmxhjHB8sR0rTTXtLrzEXLsNFW2dnh6OUv5nzjC9+g0gjD6rOnqkKzTseH47L6cgSSBnUJ1BCnHcgqUzNPOb47xEIeS1FRIlL1SfVBCD7uP9FKGlRrVQtQuEBUNaotHympJ90hjhvOEQwKIQiACVIKIwYc/gj4JfRq9XH8QgEDA1L+X/g2+In62gBrCV0NVQ8/DggMUAudCXwIFgQm//D4P/RR8DzpI+SB3mfbMdsb3ojg9t9A3svbEtv027rem+Fk4zzjt+KK4KDewduL2+bcWN0Q4UTgneBr4x3mr+t77Fzo8+Ys5M3hoONp4Ivd+dqW1hLemuWc6mTxHfMl+2AHwxF+HvIlVCi4LTwwjjfqQPNEg0ktSUFIokrLSqhKV0eRPy87bDUIMNMpvB49F5ASBQ1hCoIHRAPv//j5CvfC9Wvza/Tc8szy5fEX7yT0RvfN/GEBOwCbAiEHFgzWEQAUzhCiC4kDIgIBBNUDGQG994/v7OgN5QzmL+bP5W3iKOCO4VjjLuPT4Ovd4dn32SLc+OF85W/nT+jA54nn4eTR5UrmUehs7EjxmPSr8ZztfevZ547jveBZ34jfxOD94RLlZOR44lfl1+m69NH/PQZjDaITIxkkIcMlGSn1L0M1tjo0QHJDiEZpRHhEEUU+Q9lC80FePyE52jDyKfQjdh9QHS8aYRPrDJMHpQNCAhX/Avml8fTrSevy73P0Gvbv9lT0IfTe+Ib/Dwa+BLEArwAwAskGggeuBNv/Tfqz9o705PWR9LnvcelH5n/la+IP4NDdytzp2VTYQNZH1DDUkdSz1ujX/dn717XY7tzg3BTgmuGX6ADu2u0n8sPxi/b39Hv1VfUs9Ff5OP6DBHUCcwAUAIb7xv1rAe4FIwY5BEcHTwnSC3ANuw0KDaMP2BPWFu0YThyOHxQhzCASIKoilyQqJ3MlzCI/I98kXiS5IUYhjh+PHNcYzRb3EAoPxw1NDmsIDwGF/Cz8N/rz9zz5q/kr9kj2yviG9xX1afhZ/ED3O/eL8B33Ovp29V77O//88nf0PPSV9vb8ifnM+BT3c/mA9738ifbQ+Sz3uvU68HbxTPbo8zb1bfV+8VP0EetN8PL3JPFl8Mbybe548ob0W/Ms9CrxB/JD8RT01vHV7Srxt+5o8JPuUu1b7lDvnPRy7WTvPu3H9Ir1zPWM+kr5q/vP/5P+Bwj0ACAH/wrjCuMLpA89EzwRMRJCFpwUNhEpEa8WHhXqEvATDhSwEE0QuQ+ADgcOVQ9PEH4OYgycD+MQ0g6JDoIQoQ22DRMOjw6UDQgLOwsUDcgKTQpzCv0HvAZXB5gFBQReAqoCgwLO/pL9Nv7v/nb+Bvyn/Or7nPqa/Dz9HPzf+xv83/2m/Lf8ovzM+xD7kfrZ+nH5ovha+Pf38/R99CX0sfQA8wXzEvQz8sXxWvN99RP2ofa191b4MPon/jv/tv8JAWcCkgT9A8gEXAauBmYGzwcqCAEI0gjSCHcHTweQBrgFfQU/BbsEaAPJAPUAhgIKAWH/TgAHAPH9TP3w/Zz+iP4V/rr9vP2t/V39z/3I/ub+rP2S/lv+Uv+Z/iD/Lf6O/gn+Hv2j/cn+nf/l/p/8Nf2y/nH/1v6O/nn+hP2m/Dj9lf2v/Cz7tfpM+oL5R/nF+db5X/rs+l/6Gvt5+yb8iv1i/W791f4AAHwB7wD/ATkC5gLvAqsEAAXJBS0GJQYPBgUGIgalBwcFkgOCA8MCmAL4/y7/Y/0/+zL5v/iJ+Jf2R/UO9Rf0VfNE9Hz1WvWe9Kf1DvZQ+A758vmW/Fn8w/xH/4kBAwJSA6QEhAWUBUEHfwcUCEsI5AdmB54HSgbpB9YGJQTOAmcCHgJxAgAA2f2g/UX92v3A/Nb8G/3A/QX9yf1V/Mj9bP4z/oj+yf81/7YAJgA0AMUBIAHl/qwALwN8AqIDpwJAAkYDrgJ4Aw8EiQU2AiACfAMnA/0DBQSqAYAAUQAIAOMAlf+2/jX+Ifwb+oL67voe+mX5bvkf92b2lfcu91n4gPe993D4SfmG+l/86vvT+sj8F/8i/xMBaALEA2MEXgZhBzUH1QkzCKQKmwu8C08MwAs/DMEKHQwTC2MJzgjtBkAHTgZ5BQoEKAXuASQBHwFs/6b/DP07/QT+Kf0K/tP8YPvE/NX9nP1D+yz8Bf5k//f9pP3B/gz/iv7w/ST/wP5p/iH+hf5G/0r+V/4K/zj/OgDF/8j+Jv/f/mr/A/4O/5v9sf2b/wT+7v45/2n/nf/h/wgAawLpAm4DSwMbBD4FlQT5BQAGWAYFBwkH3wWeBlkG1Aa7BrsF+gcmB/8IjAbTCHgIYAjYCcYH/gjuCd8HBAp5CigIjAg9CREHDQcSBvoElQKCAjECwAAQ/m/7ovpt+nb3DfUE9jT0ofNF9PDx0e+M8Hjysu978ADy3vOw8zP0YvVv9nD4c/kX/AT5e/l6/uz+5f8F/jv+hQI6AYMCKwKaAKsBEQHgAc0A6f/N/2n/gvy7/eb94fss/gv7fvqa+wP7ffu3/Mv8bfsm/q3/6f8rAEEAfQBcAksBlQF3A+YDngasAxwFUQUABIIEPwdcB7wGTwf5BXkIwwftBpMI+gWtBnsHsAl/BKoEBgS9BvEEBANgBOz+Cf6NAOsAyf2B/u7+UP29/WD9NP4Q/Ub8Gvw0/H/67Pla/HL/yfwb/iL7nvzH/tj+Nv7R/K3+DACI/qYBBQTUAAD/wv68AmYFQwPGAh7++/wiAjMDlwNf/9D8ifro/D39DwG9+7j7ffig+R/6W/rM+4T6PfdY9gf6XPl4/fn42Pg6+Pb3o/lp+r38QPz1/s73Sfps/d3+Pf2B/b8AeQAiAUr+dQeCAXkGQwTnAW4IHgHOCpoFSgJ+BNgKBAh/AzkKWAHIBysGKwmQCcH9AgpaDfgFiAaRCYUE5QMYBacDDQS+AOwCLAlc/t4CYwVO/V8EaP2VBPECyfyxA8v9Hv9B+y0GlP1n/jQKUAqu/+P7jfqsACUIZA6uBVj52/+V/voFAQNqBeoD8voD/CUC7gBn/TQA2PqN/rfwNvXR/Ov34/xK9efwFvIC9WgC9f3H93707PbQ+PIJQADj+5315gVK/8YKJwkN+UkAxgliBQ8KJwZN/gIJQwEoBygEiQ69CXT2exZx9f8O3ggy/a0Q+v33BS4LLgXWARcFdRNj9jcIKxEYAccI4QOQ+2oFrQX0Aqr/7/u6/uQAKwoR9VcEzflG+r7/GQwU76fxZPgIBmAQav2j6nb7Y/8E/j4Dg//y8uH5HwdS+Mb34gtS6wD4egAn+4b6s+Wx6/T/vf/A+ZHlZf6n9872y+bb+bMEIe4N+CH7d/v58eT7zP4p8uT0efv1F0P/uAjSFsEA4weR/s4Tcvqt/xsWOATM7zrugAalCPgQxxc68yjqbu+GDZAh3fu79a/+8fDpBX4QAgbt76/3qASw/vIX9wWY/Tr8LPwu85cKsAhw/coM8/vV8GMOBgmRA8HpawMwCZYDoQQ56lsbS/8q63YHhQZABVj4/gZO7nn9hRdQ9swGHOLY/g4aqObOCbkBsf/y8HL04P1EBUb/SADi+WXrrPgkBf8AAA0X9X8ErPaSAzUEFP/lB+T4GgR6DfPxXhgnAEb49f2nCTYC7QwZ/3PrwgeUGFj1XAjW+jYHvvUt/EYXhw+1E4PwZP1/8iPsth3gCPX1/usx/Q8gFBVZGjYXswm8/dUBIhozAJcAqPuR/2Dk9+6JFlz4vPPT9+b0+Pmu8FENnAoo7LX2L/Ep91Pr4QooAFz4uftg9e/wLvHfAsQe4v8F8pbw9P9W+MgCWxd67Svp2exaAGIPSg68CX/cht9m/XcSsBb++9//je0K8g4PXRGtE0vzGwVECigC4AY7EvgE8AM4CskVrxLqArEEgArIA8MQTgwsFFEEaf3qD80VuA0x/wQBWvykDw0bVgpqE1n0mAT+AHb7zQzOBlkHGfdH+974HvSECsAL/xWu+XHmBPYL/JkNVf3q+w7zX+61+p0CjAX0+Xzvf+jq8WoAD/+yCCT7f/FF+7P3QQu89hfwoPV07q8L9P2Z+YLy/+heBPX8Tf9v+2zp2vNZ788JSAqu6w8An/ueBeb5lfxaDM8BRwQWAt4DOAzAApwCofSU/yUMbgQCBpMCog04/HYFegO2AHP6NffTENgI3wTyAHP4y/5d9q/7FwHdADAU5ASjBGn6P/hS/tX6eQbc+VMCHP+NAUQCrvqT/ErpW/qwBOwDkgHw/rwJyfBy6Ij0Mf5ZBIQL/gge93/mTffLBKj5Pf6HAWD/ZfZS/mkTef2z7wP5cPs6B+AAFQ5yBy3oMf/XA4oMBATW/HMDAfDB+FYO/Q88DmIAxf5pAEAC3Q5ICFD5v/1NBfkVYxb5B9oCWPhA7oX1RALLEuYLHAmg/5j05veO83UKtfaz+3v74QSOC9H+9AA8/m79HfUFCCYF8ge5AzQDev2G+awKHxVrCvz99P0T9ssICAKhBRsJCv5YAcH5pfnt+YsCNgghB/3t2fUvBSYFawZLAp3/cvjZAKcIdAUD/YYA3wmMCJADlgxgEQ4CzfRV/YYBlgfOBpoKBfzm9jICSgD9+jH16Qaz/tn1OgKVAEQAIPje86v3PP80AgAMNvJR8lv+ZQbKCcX96/yUAar25/U1+kQDWAdNBbP/su4a8kL+qQXJ9jT7SAhgB/v+5PZn8YT7B/2qD/wMUf8U/H36+vf0+PwJJxPgDk0BzvkB/4sBUABjCh4Dp/9lB30KPAIG+anxv/oRACgEsQwTB1j/O/bL+ocA5QKiDn0PTgT99WbyfgJBBX4HYgef93kBygE7AV8A/vQX9MD1RfsaAC//tQDA+Qv1g+2D7qf78wDOAKH5Q/Q98Ib3D/YKAKD8Mvvi/hgEsvzA/Zr8dP6P+TEAqw3R//IFs/8y/wn5jfRRBvENEQWd+a/3pffF+rYHxgJD/Ef8oQB5B50HZfuWBDf+W/6IAzcMuAu2BMcB3gJfAN8BDApQDM8FY/r++5MA4AjICzUJYv5S77/0cgO6CfMKcwO2/X/59vaV+/33DPwj/KQA4QDT+DQDj/uR+4v49fofAIUKzgDs+2T+vv4J/gz+KP7DAzT/xPmO+cj5cvyz9+D/Ov7P9wH8EvzA/d34YvwY/0b4YwHF/K/+Gf3++Kn9zPkRBEAM9AZ2AVz8qv3s/WcE1gUPDWAJpAK4BRkGDgTaBO8KVwwNBjYAZgGkB10JPgJqAXEDbQnyCJMF2QIMA0QBnfqz/EwCuwYkCOoC1v6799/72ADgA4gJvAMRBLX9xfyNAJ0AvwAj/80EigXZA70CL/78+oX8CQE4CEoOJgcy/EL2KvCK+XUACgQJCesFxwNg+tP3H/wE+dX2/fNy+3oCyQLO/dvxefKY9c37vfs0++UBvvZ08s/3zfsDAc78P/vB+Tn/eQDg/An+jP6qBPAD/P9yBNUFXgRG/g3/8AF0ANYBlAJ/BGADNP2x/hkFyAIR/SgAbwHmAcoBLP1UAK8AggTxAQz9FgCpBBQGFQOOAeACYQNbBNAD0P56/wAB/gBB/nUA4QAmAzQCEQIw/lb5YPni/ogBCQCK/e//lf2p/e76GfyxAAcDMALl/T78xv0bBPQDL/5AAeMEXQUUATv9CAJ8BsoGCwS7/8D/xgGhAaX9hAGDBPQI9AZuADn7TPvgACwFvQAmAMP/tgQBBSUDagLX/0gFeQPVA08HhggaC+gCR/9l/x4FSQjgAsUB+gHFAooEZwBCBdsDpv0F/Bn69vxpAI0Bxv5O/fb/rgPJAe79Iv14/5v8Hf2o/3EEsgGu/sn7wv1U/zj+if7oAKgDqgQM/279qP2H/i7+Cf2p/2L+qP4q/tb6+/mn/ZsCRQSCANkASQBY/WT+SQH2BNYDawFYAJf+1f2EALQBzgEb//EB0ARWBZv+C/w8/B/9pP4hAFv/jAD///b+2vo7+RX8dQBp/kX8Jv/s/YT94Pxv+9X64/vc/KX8uftu+/T8P/7d+OP4F/6O/br8Z/sC/eP9PPoo+0b/UP3N+/781f/V/+39Rv+W/jT+Gfz1+xAA3/9iAH3/dP6oACX/LQC7//v9X/2g/Sz+Mf2QAG8ABAHC/Q78nAA6A/oBHgJcAVoEAwYWBEsGUAYgAYT+avwn/f7+bwMDCv8OvA7kCu8GHwUHADX8yfrt/MH9Hf00/iX/Z/6p+5T7g/m6/V7+4AF8AgD7sfmZ9kL1kfcl9i/6u/6dAbkEqgXKAVP/rvuv+fv3/vVg+Xb6Hf3r+7b7bfl0+DX6hfn1+Nj7af9KANz83fs8/G39yf7C/mf+B/7BAC8BVQH1AJcD/AQzAfz/tQKlAj0CQgKYArgC4wH9AUQDTAIyAbwBJwJHAUYDsAQSBBYChwNZBFgD5QLZAwACtQDTAU4EWAQ0A1QClQKr/4IADAFfA4kD1AHh/ioAqgKyAdf+uv88AXD/hP/5ACcCvABVAdgAYwAd/4wBtALuAb8BZAH8AWADtAOqA3UD8gI3AJgCAQUzBeMC/wG//4kAzwJzAgwAa/5VAaIAuv3p/8cCTQEv/e/8x/+gAU8CJwM2/9D+pAH5AQUA2/6EAHAB8wGeAIv+HwCzAIcCcgFf/2P/BAG3An4B7v1Z/Yr/KgFgAJ7/yP5mAKAAWf5D/ET/lQHeAf7/BADoAOT/lf9xABT/1v10/tcASf9g/GL8i/1s/jT+g/z4+1j6APx7/cb7Yvql/Db9v/wQ+/j7VP7I/Vf9u/3c/f7+QgJRAK39Of6oAewC3wA2AYQB8QAGAugBfgGMAf8CAQRKAVf/TgEyA3sBGgDX/tD+gf82AQcBxP3Q/YAAhwL6/5398/5OAXYA3P1T/W3+3QAHAAL/oP55ANkBTAEj/6z/AQGQAOD/4wAuAf//HgLEA7oDdgGYAQsEVwToAdsB8gLUBOYDIwG4AO8BPQP7AXAA1v9MAOb/s/6+/gr/NP9E/jf8F/zL/vD/ifyn+pf7ev3T/S/8cfvw/Lv+cf5j/tT9+v2l/28A2v+y/yEAegG8Af7/Kf8bAPcCAwLW/7z/jQDkANQAAAExAPL+7v/kAusAiv4J/y4BLAGn/oX+EP8BAGD/3v2//iwAEgBv/5b/sAC5ANP/5QCKARwA5gDZAjgC2gAsAsQDpgJGAjIDgwSrAlAD3QP6A7wD1wNFBRED+gKuBPUEYQQTBJ8EcQTBA5kEqwS8AhMBTgNVA+kAKgB1Af0A0f5e/qL/Yf9X/mH+rwDF/7f+rf9b/+f9Af5J/af9QP5k/6r+9/yk/Jb/ov+O/fr9pP5Q/4j/E/+z/mb+Rf9JAMv/Xf/6/9UBsv/I/br/5QDHAKX/6v4JAKH/9P5y/6H/DwDv/0//3f+N/08Anv/8/in/nv/i/3v+sAC/AMn+//1PAP8CvwGzAWABUgJlA+QCugI7BOQBggERBUQENweQB6MEcgCdAJECFQOrAd7+BwIOBccCtgKJAnYAxP2B/pb+ofwG/Lr+ev9n/Xj8Ef5S/8b9Kv5G/vX8gP1O/4z+K/0h/Ef+fv1T+zQALAAGAD//LfyH+LX5WP1d/rsAPQIHBoIIpgaMBA4CF/0f++v8KPr3+DT8mP6FBTwGZQBV/r3y8e0p8OnxJ/4MBFMN2hCMFIMTyQoo/6vyrOvb6pru2/IX+bQADgYLCwwICASdA53/mfyE+W726vRP9Lzyg/M289b1TPlA/n/+RQB6A60BAgLr/0r+Gv6p/P773vyw/fz+GwHoAtEDQQTCBSoFHgVRBYcDLwPZA1cGWAZxBjIGlwUOBa4CsgL6A90DzwKNAkgDGQTdBOADhQIZAoQDWgNIAYMCIAGk/3cD4AFu/4P+tv4UAX0BbwLjAVz/UgC7APX/+f5R/jcAuf/d/ukAhgJeAc0Acv4T/TT+av4qAaUAKv5vAAQC3v72/q3/MAB//uIA8wAK/07/ff90/vz7cP78/10A0v5LAHcAOP91/Db9Qf1B+yv7O/o//dL+XP8XBAMATgAZ/mv9Xfoa+bn6b/Y29fH5uPxCAfUCPAJrCn0E3Pk++knxaeuh9bwEGAHYCdoLYg3xDLAIvAW5AcX8qfjsAD8Ax/rmAuIGLwAV/9QFxwTn/gMC6gBf/e/5EvhJ/ez4UPrWAJ4BI/yY//QCRQDE/9wDOQLf/wQDDwPCAaIAAQBFA+MC+gILBfYGBgVuBHMFwgUdBggFwwTtBBEEdQLnBE0AjP9zAqoAmgHCAH4AnQF+AGj+GgOsAu3+RgB8//D80/1lAYP+kf/8AYoBdQCb/pX9A/9I/d/9ywAJALQBMAP/AlYAAgBa/2D/0f/v/5sC1gJuAuwD7QKI/v/++v3N/h0AowCwAz8A3P5GAFT+wv71/cn9Y/1N/gYAHwKZAIz+g//8//D8y/3zAJL/Fv8XAPr/j//8AKIAAQGCABAADALJ/23+OgFdAYYAuQJzAioAowLrAHsAqgFTAFwAfgNCAdYBogOHBO8ApQHHAXcBFgE1AN0BpwEXAcP+sgEp/9z+4wGzAbABVQCpAQgBIv95/pb8L/0s/KUAPP/8/nkALf8//W39f/wW/qz9WP7l/cj8Hf4c/af9Yfxw/G78H/s6/ub8Lv52/Ij83/zs+d375Puk/LT8sv0yAX7+jf5v/Xb9vP5W/En8D/7J/Pv9LgDJANj/iP/O/B/+3f/W/V8AOwOgABgCIgB2ABYAbQBL/iT+KwK6AFcA4v8wAH8CAwDLALQBlwIzAX4BEgEgAAL+pv+H/5X8f/2dAtH/Iv23//P+k/94ApX9zAAsAN/+DQCf/i/9Pf04/yf+CP11/uT8SvtD/aX+dP89/lT8qf4s/3j5dfu6APL9c/6HAhAAOv2q/FX/8Puz+73+IwD//qP9qAAjAmj8bP+iAAn/j/+rAYAAOPyj/Gb8ff1xAA0BWgFfAMz/ev59AG7+ffws/or93f1t/hMAUv4mAJ7/wv9zAKYA5P7n/0b+1fti/p4AJv6PADgB1wKOATn/mAATAk//bgGTAg4CsAEeAroDQAEcARUEZgYUBXEDpwMPBJUC9wNdA6oDEAVkBbkGpATaBTYFgwRZBcMDpgK7BLsB3gE6AgoE2wX+A4wFMgENAf4BGgBGA5QDGAPuA2MBfwDfAWECKAJZAfECqP8cA6YCPQJCA3ICSALMATcBYQM5BBsCx/8PAYoDuQCbAokBPv/eASQAVwBp/5f+HwBgADsA7v4IAcT/W/9lAOr/FP0p/VUBvP4D//v9uvwUANb85P2s/738RP4x/4QANv/D/8cA7v5r/U7/Iv90/Pv9ov9D/gH+r/5oAVYBp//6/7MAkP76/1MB6P0I/LL/U//y/XX9uAAJASP/egBOAawAIwBNAoEElv9yAFYBbgE1/9n/twIc/+X+IgBpACEA0QBvAAEBLwGtAAoB4P12/fT9vf9p/qQBTQEO//cA0f9HAFr/xf4M/uv92f1w/jD/kQB7Aa8B5wDX/3v9Qvtq+p/8If7B/qwBigB/AIIAeABT+4b59fiI+kL8U/5dA/4ARf69/9f9QPr++Iz82fxW/5EEJgm5CrQIhweaA679S/xYAU4BpANpC7kNMQ1SC7oKdgaO/fD7of0L//j/5AWiCUMHlwRVBGkAfftf+Wb6cPpo+9b/jwPIAgECfQHm/XP88for+jX7k/th/u8AygClAEz/Jvt+98b0B/M58szyBvOZ9FP1hvab95X0YfDU7cXqh+Z75WrkouKo5APlc+dA6ZfpaOwE8PvxFPdV+1L8iAFjBisInw28EecWPRxaIM4kCCoSLNktiTGBMhQ0pTeMON45Hjh8NFYy/S7XKXwknB8JHJwY8BRGES0OfQl5BAAB7PsI+LvzZ/A87lvp9ucK6ULmFuSs4EXfaeDO4OXiBeXl5xvrCuw47lzroOaZ5FjgsuD75P/mMOne5pni3d/d2Z3PW8QEuiuy8q9qs7q1Vbg1vIvAnMdzzvrWnOAB5cnq5vUDAyUQIB6vKVA0Ij1IR3tRr1d0W3tdCF33XaxeEl5kWhVT/0mrQD83zzH/Jy0fHRm4D/8ENPt28jLsjebQ5fnnMeue7kf0Fftj/9ACSAcICvsN1xCjFKYZmR0RId4i0CAYHrMa5xVID7QGG/9W+g319O856r3i09w912TROs2vyJTGs8Uzxk7IksnVyxbLDcxz1vbdyOns8pzvxe+f47vWGdTtxIm/Ir1juGjFyNAc3Fzpkudm5XHli+Vw7fX2AAD9Dv8ddCwJP81J0E6yUDdLAE1oUEBU1Vt2XDxc2VsDWOpUXk0YQZo1QSkhHywZjRBHCHQBnvuM+1H5r/fK9wb0Z/Vi9yj7TwHgAtgIpQ15EKUULBQQFMYScBAgEAkPUg5TC4MGAQJT+8H0Ne2t5CPdINT5zwLPustjykbHMMaExq3CY8IlwQzD0cvazzjW09pU3IvgkNsl1uXPhsOSvVG43rZOvQTEGs2p13rhPusS8nn0X/iS/xkHSxJlH4ktPz0SSkJUxlrrXBRck1drUxNSNlFTT69MDUhnQqw9VzYqLVIgIRInC00Fcf95+ozxw+sd6DvmUupc7Pzsgu9J9ZMAuAjRDr8SMROOFhQZFxtsHcsalxYzEwYQ2Ax0CGf/gPS664DjM97c2W3TWs5ByP7EdMWDw3fDXsL8wbDItsvOznHU+9T2267iz+Qj7e7rgulT69jh4N9z2uHMWMrGwJ68g8Pvw3jPKNzq42bxsPZJ+5gEZAkIE/Md5SVnM0RCk07dXG1mrWnpbBxrY2YMZNxc+1ZvU19MQ0l2QxM5hzI+J0wbDxKbBW782vNC6//pMOxc72HxI/C57gDwOvXi+aT/UwWgB7YPIxrkInkq0igKJtsgqBhyFXALbQAU+prw9Owz6M3h+N2R1MzN2sgvwxzBfryuuxO9gb+KyDbOitGX1MfUttnB3XvgvOKf3hfcHtxN3E7dBtkn1GbNv8UhwpS/kMDNwZvGM9Jx3bPtJ/vIBAMSKRrjJAQv4DOHPl1GTk+tXJ9k0GxzcTRwvG4yaRJi6VkyTfhATTWELE0mHiA+GzEVMw3xBkwAYPg47/LnyuSo5Gbmw+nd7q/1wP/DCLoOGhVLFpoYVRzgG20dzhiyEcYPSAcbAWz6f+0f6EXgd9jr1BzMpMhfx+vDusc1yUfKYs8V0p7XFd8B453nQOkP6KzpBev56nrqcOYV5JHi6N+D3NTV5c25xsW/Qbt0tYyxjLHns2K9qMpS2ujr2vmsCWYazyZtMmw5pTwuQVVD/kaxSW5JlUrpSvVKxEr2RnlCrzqpMXspfCAKGLUQ3QrHCaALqA7qEpYWJxmxHPYflSMyJfgjdCL+IQQlmyflJ1IpXyqmKrkq5ikuJ1MffBS7CvkADfbv6erdw9MbzerIaMbrxEjE2MUryMnLmc8j0p3TOdXt1tfY6Nlj2lHamtnT2SDaadtb3NraHtl31d3S8tDGzM/Gi8Epvue8VLwWu1+6Wb07wvDMLtlB5YDzuwCLD+0eSiolNek73D84RPZGIEvES7pJ/UdgRdZD8kGWPrE7RjcWMxsxKi6+Kj8nKiMQIQUgBh9dHqscjBwxHoIg1SKVJIMlWCXVJZwnXyamI1cgeB33GpAYbhTeDvYIygJQ/t/4nvGT65/knN8x3FPYENZc0+XQe9G20ULSLNNg0xvW69ck2Q3bzNoS2uvaSdoN2sHXrdWd1NrShdO61HjU3tQA1APUAdWV08XTvtMg0xnVSNcr2YzdbuGL527uT/WCADYL2BN3HDUiAykEL0gxjjPENKw12Df3N4Y4PDkRORU5rzkPOqM4ejbUM0Ey0DD2LhwsiSkbJqwkdCLXIMEeLht6GX4XWhYBFYcSrBHmDuQNTgzwC1YOvw2lDKoLkgmVCX0GJQKq/sz5v/XQ8eTuy+wc6YznfeV95HTjU+EV4Irezdwg3NzaA9lS1mrUutIn0S3Pd83dzCzO+M9T06jVJteR2crYT9nw2EzYA9vO2qvc7N9p4EfjiuUN5+7quexJ73zzZvaL+qD+9wBTBJIHjQlkDRERrxQHGrYcKyLIJnkqsS5jMSUzhDX0NpI5yzpCOgA7YTstPOY9pDzXO4w6lzeLNv8yhC/CLd0qeCa/Ij4edRzeGcwVHhU0E3YR/w8uDLUKvAaiAjYAd/t69zb0GfBM7e/pwefT5LniyOBA3kbcQNqL2JLWlNOu0J/O7MyGycTHnsSXwtfCTsMexNPFNse1yMvJGsnHyt3KV82+z0LQsNNY1cXXUdvn2wTfjuEB5F/ocu258pD4w/xHANUEKQiMDNgPTBOWGD4cGSE9JgMqVi4aMyM1YjieOpY7Oz65Pk0/gEGzQCZB3UAiP5E+HDyOOVk3tzMBMWsvbCs8KgEnTyLUIJAbtxqHGUIXvBa6E3YS6BCJDMwJ/ARe/576UPWW8BrtJ+h+5Y/jHN9o3QPcU9pe2njXUtaD1b/TitKxz27M8cq1yArIG8jWx8fI+Mr5yyfOYM7Nzt3PR9Ac0u3SpdTH1UbWX9jK2SLcsN414Trlz+r07m70RvqW/sIDAQjfCwEQdRKXFjAbqh4NI8YmUSrhLkwy3zSvNvI36DmFOxY8Ej0bPrU+FD9fP3E+0j2bPO46rzjpNaozrTCZLgEsQimmJ9gjmiHqH/UdDR0TGi0XihQ2EFQN5Qi8ArP9BPgX83Lu4+mz5oviSt6p2+XZ4teP1brTbdI00Q7Qnc6MzI7L7MkgyLTGCcX5xJzFYcYUyU7LvswPzwDPHtAU0CHPW9CD0JHSPtbv2BrcaN5W4Xzl+Og77e3yzPdD/dcBgwWPCt8NhxFvFK8W2xr9HiwiXyYqKuQtRjGvMyg3zTiJOeI5wznROuo6IjoSO2w6WDqnOog4aDaGNJYygDDBLqUsXiuZKQEm3STXI7sgox+MHSkaMBfcEhIQNwzVBW4APfsr9hbxvOsL55fj+d823iLbVNjb1lrUdtIcz9XLhssbyknIGcj6xkrHXsexxu7HoMnyylnNPs6tz5vQ0M84z5rPm84e0AXRAtJP1gHXBNze4GDiIuaJ6c3trvW9+Tj+YgPfBV0KJg6eEJoUwhcyHKMhiSQaKUct4jDINEc2KjjxOpM7TT2KPoc+DD+dPyc/fT4kPQg82jtqOSQ3LTY4Ncgy0y/1LLAqsSf0I7sgVxwMGPITbQ8KC7IEdf8D+0f1AfCE61fnk+Ta4AzeoNtT2DXW0tNA0RvPoMxUyqDIP8e9xpvFJMUtxWTFAMYQxyXIqsomzGjN6c71zFDNecxjzLvQLdPc1SnZhdli3R/hK+Rm6T3t6fDT9yj+GQS+CvYNOBIWFmsXhRutH5kiMScuKlst+jAYMxM2Nzi1ODI6ljzsPCs+Xz6xPuA+rj3RPJw7HTkwON02oTVFNTU0kzObMYYuxyw6Kt4mlyPnHj4aoxUjEeEMCAiaAtP9XPhr8uztM+kd5RzhRt0S2inWh9Ib0GbM5Mmrx8jF08NawhHCB8IxweDAycCQwJXBPsNyxdzGW8Y9x7jHUcdLyQLLj81S0ZPTyda52Y7bKuC+5Ofnx+3Z8un36f2+AkoIzgxyD1cURRhZG3UgSCW2KWYubDGiNZQ4ejoyPiZADkEcQ21E2UVgRnZFiERmQ0xBhUAfP4k8NjuiOHo1hzJnLystaCqYJsUkJyJzHm8bHBfMEqcNaQewAWD7HfTv7ubopuO93y3chNju1KDQxcznyFnFqMIVwJC9lby4u/26CboHufW5g7rhvejBc8S1xVXGw8U7xMrCrcGVwn/CucNUyJrM7NA62f/fo+eL7632qgC+BwwPQRlRHvAj1ymNLNUvRTGhMrc2mzi4Ouc+jj8fQqtFt0YTSAhIVUYDRhhD/z+YPg07nDjVNcoz6zR5NCo1ZzaRNX81cTTRMbYtkyfzIM4aHBL/ClsF1P3V9z7ydO2Q6WvkgeCD3OXWatNlzx7K28XUv1K6A7dYtDi1FLZ4ttu5GbyuvizBMMPfxQzHnMbYxgTEh8ARvMm2ybN/scyy4re8vkLHEdF126PmOfOy/uIHDhFkGQIj3ytkM+o5nz05QPJDEUg0TYtRqlNcVA9TMlG7T55Nb0qJRe0/kDw0PEI8Kj1OPkc/nkH5Qp5DLENAQCM9CDg6MkktnycIIs8bGxXxD2MLEQedAQf74PNM7YPmtt9I2sjUNtAlzHvJA8gZx+/ERMK7vgG7iLj9tre2mLXstOi0B7hlu1S/JcRpxsPHYcXhwPa777WsruOqLKq7rR+29L+5y87XCeLH6xr1l/rxAEQGNgxQFqshrCzhN9Q/BUjnTRhPH1EIULtLNkkcR19GnEaoRhhJHUk2R79FuEW3RadDR0M5QgZCqkKCQ41EjEQ7QzVBlT0sOL0xZyp/IvcYRREECtIEMACR+XvzMu3k5qDhQ9uj1KPPacupyHfGT8Qew9a/Xr03vKq6J7qUtxW2TLXdszi0wrfouw2+s74cuj+yVavMpauiWaKxojOn8bHhuufE0MxezqzSFdqV5KH0FAI+D6ocGyd0MFI3fjo9Oso5ozrqPvBEIkphT+1QrE6tTCRKRUnURrNC2EHlQGhCFUg5TC9P9k3cScNIXEh8SNtI9UXTQSE9djgWNMculib0HFsS5AmhBTUBxvwj9lDunedD4Z/c0ddj0tbL6MfKxjrGFsh5xo/Dgb6PueO4xrgauAS4TLZbuE28kb65v4u7hLL4quakOaHwo9KlT6oqsKq0S7u3wunH8s922FDiPvFRADcQTx1cJIco2Sk8Kl0vfjUfOgE/+0LcRVRIk0YpRO5Bgj6dPv9Ap0M1Rv1HK0o0TAZNpU6LTj5OlE5KTipPyE7rSz5JoUN+PEQ1ni1QJigfuhg6ETsJVQBw+PrxD+w45xHj1t532+nXnNWc0jHPTcvdxpDE/MEJwdm/a783vyK+97vKuV67ErzGvWe74bKqquSlTqZPqqOrzafupYSkgqlStlTDjM4n1xPfQetf+90JJRZlHdgfmCQTK7Az4T1yQhhCZz9nPNU920CIQbJAKT08OjE8zEDtQh5Cqz49Pc5A8UYYT0ZUP1TRUcROA01uTUpNm0prROw6KTNlLFQmhSHFGVIQVAWe/AL4P/Q68DTqyuJy3KramtpR2ibWWM5zydrFQcjtzDPP0MylxTO/mLxQvmnCZscEx7rCRbxhs6Wu4q67rPWsLqiOoV6lHqousz++U8KIxkbSbd/l8WcD2AqKEBwU/Ra1Iv0t/TQnO/E67jhROUg5AD1FQc8+DTx7OJE3wzw3PtM7qTgPNIw2Cz7KRQdM0konRUhDoEWVSlhP9E3FR5Y/3zidNeYxqyp3IsoYfRDVCf0DMv1I9bfrc+VR4czdCN6A23vX0dGizMvJ6cjMygnN6MuCyQHEgMIxwhHBl8Q4x9fGRcbAwXW51LNMq6ql9KdvqRWudbGLrAmr661Ts4/C6tRD4vDwA/lP/wYMvxPfHe4oVi08NPo6pj3rQJs+ITraOuA6uj2ZQmxC8T+bOnQznjBQMs02+D2dQfNAmz9VPQo9Qj/rQW9HIEmLRphBOTpxNQAx3CqMJwohUxqjFMQKHAGM95jvi+y16ZDnguVR4KrXWtC3zJbMxM4Iz4nP/MyEyQ/GmsSxwWjBUcH+xLTMMM9HzaTCL7PVqgOpfq2YtgS2wqw9oyWda6fjt6PEotCF1VzabuZu82wBygsPD04UyxwmJ641TTwZOYc0AS+wMCk6C0EdRT5BhTeUMtIvDTCFNbs5LzpqNw01/jZqOwA/WkHHQbJABUIBRV5FX0CgN6Ewly3cKh0pyCO+GN0MOQLy/GL82/hI9JHspuU04QneUtxQ2XLVbNQS0wTUpNOF0MHPTs6ky5TMxcxIzo7Ofsz1zyTS6NCmzJ7Cbbp/tWyyjraOt8G5TbwtueO1ErfVvh7PMd8l7YL5bfzj/JYBKwvAGmMn+i50NfE1tDQINqE3eTq3PQs9ez6fP288bTp5NvcxHjF5MG41fzuoPAU7+TcjN1I7iEErR6ZJYkSwPms48zLLMFUvVix1JnIcAhJSB+L8V/fg9C3xBOxN6CXjPN6M2IbUNtSr0dzPVtCnzwvNV80yzIPK0MsqzOLNos0pydHIic8g0pbTv9BExNy8aLh+tMW48bjcthW4/7akuv7C38iX0CLcY+jO9jMCLwr8DaIR/Bn1Jh41Rz3EP64+5ToxObw6ID81QudAWD1KN0A0YTPfMU0xNy+HLlIx/zISNf01/jIiNFg3oDqvPX88dDm7NeovUSyQKe8mSCMVG9IRuQidAPz8h/ap8Ifr4uR93yPeINwj24XY/dIvz/nM/cywzy/R0s6iz8zPbNJI0ovQWM53yNPHwtB710Pa2dLrwvG9LLxYvm7Ht8biwGe9SLacuYjGCc852vThmecB9Dj93QRDEUMbXiSoLtI1njzHQWhBn0DmPwk+a0GPRC1Doz8INzUw4S6HMG8xdDHpLp4rXSm/JyYpIS5aMBYy0DNWNGQzmTK+MO4uby1bKoUnrCKKGroSPAuQBAH/MfoH9LrrqOMN3mPbwtqU2XnWbtM00GPPxs/mzj7NicyDzd7PRNBqzv7K9chfxqLGI8kH0hbazNpz1LHHTr+uvDO+l8EoxK3ArLvauGO7XsiJ1TLfjeoA9sUC0A2iEz8aVyL/KeozBz8NRotIc0T+PsQ88T1sQWNEgEJEPrk46DTKMjAxiTFMM3cyyzICMkcz3DXLNAo2zzjHOwY+Mz5cOqY0Fi9TLHoriyjbIu4b7BNgCpMBUv2n93Hyle3P55vjGN+i2h7YJtZV1PbTKNNz0KTOI813yjjKF8tMzLbLvsebwvu/o73yvXnA28RDynvLi8oXxbbC48FXwHC/+79/wfvDz8SnxOfIJM0+12rnNvWhAQYKNhD3F34fSih1NDE+7EP1REBCz0F/Q/RD60NbQzxClkByO603RTYNMtAuZS2eLPUuDS+fLqYuoizuLeswBjNyNMQ08jNPMRot2ypuKBAlBiAbGO8OBAa3/on6kvW/7R/nft9t2VrXjdZH1O/Sgs9Czr/P7M2ezgDOu8kWyWjJj8jNyfvHZ8Ufw9u+jr/aw0DNr9R21OfOmcRZwGLBssFWxmvI88PEw2nC7sSEzcLS9t2W7NT2LARHDfwQyRi1H0wpCDagPUpEaEauQxpEU0SdRHVF60QLRKNABDzCOc81rDE3L0ktni5qLwYuYy5WLBkrqS3SL5gzlzjdOQ05ADbxMZovwysjKE0lkyHnGbQPgQSV+dby4e7z60ToF+L229DVU9EY0b/S1tQm1XbTPdCsyqHHHsk0yZLK4MpayerIjMRDwAG/Nrw1vnzD/sre1aXY9tOXxvu3krW6uU7EKc/UzY3IXcEnvV3JwthM6af6AgFSCH0RshhWJN0seTLGO5pC00m1UvJT71BkS/JDW0TcR7JLbk1uR8w8RTMoLFYs3TFmNYk2yDEZLdwrFSveLfAxVjS3NsI3ZzhFN+0wfCmsIZUboRmdFw4U1gm++jzsBuL83iXgS+Ei3VDVmM0jyO7IKs1xz0XPI8yyyNTIfsihyPHIQsULxKrCacKWxYvH+sjFxt3BoMGnzNDZluOM4BHQ3cNJwNnErc5i0IrL1cjfxKrLRdpR5h30yPppAvcSNSEPMHQ5qTnfPM9AE0oOWPddJF5qVrZJhkK6QMRDnUYjQ2g7TzHYKVIngShtKgIrHyvrJ/wmXSuJL3MzojGLLbcthCyxL5wydizTJLgZkBCjDGUGMALW+irtNeNV3EXX1NU005jOZMvtxx/JOs810i7TQdIlzZXMI9CW0sDU59FtzFLJUsZzypPR19OI0pDM3MZ7x9XPWdsQ5NHgeNTKxzi/87+Xyj/TqtVJ06zMX81u1j7knfU+APMH0BNiH+osbTeYO24+lD+1RMtO11U9WBdVaEoTP+M4CDlkPqZBGz5SN8Itsic3J/4mxij0KcsqNi29LvIw/jFZMLsuGi1SLLAtUy2yKbUhdhf6DyEH7/8j+m717PD+6czi5tye10zTJs9Iy2LJSMkfzM3OiM+vz+rOe82nzGLMT85p0GzQdNG7zzLNts2fzXzQetGBzwvRts8H0FTZ7eCS593mg9zw1sHQoM4j1FbVbtff2ZnZgOBg6DPx7fwhBasPJR6fKrc1+jzAP0RB70HHQ7hHeUsbS5BJskMOO0I1OzA8LxQwby0FLSQrfiesJcIhXCEDJAMmESq3LB4uTS5VKnUm1yOqIDkfihwRGOUTAg0VBxYBmfhg8kvsLucS5Fbg/t1Q2+HXiNTa0MfO2dAo1IrXy9gp2C7VwtB9zR3MM812zj/Oq9Cc0prVC9oT2afX9NPXzubPptHg11/lou7y9NPuFOCg1C3Lm8kyy0zKCc6a1Mnfeu619wT+sQBbBIkRGCT0ONVI/k73TmNI9kKhQvFCK0WkREBC2kEvP8o8XzjrLtskQhzuGqAg+CeuLeksnScyIjEfSh/IIAsk1ybbKCcquylwKKAhQhhxEHIINwMuAN3+hf4a+UXzQ+w645PdkdmC11bXINZk1nfVL9Sq1U7WX9YJ1UTU49T71RXZw9sz3HLZRtMY0VLRHtXX24nc/9zI2vPV3dYI1uLamOaM7DX0hfQP7XPmHtjKz9fO8M7a2TDinOuD+qUBHgoiDekL2RKeGvwmDzRXO2hC1EPbQl9B/jx7O3U66DksOsg5/DphO6A5yjNnK/wklSEEISciaiKqItkhOyAXHyMcnhkiGFQV/hPEE84UHRYyEvUMsQQd/DT4HvX/9Kj0o/Lm8/nxqe/K6+LlG+Ol3WPa7dkr2ODaZtvK22ze4Nwh3SrbKdcN2DHX3tY72ePa5+AH5W/l+uVj5OjjYOMA4JffXd583kfjGufc7eLyIvFd7VLlI9/Y3qTeg+Ht4j7kPetk8k77iAFSBJMJ4A2vFX4eUiTyLHMzUzkwPuM9Uj8YQClANkCKPZw8NTwkO8g4DjNtLZMoWSWJIhgelBlAFM0PIQzACPwHqwdKCFQJDglrCmYLJgrmCOsELgBA/gr9Cv56/rX9tv3w+5r6zviH9c3xKOr94gneh9m92JjYp9q23Mnbhty+3NrcBN2p3Afdydxz3WHfKeEW4zXlRuc25xHol+pI6wDsJ+vh6RjqDuyT8XX2Vvah86Dwp+3M6yLrxeoP6i/oyOgT7bzyX/rx/9cDIQfrCXwQ5Rc9HukjAie2KAgpcSp7LvgxgjTvNB004DEZMFMv9ivpJywjTB5GGjYWoBSgEyQQgwycCbMH2AbzBe4DYgHk/6//7gDaAZ4BWwE/AVcAnf7p/QH9jvuz+Qv2QPOG8SfxefH28OzwQPGV8ADwTe9971Lvz+/a8V3zGvUQ+ET6E/th+rL6CvqG+Gb3m/dw+Gz4NPgi+DT3ova79nP3u/g8+eH5LPr/+c36nPuK+yT6/vfc9vf1yPXj9V/0HPSz9An07PKG8bLx9PJn8l7y4/Ix8mvyHfQf9an0lPRB9ZP2/vfl+Y37dPzv/ej/ywFJA68FBgj+CDsKywzNDiwP8g5UENgR6BEBE68UIhaCFQkURRQ7FOYTHxRfE6MSLBHUD+EOVQ0hDGULmgnNCKwIIwivB1YIdgkwCcoH5AeeCIgH4wa4BXUEcgJiAEL/n/4n/d78U/w/+wH7v/pS+tn5wPlw+mX6X/q0+qv6TfqY+RT5TvmO+bb6Kvyn+yL6nPld+rz7Yfwi/Bb8APs8+v75lPlE+bD4rvdK9+X1q/UP9gn2RfaI9Y/1RfaV98n4vfiq+ID4Lfnm+a372/0s/2T/LAAqAaQC6wPXBXEHuAcPCUcKQAueDIcNRA5wDXMM/wstC8gJ2Ak+CsAJBAmTCKgIhwj4CLcJKwkqCKsHlweYB2gHGgeTBt4EVgP8AsUCGQKeAT4BvADT/xL/yv31/Ov8uPzI+8X6D/sU/NL7bfr6+mP7b/uu+4j84PzQ/KP9e/7S/T/8D/yc/MH7X/q8+SP6dfn09x732/bq9ur20/Wi9Jzz4PP69Kf0mvS99AH1+/Tn9Ij1kfYm9yH48/hu+cj5/voL/Hb8/vwM/n//0wCiARECUQK4AkQDzQPhA4EDlQPxA/IDXwMnA/YClgMeBNMD8QPAA6YDoQSxBKcEqwSLBDAF4wTtA8oDiwOKAzUDJwL8AKgA7v/t/4D/JP7B/eL9t/0A/hj9vPtk+1L7Ivvy+gj7yPtu/ML8Ef2O/bf9OP40/gT+X/0J/QD9n/wK/LT7vPq8+er5yfqe+ov6b/qT+kr65vlA+l77cPtg++D7U/z4/BL+rv4+/lX+xP+dAWwCUAIyAvYCPgQgBVwFygRWBNcEfwTEA0oDSQPEAxkDVgLKAdwBvwIIA80ChQLTAkME8gTaBGYEbQTgBBcFFgauBhwGxAX0BbwF/wQ4Bf8F3QXZBEkEAwWVBEID4wIpApoBjQF/AUMBIwFaAMv/v/5W/pj+9v79/hz//v4H/23/oP+X/pj9GP1C/aj8XfzL+9T7Mftf+if6A/ru+aH5Y/r2+pT7F/zf/HT9Bv6M/jj/0v+pAHcBhgKEAvgCTgQ+BZkFNwb7Bt4HzQgCCQgJNAkECaQIAgiRBxgInQfcBngGLAZRBUkFFQWlBEUEewRfBZYEbgPuApkCGQLeAekBjAEyATwBpAAWAG7/6f7t/hn+Jv5J/mL+/P3J/ST99fyd/bP9Yv37/FD9q/04/U79JP68/rb+Wf7T/uP+l/4Q///+Pv9i/z3/mP6V/Sb99/yJ/Hb8xPz2/Iz91/x2/Eb8lPxg/W79t/xm/Lj8P/1w/Rz9x/y3/JT8xfwJ/Vj9Vf2x/fn9HP7F/nz/VwCAAKUA1AAbAb4ArAD0ACEBvgFrAXwB0gF4AcUAiACKADIAGQB+//P/0ABuAEf/I/8B/z7/hv6t/v7+j/60/kP/t/8I/4L+tv7a/ur+Pf9j/2X/4/9MAJP/gf8QAKkAbwBrAHoB/QGGAv0CvQIiAlsBPgFAAc4AXQCXAE4A6P/I/2//L/9g/0sAtwCuAGwBtAGwAsACTAMqA9cCHAPKA04DYQLrAJIA5P+X/hT+vv0P/Xb8O/ws/PP72vvI/IT9nP2f/X7+9P4f/9T+4v5y/oz+ev6x/qn+Af9E/yb/Ov8W/+f9Av4R/vr9rv3Z/ZL+hP70/QT+UP7f/gn/if+MAOoARgEkAs8C3AITA4kD6ANBBM0EhwWJBfwFYgbPBjEGIgY2B0wGRwWeBRUG8gSLA2oDRANXAn8BJQHxAAoAwv9i/zv/AP9//wAAQACfANYAFwGJAXcCnALLAQoCjgL9ASgBTAFLAR0A+f7C/wMAyf4O/pT+of4V/ir+Bv/d/lP+ff5f/iP+9v08/kL+3v0S/k79nPw6/Lj8vPzZ+1v7u/vZ+xT7Bvt5+2X7qvrE+oP7Lfsq+3b7LfxX/Pf8r/36/UH+sP5H/8P/DQCrAAAB8QCuAWICwwJoA10EkATIBLIFQAYbBu8FFQf2Bo4GfgbgBiQH/QUiBX4FCwUmBL0DlAOWAxQE8AMRA5UCAgKhAXIBSwEFARQBvAB7AL3/+f4x/sz9mf0V/YL8Hfzd+w38bfuB+3z72fuc/MP87Pyz/L/8gf1f/cL8Mf3n/Nv8sfwr/Nn7pvur+z77Zfrq+ZT5KPr0+ZP5Vvka+RP5avlu+az5efon+3n7KPy+/Mn95v2V/XH+Pf9n/6H/VQCFAHIAMAD0AE8BhwEKArUClQNsBNIEIgVnBecFmAWlBVwFaQXXBbYFOwXtBEMEQQSpAxkDEgP1Al8CZAIFAhUCWAI2AvIBsQEhAY8AMgAUAC//R/8g/3n+C/4G/h3+Af42/d78Mf15/v/+qP7h/mf/QgBrALgATgH2AJwArQB6AN7/Cv/e/iv/mP6J/Y39OP18/SX94PxI/GT8s/zN/F/8cvxS/Yn9o/yU/Gz9IP5r/tD+w/4I/z3/ef+//4n/TgBIAXQBbAE7AQ8CdwKAAsYC8QKNA6oDAwTGBCAE8gNEBBwEuAMGBCkEjAM5A5UEFQU5BMYDwgQyBRYFzAV/BSIF2wUYBpYFzQWbBYEEzwNiA9sCmQLJAcgARgC1/wT/9v5d/gz+P/6N/rD+Qv4z/oP+3/21/fH9o/2U/TH9//xr/WH8+vsq/Kr7zvs2/D/8Zvw//HL8d/wK/Br8SvxC/A391fy6/Db9iP24/dn9jf1n/d/9bP7k/oH+9P7M/0oAXgAoAFcA8QBqAX8CTwK9ASgCHQISAmYCrQJwAjYCqQKvAn8BRAGZAVoBrwEcAWsDeALQA2QCFQHVAH3/SwE3A6gDZAKdAQMAYf8SAQsC0QXXB74GQQW4AvIBzgJ3ArUCJAKhA4UDHAPYAvUCdgEP/4b9nv3U/vf/QAFX/4T9wvlh91L30ffp99D4Sff89n73Pfg/+WX6DvoN9yL3dfX281j1J/Zf+MT4/vhu+pz87f1z/0UAmwBz/Nf4dPjo9jr40fxmAHwDdwVeBy8HwgWLA6YC1wF9AEcAnv5V/hT/HwCeASwBqQIkA3ECfgFmAQMDMwKpAB0BUgBG/0D/Ef6//m7/fgK0BRMGogfuCHoJoQfPBY0EGAI//8v9Hf2g/dz9zQCsA6EERgUwB4UHDAa1BIgCEgCQ/QT9Dv1l/Ob9r/8EApwDQwREBToEGAQDBMcCPwAl/X39P/0P/V/9Tv4UASQBRgMzBScFhAMmAZIB1P+W/kD+nPyE/Vv/hgP9BfAHAArhCwIM6AsLC1YH9APZAaICUwJsAq4DAwSABfYHZQjTCRgJ0Af/BlIDXwFu/9z/of/Q/Cj/MgEcAzsGGQlOCngJWQcxBw8Ewf8m/fv5HPkc+Lf6CgAeAfkDbgWNBOQBaPxV+hz2EfAh7jru9O998rL0OPnl+r/7I/19/AP7QfZb8qzwiu6n7oXv+/Fw9Lv2u/my+yL7z/rv90z11/I08DXuA+0n7D3sAe6q713xRPVz+IL63/sc+7r5svjZ9sn2AvaD9Hj0gvZj+Uv8BAA7AcMBLwFs/7L9+PtB+qX5VPr1+Tj8qv8rAaICQwU+BtYE6AF4Adr+Q/rm+ML4nvhT+Tn8qwHXA6wGRAoiC1UIgwSVAUH9YPc39QX0cPNT9O/3M/zU/osC+QX+BlYFNwMzAy4Az/5w/bf8XP0C/aQAewLDAvUFEAcIB9sGzQUzBWcDzAHuAYIBPAJAAyEFRwfPBkUJZglHB5II2wb1BFMFegOOBMwFEgclCTsKMQu9C6oM8gxaDAAMPQsmCi4KwQl8CAIIHAfCBjQHSAcyCA4JMgjiB6wG4QMXA4AA7P/G/47+XwFDAtUD6QbiBnoHcAZDBEYDRP+v/sP8u/nD+V74IfmJ+sf6FP+8AGECSwMSAmgCawDx/n3+Qvpi+nX6c/vl/ikBXgY1DLgPZBREFyYZyRm7Gf8ZjxisFtMXwxX2FWgWRRYCGCIZOxl2GmoZARn1GE4WaRSYEh4R6BDWD7gPIQ8jD5EQfw8sD8kNXQviCYEGIgQmAgP/7v1u+wP4KPbz87fxVO9I7G/p7uR939vaidZj0qfN6ssPy+XJ28thzaHOmdB40U3UPdbp1aLXltVS0tbPWczOysDJ7chkzcvR1tns5XrwNv0XCfgSuh3SJAorwy4hMLkyxjSbNpg5fjyxQXJFQEg+TIxNek2IS+9G9EElOqkx/CmqId0a5BbCE3QSyxEsEdYQjg88DRMLLgcBAnr+O/tC+Er3CPik+Iz6Af0S/yUBnABk/m/7YfUz7gPor+DZ2S7V7NEQ0NrP/NC50RTSwNG60BXPb8qqxMa/SbtmuAy3+7fWu6LBwsclzl/TJNcr2aTYU9b40U7MFcghxmzEdMY8yg7SAt2G6M30FgFKC3gVwhyqIXQmWCgnKrIsOy5oMdk02zkeQNpFx0qIT6RSuVPmUYlOikqTRBw/BDmXMl0vyiodKFYnDSd2JpIlzCOdIyYhNR5eG8kWqRIcDuwJCQfUAhUC7gEOAOYA8ADx/2MAXP3A+q/3HfLh7cnn++DZ26fWNdIZzovLf8uAyinLG8xJy1/K68hcyEDIu8c2yDnJPcn5yfjLGcyFy2DLfcgVxsDE7sLHwtvC9sPZyWTP5dWe31vpcfQN/4kKjRQkHAAi+ibyKsku0TB3Mo40vDbEOqw+xUEARm1IykkES9xJoEd1Q7s9aThYMhMrYSc9I0wfbhzNGuAawRuAGyQc0BsFGz0aExj8FEsR3wwACrUGsAIA/zn8T/lq9+Tz2fBw7szq1Oao4zrfednP1BTQospLxoLDxcBcvzC/1L00vnm+sr+7wb/ChMUwySvLJM560dHSxtOt0lbQec4oyqjHRsZtxKbFn8krzjvW8N7f6DH0Iv9sCqAUYhzwIugmUCp7LZAv/jHwM1U3DDsQP/RDHEkOTYJRM1QCVUZVblO9TqVJTkOGPVs4+jEVLRcqaSdNJi0lSiWaJuQlISW3JJ0i1SDcHKMXJBP7DeQIxwPm/jr7kfeZ9JjyJvC97Rvspun95pfj499g2/vVONDoyjPGMMF5vYe7rrpjuwq92b+awvnGcMq6zvnTjtaF2EDY/9Qs0z3Oncn2xprDsMJDxIvHgM7b1ejfleuP93IE6A6mGbIjpCl1LlQy9zQPN9Q3yjknPBw+R0HbRUBJiE3xUVdUt1UXVoNTtk/QSsVEmj50N7Yx9y27KOYkYyPnIVIicSIeI/IkLSQlI5wi8R9tG1EV4w9OCRcCsvxu99DyBu8m6yPpwuas5EzjnuBq3bvZStbT0BXMp8e7wQm99rmyt5e32LWHt066VL0pwN/EksqnzmPSQ9V31NzSvc6GyQnGu8Fkv2C/z8AsxrTMEtZC4VnuZfxDCNYTVh53JmwtQjLmNEY3JzfDNr03+TckOoc9AUBMRB5JY0wwULpSzlNEU5pPgkxCSJZBXjwkNz8xaywMKf8mvSWgJCglFyYkJvYl8CRMI/MfFBtvFfoNCAZD/x730PBl603l0uHA3j7cbdrl1kbVJtPCzinLqcadwQG97rY6s6Wvh6z7q0useK3PrzKzMrjWvITDGMkezXPPIs8ozaLKp8b8w6HAPL79vsPB0cYhzbTW1+FP7b76hwa9EmUd+yUfLzE0SDYCOUU5sznqOeU5Mjy+PeNA1EQYSSZNwU+qUoVTNlNlUkxPu0rXRQRB5TqfNfov0Sp9KIElsCPcI4UiQyP8I7civiFKHoMahBWSDhIH9/4h+EHxoeq05TbgKNz52TTXntWX1EHSi9AizqvKR8g3xCvA6LwJupG35LY7tjG2qrd1u2S+asOmyKbM1NAw0xfUN9Ri0bnQmM7ay4jKfcodzILOYtMb3ATkLu6u+lgFKBEnGu4iMSwKMZU11jmrOj08xz2VPuI/QkAxQh1FnUaUSZtLck3STmdOJk6STAZKVkiyREFAIj3jOAM0AzEBLnwrCCmQJ9QnwSbfJHcjYCBDHEwXjhFpC8cE2P0290/vhuiJ4tTcfNcF0w3QH82FyffGVsRHwVy/P7z4uXy4ybY0tkm2ubV3tla4k7ouvNHA5MRdyGfL/svdzNDN5ssizOrKNsmFytvKnc0N0fXVLd3v4wLtPfg+AbALIRUvHpAnDi4yNbg7Gz5xQnlFe0c/SOhI6UqKTOxMiE4qUIVQn1A3UEVPjU2nS+tI+0RZQfg9ojmMNOEwUC0ZKaElXiNRIdUeHRybGu0WORPDD14LMwbi/1/6CfVp7rHn8+EJ3P3W19JPzirLksc+w8bAJ73Wur+5jLdltqm1KbX2tNi0sLYXuHi4pbrJvcLBFcbNyH/M5c24zl7RFtL60YDSS9IZ1C/Wudf72q3e6eP06q3xuPoyAxwKUxLzGQ8iLSkTLTIzNzctOp0+CEC5QURDeEPcRVdHlUddSXpKG0ofSm9JA0nQRk5EyEG2PkU72DcLNGcwmiyQKCUlgiHFHmAc4hn4FokUxhBbDIcIFAPM/bH49vMR78/paOWm4M3bxdiA1YTS387By7nJosaww9XBlcCNv4K+2L09vne+8b6xvxfB+MEexAvHpcqCzUrQ2tIH1F7U4tP/05rUWtQ91ezWYdlU3YviCOdH7Mfxk/jE/poEQQs5EPAUaRnGHf0hTSXjKFUt8jBXNMQ4mTuDPjBCs0QaR35JaUvGTJ9MAU2KTQdMLEvjSshIREZVQ4hB8z2fOTo29zJYLhQq0yZ5IjUehhnLFMUP6wm+BLD/GPp89SLxbez+5oniVd5z2jPWz9L9z0jMpcicxbvCPsCdvQ27T7luuFO49bgiue25urqwu4K94L+SwuvE3sbhyDfKZMqny+/MK87tzifQbNKo1BXYP9wD4dPl/ume74n1hvqSAOcGvgyJEh8X4Rz3IQAmdCvaL0czBDhmPJNAZENERq1JfUvSTKxOjU9AT6hPYlBSUGBOKU3GTHZK5kZCRA1BhTz7N6Az/y7FKsEmDCPhHtEZsxW7EEMLNAZhAdL7cfZA8avsOOd94qTd/dil1ErQzMznyLLEKcLJv0G9gbtsulu7FruVun67urzVvBO9Hr7Jv//A4sMSx2/JFcvYzGnNy83Nz23RQtNU1KDVqthq3EPgJOVX6XrspvKT+Gf+IASnCWAPhRPyFxQdByAaJFUo8Ct6MOozRTiCOwc+J0JoRO9E4UawSB5KTkrzSZFKi0kwSAFI2UYxRXNC/j9hPcM5nDUiMkItaSiGJI4g7Rt5F7gTJBCFC64GWQK0/fn47/Qe8Cnrb+Zo4mzfcdt01/LTt9DHzYfLysnhx+3F1sQhxPDCC8JrwsXChMKVwp/CgsJewm3DesU4xwXKGMwDzz3Qw9HH09rVRte22HnaT9sZ3y3j4OWJ6QruL/Mb+KH8tAKFCWYOQxLaFkYbpx93I68m1CpRL4YysjabOd47RD+UQhxECUUhRm5HoEjkSApJS0kdSTtIq0b2Q9JALD4qOx03UDL3LekocCSYH/saqxc6E9APIAxMB7EDNP87+nz2gPGq7eLpK+Xo4DDdD9rC1vPTAdGUzgzOXs3XywTLjsloyUDJ48jSyOLITchbx6/Gx8YgxuPGdsdkyl/N089w0sDU09bX2DvbmNy53TzfC+CS4jHl0ubd6UHs7e9g9I/4z/1eA9YIXQ1dEQIWYRmoHJMg/iP8J70qHS7WMis14De+Ov87Vz7SP49BakOvQ6RDlEMbQwBC5T/uPU471DjdNSoyMC6FKpwm0iKQHhMbpRdFFGsR5A6tDFsJ5QUHAsf+lPrF9rnz/u4y65HoMuUy4grfnNxX2jrYndZv1XXUJ9Nf0hfSt9CRz4DO480WzUDM08tEy5/LG81qzkHQntJl1VnX79lG3Mzdbd5k34PhMeMp42TkQua46A/rfu2E8P/ywfbv+5YAxAR3CYQNDhGYFJkYnxvFHUUhxyQ4KCIrOi5YMWQzXzVhOI460zsGPf0+Hz/OPsA+iz5NPTU7fznmNhA0QjGbLjcr9yfmJIAhkB31Ga0XmBTyEOMNqArHBrkCrP+//F74qvSa8UHuGOsl6dDmh+SY4nDghN4u3A3a1tjl1oTU1tLo0IzPR86Jza3MMsw8zGjLcctwzHbOeNDo0arTG9ZQ2PnYutnA2k3bP9xO3e7dqN4u4O3ieeXM5z/qXO1Z8A/05ver/P3/WwNrCL8KSw0OEagTLxf6GawdyCHnJEoogStqLjEx7DIONaE2AjjWOKg44Dj6OAo4DzfRNWI09jIUMVUvBC0/KmMoyCWZIg8goxx9GdQWyhOKEMEM6wlkB4oESQGV/pv7gvif9aXyYu977DDpLOY/4xjgW97O2/XYF9eV1ZXU69LO0bLQ6s9Hz4HOss73zqvOIdDl0NXRydJH1PzV6Neg2ZvbrtxF3UTfv+GT49nk9uS75qjpiuzL70PyZfSq9yz75v8CBGkIkgsTD8URNhRuFnoZxxwqILciXiU7KI8qzywFL78wuzFcMrczwjQUNPszQTSlNIkzFjM/MiswBi/9LGIrUSlVJjskECHTHecbFBl1FusTCBHFDhcMPgpfCEQF5wGO/wz8s/iF9SbyJe/F7NTqc+ga5dfiyOGI4GbeMdwe3F/b7tnA2G7Ylddy1prV1dUP1RHUCdT71DHWM9cr2djbmt183zvgTOD64GzhweHH4aDh5uJl45/kaOe56Vvr2O138Aj1mves+64AkAPABtMJ7AzCDwARqxO3FhEZsRszHo4g6yGHJBInRyjUKSQsJC31LdEury99L+At3i3kLsgt8ivSKtsqKynOJtAlTSQwIjUhoh85Hv0aThjbFbcSHxAZDQEKNwcpBfAC3/+e/K75vvfR9K/xbvCZ7TjrGOlP55flfeIm4Hbep9y+2u7Yu9dQ1xzWl9Td09TTmNOa05vT79RG1kHXOdmp2x3d69x63s3fct/Z34DgveGy4hvjr+VS5wzpU+t07TvwdvLf9df4Qvtw//QCVgUuCLAKKw1ODzERHxQeFnUY2hu5HvQg/yJyJYsoFSo1LOIt/C4oL3EvuTDgL4kurC7aLtYtqCvJKnYpaCcsJo4kuiJiINgemxxcGf0WUxRvEYINTQqpCBQF5wGo/5X92vrw94/13PNi8W/uOOx86lbnZeVv5JPhv97Q3RndO9wS2yramtoN2ofZ+tjn1zPXb9d318rXkdeH2APaI9u/3T/fON+73wLgIuEK4jXiuuIr4iPkhOZI6KDq5etV7h3xpfNl9+b5CvzC/v8BgAVfB/MJIA3GDyYTdRY+GnMdTx+CIlsm8ihiKy0tCDDdMZ4yBTTHNAg1sTT4NC41vTReMwQxMjCELwct3CoUKYgodiagI9YhLx+vHF4Z0BbPE4oPqQyECVAG/wPEAEz+Mfv092r19PHW73/t1+rA6DjmxOR84v3est2H26HZHdhm1mPWdNVU1brV09XT1aDVLNbt1rTXLdk92kDbMN1n3z7gGeCe4I3hXeJy4nDjX+Ms5DTm2efn6ejrq+798E3zT/bn+UX92/6JAR0FzAYhCTgLlA2dEMgSjxbJGZ8byB76IiMlNiflKRssaS05LlcvcjAzMMUv3zCLL5QuYC7YLFEr5CnZKGYoSCYZJXgkQyKVIN0eXxxIGc8VxhL+DzcMTQmLBg8EYgFA/uj8T/qA98P1MfNC8eXuB+2E65vo8Ob25Ezj5OFi4AXfU91k3V7d5dxo3KbbpdwO3HPbB9yU23bcVd013gngqOBh4grjT+IA4hTiz+LE4XPiguNf5J7mOuhS6r3rCezA7zfx8vLb9vr3qvqR/GL+PQKrAzAGxQiwCfMMWxD8EgMWmxgmHJEeMCFTJKIm6yhRKvYreS3YLX8unC51Ld0rsClcJ2gk/CDZHmwcbBmkF3kWUxaAFnsXIxjsGH4ZSRgCF6wTgBBmDIEG/wEz/X35TPbl84LyjvGy8V3xTfAb8FruK+zx6JnkTeAr3MTY39bB1ETT8NLl00/VPtdV2rPd1uBk4+3kiucG6arqwepm6fXn7eVS40TfC9zT2OTX+9ZD11jYAdoh3TPjBukt8Ib3Z/5IBskNShMWGCkbpBzQHSgfxR/2IJcgLiEKJLMlbydhKQwq0iuCLNIrKyzNKBYl1CGwHPEXyRRwEb8Pxg64D+cTzBe4G6MfHiMyJmYo/iceJaAhRx1FGKQTAw/yCQwGXAOmAhMBCgDy/2j+sfzN+fT1l/Js7TvoaeRc4XffAN8g36TgXuNS5bnnVOqn6tfqIeo76Crm0+NF4Wvfbt4J3sfeJ+Dq4jXnY+n26/bshOvv6WzlMd6m1yjPlcnCxzbGUMpn0C/ZNuYD8mP9OgpvEowYxx1eHoIefhyHGPMWZhenFw4ctCBVJX8sEjGMMxc12zG9LZYo/CDCGx8XBBWJFcwWRRsVIfYlqSoKLtIubiyLJ6QgHxsOFbUQMQ7FDToQjxaHGqEdAR8wHPYYSBD/BOL6IO935vjjAuOB5ZvrB/Ie+rgBpAQ8BJ7/Fvc57h3lYtrI07LPc85D09rYVN+m5e3pBO027afoa+OF23bV7s+IzujShtfr3UXlcOrB7qfuHOo74oTXPc5myOnEgsJdxuvOUtvp6vr6WwhpEYwWUxp6GpkVsw+mCncGUAfUDPAV3hxDIxMtxDJKNGYyfSy0JfgbbBW0EiYOQw9iFTAbRSKSKcAuPTDyLacruyjWIpwcdhhpFM0S9BXTGfod0iHwIxoltyIIHrAXEw0yAzT8l/dm9kf4vflw/kYDmAcPCyQKWgaw/w322e0T5hDeFdhz1bDVBtkE3d7fCeOT5IDlt+UF5HvgFN5V2o3YENhM1wXaj9vG3qTkwOcK6Qvn2uLt3t7Xm8/5yTvDsMGMxRXKktET2QnhKesw8h/5NQA8A68GZwt+DjwRPBK3E7EXLxo6HRkgEyHqIpIkUSUdJP0hpyA+IJMfiB4AIKggNiFfI/4j2iOlI3oiUyKCIWYgeSL3I88jlyUHJRAj3iFTH+kdsR2oG64Z6xYJEagOOQu4BCgB+PvI+IH6UPpR+7H9xf0wAMEBpf83/Uz3GvBl66/nseKf35jchtlC27/dWN/G4IrgGuLL45Pj1OPO4YLfat3U3NLchtsq3srgv+Kf5HLjuuEo3SHWTNASymvFH8UTxgDKHNAD2ILgfejz8JD4a//WAhwGGQt1DdsPuBICFmwaIh59IswkiCXhJuQm7CbOJOwiZiNFIiMj7CUbJ2onwihIKbcogCeyJQ8lmSNGInUkPibQJ/Yq7SsSLmgwJC8JLUgn+yBbHFMW1RHzDg8MywqaCggLRwwiCr8HdAOT/dD8avmV9mf3vfUl+ET7kfov+ov2BvHJ7UzqzOVh4xnieOCP48TmFOik6Wjo2+fi52zmk+QA47rgUuDs4fjikOVU5vDj9OCk3PjYSdXxzqTKQcjqx13Lcc4c02/XxNtP4sznbu5l9cv6lwCpBgYOTRU8GWwbHB3cHzoiciPvJEokVyQJJ2MonyjIKEMmHyajJWgjcCQ6ISMe6h17HFYd/xzrHH0eMx8zIQEjCiQDI4shUCFyIGMg7R5yHIwZwBXtE/sOOgpDBUT+K/vg+Fb26vin95D18Pnl+Oz5QfuL9YXzR/Gm70DvYesW5k/jS+Nq4Afe+Ntm2WDaX9xO3fjes94q30zh9uF/4mDj++EB4dvg79+84oLjPuJ444Xgbd4T3RDXK9Op0DnMSc2Iz+/QINh02+beXebh6kDyxveB+8YC1wiRD9gUoBdZG1keRyP+JSMofysZLCUv/i8bLncuPyqvKLUpXSbQJgomaSSJJHciuSEOIb0dbRxUHNgbqBuNG5QbMxzfG3kcZxtWGdQW9BY0F1IWwxMREOMNugnwBJT/8fiL9Dv0J/P69Kr2LvTJ9/L4yPaI94/zNu5Z6srppufS5x/l1eOS5uziheGk4+3gEN+P4U/ipuIz5CTk7+YE5s3laOtH6qXnE+od7HXrjOpU6EzkPuGK4J/fzt2u2DDYndpX2h3dj+AP4UnisebN65rv2vLl+HsA3wVrDWgSNBX8GM8bOSBAIscjzybyJ0QqfC0+Lrwuki15K08rFyigJd0iIR+RHa8bCRrpFvQUtBRZE1kTbRNWFMQVfhazF/cY8xjZFxIXCxW3E7cSzhH8EbsPXw4IDigLMwmfBFn/VfzI+a72u/XQ9JTzffNJ8g/xWPA17cbqQOlK5qflXebR5fLljuZp553oxeg56U7qXewX7T3us+4K78TvxvDJ8Pbw/vB38Enw6vDn8Ubyx/Co77fvAO867dnrbOoa6mPpCOmJ6RvpKurD6grrwOtC7PHshO0J7sXwLPIe88v06/UK+PX5xPrc/Kn+twDbApIEhwZeCTkMhg7KD14QMhNmFccWgRgOGlMcYh0MHtwf8yAyIVohLyHXIZMi4SEfITcieCLzITAhZyCPHwMeohw9GxQZuhbPFWkUPRJREFUOSQwrCSIHgAaDBEcE+QMcAkECAQEqAK7+F/0L/C76PfhT98T3pvjL9yr48fhP+Yf5s/jx96v3RvYl9R71cvRu82/yYvLg8Q3yufAV8C7wvO4i73Pub+3C7NLr2exC7WDt3uxr7J3sHOzV68HrfOtp7NvrbOxg7WrvpfCZ8YHyN/Pe87L1n/Xn9s32jvhD/LT96P55AIMCcwWtBx4Jlwo9DE8PJxLlE24VyxdeGtcbmxwjHhgfoB4eHmse2B44HtYdfh7wHQwdSRzLG+EZQxgMF5EWXxS0EosRJBFzD60NxgyvDNYKSwiaBT4DqgDd/a77v/rE+bj5uviy+Gv40fZs9ij01vIH8s3wHfAO75fvSPCZ8I7w7e9y7xvuLO3C653qm+rH6mDrO+vG6ybtZu2h7fns3exJ7B7rf+ry6e/pHOrf6v7rleyb7YXtNe217Yjskeo16gnqMuqN6i3qHutI62frP+zg7JvsrO0J78HwVPLk8732wvhk+wv+ewBCAgAECQYpCJMJCAuxDBIOvQ+fEa0SehOfE/QTwxTEFAEV4BSSFQEWURbdFk4WyBZoFpYW6xavFv0V6xU6FlYW7hXIFeoVlhaBFbwUVxT1EjQRTBCMDwAO6AxYCw4LNgqxCCIHtAWVBHsDvgIfAVv/J//H/mn9W/1t/Hv7XvpL+Xj4Ovf89Tz1z/TY8/XyP/K78dLw0PDl8CLwKu9Z74vvqe4R7sft3u1z7UDtWe0g7aHsDu2B7UHtHu3O7RLvK+8n7//vGvHX8WDyN/Pf9Fz2Kvjw+SP8u/1l/10BwQIRBJMFtQZBCJ8JQwozCxAMHQ0EDioO2w6ED04PBw/TD7MPeQ8VD7EPDRF6EXkRsBHcEvwSEBODElMStxJ6ErIRYhJAEjkSUhEtEYoRRBHID6IOdg6uDZsMewwWDD4LVQogCvoJtgifBzoHZAYyBWgE3QPwArYB/gATAOH+lv2X/H/77/n6+KL43fd89ib26/VH9R30SvOE8jjyPvHa8Mbvl++g7wDvfe6j7Wbt+OwP7HXrJ+vz6tHr1+wH7UHtWO6b70DwpPBu8fPym/O89H32LPiT+WX7+vz0/tEAYgIABFgFQAb3B6YIiQliClsLtguBDIsN9A0GDsEOXQ+BDy4QmBCxECwR2hGbEbgRHRItEhgS8BGGEf0QhBA0ECYQVQ8vDicNiwwEDJ8L2QpSCg0KywlICa4IiAgRCBgHPwbSBeIEzwNoAxoCZAEjAVIATf8R/hL9m/yz+8f6X/ly+P/3avcX90r2p/Q69Dn0fPN58uTxVPH38BjwyO+/7zLvPO4o7p7uFO6j7bft/+1g7tvulu/8753wPvFF8mLz3vPb9Bj2Lfe1+DL6Ufta/Pj97P5jACcCmgICAwgEogVzBmUGFwehCHAJtgktCgQL+Qo7C9IL6wwzDSENbg2dDWsN1A2eDaMN/AzkDJ4NJg1JDC8MSAy5C6cKRArBCS0JjQjBB2sHBAeFBhYG9gXQBa8FzAQXBO0DUgOnAgcCuwGgASsBkwA8AHr/8f55/r/96Pz9+5b7a/vL+kL6pvlq+aT5GPlI+P/3uPc497v2D/ah9SH1g/TZ9I/0NfSx9AH0ivOp8/XzB/Tz89b0mvXd9Xz2Ovf090X4k/gs+l77K/xU/eL+ZgAoAckB6QICBEIEogQRBcUF/QVNBhkHywcuCK8ItAieCEYIcghDCJ0HVAcZBzEHsgaWBvoFVgXSBO0D+QI3AtYBNgGA/yz+8/27/bT7tPoh+nf6y/ki+ej4JvnE+BT5HPmU+Bj4X/gW+JX3UPe/98X3aPf49qv37feo96r31ffp98/3Cvg/97H5fP0j/Bf51/Yz9Xr0EvdK+wv+XQC3Av0FHAg0BxAIgAhRBRoGuQc/BH8CXQADABP9KPhk+yP8aPdb+Pz7MfpO+MX7//iN+CX6Jfux+2D+sf+RA1sGqQVzCDcKeAXjCWEJNQjZCBkMhgx6CokMLAviCg4KkghOC48MAwnNCmEN1Q2PCJwLiwvwCDgGawfUCUoFdgVdBq4D/wAkAgwCxwAC/a7+XQGu/hT8GAF3/Az62/x5/n/6P/aE/Kj9P/n4/hj+hvd48tb1yPWK8CD1evi29Rb3j/tWASr9xfez+5r4BPfB9Ln6D/m582r8jfig9lv40fim+Dv5/P2JAIQEcwLUBHsGoQVBBPwH5QcfCogMdxIDFFoTihJGFBoRUg83EXYSPBArEPAQoxFRDxoMsAynCdcFFgRiBNUERgDuAEED4//F/vL7gfq19i/20fcJ+dr5afvX+W75QvZD+Sb4Ffeo+Fv6V/yb+Zj7Ff7Z96X32vuU9wn05PVz9Hbx6PR+8yvytPDH8Njtqe217l7t6ux+6uvr7u8X7SHpcO2l7djqwu/B8kvwlfGR8rDzBPSP93H6gPqu95b7x/6H/H/+MwM0Ak8BHwVNCeMG6QWVC/MNKA3tDo8SSBK1D0cTUxTXEwAT+xPREgEUgBXoF9AWKBWZFSkV1hNuFK0TNhDgDmIQTRACDycMhAr/CEsHMAdIBfoE9wMBBJQDmgOnAE//Gf3F/8oDeQLPAm79Gvho+C70+vVF9yfzPfgf/+MAvAYaBXz/sQHQ/18B5AfEBlcE0wUwBS0C5P7t9onuNu9C7Wru6fIQ753sCO5s6q3o1ujl4Vbf8uF25JDq6eo95cHiD99R3WLfAeG33/Pif+fx64Pt5+3v6yPp6uhe66buB/Lq83v5dv4RA6QItgnBCHIMCxJwF7QcBSDeIZEj6yXgKZEqyyi0J88pYSwnLxwyzjC5Lc8tgixaKswn5iO2IAQf+B6JHWQbfxfnEnQPXQ0MC2oJ2QbLBH0FvwRNBKgDFQC9/UT9kv2G/tD+Gv/S/l7/4/7t/SD9jfmq+An5i/jf+Xj7u/yQ+9D3YvRg74rtdOun6XLqM+ur64/w7/FJ8P3xovCT70XykfN39zb4N/fk9r/5R/bf8l7yx+/r75PzYvMo9HnzNPKw8pryaO+K73Lw/+2a8GXzVfM88wrxbe6V7nPvbu7M8BLyK/PD9zf6gPgF+aP5XfjX+w3+lv8cA7EDXAZ9CfkH0AYuBygGtgbWCkgLYAtyCzEK/wr6Cd8GSQjzBjoGMQkZCQcJpQlbCFgHxAY7BaME0gTJBfYHPwm9CcAH1Qi0B2wHPgncCnULVwqaC5IMcgxjCkYIuQcYBh8HugnkCJIGtQdvByoG3AZ4BBUDQAKAAg8FzwalBXEG7wYpBcsFwAXfA5kC1gIRBq8IyQiSB98HBwiRB+4HKQdZB28InwlZCg4MsgulCvMIfQkgCkYKlwliCb4I6whRB5YH4gUkBTkFsAVuBcEExgK5AWb/LABp/6H/Ef5e/cz93P28+7r6e/cJ9Zv1OfVy9JLxuvDo8Z/x6/Gq8L3t/OpS6XXpuOgl5jHkT+HM3uzdYNy22tfZJ9k/3I7dB9+X3ybgfOFa4xfkMOaV5+DqQe178MbynPT49FH2evjQ/Jj/LAKpBfwI5wyBD+AOxg5+DnsP7w8BEMQRCxPSEW8RAA+TDXML1wl7CIkIMwrBC6sLlwlUCLwGFAQ3A/cCAAOJBBwG/wfpCWkJUwgSBzEG5AXwBwEJSwoGC54LAQ3ICgoIsQXNBLgEuQQkBVsEIwQjAx8DtQEm/zv+K/t4/2IBLgIT/7X4IfPy8h3xsPFo8kDyQfZr/uYCkgcfBOX/ef+lAc4FeQivB8sHfAs/DWMKfgTi+9v2LPbV98L5UvmX+GL5nfl4+LP1kPFF7b7u0/Ni+NX5yva89NPy6u+Q65vprOeF5/DtoPL89mL3sfXU9gD23fWl94X5/Ps8AXoHFgm3CrsHUQYTBiQIwglZDcwP3hQCHBkekB7lHUcbtRvxHi4iWSTAJ9cnFSszLLgpzieBJTEiOSR4JUkmLSccJ5UjtyEDH3kbMBhkFsMVrBdKF6gY4xhFFocRrg4mC2EJQAk8ClULYgz5CyILsgiTBEEChABKAFwARwFAAq4CWQEw/8f7e/j59WP1r/W09Xr3/vf596/2avTi7hvoOeQt4z7kBOb354jpdOuS7Q/u4u9z7hLw8/Ie90j7Pf0j+2f47/RC8XXuWevN6YzqhuwA7tLuDe2S6RDmY+I94cnfHN+24EHi4OIY4mneN9hc1KDT4dIk007UINbz2ZHco9w03SrbK9ty4AHkwOhJ7oPy8PQy+O32G/UH9bz1qPorAh4G1wrbDbgOIREIETkNuA1GEH4UvRlGIOUfRCHBHZ8b+hu5GVsXfxupHQUgbyNwIWMeqhtKGF8WoRZRFSMWMxigFrAX2BViEXsMIgliB7MHdglqCvIK4gp7CQkIkQWqAuUAcgH0AvYDbgXpBmUGtAR8AggBav4J/b77Xf+bAHkAQQEaAVP+OfzX9dHw/O+Y8L3zc/fV94j4u/ny+Jn5OPm69aT2sPg++67+Kf8y/FD5ZPfp9Yf1n/T48vv0xPbp9tT13/EA7gXtCux57JXsSezU7GPuue2B6yXoPuTa4oPiKuP74ifixeKF5Dfm0OeD517n8ufJ6pXvF/Qz94P7xv7kA9gGVglxCJcJCgt6D3QTzhZmGCAaNBvMHDwc/BobG7QcCx7fIHMiwCHXH5AeYx3dHOkc9Bq4G3EaCxzeHOobARnfFVIVDRWTFd4UthR4FQ0UZhQiE2kSBBCIDvsMqg1oDpkOXA6WDtAOyg5ADj0NGg3JDJ4MBw3jDJQMfwzSDHwLGAobCNkF/gMBApYBRALcAr0DUQT/BagDmQF9/x796vqS+Uj5C/mC+Oj3SPZU867vTO5q60Hoc+iD6PHoi+f85SDmPuOx35zcJNp12KHalN173mre394X3hjcBtpP2UvY/dgP3Xvh2OT85B3lxeUi50LqtexB7Uzv6vNJ+cf8gf3O/Or9TP8tAywHgArYC/wOiRO/FZAViRNcEv8SVhP1FlIZnRrqGyweCB1OG3gZYReEFxUXFBkhGmAYUBbsFWsTARGEDWwLpgubC60N+QxEC/EJfwliCOYFOQTiA1wEaARlB3AG+ANUA7cB8gKkA8QCmwAo/wr/vQE+Aj0ChgFBAtQD9wUSB54GugUnBWgFfATOAqz/zfxS+jT38PXn8vrwOvA27/3tee2J67XpcOi+5hXnUObJ5DPjpuHv3+rer95d3bPc/Nwd3oPet94r4GzhzuIv5Rjn+uZg6DHpXewf76LwOvK79Nr10Pif/Mj9xP8WAkwEkgVdBjsHBwkdC3gNDBHPEgcVmhb0GBoZshjbF2sYgxm0GnscABwMG84aHByEGzMacBoZGhgbsxtCHYIceBpFGIUWKhURE3IRQhDwD0MOCQ5pDYwKvwljCYwKLgo/CdsIEAgfB0cGaAWNAiUAIAA+ANr/0v4T/tb8kvtJ+vT3VfU187rytvKT89Dzo/K78U3x/vBd8Hvv2O4T7vbvbPHZ8oTyx/LY85r0z/Rr9N707vTz9lz5//pI+2H7C/uQ+cb66Pnw+vb6//wC/woBOgJYAmECQQLiAusD3wO7BLkHpQgPCdcJ2wrmCvwJsAmrCY4J9gmbCt4K2wroCaIIwwY8BVcF9ARuBjEIrwdcChoI0gSVA37+7v7E/rD/dAHiAa7/DwDr/l/8dvw2/GT52/rl/cj+n/8E/+v+fP2O+xr6Gfuk+ff6Bf1q/Cj6Q/q8+FT25PVY9x/4nfdF+f/7V/wZ+wb6mfdO9jv21vgr+lb6qvnK+VL54fdU95P2RPak9qr4AvmL+M/3o/ho+nf7C/wy/HT81fxM/mD+qP4M/tX+3/9MAcACowESAQ0BSQJYA9AD4gNABHgEagVZBTYDagCw/Tv8XfzG/PX8LP+KAbsCMgTkAp8Arf4K/X39Uf6zAAIClwLTApkCYQLrANz/PgFhA8YF4gfvCIgIVAd4Bq4EogI2AT4BtQI6BAoGPAUqBXoFWARKA6ICogGJARwDKASsBesEiQPLAXsAZQBeANT//AAfAygFPgVfBTsEXgLIAQICgQMGBJUDMwPbAyADIANaAv8AtAGOApkDMALcAV4BMgMPBHcDRgUBAuD/swC8AUoCEQQxBB4GLga0BLAEmQOrAUcBlwEcABMBmAB5/7/+cf28/GH7tvkD+nT7GvuX+2r7HfpH+qv4+fdU9nP28feq+cv6BvyN/Fn7zPoF+gH6ffhY+Yj6EfuE+2z7Avyp+g77M/uG+/77xfug/r8AmQDGAK4A4v5A/T39Pv0Y/Ln86P0wABMBMAKcA6sEGwWoBKYEWgSfA9MDggSCBHoD1gGNAYUAbv8X/04ALAA7ASEC+gBo/p/9+f2T/84AIQKEBAUEEgTMAwYDRgEQAIIApgFQA9AEoASLA2MDCgM7AZoAbADQAGkBtgLQA2MCOAEFAej/hP9e/38A8wBzApQDlQTlA/EBHwHM/2v+7P5p/1MAOwGfAbABIP8D/Zn79vqm+hz7MPxT/nv+I/6q/aL7Mfrv+Eb5Ovp4+0n8gf0//47/zf5a/QH8kfuj+/P83Pwj/VH+1P5v/2D/Jf5e/GH8gfxy/bj9tf6vAfEDpAVJBqoEiALYAQEBR/8m/0wAowDhAPICAgOgABT+vv6S/3f/ZQH1BKYGWQY/B+YGVQP8AGgA1wD0/1MB5gLRAi8CTwL1APn+hP66//0ANwJbAzAFzQT5A0ADNgI/AS8BFwK0AhsEfgT/BVkFegPDAdUBdwEEAbMBrAOBBJMEUAX9BQMFMgTuA5EDyQLSA3EFLgViBEQFbAU7AwEDpgNuBOoEiwXBBZsEfAMyAsgA4P1w/QD+3P6F/1AAyAD+AMsBpQDw/sT92fw1+5v6qPsX/ZL89fu0++D7G/o++nL7Yfz1/In+OACX//H99vyt/Nb6qfjC+Hr5SPkf+qj8lv1L/Rv9Gv3g/BL82fuS/Fz85vzV/l3/if0Y/Hn6B/i69+r3r/gg+mr7Av0//lz9MPxX+1X6YPlv+p77YP08/nP+Gf5z/fH6e/iw9kH3evjd+sX8uP6IAPQBiQCL/1//xv+AAO8BeAMdBXkFxAUPBEUCrwBJAGQA3f+0AE0ClQTmBEsFvQSCBMoEbgQmA3oDjgOEA40D2ARTBG0DlAInA8UC1wGqAZkDtgRnBLsEiAVoBJsCawH3AV8BfwE3AtEBFwIHAfb/0f4t/cj73Psa/Ej8Qv0V/fP8X/37/PP7f/yd/SD9Mv2j/Xb+0v5Q/sr+W/9T/8P+rv4D/h79Y/3C/lD/6/4p/jf9g/ya/M/8C/5H/xoAlQA/AUABhwCi/9j+pf55/mv++/5U/rD9Df7g/b392v2f/on/Mf+t/1sBwQExAa4BMALrAPj/2f/v/lP+yf61/5oAPACRAKkBzgBGACEBSQF5AUQC+QPPAwADugKWAs4BSgEhAQgBwQBsAUECmQJ5AqcCqAJsAXoA/ADNABcAegCGARQBSACz/17/0/60/Sb9Kf3u/JP9b/7x/ur+IP9RAO3/a/+j/yD/yf5T/mT+Q/8r/0z/ff87AYYAe/+s/lz+ff4x/3sATAFmAakAfwBy/3z+v/26/qb/zgDLAhoEBAS2AzkCtQBo/+b+3f6T/98BDgSHBCoENAOMAq8BRQFsAmEDRgSBBt4HIwhTBiIFxwOmAhQDsAOIBPUEbgZFB88GbQRfA0sCRAGXACUBFwJfAlgCrQIKAmAAFf/9/aP9P/5v/0UA7P+S/9L/Mf9F/en7f/v2+rT78PsP/Er8n/v2+5j6Lvm6+OH4rPkX+lT65flw+o36ffk8+er5cvqa+o/6N/uk+9P6Fft/+/r6S/s+/FT8l/va+677+frb+Sr6B/tZ+178+v1P/ib+/f4D/+f9XP0P/sr+yP/cANgBLgEHAK3/RwBV/13/vAABAkADewQVBewE1APtAl0DEQN1AscCZASbBC0EdQTEA3oCZAEeAnsCLwIFAt4CVATWAy0DMAK7AEr/sP+E/8b/owALArwCxgP/A5IDdQMJA1cDnwN0A1sDbQNxA1wDfAMxA9IC7QLIAiMDnAMQBCcE6wMuBX8FFwQvAz0DrQP5AwQEuAOjAzwEKQWCBDYDJwK/AgUDJwJSAh8DRAIrAlACSgHc/4r/nP9vAB4Al/+O/yz/mv7J/Zn9gv2r/Wr+mf6h/j3+TP4Z/Uf8uvxI/X/9jf1h/u7+Pf8J/rT9J/2U/Gj8Hv0t/cD9fP6Y/qD+Hf+t/gX+HP6x/qD+0P67/1YA8gBzAN//ff/k/vv9nv09/pb+J/9e/xf/A/8R/vj9Fv5U/gf/6//0AH8BmQEtAcUAmwCgAEQAEwDUAHoBSQFcAYsBWgCe/8D/oP/X/44A9AEsAgAD5APbA3ADdAOYAyQDRAL0AnYD9AJwAn8DoQPmAjsC2QKbA5ADewT2BD0FyAQbBE0ECwNbAc4BOgLIAQYBeQGRAewAsADWAJj/Ff9l/5P/Ov9m/yMAaP8s/vL99v2q/Bz8Tvyf/Jb7WPux+6n7hvuG+zD77/r5+r36kvsO/P38UP2T/Pj8AP1W/Qj8D/xt/Nr8fvzR/MX9kP1P/W39u/2b/WH9/v23/lz+V/6V/kX+Nf4A/mr+0P0J/db9D/49/qP+HP9K/9f+4/5V/23+1f3T/n3/hP+l/mH//f8HAJX/bv+w/+P//f+d/5D/Zf8F/2P+Vf5C/m/9AP7e/bP+0v66/hb/uv8SAGQA/P94/1//AP8C/2D/MwDRAH0BLAGPAZMBvwGaAnwC+wKVA3sDqgN0A74D/QPTAlkCAwPVAuQBuwElAzQDUwJPAjoC0AGnAOAAUQHr/93//v9QAZMA1/8uAMP/av8o/x3/Qf/8/sD+xf4T/uP9Av1I/Uz9kf0l/gH++P0p/hb+yP24/Vr93/zF/M79xP3p/UL+gv71/kL+5/0w/m3+J/5S/qz+Cv+p/9z/i/99/xb/QP9l/zEAEQF0AQMC6AF8AYsABQBJ/7T/XP8x/8T/BwARANIADADr/ub+CP+x/s3+FP/2/wIBjQDl/1IANQCQ/wz/cv81/zP/2/47/xn/Q/5s/pj+Z/4t/2n/dv8AAMsAlAEZAVwA3wAVAf4AJwEcARIBZQEiAiACDAKFArkCFQMwAz0D4wLgAR4C1QJuApsB+wB0AFQAIgBcAI4ATwA/ABYAMwB6ANQAvQCnAGoASgEZASwAOgCFAIYAm/8q//v+IP7s/Yj+sf64/iH+GP5C/hz+4v1x/Xn9xf3e/dz9Ef5L/pX+m/4s/yT/Kv96//H/jgDUAD4A7AA4AWQBjwHTAcYCGwNmAxQEGASgA8gDJwTKA1AEZgRwBMwEiAW7BXEFZgXmBJkEwQThBOoEGgWABLEEwQQCBJkDEQTuA1gERwTxA+oD6gN4Ax8DKwJ7AaMBYAHEAMsA6QA7AQwBdwCcAAMAlv+d/1//3/6I/rT+lf6i/iD+oP2Z/b789vzc/B/9zf3Y/az94f2e/aD9jP1p/dn9Cv5l/jT/K/94/6z/lv82/yH+DP5z/oD+yP5Q/0v//v4o//v+qP6t/sH+Gf8W/wr/2/4f/+7+Cf62/Rj94fxa/O/7RPwq/AD81vvo/F392/yU/NH8Hv1Z/Sz9Pf0J/u395/09/vb9hv7P/u3+6P4o/0kAeACoABoB8gCoABYBVgGkAPUAIgE3AU8BAgGNAYUBTwGRAZgB8QEfAvoAPwH0AcgBLAECAasAVQBDABYAegAUAMr/HgDAAOEAiwAOAIn/8//Z/wQAOADx//T/KAC/AKMAPwCJAL0AWAD8/7z/L/9G/1v/Iv/N/wYAXf+Y/xwBQQE0AJf/HABsAO8ASAFBAPL/bACZAQMBBgB8AJQAdgAbADUAuABsAIoAugHoAaABEwIRAkMBZgGlAREBnQAMAbMBKwHfAG0AvAAjABYAzwDiAIMB2gFgApwCiwKYAqQC6wFuAeIB7QEdAf0ALAElAeMAIAGYAbEAdQGfAgkCDwHlAA0BQgBR/3//yf+p/gr/JwDc/6/+v/7i//r/Qv+X/7YAFwA2/yMAwwD2/4D/4/9v/+v+YP8DAcIAhQAQAb4BLAHTADQC5QF+AXsCjgLgAIoA6gDmAJH/9/46AOn/w//jAMAABgDa/70ALgAW/xf/6f8Z/zP+7/6K/6H+IP75/lX/c/6p/iL/B/8B/2f/PwBj/wz+7/6J/1T+KP7O/pL/mP+t/+4ANQD5/j8A0gBhACoATAHOAcQAXgEjAq4AKQBbAdEBrQCAANwB8gHzAGkBmgHeAAYAyQD7AK8APAHqAKQAdP+7/qX/pf5A/kH+o/22/dX9yP00/cT8I/25/Kb88/yW/E38wfzT/V79jPy7/Jn96Py+/Ev9Av4y/iD+YP6b/jD+Ef5v/iP+n/1w/rz+8f1M/Qj+vf4b/zv+av7e/nj+//4s//r+rv5M/k3+Lv57/cX9o/2f/QL9uP3y/Jr8Uf2L/ZP9U/2p/dn9bv2W/Uf+CP7H/Q/+l/7h/Wn9C/6r/j7+F/4+/x3/Uf9r/zL/Mv9m/lb+tP+L/4v/3P9kAFsBuABXAU8BPgFBAkECEQJYAZwAeABZACsBMAEQACAAbAFUATAB3AGUAawA4wDdAHIAG//8/tb+e/5K/nH+0v1i/cH9gf6+/g3+4f6//rT+2v/0/xT/vP4B/8//vP9h//T+A//s/6EACAG3AAAATgAGASMBpgAUAO7/fwAFAPH/T/+F/2X/lP8a/7v+n/8m/+b+Kf/7/pv+df7Y/vX+vP6V/jH+5P3L/UX+9f3B/Rf+t/6m/z3/of+O/wD/mf8g/6r+Pf+S/zMAkADeAKEB6wFyAWQBqwEoAo0CrwKQA6gC6AKeAsYBjgGEAaQBxQDA/28A6wCUAAcBXAKGAmUB0AHfAbEAAAADAN3/JP7N/Zb+z/4c/i3+xv+NAOYAAAI2A6YD+ANEBPUEkQXQBSUGTwaQBmUGfQZJBigG3AVeBRsFpAQYBIMDQAOxAjICZgFwAf8AkgCG/+D+h//E/2D/0v73/uj+BP7T/X7+OP5p/QD+Bf70/GX8H/3T/UH9//zq/V/9Lf0K/lL+xf13/fH9Af6o/b/9af5A/n39GP6Y/un+gP9h/6f+9v6H/9H/UAAvAB0AsQBOAOIA4ACnAGcBPAHNAEkAmgDZALkALADBAPoApgA8ADABcgFDAYgB9wEzArsBIgFWARQBXwDKAJYAFwAaAGIAjgBrAPsAigGeAQYCHgLyASgCCwIhAlwB9gApAZ8AlQB3AfsBiwGjAMQBjwLmApcC+gDE/9v++/+rAfoAtADUAKoAfQA9ALUApQCsACMBTwF2AXABQAKzAnABVgHVAZAC3AEKAu8BHQKTAqACdgKZAsMC4AKRAhoCfAIpA+QCJgJ9ApwCvgKjAlICmgLAAuwCJAOrAnMCXQOZA+sCKgLhAu8DlgN+AlUChwJNAlkCIwJrAWwBwAEoAncB6gCLAYwBwAHgAREBWAD6/34AKgB7/wv/Mf/g/wz/ZP+8/yj/9/5w/6//Ov9m/m3+GP4j/n39A/4V/iH9Av0q/kv+UP3D/AT9g/3w/aT9Qf3L/Yb+kf5r/sv93vzG/C78Z/z2+/36MPsO/Hv8Sfy9/Mr8T/yi+7n7YPwW/Mj7rPsq/NT7kvuX+7n79vvK+8L8C/2H/I/8fP3J/ar9bf0Z/pr++v6D/wr/n/67/qf/ef96/0D/U//u/tn+Zf+K/2//8v/j/3n/M/+o/2H/5/7X/or+Yf7X/r/+Zf/J/mr+iP+Z/yAAfACPAL0A0wCDAIcARwDk/yYAMwAVAIoASgGAATEBMAFVAd0BggHsAK8AwgD6ADYBLQHGAEABIgHcAHwBcAF4AdABPgIyAtABaAFFAZcABQDk/08Auv/a/gb/kP9M/wf/LP/m/hz/Cf9M/0n/cf6J/pf+uP7P/Yr98/0q/s39Mf0H/WH8JfzL+4H7jvtq+8r6Yvu2+4T7OfzX+7z71/sN/Ff8R/xk/Nv8yf3A/RH9iP1H/in+Z/4g/gv+yf0//ub9Lf4C/mX+2f6m/nf+e//a/77/jP9MAIkAMf9j/7j/W//I/mL+E/+m/nz+bf8p/4r+Nf9s/xX/BP8x/gz/SP9u/nL+af5P/cz8E/6V/qH9nP0R/j3+3P5D/tz+qf5m/Vr+W/8S/or8//31/iL9hPwg/lT/6/0R/tf+af58/rX+9P7u/Tz+yf7M/hb+if4k/53+cv4j/1X/iv4F/6L/vv6D/jv/+f8G/wD/yP+g//n+L/+T/7L+0/0z/vP+6v6a/gT/dv+b/8z/IgBlAGIAbgD0/6b/l/+T/z3/+v4t/6b/OP9E/7//p/+o/3MAcQAJAIEAXAH0AOMAhACeAOoAfwBVAXQBDwIZAggC5AEYAv4CNQOxAooChgOxA/ICSANVA+QDfATjBBEFlARsBEEFmAXfBSMFsgTDBIoFRwXUBNcEtQSvBCUE3ANqBF8EwgMRBGIEdAOWA3MDKANSAlMC5QF7AcQAzAA4AbYA//8cAE0ADQBZAI8AXwBZAOMAEQG4AA4BpwEBAeoA3ADVAIsAyQAWAc8BrQE4AhMD4gK/AkcEkASeAywETQRlA/UCHAMRBKwDjANBBF0ETgTaBHgFUwVFBTgGewZHBh0GdQaqBm4GGwa1BncGLwaSBhYHvQblBkUHUgf+BrEG3QbuBjsGkgYRBrwFqAWIBbIFbwUvBawFRAWxBNIEEgWVBGMDdwNHBPADJQOHA48DjwPVAzME7AMpA+YCuQNGA0QC4QKWA7UC2wFsAUgBpQCCAN8A5QBdADwAYgCZAIUARQDo/2z+SP43/7X+a/70/X3+pf7O/Xr9zf1E/Uz9zf0P/Vj8wvxZ/F38KPwr/FH83vvl+3P84/sd+1/7d/uO+277bvvx+mb7aftP+0T7M/s2+576fvpN+hD7Cvsu+tH61ftz+wv7ZftD/Oz7qPsG/Zb9NP1B/Zv9p/2S/eL9yP0K/iv+2v4v/zL/ov+k/5b+ov5pAFEA/P4B/2j/EwCh/+n/3v9E/+b+Of8X/9f93P1Y/pf+If6t/f/9IP5E/qv+f/4U/t/9UP5X/gf+fv7D/av9+f3//RD+bP0d/Yr9TP37/IH97v0E/sX9U/2//Rb+4f3X/Y/+9f6N/hj+tf1L/jv+gP5S/g/+bP7D/sL+Ov4q/o3+Mf8b/6X+Uf74/pT/E/9s/gz+uv6C/uD9M/5t/rT94/31/Wv93vwK/R39vvxr/Kv8cPzd+9H7Ivwy/Gn8Ovwk/Nn7uvxt/Mb7Pvtl+7z72Pv0+1/8hfwl/Rz+vf6Z/kn+PP8PAH7/E/9f/+7/yf+sAIAAMABPAFsAQAF0ARABVQHvAGQAsADOAKcAwQDLAMwAzQASAeYA3wDcAK0AcACuAJYADwDD/wwAFwAu/yz/hf8u/z//DQD5/4L/b/9g/3j/jf+X//f+GP8B/2D/Df8R/nv+Yf6D/SH+wv5g/rH9T/6g/qz+gP4Y/5f/0v42/0//1f/o/+n/cQAhAXEBZwHlAdcBJAKVAn4CnwK7AyQDfAMGBBkEbANaA24DdwMhA6wC7QIcA4UC/AE4AnACQQKpAVMBbwEuAeMAcgC0AG4AWAA2APP/CwDQ/3P/lf+G/x8AGwDh/87/fgDm/5D/8/8cAKv/xP9cANMAnAB6AGgBFwGiADABuwG2AJEA0wDPAK4AOwDMADUBKQGfAUQC4QHxAYoCGAKhAYABawKKAcEBBQLwAV8BKwFJAfEAVwATAdsBKgGCALAAxQD1AGIABAAOAIf/J/8a/7v+tP7k/v3+X/6G/tr+wf6d/s/+Dv86/1f/U/8TAMT///9nAMIAKQCE/wAAjACQADYANAFZAXkBGwFBAdsBpgG3AQ8CoAGiAZMBwgHPAYoBjQEaAk4CUAJaAjsCRgImAsYBzAFiAnoCbQJVAkACBwMtA8ECcwN4A04DsQJtApgCZAL2AXsB5gECApABxwEqAtcBXwHUANsArQD/ALIAXgC5/3T/8//r/6r+6/5O/y3/5v7M/n7/YP/A/2H/r/9M/7v/GwA8/63+wf9CAOv/uv8YAD8AjgAkAYIB5wCGAH4B4AGZAf4BAAL/AQcCGQJYAlECuAHlAcoBWQBwAN4Asf+W/9f/RQCc/2H+A/8b/27/cP+g/5P//f49/+j/aP+w/i7/R/82//n+Vv+7/yMA5f9V/0f/BQCQAGf/9/5U/1v/AP83/97/vv/A/7YAPgACAJoAJQGpACYAhwDhALYARABkAC4AbQDD/wgAKwDZ/18Aq/+Q/yEAwf9a/4z/FQATANb+AP+7/lv+S/7k/tX+dv5u/tb+9v6b/ir+oP5M/vj9xP1s/ZT9aP3X/d79sfyA/dL9Af5P/uT+c/8z/x//uv9BAOf/JQCNAMYAYgA2AKAACQFIANn/wQBlAPb/CAB0ACEA6//jAEYB7v/D/7wA4QCr/8f/iADDAAcAkgDeAEsAcwA7ARoBUAAGATMBmQDe/xMBqwFAAU8BdQFDAYgAmQAwAVoBowEkAQ0BuAAvARQBbAGsAAMAGQD0/0P/y/8fAOT/pv9u/+L/bP9m/2v/PP/p/on+Dv8Y/yD/oP8g/8D+Jv8S/yb+E/60/mD+Nf44/pH+0f0H/ab9fP6q/U79E/0r/S39uf1i/oD9Hv1I/bX9qP2O/Xr9rf1s/hH+Rv61/pz+S/9E/xn/pP5L/kj+0f7s/rj+Df9Z/73+2P6+/hv/MP8e/vH9vf49/7P+Hf5l/g//lv4y/nf+cf6+/Wv9T/1q/ef8kP0+/i/+mv0t/Vr+kP41/i7+0/4R/7r+tf63/o//uP+b/6n/x/+4/xwAUwCzABUArv/o/8YAVACg/yYA5wAAAOD/FgBGAL7/6P91ALAA1AANAWQBHQFKAXcB3wGoAV8BTQEvAdMBbwHWAHUBdAIlAmMBnwH7AU8CogIjAxYDQgK1AmoDqgN3A4sCWwKpAvoCyAKyAssCoAFdAeAB/QH4AR4BGgEWAbIArQCmAHL/9v48//f+bP5x/mf+K/4M/hj+VP0E/bv9Gv40/Sn9G/4K/lL9nf10/T39If1//dH91fzl/FL9Of3J/H/9zf0n/af9lP6W/mL+lP7t/vT+tP7U/mz/oP+T/63/UAAjAG0AmQAFAEQANwBIAKj/vv/k/zIABgACAB4ABgCQALMACwF6ANUAKQFJAckAEAFpAUgBMwGiAAYB/gAWAYQBQwFAAdYALwH1AbIBwgEwAtYBpwE+AkQC1wExAqECrQIyAk0CUgI3Ai0CFQM9AzsCmwLGA04DDwLKAVUCxwEhAbsB6QGwAJcALAFnAcoAsgC6AMQAZwAzAAoAvv8fAEoACQAGAPL/V/9B/8D/4/8T/6f+Z/9c/6z+Ov63/gf/V/7m/RP+Pf45/dn8af1s/TT98PwX/dv8L/ww/OX7pPsW/J78vvxp/Oj80P0s/Zz8Ff2m/aX9jf2V/YD99fwT/Y39Mf0y/YP9e/1i/WD9TP2+/Sv+M/5V/jf+Uv4v/3D/fv+c/ykAsv9p/w8AVQC6/yUAMgALAPb/kQBFAd4AwgD/ACABxwC/ACQBeQE2ATwBcQEWAR0BzwHOAYgBtQFEAuMBigGgARkCbQEiAfUBLQJcAUsBawIuAoMBfwEmAjQCzAElAhECKgL4AZ0CIANfA/wCuAPMA8QDuwMfBIEEGQUDBeEESQQ8BLsEMgQiBJsEQQQHBBcEUASeAwIDkQP0A5wCXAJBA48DKgOgAqoDnQNsAjsC/wLKAjUC7gEWAnYBXgG9AZUBTwAlAKkAgQAeAF8ASQBnAG4AYwA0AKj/GgDjAH8ATAA3AZ0B/AD3ANMBsgFNAfUAQAEJAZIApAAHAcMAbwD9ABEBWQFtAPr/AwBAAFUA4v+F/9H/RwAVAGH/q//Y/97/lv+6/sT+zv5+/jn+Af4g/jr+Ov6i/pD+8f1q/mj+bf6O/ur+pP6Y/mD+ZP55/kr+RP4Q/lL+af7V/gD/mP7P/pP+A/5n/vP+G/8+/if+2P5T/0v+JP6Z/nr+//3S/b79df0q/ar9yf0M/Q39kP3K/ff8Wf3j/eX9L/41/nP+rv6X/tH+1v57/gb/a/9B/2v/AQAxANn/mv/c/wQAe/9s//T/EgBHAJ8AQwA6AA4B8gCzAPkAUwE3AVkBOgGAASgBmgGGATQBQgE4AUwBRgGkAU4BgwG2AbkB3AGAATEBjQHwAbgBSgLDAXkBLAImAlkBrAFRAtwBMgECAWEBrwEaAXwAewCEAAMAp/9R/xP/bP5s/rn+h/5T/mj+Xv5D/oj++P0W/jT+lP41/gD+/v3Q/Wv9XP12/ar9Yf1J/eT9kv1r/SX+C/5Y/Qn9kP2k/Wn9Sf2m/c/9Gv63/fD9wP0E/jf+v/6R/mv+Ff7K/uj+Cf+t/nn+ev65/lH+sf5S/3v/EP/0/qL/AwBaAFUAkADCAIYACgA7ABwBvQDUALsAaAAQAGUAVQB0AFkAYQB/AFIA5f9QAFQAFAAzAGsAYQBEAF4AUwBzAEIA+gDtADIAIADTAC8BCQHHAIIBkgGbAWICiQIwAoECMAKXAmkC0AIOA9MCTQJxAjgCyAGNAacCIgKOAfIBaQLLAYABSAI/AhMBFgHMAV4B1gBJAacBNwGVANcAtQEJAQkAHgDN/zD/S/+G/t/9SP5J/nv++P3D/eD9rv2g/dn9l/0D/fz8aP2b/Vn9Rv0+/VX9If12/br9af17/K783P3l/f78Lf00/t39Cv40/mL+Hf7O/jz/Ov9y/5r/k/9G/1f/sP+B/4v/w/9MABYAnf/o/7z/2f4s///+Y/52/l/+pP6r/kX+4/3F/aH9EP4P/sz9RP5O/h/+SP6q/pT+8/7b/vz+J//D/zf/iP/m/0v/Tv/b/xEAMQCO/+L/aACQAH8AvwC2AEQAhQDiANgAgwBqAJEATQDs/1kAVgAiACEA8f/N/zD/aADr/2//cACBAPn/MQBDAGQANQDGAFYB6AAeAA4AHgG5ADcA+wC1AOf/pP9SAPkAEABA/3//+P8lAOT/Sf9T/1f/Uv+r/nD+ef55/nX+hf62/sX+Pv5j/s3/2P/h/pz/jAD0/6n/FgD/ACsABQAiAcgA/P9mAN0AGQBkAPH/9f+5/1gAwgBOADgATQFAARwAKQAfAUYAWP/l/0sAhf/Z/uD/9//n/pb+tf6P/lH+mP7M/n7+QP6p/gz/wf7h/gn/7/7j/vP+OP/l/pz+wf4r/8f+Kv53/q/++v5w//f+v/5p/o3+3f5m/1j/cf8t/4v/3P/k/1AA4v8tAEMASgBmAI4AtgC6ACEBTwEJAX8BiAEtAngCpwI/AlACKgLPAfgBXAE9AQkBCwDd/zEA6v8eAFIAaAA6AOf/m//O/+7/3f7C/mT/w/+g/+T+I//H/6T/Mf+p/9j/3//i/4gAcADU/0oASgBZAIsAAQD0/9P/6f+t/2//lf+SACEAr/+TAMYAywCCAHwBQwGhANsAlgF+AQkBdAF7AeUA6gDTAQACyQHHAeoB3wEdAkICzQLAAnwCpgIPA9YCCQN7AlADXQO4ApMCVwMsA9MCtQJyAm0CBwIXArUBLQK7AXwBMgCU/yMAjQCAAHUAOwD4/zYAawA5ALj/qP9OAE8AKQD2/5YAMgC+ABgBjACFAK0ALgF8AYgA4gAZATMBJAF9AMoAMACpACUBpACtAKcA+ABOAaIAjQD+AKAAzf9QAHMA4P+k/1kA0v/H/3X/kv9g/x3/Xf+f///+wP7g/vf+gP5b/uv+qf5w/iv/G/+X/sH/s/8eAM3/uP8jAPD/of90AIYA3wBdAHsA7wAtAcAB7AHpAakBGwIqAs0B7AHgAqQCogIkAzMDjAKKAisDfgMHA8YCvgLIAuMC9QKsAnQCpQJ4AhAC4QGYARkCSgEuAfgAqwDUAM8AfgBQAIYApACkAMAAegDBALwBRQExAaYBfAFJAY8B0gEkAe8AOAEyAboA+/9pAGEAOgD8/0AACgC3//j/vf83/+H+Av/O/oj+wv6I/qf9QP2u/d/9Yf2n/Gb8tPyz/Lv8JP3R/MD8Lf0r/XL8UvzX/Mz8gvzL/Gj8U/yP/AX9M/3e/HX9Ev7p/Ur9v/1B/n39nP1V/sz9Xf2k/U3+fP69/db99P3l/cL9ef5I/q/94v28/rn+Fv6R/jr/zP4E/3D/PP82/5L/oQCvABEAnQDjAIgAyQDRAesBHQEyAQ4C5gFRAdEBaQK9AQkCrwKFAgICHgISAy4DiQKHAqACigKLAmICOAJlASkClgLgAasB0AFvAuIBNQFuAVsB8ABeAHQAUwDj/+b/iADa/yT/S/92/2j/of8A/1f/jP+P/6X/x/8kAN7/df+m/4P/vv8j/0f/0/4F/wP/Iv/z/oT+sv73/l/+9v3u/VT+2v6E/s39Bf5X/hf+T/4v/iT+T/6//Q/+Qf4u/rD9CP11/U39cP0h/dj81vy0/KD8Ff0c/aH8Of3b/fz90v1y/hD/Lf9f/5//GgA+ADYAawCSALMAwABeAUwBsgHTAekB0gH3ASICWgJmAb0BzQGrATQC6gGNAe4B/AGwARYCYgL4AU8BoQEFAkoBVAHUAEgB6gCOAHgAgQBDAFkAcACtAFoAKgCzABkB+AAhAZcBGgHuAFoBkAFWASUBEgG+Ac4AcADIAHEAdQCeAKoApwBFAD8A3gAfAHf/BQCM/3n/DgBbAEwADADgAEIB8QDPAHkBkwGCADQBagHZAC4AhwCoAK3/ef/y/4T/Tf/v/or/d/+O/s/+q/6B/oT+A/8x/wz/Wf+L/xr/N//n//T/wf8EALwAMQABAGsA8gDJAOb/UwCrAH0AMgCUAMkAkACUAN0AXwBsAAUBDQE/AMIAHwGRAPP/7gAcAZj/7P4EAFYA/P5p/w4As/+Q/sX+Z/8N/yn+T/40/jj+Df4i/uH9kv3V/Qz+Kv7y/TH+Kf4Y/pf+vf4B/jT9eP37/Wr91/yw/av9YP2k/YL9cP1+/Vr9KP2C/Wb9e/03/c/9Ov7//Z39tf0Q/mX+HP7i/vn+TP4z/h//9/8u/yj/DwD9/wL/YP/G/8L/kv+b//v/gP/C/ywA9f93/2r/cP9e/0P/7v+M/0X/5P+nAGcAp/88AGcA2P/f/0QAAAD3/4IASwGbAccAvwGkAfYARwGtAZYBWAG/ARECsQJKAjACkAJGAjgCxQL0AvwB2QFCAkcC1wEOAnICHAKfAZsC/AJGAt8BcgKVApAByAF+AmYCKQEGAVACwgEQAUMBDgE0AUcB+QFQAckAqwBNAbYAZgCzAD8ApP/h/xcAmP/L/uj+C/8a/rD95/32/Ur9Cv1N/ab9ZP18/IX8g/z2/GT9Dv01/V/9yv1E/sn9/v0d/iv+oP7g/v3++f4k/7H/1/9n/1H/kv+y/wAACwCUAKEAiAATAdgBnAHtALcARAGjAHYAtgDnAD4A9P8EAJMACQD3/x4AeAAsADIA6P9QAIAAWABqAIoAIgFwASEBsQFWAgYC7wFAAsUCxgKLAsICjgKvAjQCFAKeAkYCuAF6AnMCOQJmAt0CNgOyAksCkgIsA44C8wF/AigC2wH5AXkBBgHMANYA2QAKAAAA6P/2/4//jf/Z/1P/CP/y/ib/VP7Q/YX+N/7D/R3+DP8n/xb+tf4n/4D+ef4g/2P/6f4o/gn/SP/n/v7+Gf+W/g/+Ev9O//7+mP4L/wz/Sv+b//b/2P8x/9H/EQB0/xb/zv+f/wT/8P60/5T/Jv+c/wYAif+G/+H/CgCu/5H/sP9I/13/lf9T//L+hP8yABwAuP9EAH0AXgAzAGEBLAHhAPgAOQGqAEMASQAxAFgAGwBEAB0Auv8bADcAj/91/6v/Tf9B//f/AQBf//r+kv+8/+f+nv6O/ykAwP/E/14AgAAXALX/SABJABkA9P+n/wQAbP9B/2P/c/+B/yr/hv9E/xP/8/55/9P/7/9a/4D/BQDs/63/3P95/0f/C//A/jr+Bf7//dX9Cv7z/Ub+YP5C/tX9z/0R/iz+RP5B/v/9Kf5T/uH+Dv/u/l3/WgBJAM7/BQAIAYQBaQHpAfAB7gEOAq8C8QILA/YCZwPeAusCQANrAxEDcQKFAnoC/QLEAkkCWgJTAr8CbQJ2AbcB/gFEAuYBKgEKAZ8AxACPAO7/2/+D/0n/8f4f/2X/tv4I/vH9Mf60/nr+QP63/Xr9Sf7z/Xr9Bf1q/aX9Yv02/S/9C/1n/cn9+v0t/mD+W/5j/kb+vf7T/tz+CP8i//7+Hv/2/+r/kf84AI4AewAVAG4A+AAqARoB+ACoAQ8BJwESAYcARABLAEQAXABUAC0ALwASAOH/3P+X/67/KgADAKL/T//j/zIAeP9q/6X/6f9G/yb/Sv/j/24AWwB4AGwAcQD9AP8AQAEIAd4AEgH/AKoBTAJ7AlwCiAK9ApsCbQIeAxYEPARoAxID0gNVBN0DEAM2AxEDcAKyAhkDqAIDAkYCzAKcAi0CTgJuAoMCEgKWAc4BCwKTAY0BnAGpAa0BlwGUAW0BJAFjAY8BPQHSAPIAMwF8AXsBVQHOAAsBRQEsAdEATgCzAKgAXAAAALr/EwB2AN3/Mv+F/6f/5P+w/1//L////jj/N//V/n/+o/7m/oT+ef7t/t/+oP65/sz+sf6V/tH+Df+S/4f/Kv8y/4D/bP9K/8L+9f73/tX+rv4U/3n+TP6K/h3+F/73/eH9x/39/eT9CP7s/Sb+g/5L/kD+cv7l/qn+UP60/i3+sP3h/Vr+fP4Y/kL+1/7O/qv+A/9l/jP+BP8h/zP/R//E/p/+of60/rb+kf72/v3+BP8W/1L/pf+J/4H/AAD5/ykAXf9w/wEAQQAKAG3/qv8AAGMAfQB+APX/UQCoAFMA8/8s/47/5f9b/63+wP4u/3n/Wv9B/6L/3v9a/yf/E/9E/9L/wv/5/j//av/h/7//Vf/t/9//9f++/zoAWgB/AOUASQDg/y8AaABmAL7/sP/5/yoAIQC//0L/uf/e/9v/8v6W/v/+TP99/9v+if4y/u/+Fv+1/sT+pP5Z/qr++f6c/jf+0/7I/pj+1/6z/mn+sv5c/ywAqwDY/8n/YADgAK0BlwEmAWgBXQHgAbkBsAH1AfMBNQIFAhoC3wEqAk4CFAIeAnkBrwGOAsECmAKxAlwCZwLwAdIBEwIAApABCwHfAF0AxADBAFUAAACg//j/6f+0/3n/mv+q/4v/NP9T/+7/4v8+AEAAEAA5AKQAUQCJAK8AeQCmAJMAawDzAAAB7gDDAKMA4ADMAKIAIwFCAaMBkwFQAZsB4gGKAa8B6gFkAYkBuwHOAeAB6AGXAfwACwEdAR8BKAEPAXcAWQBqABkA8/9n/9f/1v9//zD/pf6w/lr/uf/z/uj+4f7+/jz/Q/9A/8f+4P7X/kP/Jv/R/oT+sf78/v/+YP8C/x//g/8yALb/If8D/2D/s/91/2L/NP8s/zn/Nf8H/7b+mv5Y/in/Rf/3/vD+x/7j/vv+wv4K//v+z/51/8D/O/89/8j/XwBVAG//iP+m/3j/6/4g/xH/y/77/sn+yP4t/7H+jf6f/qz+uf4h/lr+HP/+/r3+jv6E/m3+gv6C/s3+b/6S/mf/Rv8X/2v/p/+3/5H/Wv/B/x0Aq//a/9X/Rv8LAEYAGgBTAJ0AqwD3/zAA8gAGAYkAEAABAGgAZwA+ABMAFABhAC4AHACY/1v/aP+d/yMAyf8y/3H/7P/a/4D/QP83/+T/wf///ysARQBfAIEAvwCPAPEAHQHRAAsB3QAIAQkB+ACuANgAwwDxAOkAvQCnANIA9gCAAPYAPgEiAcMA+ADfAaIBXAEvARMBUAEEAToBCQGAAHcAJgBHAMf/vf+S/1X/Gv/H/oz/av/P/rT+AP8Q/5z+DP/a/hP/h/8+/+D+S/4u/kn+EP4c/mn+ZP5w/rj+1/7D/qj+w/5k/8L/d/+E/wj/5P80AOf/xP/W/7gAsQBkAN0AXwEkAQoBpgHkAYoB1gGKAe4BpgGiAWYBbAHUAaMBjQF4AZYBsQHoAQQCZAL2AaUBtwFAAjUCvAGWAXABgAF+ARIC4QE8AR8BgQGOAUQBOwGXAUwBMgGPAXEBAgKUAZYB+AFnAjECBwKOArQCRQK5AowCFgJ1AmwCawP0AtMBjAK6As0CxwIZAjcCqwLEAvoC8QJRA/AC1AIVA+ACBQO/Ah8DZwNvAvwB0wEBAiACeQEWAa8A3AAUAKP/Zv9z/2j/af/2/57/BP8Y/wz/Vf+K/jf+eP6h/or+Rf5a/vX+vf4O/p3+If8m/8r+X/7D/u3+m/4y/lX+a/7b/ev9pf6O/o79GP33/XH+Ev4x/kD+Wv7K/hH/XP4U/kP+aP63/hz/7f7B/mX++f6F/yP/6f70/x4A8P9bABAA3v/U/xYA9//U/8n/cP+s/wb/mv82ADr/Qv9o/0b/KP9q/9H/xP9U/0P/U/80/xP/dP8C/0T/dv8v//b+N//X/jr/ov9k/4P/Yf/b/6X/XP/t/hn/Ef8o/+H+/f5A/3P/Zf+V/9X/QAAoAPj/AgBfADwA8/9OADAAd/+M/3H/7P/L/2n/Mf94/6z/w/+i/83/DgCYAAUA0v/u/9j/8/9DABIAyf+Y/9P/zf9s/8X/CwAUAC4AaQD3AI4ANQCuAM8AlgBEAIQAnAA/AMD/if9+/4n/3f+k/3z/Vf+I/2wA1P8V/zD/zv8WACIANP/z/sT/NwD5/3r/Sv8UAHAAJwATADUA7/92AHAAjgAmAHb/5v9KAN//+/+R/zL/9f77/v7+Q/8S/xz/nv/x/7P/xP8s/0n/pf8N/8/+q/67/u/+Yf9Q/yP/CP8y/5j/VP+A/+3/z/+L/7n/j/8T/zD/kP97/0n/HP9n/8n/vf+0/x8AaADy/9L/WwDHABcAwv8VAAEAq//e/y0AT/+F/zMATACEAFUALwCSAH4AuwAfAdIAzQAjAREBKAE6AQQB3wABAWEBMwHDAJoAZAFLAc8A2wBqAW4BmgDKABAB1ACMALUAnQBMAF4ANAFAAdUAFQFMAUQBagF9AWABZAFnAYkBIAG+AHIByAEyAVABNQE0ARABcAF6AckALgB7ACoB3gAQAOv/EABFABkAAAA9/yv/c/90/1b/yf7P/tb+hP7b/oT+Kv4j/sP+Lf90/v/9qf05/kX+3/2D/az9I/5u/lH+8f3h/V3+uv57/pH+XP5c/sP+Gf9w/8j+nP4g/8b+2f5a/8v/6f+X/yMAMwBXAIoA8wBLAQABKgEwAS0BEAEJAVkBRwEwAU0BUwH8AFsAZgCKABUArv8u/1b/GgA3ANf/N//q/ln/KP8a/5X/5v/D//3/KwByAAUA/P8SALIAywBpAJwAvQCDAJIAswC9AF4AZgCXAIEArQCMALgAlAC+AE8B/wAEAQUBOQG6AW8BBQEbAfwAWAE6AUkBYQF6ASQB5gAaAZYALgD///j/gP8N/yb/ef9p/5H/0P/m/yYAswCpAG4AawAZAVgB8QBMABUAsgD9AK0A9/+W/wAAJQC3/yL/JP/I/8r/ef88/4b/xf8AAEUAewBWAOD/8/+w/3X/4/41/13/I//+/oD/vP92/8X+fv42/3P/yv5h/qf+5P6j/rf+kv4c/rD9Lv6B/iL+bP1J/QT+0v3b/Y3+/P2B/ZD9gf5v/uL9C/7n/QT+ev4R/2j/UP9u/xAAqACjAAkABADBAPMArwDCAMAA4wCyAHgAmgCSAF4AkwCVAKsAPQBbAIgAjQC+ALcAygA8ACgAFQBAAIcAHwAbAF8AuQAQAREB5QAXAbYAugBwASQBdQCxACIB2wHxAUgBmQHrARICFAJJArABEQHOASgChgFGAZcBYAI+ArMBlgHPARgBMAFfAQgBpQADAeAA2ABvAKgAcQEaAecAAgGTATcBYAHJAWQBowGXAeQBvQHaAX0C/wHyAeQBJwKiASwBUwFBAaoAUwDo/y8AtP/D/77/yf+b/3//ev+7/6f/mv8k/+v+9v7x/s3++/63/5v/KP/q/jP/Pv+A/gL+av6D/hr+uP3W/S7+Av4r/oH+uf0r/YP9G/5r/uL9jf22/fH9C/41/rv9bP7y/l//lf9NANIAUgCfAJcBbwHkAP8AJwFeAUABFwH1AC0BgAF9AcMBFAFgAVcBVgC+ANMBbAEXAIoA2wB/AOz/xf9F/6b+TP5X/gz+iP1j/Yr97v1i/Vf9OP1k/Qb+KP78/dr9Mv7Z/g3/Cv8S/0T/Dv84/6//m/8X/4j/wf92/+r+7/5f/2f/FP+//t3+j/8t/1P/Uf/V/wEAJf8w/4P//v5a/on+4v76/Xv+6P4u/yP/sP5L/43/vf5+/73/k/9u/4H/e/9J/+/+wv5e//P/QP8k//3/CQADAPb/dP+7/2f/WP/P/7j/sP+y//v+8v6I/0L/Zf7i/k//kP5Y/qz+af5+/jv/1P/l/0P/Kv9CAMz/Y/+Y/3L/P//N/5gAbwC7/9z/JAAMAKr/If+s/sj+Sv+h/87+bf7R/sz+Of9c/yQA4v+V/wIAawAJAS0A3P/T/7P/NQBVALb/6f+KAE0B3gGRAS8BQQGRAcwB2AE/AZcB8AEZAgwCoAHKAZ4BiQFpAW0BKwG+ALoARQEuAX0AzgDCACwBbAFnAW4BWAFjAUkBUwEoASACpwFmAYkBfgIMArcBVgLjArMC5wJxA60DSwPnAikDFAOHAXwBBALFAbIBIAJFAoECOwJpAkUCJAI+AiwCGgIOAlkCBgL4ASYCkwIdAr8BEALmAY8BqgF1Au8BXwHFAfsBzAHmAfYBTAJCAjYCUgIbApwBlAGoAU4BUQHlAEgAMABgAN//3P4n/wEAmP9T/qr+LP/w/ub+yv6k/1D//v4gAEAAt/9Z/+z/CAB+//3+If8Q//r+6v4B/0/+1v3D/Xf9Gf0D/fT8HP13/KH8L/23/Jr8Qv0r/ab8Fv26/cf9Tf3H/Rj/Nv/n/pv/UgBxABYAPQBwANwApwESAuQBtQGTAm4CQQJ6AhAClQFmAYQBlwEJATICZAKSAgwCRQKgAu8BdwHOAVQBcQC3AE4AFQDm/8v/qv+o/3b/xv+w/27/AQCk/0H/mv/A/5X/rf+1/xcAIQDk/zoAHABCAJIA3gBBAFkA8/+8/xwA2v+e/4L/y//j/xr/A//L/qj+h/49/oL+Kv4p/oX+d/62/Xz+/f7Q/rr+Ff8V/9T+Af/m/ov+Yf4b/rb+oP7a/a7+dP5O/kz+0v16/oT+1v4R/33+5P2w/ev9dv5A/uf9Kf5n/vb+D/9Y/3z+jv4t/yH/lP6m/u3+B/8k/5f/gv8i/wz/lv+z/5L+0f4e/yj/Kv+R/+j/T/8A/8H/6v99/0j/ff9r/0b/hP+M/2H/+f5x/+X/kf9K/2T/dv9f/6H/QQBv/6f+G/+m/1T/7v5m/sj+C/8q/yMASADt/7r/HAAaAN3/xP8PAAkAJACq/yX/Q/9d/kP+nv6V/gT+lP3g/en+Bf+b/uP+gP/w/zIAUACKAHQAgwDSAPAAxQC6AF4BfAFlAWQBSwHPAAMBnABBAeoB2AEAAv0BjwHvAREChgEVAfQAZgEmASYBqgCAAEoAwf+K/8L/Gf+s/jj/e//f/n3+lv4Y/yP/Vv+A/6b/8P+3/wAAewCIALIAMQHlAY0CoAJpAggDFwSAA0AD/wP4A4sDVgOSA0oDawJRAloCNQJ2Ak4CJwJhAQoBqAEUAR4AbQDKAPj/EP9d/9H/fP+J/xMALQAj//3+ov+V/9T+of5U/3b/+P58/zz/Ff/S/hP/1/59/oj+a/4x/sr+Sv9F/23+Gv8qAAEAxv/r//L/qf+M/xcAAwAKAFQA6wC0ADcA4ADRAOsAZwF5AQcB8wDEAD4B3QClAA4BkwBZAKgAKQHWAIQAZgBwADYA+//w/9z/G/+2/uP+bv4u/jf+Y/54/hD+2P1F/oT+K/49/qL+y/7n/jX/L/9Q//b/w//T/+v/7P8zAAIAJgDhANcARACFALAA8gBKAFYAIgBWAJ4A6QDBAOkAWQHOACUBlwEUAYIAfQDbAJkA6//B/4EAPgCk/ygABABU/4H/4f9m/3X/wP+c/0T/+f7o/iz/uP6T/uj+yv50/pD+sf5w/qb+2P6y/q/+Bf9W/3f+Iv4Z/j/+OP72/SL+wP5S/w7/iP8r/0v/bP+q/yv/5v5V/zv/qv+x/67/ff8GABAAdgBpAFkAWQDn/0MAdgAvABwAt/86AIMABwCT//3/yf+p/y4AcwCHABIAdQDGAIIAFwDr/0sA7//I/7kAwQA5AJAA2wDiADYBOwHuAOMA7QA7AVUBqADIABoBAgHTANAAdQA0AGkAcgAfALf/4P8ZADIALACr/3z/QQCGAEQAQwCrABIBPQHLAMEANgHKAOIAZwGXAUIBOgFYAfMBugHCAewB6gETAjACawJWAgUCEwJ5AuUCMgKgATcCCgJrAeEBPAG7AXsBpgDZADMBNwHpALsAHQG3AeUBVgFdAQoC/QFtAmUCDwIYAssCwwK7AnACoQJ7AsICxALQAu4BDAIhAmIBDgFhARwBEgCv/70AVwDs/mj++/4K//X92P1K/n79aP1f/Qf9qvxk/Cn9ev1B/Qb9Tf1Y/ff8gf1O/Y38Rv3H/a/9Bv0z/Tj+sf1l/ez9dP7O/Y/9Vf6r/v39E/7g/kX/df7//qX/Av+K/vD+Z/+F/9L/CgCf/9H/LgAUAHb/2P/fAF8BoQCWAGcBugEiAVcBcQGqARoBEAFSAR4B4ACtAHAAVAC8AJUAcABqAFsAEgDU/4v/mf8//zD/wf8z/4D+/P5N//r+1f6g/sT+/v71/u3+dv9z/07/fP+I/zL/OP+w/6H/zv+H/2f/HP+H/4n/WP+q/iH/ef9G/13/qP/5/0H/If/f/zL//P7Q/t3+3P5u/lv+H/7d/S7+Nf5S/rX91/1d/vP9fP1V/ZH9Lf7O/SP+Qv5e/sD+dv7K/Q/+SP5e/gD+cv17/Sn+/v0I/u/9YP7H/gL/W/9f/+j/4v9fAOH/zP9OALIAWQDK/ywAhwAXAGoA0gBUAMn/EQAlANf/cf8n/w7/v//G/wX/4v66/93/gAAXAOP/6v8UAJkA/wAXATkAQQDJACwBlQAQAPP/UgALAL7/x/85APMAwAD4AC4BRQGHAY0BygHjAcYBuQFbArECowJFAsgBCQI+ApUBBwFVAWMBXAEgAfwA/ACyAG0AfAA+ATkBqQD0AGgBOQFoAUIBFwH1ACYBLQEzAVsB8QBPAN0AlgEYAd8AcgGoAacBtAE5Aj8CUAENAbwB4gEdAaoB9wHLAUUBkwGXAQIC1wEUAcwBgwGCARMBdwCTAJwAnwA3AGQA/QC9ANYAKwGMAT0BQAEVAkgCrAEbAuACzwJFAjsCwgIVArEBQAIxAkgBiAHcAcsBVAE5AaABPQEZAXUB9AB7AKYA7ACCAEcAfwDh/6P/Zv/J/8n/P/9n/8X/Zv/l/n3/Jf8J/+7+r//q/6v+Yf43/yr/vv1Z/kX+3/22/S/+LP5v/XP9+P3f/U/9rv1D/mv9Nf0R/g/+Qf0//d79nP1x/cD+TP+J/tL+qv91/zf/aP87AO//bP8yAM4A8ACaAbUB0QHAAewBCQJ3AREBiAGrAdoAhwDsAN4AIwE0ARsBhQAlAMMATQCb/53/of/I/zT/I/9p/7D/Ov8a/xH/t/7H/p/+fP6t/s7+Kv8y/+z+rv9C/y3/6P9lANv/nf+lAKkAaAAnAKQAewB5AMAAMAHHAFcAfQDgAMEAOACWAGsATACeAMoAdAAUADMArP9I/+f+j//D/on+3/7n/kX+/f2I/sH90P0p/lf+LP59/Wn96/2L/ZP9T/3w/Dz9Q/0+/av8z/xb/dn8nvyU/Rr+kP2o/Rj+TP5f/lr+gP5y/n7+nP6j/qb+3P72/rD/AABq/w//Jv8nAEkABgB+/x8APwB5ANMAEwG3AF8BSAF6AfABowHUACQBzQGEATcBvgGtAW4BmAGvAW4B4ADZACYBeQHmALkAXABFAEoBmwFYAckA7wFVAuoB8AEsAuEBlwERAgUCaQE5AW8BfAGIAYwAaACUAF8AAAC0/7T/IgASAF7/LwAhAP3/CAA8AIQA8QDeAD0BxgCwAHcA0gCJAOH/8P+kANUAhgAaADwA9/9CAEcAXwBGANP/FwA5AGoACAAlABsAowCbAEkA7f+o/ykAjQDg/4z/pf/c/+r/U/9g/zb/Yf9H/6b/pv/7/xAA8v+4/+X/yv/b/6z/Zf9//23/iv/X/y3/rv/p/7z/Pf81/2n/3/6z/jf/Iv+O/j//lv+m/qj+EP9K/5P+Sv4i/9j/IP8h//P/OADz/4oAYQAQAP//PABNAKL/k/+y/+n/Pf93/gT/U//7/hr/dP+5//z/hAC+ABkAKgDDAIQAgP9R/6v/J/+4/if/Lv90/kv+Gf8n/4j+C/8T/+r+d/9jAEUA2P8rAO8A3ACz/77/AgBLALT/2P8OAEr/hf///+r/nf80ANQAbADq/1kAGQDI/xcAUwBuACMAeADTAK8AlQD9AAsB2QAiAQ4BGwE9AWMBgQB7AEoAwwCbAFsAQwAnACsAeQBWAJT/eP/6/wAAt/9n/93/qv8kAFwAhQB7AEQAHQEtAXYAjQCfAJcAUQAUAFQAMgCB/5D/af9t/5//KQAxADEABwCpAAkBIAC2/xQAAgADALL/xv95/0z/Qv9R/1j+J/6h/v7+BP+Y/lT+I/7S/S3+pf4N/kf+2v7D/ir/OQCzACMAV//T/6IAQABdAA4ADwBIAJkANwGJAKUAugHdAVYBTQGIAXQCmgJhAiICvgGTAXMB+wHJAXMBbQHVAF4AggBzAB8Aev96/wYAyv/1/jL/wv70/bX9/P1W/tv9+P33/RT+rv6Z/rv+p/4b//H/4f+a/zMAdAANATMBewBcANUAgwFHAfwADAGnAdcBgAF+AekBRgIdAlYCIwLOAf0BCAI7AjgC6gHiAR0CzAGyAZEBnQHNAVsBCQFSAeUBjwFiAZMBdwGvABYB1ABRAC4ALADLAAsAov+XAN8ABAEFAVoBfAF+AR0CaAKWAZkBSQKaAhECTQJkAtwB+gFZAtACdAKEAh4DCQOIAlsCIwMeA8cCUAKiAqICbAJ5AkQCGAGpAO8AvQBmAPz/yf/u/xL/wP5J/tf9sP3v/TT+Jf3z/Lr9nP1J/RT9Qf1K/Vz9u/2m/bn8Y/yZ/cH9RP0s/T3+Ff6E/cr9Lv6r/XH9EP4l/p/9g/3r/Wf++v0O/sn+2P6r/mr/FAA6/0L/Mf8s/6P/NP8u/xv/nf/G/+f/ef8G/5z/kP/Q/+v/s/8IAPAA4gDsAK0AlABeAVIBLAF/AZAB1AG5AYgBLwEFAWEBSQECAY4AgABJADcA/P/M/+7/nv/9/54AsgDMAFEAbwDyAJcA3wDWALAArgD+/6L/9v/+/8D///6B/1z/5/66/nb+xP57/iT+Ev6G/p3+Vf5L/k/+Df5N/oP+7v74/gb/1f6y/vb+AP8u/xn/+/7H/kb/qv8Y/6n+sv4Q/wD/vv65/i7/NP8L/wH/l/8I/8f+iP7O/gr/2v5o/mf+TP77/cv9e/0//RL9Zf1x/fj8svxi/br9Ev0l/aH9+v3//aT9i/2u/c795P2G/ZX9bf4C/4j+Dv7q/QP+dP6V/iT+IP6K/iT/RP/t/g7/T/+t/8z/FAB7ADAArP/n/zMAyf8nAIoATgBlAK4AtwBBAM3/wv+R/4//n/+E/4X/e/9XAH8AiQBDAJ4ArABtAQEC8gFjAsICqAJvAlECqAKJAhYCKAJFAu4BeQG8AVsBBQEPAUgBIAHPABYB9QAsASYBQgB1ANwAJQFXAQ4BLQFCAbcAfADlABgBsQCJAOkAwgAyAHkAkwDfAPEAogBjAH8AcQAPAdEAgQCwAPoA4QDrAAcBzwByAOUAUQEYASMBWAHNAa4BPwEHArwCWwIKAmAC8wKyAtwCKgMGAzcDigOVA9YDSAOnA48DGgNQAgECYgLuAYMB3gFpAWkA1v9AAKv/1v5q/ysAv//4/kr/lv+w/o/+tf4i/vj9Kv4i/6j+d/6A/jD+2/1o/k3/Cv+l/kv/DADQ/w8AJgBWAEoAPgDeAK4AdQDNAC0B8QBrANoA4gBkAAsAgQBbAOn/5f8aANb/3/5N/0X/Af/A/hr/Vv+6/kf/hf8Y/+7+mP4z/3r/sP8SAIL/r/9nAAYARv/a/hP/Hv9e/l/+zP5A/vD9rv73/lr+bv4n/87+j/47/3z/7P4X/xMAIgCK//f/fgDC///+PwCdALf/O/+EAPYAWABdAB4BTQExAZcBqgG/AHQA6QEfApEAZADKAToCKQEAAWMBLQHAAI4BHwEYAIj/eAB6AKL/WP8OAH//Jv+Z/+P/BP92/iT/zP+t/kn+qP5q/kH+E/7z/kH+nP2h/RH+d/1K/er9If4j/XL93f2S/bb8NP3O/YH9t/wz/RL+Lf4a/kX+mf4m/gj/Sv///kT+Kf9f/wn/Iv89/5L/uf/p/3MAmv90/8YAogABABgAswCuAOMA2QApAZoACQCzAGcB/QBUAB4AWQCXAGkAVgC/AGkApQBmAaYBjQDDAN8AMgHjAJ0AEwGs/4//7AAtAVEA6v+UAOkAeQC7AFQBBgHDAAsBvQGiAfABgQF9ATgCXQIpArQBNgKHAgEC+AF2AjQCrwEQAoECPgI7AtwCCwMhA+cC0wJkAyUD0wKhAqkCRwJmAqICjwKkAjoCXQJGAqQBsgGvAWUByQDZAEkALgCKACsAlv++/xYArf8y/1z/ZP/Q/gz/Zv+x/hX+0/6u/2v/Kv/c/tP/Nf9i//L/IgDs/2QACgExAZwA4AAZAbUAZwDkAEsBeQAgAL4BpgDZ/5IA2QD9/5//QgDh/3n++f4gAEj/1f31/gb/xP1c/V/+h/6n/WX9lf60/iX+a/5U/8z+lP4M/y//uf75/ur/ov+T/g3/BQAP/1L+6P/PAB7/zv6gAHAAVP5p/rD/JP93/pH+F/9y/k/+5v77/n/+/P5T/+T+s/5S/5T/2v7s/vH/5v9Y/87/fgBZAJIAiACHASIBLQC/ADsBwwD1AH8ASQBqAMQAegAAAHkAtgApALj/8f8QAJL/T/+d/xf/6P6h/4j/Hf90/+r/4f8q/xX/3P+W/77+lf/B/4D/kv+6/6f/tv/c/5MAXQAkANYAjAHIAI8AdwEDARAAdwCeAdoAkf9PAPkA1/8J/xYAPgA7/xH/+v8cAAz/2/99AJ7/Ov94////7f5J/1cA+v93/5P/p/9X/xL/Bf8Z/o79C/7H/h7+MP1O/oD/Qf5j/ZD+if7F/X799v2G/Qn9af3j/aD9qf26/hX/Cv64/Yj+0v4U/83+rf4f/vb+ZP/5/jz+C/+P/3r/X/8QACUAyP9gAMgA7gBSALcACAGVAYABdwFMAVYBiAH6Aa4BGgHzALIAZQEHAmIBewCqAIMBlwFKAbkAxACEAfcBtAFRAkcChgKYAu4CQAMBA9ECfAOxAx8D4QIXA+0CuAKqAqACcwIyAsgBOgIGAooBTwFYAZkBkQGHAT8BGAEIAZYACADU/wMAnf8n/6H+1f6o/iz+Uv4A/7L+nf68/n/+jP6M/nD/d//z/m7+JP+z/5b/cv9o/wEAPADi/y4AYwDE/0EARgAgAAwAFwAaAA8AbABUAMT/4v9CAD0AkgCzAE0B3QDtACgBggGwAU0BcQFkASABwgFiASUBBQGlAXkBbAHpAHcAmwCMAD8Anv9m/8f/4P9EAK//kP+i/8f/DwDL/+r/3//i/40AYwB9AG0AwAAAATcBOwEOAcAAhABEAJIAPQH6AA4BQAGlAO4ASAE5AQYB8QBtAZMBVAHaANUA/ACnAGcAKwBT/4T/xv8P/53+9P50/73/Rf9J/0n/bP9t/1f/3P75/r/+8f6M/lP+ef5R/gb+5P1i/mf+G/7k/Wv+JP5k/qH+gP5c/h3+CP79/Tv+9v4X/7H+4/43/2v/G/9O/0z/FP/+/ib/Uv+v/iL/SP9Y/6P//P/t/wUAvgDVAJsAXwBUAHgAUAB4ALcAiQDm/x0A5AB+ANQADQEhAY4ABQBjAOf/dP+V/y4A5//1/wAABAD5/2MAfwDp//H/7gDOANf/0f9KAAsAQv8V/0P/v/7y/g3/Mf6A/bb9E/4D/vf87/yk/ML8LfyW+8T72vvh+zD74/uj/FL8JvxY/P/8dv2s/R39/PyV/QT+Pv4l/r79Of4N/o7+Av8r/qL+dv/L/6v/oP9MAMcAiwC+AFwBOwHiACgBZgHJAcABjAEeAcAALQGWASABwwDiAP4AZgFsARgBvf/k/3sA4AAAALP/YgGgARYB2AE6Aq8BzAH1AiIDWQL6Ac8CkwIJAu4BLwItAq4BpQH3AZ8BmAEGAhICbQKHAk4C0AEbArgCRANQA6ICJQL1Aq4CewI4AsQB6AEgAkACMgGgAToCkAFXAQAChwKVAVoBrwEdAmcBAQF1Aa0BFgGwAekB1gAvAG4AYgDM/2f/S/+a//3+Dv9u/z3/h/6R/pz+9P12/ov++f1c/T7+6f5L/jX+mv6M/1f+w/5m/+/+ZP4//zEAff8O/47/NgCf/63/2P9f/zn/bP8v/07+bv4m/+L+2P7T/gj/CP/o/r7/OQBc/7X/aABRAK7/2v9CAYEA1v/oAFgBKAEDAFQAFQHHAIQADgHZAFUA1wBCARgBzAC9AUEB2AAEAeMAgACGAJABdAFrAHEAEQHpALEASABtAO//8P/LAFYBgQBgAFABmQFJAU0BqgGKAU0BsAHXAUgB2QDvABcBzgDsAFMBJgH7AMgAQAAaADMACwAGAPv/U/9M/3b/tP5P/hv+Mv70/b38i/y2/Pb8uvxY/Gv8e/xu/Jv8wPzy/CT9lf0u/nT+ev7d/o7/mf8W/5z/8f8AAIn/Wf9YALcAbAC2AHYAUADOAAkBWgFCAZwBNgF6Ad4BxQEoARsBoAHUAcgBsAGQAb8BFgExAU0BxQCUAFQAGQDt/xv/tP8F/1H/Mv/X/or/Ev+i/gj/5v5M/8T+Kv7S/WT+bP4R/u39gf4Z/8z+cf7d/l//nP41/3L/+/7h/v7+/f61/hr+3v2v/pL+aP0b/nz+PP6L/tL+C/5Y/n7+zP5E/8b+3P71/tH+rP7T/g7+9P3t/ez9LP66/T39oP2O/ev9Df59/fX9PP45/gf/f/45/oT+Bv8u/1T/Rv+h/xEA8/9IAGoAWQAgAE4AlwCuAH0AIwEUAVYBDQHDAKYA/wBeATIBRQGMARwB4gALAbkBdAGTAHoA9wBeAeQA6QD6ANQAXAGBAW0BGAHxAJIBtQEVAicCCALWAWYCxgKqAqcCgAKsAtsCCQM0A8gCAwIdAjoCtQFpASsCJALFAUABggEzAbsArwBjARIB9wDqADgBXgHBAIsAuwCF/5L/AABU/93+Fv86/27+Y/7o/hb/uf4i/rX+2v7E/hv/VP9+/vr9h/7d/mz+CP7D/gz/Mv4G/4z/R/+G/5P/nf8y/3n/vv+1/yP/uv/eAGkAwf8YAHQATwAUAHEA9QC2AEcAqgCAAEoAjQCHAPT/OgC0AMEARQAGAHsAuwBgAEIAMwBbADMAdwDXANQAuABsAagBBQKAAXMB2gHjAQACFQKPAegBtgGGAbUBawHaASoCtQH/AVUCPwLpATECcALgAagBfAGSAagBZAEfAfMAHAF6AcwAlQBmAPr/kP9Q/8j+sv6r/ej9H/4a/uT9C/5f/WH9c/13/bv9w/1V/pD+2f51/z7/OP9Q/1D/2/7L/g//6/4V/wj/Cf8v/1//RP/P/0wANAAUAEoAtAD6AJUAeAAAAWkAYgB8AKEAcgALAAUAa/98/zMANQDS/1T/Jv81/wT/lf6l/rH9ef2d/cz9Sv0S/Y79W/2N/Vn9Nf1z/XT9af1B/I38o/3B/Lr8QP1A/lT+Fv4L/iL+mP48/0T/r/5L/uj/cQB3/8P+nf/V/zkAdQCKAI4A3gCgAeIB7gEbAkkC2QE+AmYCWgIsAuYB1gHYAKsA4gBCAU4BuwBVAa4BHQHOALQAigBjAF4AFAB9//H/+QAQAZAAVQDqADwBgwCNABsBxwDXAJoAagBXAFoA6v++ABABvQAXAdMAOAG3AUABJQEkAXYBCgHyAO8AHAEoAfkALQFRAZcBlAHOAcwBfwHiAfYBiQFpAasBqQGsAVwBUQG8AW0B1QFzAVYB2wAeAfUAQQETAVAAdACrAAcANwCD/wD/K//v/hj/mv5o/vL+rf6V/rX+fv7l/sn+K/9f/+b/GQC0/7f/6f8iAOb/4v5y/zr/bP93/27/Cf/r/ob/2v5e/rn9Kf4q/rz9+/1s/S79UP1x/rL9l/1p/l3+7P28/X7+if5p/Rf+9P5e/yn+IP+3/17/j/+//yoAs//O/l//S/83/4L+HP6c/tz+AP++/yz/ef/6/73/Tv93/6r/Yf8v/wz/qf+H/9n+b/8PAMz/Yv8MADUARwAJAMf/RgDGABwBMwGVAIoAIgGKAXEBZAHjAVQBBQFgAWIBiQEiASEBqgCXAEYAiQDE/1P/bP/9/n7+fv7B/kz+5v20/W/9Nf2+/YT9Xf1z/fz9k/39/CD9ff2L/df8iP2p/ev92P1l/mD+uv4a/2//Cf80/zQAcgDW/2QAeAGgAdcAYgHnAZIBtgCkAV8CSQGDAG8BywG+ATABVwH7AKcAlgFxAS4AK//O/04ATv+T/mL/qP/Q/ov+4f71/jj+FP42/k7+ZP24/W/9Uf3C/Sv+uv1A/Zf9Fv71/cf9OP5//m/+/P4W//D+Of/z/10Ayv/U/r//rABlAKAAAQAfAEAAagFpAasA4v+TAEQB6AAQAGQAwQDAAOYAHQHpACoACgEfATYAPQBrAFEAtP/k/58AXQB5/8H/rQDMADkAaQCXAHIAuAA4AfcAcADeAPgBHQKtAekBzgHjAX0CrAJmAsQBVQLlAm4CKgJZAk8CmQHJASoCogG5AL8AkwF0ASsBuQAhAFoAfwCrAKEAXgBLAF8AVQDjAHIAXQDRAIEBBQEaAfoAAAFEAQEBugBQAWEByQCcAKgAyABpAPr/TwDKAA4BngDVALAA8QCoAIoAmQBpAEsAhABiAHoADQCo/xkA///E/8L/zgBpAKf/r/+5AOwAggA6ADIBUQGDAD4AmwBCALv/+v+h/+v+Wv4p/5D+tP7N/qz+If4l/jf+zv0b/aX9UP7A/cb9hP7Z/j3+Kv+9/8j/tf9BADgBOgHqAKwBPwIEAkMCDQPrApcC9wJFA7YCIQPwAs4CugKdAscCPAJlAcEBrAFYAV8BNAEFAV4AUwAlAVIAb//F/6b/V/9x/+3+Cf9+/5P/Of9Y/7//7v8rAIEAigAaAAQAPwC9AMAAkgAVAYcBiQFnAXEBpQEbARYBHgEdARkB8gC0AMgAiwCKAFsAHACV/8r/JgCc/8P+bf/M/yz/Xf8N/8r+8P5p/+f+Xv4n/kX/Qv+y/l7+b/7B/uz+Kf/D/8v+1P2v/iP/3v7R/q7+rv6H/iz+JP6D/ZX9Iv5h/gn+qP04/Tn9h/x5/QD+9/xz/F39uP0a/Yb98/13/S/9pv1A/ib+fP6i/qX9A/6c/m3+zv2f/Xf+xv5j/iD+U/6X/lT+8v6d/lH+Dv/2/mT+bf45/+7/vP/K/vz+HgB0AGT/Jv/2/10AzP9R/yr/v/4X/9D/cP/l/ob//f/0/wcASgAbAA8AYwAbAbUADwCqAA8BAAEUAaIAdACNALUAiAGoAfYA1AAFAUYBGwEXAQIBDAEPAUkBnwGpAX0BwAFLAsQCowK2AdUB2QEXAgACuwEBAs4BNgJdArcB6gEGAusBzgGQAZkBFwExAQ4BHwGDAFwAvgD6AHQASgBjAKMAbQDnAN0AqADYAHkB8QFfAbABtgHGASEC8gEgAuoBBwImAocBtwGJAnkCvQG1ASkC1AFaARABUAG+AMMAsgCOAFIA8P/V/2T/CP90/yD/l/5k/nL+3P7m/oP+ff78/tH+HP/u/sX+6P6E//f/sv+g/7H/mf9T/77/uv9R/yv/Nv9J/8H+J/6+/qj+q/4w//b+9v69/nT+Rf9H/+7+Gv+w/yYA4f+0/z8A9gBAAcIAsAAOAd8ATAF8AXQBlAHHAZIBmwKLAtQBEQI5An4C3wGCAdkBwQEhASsB6ADWAHYAVgA6ACoA2v88/7j+F//R/tz+wv44/2H/ZP4z//r/Kv/M/ub+z/8XAPj/hQA6AIAA/AAIAXsAIQCPAGEAiAAWACkAqv/s/jz/cP8J/z3+gP4j/q/9fv3S/e39S/3X/Cv9k/3b/J78Z/zf/NT83vt//P/8kPw=\" type=\"audio/wav\" />\n",
              "                    Your browser does not support the audio element.\n",
              "                </audio>\n",
              "              "
            ],
            "text/plain": [
              "<IPython.lib.display.Audio object>"
            ]
          },
          "metadata": {},
          "execution_count": 27
        }
      ]
    },
    {
      "cell_type": "markdown",
      "metadata": {
        "id": "gY8m3vARHYTa"
      },
      "source": [
        "It seems like the data is now correctly loaded and resampled. "
      ]
    },
    {
      "cell_type": "markdown",
      "metadata": {
        "id": "1MaL9J2dNVtG"
      },
      "source": [
        "It can be heard, that the speakers change along with their speaking rate, accent, and background environment, etc. Overall, the recordings sound acceptably clear though, which is to be expected from a crowd-sourced read speech corpus.\n",
        "\n",
        "Let's do a final check that the data is correctly prepared, by printing the shape of the speech input, its transcription, and the corresponding sampling rate.\n",
        "\n",
        "**Note**: *You can click the following cell a couple of times to verify multiple samples.*"
      ]
    },
    {
      "cell_type": "code",
      "metadata": {
        "colab": {
          "base_uri": "https://localhost:8080/"
        },
        "id": "1Po2g7YPuRTx",
        "outputId": "d793f0b7-424c-488e-c5e4-4a64356e8a82"
      },
      "source": [
        "rand_int = random.randint(0, len(common_voice_train)-1)\n",
        "\n",
        "print(\"Target text:\", common_voice_train[rand_int][\"sentence\"])\n",
        "print(\"Input array shape:\", common_voice_train[rand_int][\"audio\"][\"array\"].shape)\n",
        "print(\"Sampling rate:\", common_voice_train[rand_int][\"audio\"][\"sampling_rate\"])"
      ],
      "execution_count": 28,
      "outputs": [
        {
          "output_type": "stream",
          "name": "stdout",
          "text": [
            "Target text: ülkelerin katılımı iki bin yedi başlarında planlanıyor \n",
            "Input array shape: (72960,)\n",
            "Sampling rate: 16000\n"
          ]
        }
      ]
    },
    {
      "cell_type": "markdown",
      "metadata": {
        "id": "M9teZcSwOBJ4"
      },
      "source": [
        "Good! Everything looks fine - the data is a 1-dimensional array, the sampling rate always corresponds to 16kHz, and the target text is normalized.\n",
        "\n",
        "Next, we should process the data with the model's feature extractor. Let's load the feature extractor"
      ]
    },
    {
      "cell_type": "code",
      "metadata": {
        "colab": {
          "base_uri": "https://localhost:8080/",
          "height": 49,
          "referenced_widgets": [
            "f1d78ce265f44ea8b313aa3a7c3b3536",
            "7e7ecd60c18648c8ac2cf2902ee36ce3",
            "7d44ce0b3584406fb9176c9f5c830104",
            "0ce8ce1815f947e087b611c05331acad",
            "334d7a23ce0240deb6ecba7dd5989955",
            "ed12aff4c83542f7a244e346d1fef1ec",
            "5c755a9657b74644908ed643b81d306f",
            "8e9e01ca882f4a7495cfc7b9e5e92051",
            "6e5492f8042649d4bcceb08f09c8b914",
            "6ed22fbabf5a49adb664bad2badadb9d",
            "29c2c52b0c1346d0818e2914765aba33"
          ]
        },
        "id": "UuA-9bgBYT4x",
        "outputId": "b08a03f3-695b-4e9a-aad3-edcb54fc5a7f"
      },
      "source": [
        "from transformers import AutoFeatureExtractor\n",
        "\n",
        "feature_extractor = AutoFeatureExtractor.from_pretrained(model_checkpoint)"
      ],
      "execution_count": 29,
      "outputs": [
        {
          "output_type": "display_data",
          "data": {
            "application/vnd.jupyter.widget-view+json": {
              "model_id": "f1d78ce265f44ea8b313aa3a7c3b3536",
              "version_minor": 0,
              "version_major": 2
            },
            "text/plain": [
              "Downloading:   0%|          | 0.00/212 [00:00<?, ?B/s]"
            ]
          },
          "metadata": {}
        }
      ]
    },
    {
      "cell_type": "markdown",
      "metadata": {
        "id": "VgcfxUSAYaCQ"
      },
      "source": [
        "and wrap it into a `Wav2Vec2Processor` together with the tokenizer."
      ]
    },
    {
      "cell_type": "code",
      "metadata": {
        "id": "byshSGTjYcdu"
      },
      "source": [
        "from transformers import Wav2Vec2Processor\n",
        "\n",
        "processor = Wav2Vec2Processor(feature_extractor=feature_extractor, tokenizer=tokenizer)"
      ],
      "execution_count": 30,
      "outputs": []
    },
    {
      "cell_type": "markdown",
      "metadata": {
        "id": "GNFuvi26Yiw6"
      },
      "source": [
        "Finally, we can leverage `Wav2Vec2Processor` to process the data to the format expected by the model for training. To do so let's make use of Dataset's [`map(...)`](https://huggingface.co/docs/datasets/package_reference/main_classes.html?highlight=map#datasets.DatasetDict.map) function.\n",
        "\n",
        "First, we load and resample the audio data, simply by calling `batch[\"audio\"]`.\n",
        "Second, we extract the `input_values` from the loaded audio file. In our case, the `Wav2Vec2Processor` only normalizes the data. For other speech models, however, this step can include more complex feature extraction, such as [Log-Mel feature extraction](https://en.wikipedia.org/wiki/Mel-frequency_cepstrum). \n",
        "Third, we encode the transcriptions to label ids."
      ]
    },
    {
      "cell_type": "code",
      "metadata": {
        "id": "eJY7I0XAwe9p"
      },
      "source": [
        "def prepare_dataset(batch):\n",
        "    audio = batch[\"audio\"]\n",
        "\n",
        "    # batched output is \"un-batched\"\n",
        "    batch[\"input_values\"] = processor(audio[\"array\"], sampling_rate=audio[\"sampling_rate\"]).input_values[0]\n",
        "    batch[\"input_length\"] = len(batch[\"input_values\"])\n",
        "    \n",
        "    with processor.as_target_processor():\n",
        "        batch[\"labels\"] = processor(batch[\"sentence\"]).input_ids\n",
        "    return batch"
      ],
      "execution_count": 31,
      "outputs": []
    },
    {
      "cell_type": "markdown",
      "metadata": {
        "id": "q6Pg_WR3OGAP"
      },
      "source": [
        "Let's apply the data preparation function to all examples."
      ]
    },
    {
      "cell_type": "code",
      "metadata": {
        "id": "-np9xYK-wl8q",
        "colab": {
          "base_uri": "https://localhost:8080/",
          "height": 81,
          "referenced_widgets": [
            "d9480140d24a4060b273cda99b1160f7",
            "e5764cf518fb430f9a5c91da18dcb63b",
            "d3a6415d8e0240e7850ba1614e25e2f0",
            "2650f3ad62ea40eb919fd4c9d41ba6f9",
            "c780755676e741d2b5d8575997be4ef2",
            "3040a09cd6d0443283506a54fbf53b10",
            "596b0736bfe146399964dfdf5c16cf2d",
            "66b5f284585145e09141c2aca7af0bc5",
            "7aebd6ecf8654762850d9728a9dd8046",
            "fec6d80d75ec46208459fa2e415a0541",
            "495cf2397b6443b6b7a227beccc8c6bb",
            "af50c147a76a420481fc78aba1d44c3b",
            "532e74d04e8c4de798adf5d722023c45",
            "6692eba4525c420887ca34e7cc432e4a",
            "a86361aec5b14fab98653b9e8334b191",
            "bb31ab59422b4cdc9242a15b5c417c17",
            "762ebf8d5cc84d2d950f8be060a67dfc",
            "29794c9d3b8a4d0fafc067a32ee86906",
            "c5641ede36c841998c5f6a824c4a90b0",
            "6a8bbe93d6d04f5c9f6ede7a9777ffa9",
            "61141d0990584d9cb4e2404698ac8303",
            "373dd6ea73e14e628ee749052af2f1dc"
          ]
        },
        "outputId": "916992e1-ff40-4caa-c3dd-7753100583ca"
      },
      "source": [
        "common_voice_train = common_voice_train.map(prepare_dataset, remove_columns=common_voice_train.column_names)\n",
        "common_voice_test = common_voice_test.map(prepare_dataset, remove_columns=common_voice_test.column_names)"
      ],
      "execution_count": 32,
      "outputs": [
        {
          "output_type": "display_data",
          "data": {
            "application/vnd.jupyter.widget-view+json": {
              "model_id": "d9480140d24a4060b273cda99b1160f7",
              "version_minor": 0,
              "version_major": 2
            },
            "text/plain": [
              "  0%|          | 0/3478 [00:00<?, ?ex/s]"
            ]
          },
          "metadata": {}
        },
        {
          "output_type": "display_data",
          "data": {
            "application/vnd.jupyter.widget-view+json": {
              "model_id": "af50c147a76a420481fc78aba1d44c3b",
              "version_minor": 0,
              "version_major": 2
            },
            "text/plain": [
              "  0%|          | 0/1647 [00:00<?, ?ex/s]"
            ]
          },
          "metadata": {}
        }
      ]
    },
    {
      "cell_type": "markdown",
      "metadata": {
        "id": "nKcEWHvKI1by"
      },
      "source": [
        "**Note**: Currently `datasets` make use of [`torchaudio`](https://pytorch.org/audio/stable/index.html) and [`librosa`](https://librosa.org/doc/latest/index.html) for audio loading and resampling. If you wish to implement your own costumized data loading/sampling, feel free to just make use of the `\"path\"` column instead and disregard the `\"audio\"` column."
      ]
    },
    {
      "cell_type": "markdown",
      "metadata": {
        "id": "24CxHd5ewI4T"
      },
      "source": [
        "Long input sequences require a lot of memory. Since speech models in `transformers` are based on `self-attention` the memory requirement scales quadratically with the input length for long input sequences (*cf.* with [this](https://www.reddit.com/r/MachineLearning/comments/genjvb/d_why_is_the_maximum_input_sequence_length_of/) reddit post). For this demo, let's filter all sequences that are longer than 5\n",
        " seconds out of the training dataset."
      ]
    },
    {
      "cell_type": "code",
      "metadata": {
        "colab": {
          "base_uri": "https://localhost:8080/",
          "height": 49,
          "referenced_widgets": [
            "d2e4dd1f92c0484684f7f1ba212bbf8a",
            "e219e8b8016c483bbf1a59b51d0f6d0a",
            "6772056d2ee04f30a2e50e35de67a6a2",
            "2a0bb92c7c1b465fb496d6a91f448b6b",
            "5f87b9527faf4c17b1e8b978d98dd2bf",
            "2024a81af4ed4c0c8c2032cda424fe4f",
            "4f9416ff63b74e7bbeaaafcd097373c9",
            "b76aeefc0853455c802550a7cab991e8",
            "99955656f9ab49c9b3f1d2bfffcf7428",
            "4fb68e2ae82d463f95e41bf014fd0136",
            "cd6fea9089054b35b26786843200bd1e"
          ]
        },
        "id": "tdHfbUJ_09iA",
        "outputId": "9e94bc7b-9ef7-4753-dee7-bc5e80e0717a"
      },
      "source": [
        "max_input_length_in_sec = 5.0\n",
        "common_voice_train = common_voice_train.filter(lambda x: x < max_input_length_in_sec * processor.feature_extractor.sampling_rate, input_columns=[\"input_length\"])"
      ],
      "execution_count": 33,
      "outputs": [
        {
          "output_type": "display_data",
          "data": {
            "application/vnd.jupyter.widget-view+json": {
              "model_id": "d2e4dd1f92c0484684f7f1ba212bbf8a",
              "version_minor": 0,
              "version_major": 2
            },
            "text/plain": [
              "  0%|          | 0/4 [00:00<?, ?ba/s]"
            ]
          },
          "metadata": {}
        }
      ]
    },
    {
      "cell_type": "markdown",
      "metadata": {
        "id": "1ZWDCCKqwcfS"
      },
      "source": [
        "Awesome, now we are ready to start training!"
      ]
    },
    {
      "cell_type": "markdown",
      "metadata": {
        "id": "gYlQkKVoRUos"
      },
      "source": [
        "## Training\n",
        "\n",
        "The data is processed so that we are ready to start setting up the training pipeline. We will make use of 🤗's [Trainer](https://huggingface.co/transformers/master/main_classes/trainer.html?highlight=trainer) for which we essentially need to do the following:\n",
        "\n",
        "- Define a data collator. In contrast to most NLP models, speech models usually have a much larger input length than output length. *E.g.*, a sample of input length 50000 for XLSR-Wav2Vec2 has an output length of no more than 100. Given the large input sizes, it is much more efficient to pad the training batches dynamically meaning that all training samples should only be padded to the longest sample in their batch and not the overall longest sample. Therefore, fine-tuning speech models requires a special padding data collator, which we will define below\n",
        "\n",
        "- Evaluation metric. During training, the model should be evaluated on the word error rate. We should define a `compute_metrics` function accordingly\n",
        "\n",
        "- Load a pretrained checkpoint. We need to load a pretrained checkpoint and configure it correctly for training.\n",
        "\n",
        "- Define the training configuration.\n",
        "\n",
        "After having fine-tuned the model, we will correctly evaluate it on the test data and verify that it has indeed learned to correctly transcribe speech."
      ]
    },
    {
      "cell_type": "markdown",
      "metadata": {
        "id": "Slk403unUS91"
      },
      "source": [
        "### Set-up Trainer\n",
        "\n",
        "Let's start by defining the data collator. The code for the data collator was copied from [this example](https://github.com/huggingface/transformers/blob/9a06b6b11bdfc42eea08fa91d0c737d1863c99e3/examples/research_projects/wav2vec2/run_asr.py#L81).\n",
        "\n",
        "Without going into too many details, in contrast to the common data collators, this data collator treats the `input_values` and `labels` differently and thus applies to separate padding functions on them. This is necessary because in speech input and output are of different modalities meaning that they should not be treated by the same padding function.\n",
        "Analogous to the common data collators, the padding tokens in the labels with `-100` so that those tokens are **not** taken into account when computing the loss."
      ]
    },
    {
      "cell_type": "code",
      "metadata": {
        "id": "tborvC9hx88e"
      },
      "source": [
        "import torch\n",
        "\n",
        "from dataclasses import dataclass, field\n",
        "from typing import Any, Dict, List, Optional, Union\n",
        "\n",
        "@dataclass\n",
        "class DataCollatorCTCWithPadding:\n",
        "    \"\"\"\n",
        "    Data collator that will dynamically pad the inputs received.\n",
        "    Args:\n",
        "        processor (:class:`~transformers.Wav2Vec2Processor`)\n",
        "            The processor used for proccessing the data.\n",
        "        padding (:obj:`bool`, :obj:`str` or :class:`~transformers.tokenization_utils_base.PaddingStrategy`, `optional`, defaults to :obj:`True`):\n",
        "            Select a strategy to pad the returned sequences (according to the model's padding side and padding index)\n",
        "            among:\n",
        "            * :obj:`True` or :obj:`'longest'`: Pad to the longest sequence in the batch (or no padding if only a single\n",
        "              sequence if provided).\n",
        "            * :obj:`'max_length'`: Pad to a maximum length specified with the argument :obj:`max_length` or to the\n",
        "              maximum acceptable input length for the model if that argument is not provided.\n",
        "            * :obj:`False` or :obj:`'do_not_pad'` (default): No padding (i.e., can output a batch with sequences of\n",
        "              different lengths).\n",
        "        max_length (:obj:`int`, `optional`):\n",
        "            Maximum length of the ``input_values`` of the returned list and optionally padding length (see above).\n",
        "        max_length_labels (:obj:`int`, `optional`):\n",
        "            Maximum length of the ``labels`` returned list and optionally padding length (see above).\n",
        "        pad_to_multiple_of (:obj:`int`, `optional`):\n",
        "            If set will pad the sequence to a multiple of the provided value.\n",
        "            This is especially useful to enable the use of Tensor Cores on NVIDIA hardware with compute capability >=\n",
        "            7.5 (Volta).\n",
        "    \"\"\"\n",
        "\n",
        "    processor: Wav2Vec2Processor\n",
        "    padding: Union[bool, str] = True\n",
        "    max_length: Optional[int] = None\n",
        "    max_length_labels: Optional[int] = None\n",
        "    pad_to_multiple_of: Optional[int] = None\n",
        "    pad_to_multiple_of_labels: Optional[int] = None\n",
        "\n",
        "    def __call__(self, features: List[Dict[str, Union[List[int], torch.Tensor]]]) -> Dict[str, torch.Tensor]:\n",
        "        # split inputs and labels since they have to be of different lenghts and need\n",
        "        # different padding methods\n",
        "        input_features = [{\"input_values\": feature[\"input_values\"]} for feature in features]\n",
        "        label_features = [{\"input_ids\": feature[\"labels\"]} for feature in features]\n",
        "\n",
        "        batch = self.processor.pad(\n",
        "            input_features,\n",
        "            padding=self.padding,\n",
        "            max_length=self.max_length,\n",
        "            pad_to_multiple_of=self.pad_to_multiple_of,\n",
        "            return_tensors=\"pt\",\n",
        "        )\n",
        "        with self.processor.as_target_processor():\n",
        "            labels_batch = self.processor.pad(\n",
        "                label_features,\n",
        "                padding=self.padding,\n",
        "                max_length=self.max_length_labels,\n",
        "                pad_to_multiple_of=self.pad_to_multiple_of_labels,\n",
        "                return_tensors=\"pt\",\n",
        "            )\n",
        "\n",
        "        # replace padding with -100 to ignore loss correctly\n",
        "        labels = labels_batch[\"input_ids\"].masked_fill(labels_batch.attention_mask.ne(1), -100)\n",
        "\n",
        "        batch[\"labels\"] = labels\n",
        "\n",
        "        return batch"
      ],
      "execution_count": 34,
      "outputs": []
    },
    {
      "cell_type": "code",
      "metadata": {
        "id": "lbQf5GuZyQ4_"
      },
      "source": [
        "data_collator = DataCollatorCTCWithPadding(processor=processor, padding=True)"
      ],
      "execution_count": 35,
      "outputs": []
    },
    {
      "cell_type": "markdown",
      "metadata": {
        "id": "xO-Zdj-5cxXp"
      },
      "source": [
        "Next, the evaluation metric is defined. As mentioned earlier, the \n",
        "predominant metric in ASR is the word error rate (WER), hence we will use it in this notebook as well."
      ]
    },
    {
      "cell_type": "code",
      "metadata": {
        "id": "9Xsux2gmyXso",
        "colab": {
          "base_uri": "https://localhost:8080/",
          "height": 49,
          "referenced_widgets": [
            "7fbf8468c1e245f9ac3d5260bd739113",
            "7977935b6a9341ff86bd3eec1ec6d491",
            "e5129674dd4c4d519d11640160823b2d",
            "14756588b7b94abc85a8570b52f0238b",
            "130029a9ee024ef18b90daf850f8e60a",
            "cd10b6c4cefc4fb681befbd2158cf1f0",
            "f6f682406e774f2fba0a8f7b254a8e06",
            "ccf6a350ed9749b9a31bf854d08dcb54",
            "8d936cbaeab04cac8a8da7d4a4232f31",
            "73716752a867429bac45786b1ae002a1",
            "b8bbc01373b945979d2c1cadb7587d3c"
          ]
        },
        "outputId": "354bb0a1-d610-4398-f123-0d0d30f43355"
      },
      "source": [
        "wer_metric = load_metric(\"wer\")"
      ],
      "execution_count": 36,
      "outputs": [
        {
          "output_type": "display_data",
          "data": {
            "application/vnd.jupyter.widget-view+json": {
              "model_id": "7fbf8468c1e245f9ac3d5260bd739113",
              "version_minor": 0,
              "version_major": 2
            },
            "text/plain": [
              "Downloading:   0%|          | 0.00/1.95k [00:00<?, ?B/s]"
            ]
          },
          "metadata": {}
        }
      ]
    },
    {
      "cell_type": "markdown",
      "metadata": {
        "id": "E1qZU5p-deqB"
      },
      "source": [
        "The model will return a sequence of logit vectors:\n",
        "$\\mathbf{y}_1, \\ldots, \\mathbf{y}_m$ with $\\mathbf{y}_1 = f_{\\theta}(x_1, \\ldots, x_n)[0]$ and $n >> m$.\n",
        "\n",
        "A logit vector $\\mathbf{y}_1$ contains the log-odds for each word in the vocabulary we defined earlier, thus $\\text{len}(\\mathbf{y}_i) =$ `config.vocab_size`. We are interested in the most likely prediction of the model and thus take the `argmax(...)` of the logits. Also, we transform the encoded labels back to the original string by replacing `-100` with the `pad_token_id` and decoding the ids while making sure that consecutive tokens are **not** grouped to the same token in CTC style ${}^1$."
      ]
    },
    {
      "cell_type": "code",
      "metadata": {
        "id": "1XZ-kjweyTy_"
      },
      "source": [
        "def compute_metrics(pred):\n",
        "    pred_logits = pred.predictions\n",
        "    pred_ids = np.argmax(pred_logits, axis=-1)\n",
        "\n",
        "    pred.label_ids[pred.label_ids == -100] = processor.tokenizer.pad_token_id\n",
        "\n",
        "    pred_str = processor.batch_decode(pred_ids)\n",
        "    # we do not want to group tokens when computing the metrics\n",
        "    label_str = processor.batch_decode(pred.label_ids, group_tokens=False)\n",
        "\n",
        "    wer = wer_metric.compute(predictions=pred_str, references=label_str)\n",
        "\n",
        "    return {\"wer\": wer}"
      ],
      "execution_count": 37,
      "outputs": []
    },
    {
      "cell_type": "markdown",
      "metadata": {
        "id": "Xmgrx4bRwLIH"
      },
      "source": [
        "Now, we can load the pretrained speech checkpoint. The tokenizer's `pad_token_id` must be to define the model's `pad_token_id` or in the case of a CTC speech model also CTC's *blank token* ${}^2$.\n",
        "\n",
        "Because the dataset is quite small (~6h of training data) and because Common Voice is quite noisy, fine-tuning might require some hyper-parameter tuning, which is why a couple of hyperparameters are set in the following.\n",
        "\n",
        "**Note**: When using this notebook to train speech models on another language of Common Voice those hyper-parameter settings might not work very well. Feel free to adapt those depending on your use case. "
      ]
    },
    {
      "cell_type": "code",
      "metadata": {
        "colab": {
          "base_uri": "https://localhost:8080/",
          "height": 156,
          "referenced_widgets": [
            "dfa54f48e96b4a93aa6ddac58e74d7a4",
            "e116538c49184d6b8915f30b7a0392a6",
            "ab17d876a7f94a2c81994f339bb67e92",
            "bea17c349160426282be26e0897e22aa",
            "78144e4e0f3e411cbf7fb7d62d009411",
            "1bf0d65a381e48c6bcdbcebb15d2c59c",
            "66fcd2b18fa848f6ae43d09825ba0007",
            "715cf9b3411643a0a72c86a4e2ccf3bd",
            "02416034e6234ac0ad3c4232f88a99e1",
            "683474cc2c0f40b3a996723650e4ce77",
            "f383e537549443fdabc79fc9ecd9ffbc"
          ]
        },
        "id": "e7cqAWIayn6w",
        "outputId": "94e945dd-646e-4a28-9967-38dcac0b033b"
      },
      "source": [
        "from transformers import AutoModelForCTC\n",
        "\n",
        "model = AutoModelForCTC.from_pretrained(\n",
        "    model_checkpoint,\n",
        "    attention_dropout=0.1,\n",
        "    hidden_dropout=0.1,\n",
        "    feat_proj_dropout=0.0,\n",
        "    mask_time_prob=0.05,\n",
        "    layerdrop=0.1,\n",
        "    ctc_loss_reduction=\"mean\", \n",
        "    pad_token_id=processor.tokenizer.pad_token_id,\n",
        "    vocab_size=len(processor.tokenizer)\n",
        ")"
      ],
      "execution_count": 38,
      "outputs": [
        {
          "output_type": "display_data",
          "data": {
            "application/vnd.jupyter.widget-view+json": {
              "model_id": "dfa54f48e96b4a93aa6ddac58e74d7a4",
              "version_minor": 0,
              "version_major": 2
            },
            "text/plain": [
              "Downloading:   0%|          | 0.00/1.18G [00:00<?, ?B/s]"
            ]
          },
          "metadata": {}
        },
        {
          "output_type": "stream",
          "name": "stderr",
          "text": [
            "Some weights of the model checkpoint at facebook/wav2vec2-large-xlsr-53 were not used when initializing Wav2Vec2ForCTC: ['project_q.bias', 'project_hid.weight', 'quantizer.codevectors', 'project_hid.bias', 'quantizer.weight_proj.weight', 'project_q.weight', 'quantizer.weight_proj.bias']\n",
            "- This IS expected if you are initializing Wav2Vec2ForCTC from the checkpoint of a model trained on another task or with another architecture (e.g. initializing a BertForSequenceClassification model from a BertForPreTraining model).\n",
            "- This IS NOT expected if you are initializing Wav2Vec2ForCTC from the checkpoint of a model that you expect to be exactly identical (initializing a BertForSequenceClassification model from a BertForSequenceClassification model).\n",
            "Some weights of Wav2Vec2ForCTC were not initialized from the model checkpoint at facebook/wav2vec2-large-xlsr-53 and are newly initialized: ['lm_head.weight', 'lm_head.bias']\n",
            "You should probably TRAIN this model on a down-stream task to be able to use it for predictions and inference.\n"
          ]
        }
      ]
    },
    {
      "cell_type": "markdown",
      "metadata": {
        "id": "1DwR3XLSzGDD"
      },
      "source": [
        "The first component of most transformer-based speech models consists of a stack of CNN layers that are used to extract acoustically meaningful - but contextually independent - features from the raw speech signal. This part of the model has already been sufficiently trained during pretraining and as stated in the [paper](https://arxiv.org/pdf/2006.13979.pdf) does not need to be fine-tuned anymore. \n",
        "Thus, we can set the `requires_grad` to `False` for all parameters of the *feature extraction* part."
      ]
    },
    {
      "cell_type": "code",
      "metadata": {
        "id": "oGI8zObtZ3V0"
      },
      "source": [
        "if hasattr(model, \"freeze_feature_extractor\"):\n",
        "  model.freeze_feature_extractor()"
      ],
      "execution_count": 39,
      "outputs": []
    },
    {
      "cell_type": "markdown",
      "metadata": {
        "id": "lD4aGhQM0K-D"
      },
      "source": [
        "In a final step, we define all parameters related to training. \n",
        "To give more explanation on some of the parameters:\n",
        "- `group_by_length` makes training more efficient by grouping training samples of similar input length into one batch. This can significantly speed up training time by heavily reducing the overall number of useless padding tokens that are passed through the model\n",
        "- `learning_rate` and `weight_decay` were heuristically tuned until fine-tuning has become stable. Note that those parameters strongly depend on the Common Voice dataset and might be suboptimal for other speech datasets.\n",
        "\n",
        "For more explanations on other parameters, one can take a look at the [docs](https://huggingface.co/transformers/master/main_classes/trainer.html?highlight=trainer#trainingarguments).\n",
        "\n",
        "During training, a checkpoint will be uploaded asynchronously to the hub every 400 training steps. It allows you to also play around with the demo widget even while your model is still training.\n",
        "\n",
        "**Note**: If one does not want to upload the model checkpoints to the hub, simply set `push_to_hub=False`."
      ]
    },
    {
      "cell_type": "code",
      "metadata": {
        "id": "KbeKSV7uzGPP"
      },
      "source": [
        "from transformers import TrainingArguments\n",
        "\n",
        "training_args = TrainingArguments(\n",
        "  output_dir=repo_name,\n",
        "  group_by_length=True,\n",
        "  per_device_train_batch_size=batch_size,\n",
        "  gradient_accumulation_steps=2,\n",
        "  evaluation_strategy=\"steps\",\n",
        "  num_train_epochs=100,\n",
        "  gradient_checkpointing=True,\n",
        "  fp16=True,\n",
        "  save_steps=400,\n",
        "  eval_steps=400,\n",
        "  logging_steps=400,\n",
        "  learning_rate=3e-4,\n",
        "  warmup_steps=500,\n",
        "  save_total_limit=2,\n",
        "  push_to_hub=True,\n",
        ")"
      ],
      "execution_count": 40,
      "outputs": []
    },
    {
      "cell_type": "markdown",
      "metadata": {
        "id": "OsW-WZcL1ZtN"
      },
      "source": [
        "Now, all instances can be passed to Trainer and we are ready to start training!"
      ]
    },
    {
      "cell_type": "code",
      "metadata": {
        "id": "rY7vBmFCPFgC",
        "colab": {
          "base_uri": "https://localhost:8080/"
        },
        "outputId": "9fbc58f4-7c37-4f25-f4ef-0e2520cd88fc"
      },
      "source": [
        "from transformers import Trainer\n",
        "\n",
        "trainer = Trainer(\n",
        "    model=model,\n",
        "    data_collator=data_collator,\n",
        "    args=training_args,\n",
        "    compute_metrics=compute_metrics,\n",
        "    train_dataset=common_voice_train,\n",
        "    eval_dataset=common_voice_test,\n",
        "    tokenizer=processor.feature_extractor,\n",
        ")"
      ],
      "execution_count": 41,
      "outputs": [
        {
          "output_type": "stream",
          "name": "stderr",
          "text": [
            "/content/wav2vec2-large-xlsr-53-W2V2-TR-LARGE is already a clone of https://huggingface.co/emre/wav2vec2-large-xlsr-53-W2V2-TR-LARGE. Make sure you pull the latest changes with `repo.git_pull()`.\n",
            "Using amp fp16 backend\n"
          ]
        }
      ]
    },
    {
      "cell_type": "markdown",
      "metadata": {
        "id": "UoXBx1JAA0DX"
      },
      "source": [
        "\n",
        "\n",
        "---\n",
        "\n",
        "${}^1$ To allow models to become independent of the speaker rate, in CTC, consecutive tokens that are identical are simply grouped as a single token. However, the encoded labels should not be grouped when decoding since they don't correspond to the predicted tokens of the model, which is why the `group_tokens=False` parameter has to be passed. If we wouldn't pass this parameter a word like `\"hello\"` would incorrectly be encoded, and decoded as `\"helo\"`.\n",
        "\n",
        "${}^2$ The blank token allows the model to predict a word, such as `\"hello\"` by forcing it to insert the blank token between the two l's. A CTC-conform prediction of `\"hello\"` of our model would be `[PAD] [PAD] \"h\" \"e\" \"e\" \"l\" \"l\" [PAD] \"l\" \"o\" \"o\" [PAD]`."
      ]
    },
    {
      "cell_type": "markdown",
      "metadata": {
        "id": "rpvZHM1xReIW"
      },
      "source": [
        "### Training"
      ]
    },
    {
      "cell_type": "markdown",
      "metadata": {
        "id": "j-3oKSzZ1hGq"
      },
      "source": [
        "Training will take multiple hours depending on the GPU allocated to this notebook. Every `save_steps`, the current checkpoint will be uploaded to the Hub."
      ]
    },
    {
      "cell_type": "code",
      "metadata": {
        "colab": {
          "base_uri": "https://localhost:8080/",
          "height": 1000
        },
        "id": "d2G6z5RGAq5p",
        "outputId": "afe37409-c8cd-4d40-fd9c-6bb81fdec663"
      },
      "source": [
        "trainer.train()"
      ],
      "execution_count": null,
      "outputs": [
        {
          "output_type": "stream",
          "name": "stderr",
          "text": [
            "The following columns in the training set  don't have a corresponding argument in `Wav2Vec2ForCTC.forward` and have been ignored: input_length.\n",
            "***** Running training *****\n",
            "  Num examples = 3027\n",
            "  Num Epochs = 100\n",
            "  Instantaneous batch size per device = 16\n",
            "  Total train batch size (w. parallel, distributed & accumulation) = 32\n",
            "  Gradient Accumulation steps = 2\n",
            "  Total optimization steps = 9500\n",
            "/usr/local/lib/python3.7/dist-packages/transformers/feature_extraction_utils.py:158: UserWarning: Creating a tensor from a list of numpy.ndarrays is extremely slow. Please consider converting the list to a single numpy.ndarray with numpy.array() before converting to a tensor. (Triggered internally at  ../torch/csrc/utils/tensor_new.cpp:201.)\n",
            "  tensor = as_tensor(value)\n",
            "/usr/local/lib/python3.7/dist-packages/transformers/models/wav2vec2/modeling_wav2vec2.py:882: UserWarning: __floordiv__ is deprecated, and its behavior will change in a future version of pytorch. It currently rounds toward 0 (like the 'trunc' function NOT 'floor'). This results in incorrect rounding for negative values. To keep the current behavior, use torch.div(a, b, rounding_mode='trunc'), or for actual floor division, use torch.div(a, b, rounding_mode='floor').\n",
            "  return (input_length - kernel_size) // stride + 1\n"
          ]
        },
        {
          "output_type": "display_data",
          "data": {
            "text/html": [
              "\n",
              "    <div>\n",
              "      \n",
              "      <progress value='2547' max='9500' style='width:300px; height:20px; vertical-align: middle;'></progress>\n",
              "      [2547/9500 3:08:20 < 8:34:33, 0.23 it/s, Epoch 26.80/100]\n",
              "    </div>\n",
              "    <table border=\"1\" class=\"dataframe\">\n",
              "  <thead>\n",
              "    <tr style=\"text-align: left;\">\n",
              "      <th>Step</th>\n",
              "      <th>Training Loss</th>\n",
              "      <th>Validation Loss</th>\n",
              "      <th>Wer</th>\n",
              "    </tr>\n",
              "  </thead>\n",
              "  <tbody>\n",
              "    <tr>\n",
              "      <td>400</td>\n",
              "      <td>5.374400</td>\n",
              "      <td>1.890846</td>\n",
              "      <td>1.068839</td>\n",
              "    </tr>\n",
              "    <tr>\n",
              "      <td>800</td>\n",
              "      <td>0.756500</td>\n",
              "      <td>0.459063</td>\n",
              "      <td>0.619446</td>\n",
              "    </tr>\n",
              "    <tr>\n",
              "      <td>1200</td>\n",
              "      <td>0.319800</td>\n",
              "      <td>0.434965</td>\n",
              "      <td>0.548769</td>\n",
              "    </tr>\n",
              "    <tr>\n",
              "      <td>1600</td>\n",
              "      <td>0.231500</td>\n",
              "      <td>0.448536</td>\n",
              "      <td>0.540088</td>\n",
              "    </tr>\n",
              "    <tr>\n",
              "      <td>2000</td>\n",
              "      <td>0.182600</td>\n",
              "      <td>0.437987</td>\n",
              "      <td>0.526095</td>\n",
              "    </tr>\n",
              "    <tr>\n",
              "      <td>2400</td>\n",
              "      <td>0.151900</td>\n",
              "      <td>0.512828</td>\n",
              "      <td>0.524359</td>\n",
              "    </tr>\n",
              "  </tbody>\n",
              "</table><p>"
            ],
            "text/plain": [
              "<IPython.core.display.HTML object>"
            ]
          },
          "metadata": {}
        },
        {
          "output_type": "stream",
          "name": "stderr",
          "text": [
            "The following columns in the evaluation set  don't have a corresponding argument in `Wav2Vec2ForCTC.forward` and have been ignored: input_length.\n",
            "***** Running Evaluation *****\n",
            "  Num examples = 1647\n",
            "  Batch size = 8\n",
            "Saving model checkpoint to wav2vec2-large-xlsr-53-W2V2-TR-LARGE/checkpoint-400\n",
            "Configuration saved in wav2vec2-large-xlsr-53-W2V2-TR-LARGE/checkpoint-400/config.json\n",
            "Model weights saved in wav2vec2-large-xlsr-53-W2V2-TR-LARGE/checkpoint-400/pytorch_model.bin\n",
            "Configuration saved in wav2vec2-large-xlsr-53-W2V2-TR-LARGE/checkpoint-400/preprocessor_config.json\n",
            "Configuration saved in wav2vec2-large-xlsr-53-W2V2-TR-LARGE/preprocessor_config.json\n",
            "/usr/local/lib/python3.7/dist-packages/transformers/models/wav2vec2/modeling_wav2vec2.py:882: UserWarning: __floordiv__ is deprecated, and its behavior will change in a future version of pytorch. It currently rounds toward 0 (like the 'trunc' function NOT 'floor'). This results in incorrect rounding for negative values. To keep the current behavior, use torch.div(a, b, rounding_mode='trunc'), or for actual floor division, use torch.div(a, b, rounding_mode='floor').\n",
            "  return (input_length - kernel_size) // stride + 1\n",
            "The following columns in the evaluation set  don't have a corresponding argument in `Wav2Vec2ForCTC.forward` and have been ignored: input_length.\n",
            "***** Running Evaluation *****\n",
            "  Num examples = 1647\n",
            "  Batch size = 8\n",
            "Saving model checkpoint to wav2vec2-large-xlsr-53-W2V2-TR-LARGE/checkpoint-800\n",
            "Configuration saved in wav2vec2-large-xlsr-53-W2V2-TR-LARGE/checkpoint-800/config.json\n",
            "Model weights saved in wav2vec2-large-xlsr-53-W2V2-TR-LARGE/checkpoint-800/pytorch_model.bin\n",
            "Configuration saved in wav2vec2-large-xlsr-53-W2V2-TR-LARGE/checkpoint-800/preprocessor_config.json\n",
            "/usr/local/lib/python3.7/dist-packages/transformers/models/wav2vec2/modeling_wav2vec2.py:882: UserWarning: __floordiv__ is deprecated, and its behavior will change in a future version of pytorch. It currently rounds toward 0 (like the 'trunc' function NOT 'floor'). This results in incorrect rounding for negative values. To keep the current behavior, use torch.div(a, b, rounding_mode='trunc'), or for actual floor division, use torch.div(a, b, rounding_mode='floor').\n",
            "  return (input_length - kernel_size) // stride + 1\n",
            "The following columns in the evaluation set  don't have a corresponding argument in `Wav2Vec2ForCTC.forward` and have been ignored: input_length.\n",
            "***** Running Evaluation *****\n",
            "  Num examples = 1647\n",
            "  Batch size = 8\n",
            "Saving model checkpoint to wav2vec2-large-xlsr-53-W2V2-TR-LARGE/checkpoint-1200\n",
            "Configuration saved in wav2vec2-large-xlsr-53-W2V2-TR-LARGE/checkpoint-1200/config.json\n",
            "Model weights saved in wav2vec2-large-xlsr-53-W2V2-TR-LARGE/checkpoint-1200/pytorch_model.bin\n",
            "Configuration saved in wav2vec2-large-xlsr-53-W2V2-TR-LARGE/checkpoint-1200/preprocessor_config.json\n",
            "Deleting older checkpoint [wav2vec2-large-xlsr-53-W2V2-TR-LARGE/checkpoint-400] due to args.save_total_limit\n",
            "/usr/local/lib/python3.7/dist-packages/transformers/models/wav2vec2/modeling_wav2vec2.py:882: UserWarning: __floordiv__ is deprecated, and its behavior will change in a future version of pytorch. It currently rounds toward 0 (like the 'trunc' function NOT 'floor'). This results in incorrect rounding for negative values. To keep the current behavior, use torch.div(a, b, rounding_mode='trunc'), or for actual floor division, use torch.div(a, b, rounding_mode='floor').\n",
            "  return (input_length - kernel_size) // stride + 1\n",
            "The following columns in the evaluation set  don't have a corresponding argument in `Wav2Vec2ForCTC.forward` and have been ignored: input_length.\n",
            "***** Running Evaluation *****\n",
            "  Num examples = 1647\n",
            "  Batch size = 8\n",
            "Saving model checkpoint to wav2vec2-large-xlsr-53-W2V2-TR-LARGE/checkpoint-1600\n",
            "Configuration saved in wav2vec2-large-xlsr-53-W2V2-TR-LARGE/checkpoint-1600/config.json\n",
            "Model weights saved in wav2vec2-large-xlsr-53-W2V2-TR-LARGE/checkpoint-1600/pytorch_model.bin\n",
            "Configuration saved in wav2vec2-large-xlsr-53-W2V2-TR-LARGE/checkpoint-1600/preprocessor_config.json\n",
            "Deleting older checkpoint [wav2vec2-large-xlsr-53-W2V2-TR-LARGE/checkpoint-800] due to args.save_total_limit\n",
            "/usr/local/lib/python3.7/dist-packages/transformers/models/wav2vec2/modeling_wav2vec2.py:882: UserWarning: __floordiv__ is deprecated, and its behavior will change in a future version of pytorch. It currently rounds toward 0 (like the 'trunc' function NOT 'floor'). This results in incorrect rounding for negative values. To keep the current behavior, use torch.div(a, b, rounding_mode='trunc'), or for actual floor division, use torch.div(a, b, rounding_mode='floor').\n",
            "  return (input_length - kernel_size) // stride + 1\n",
            "The following columns in the evaluation set  don't have a corresponding argument in `Wav2Vec2ForCTC.forward` and have been ignored: input_length.\n",
            "***** Running Evaluation *****\n",
            "  Num examples = 1647\n",
            "  Batch size = 8\n",
            "Saving model checkpoint to wav2vec2-large-xlsr-53-W2V2-TR-LARGE/checkpoint-2000\n",
            "Configuration saved in wav2vec2-large-xlsr-53-W2V2-TR-LARGE/checkpoint-2000/config.json\n",
            "Model weights saved in wav2vec2-large-xlsr-53-W2V2-TR-LARGE/checkpoint-2000/pytorch_model.bin\n",
            "Configuration saved in wav2vec2-large-xlsr-53-W2V2-TR-LARGE/checkpoint-2000/preprocessor_config.json\n",
            "Deleting older checkpoint [wav2vec2-large-xlsr-53-W2V2-TR-LARGE/checkpoint-1200] due to args.save_total_limit\n",
            "/usr/local/lib/python3.7/dist-packages/transformers/models/wav2vec2/modeling_wav2vec2.py:882: UserWarning: __floordiv__ is deprecated, and its behavior will change in a future version of pytorch. It currently rounds toward 0 (like the 'trunc' function NOT 'floor'). This results in incorrect rounding for negative values. To keep the current behavior, use torch.div(a, b, rounding_mode='trunc'), or for actual floor division, use torch.div(a, b, rounding_mode='floor').\n",
            "  return (input_length - kernel_size) // stride + 1\n",
            "The following columns in the evaluation set  don't have a corresponding argument in `Wav2Vec2ForCTC.forward` and have been ignored: input_length.\n",
            "***** Running Evaluation *****\n",
            "  Num examples = 1647\n",
            "  Batch size = 8\n",
            "Saving model checkpoint to wav2vec2-large-xlsr-53-W2V2-TR-LARGE/checkpoint-2400\n",
            "Configuration saved in wav2vec2-large-xlsr-53-W2V2-TR-LARGE/checkpoint-2400/config.json\n",
            "Model weights saved in wav2vec2-large-xlsr-53-W2V2-TR-LARGE/checkpoint-2400/pytorch_model.bin\n",
            "Configuration saved in wav2vec2-large-xlsr-53-W2V2-TR-LARGE/checkpoint-2400/preprocessor_config.json\n",
            "Deleting older checkpoint [wav2vec2-large-xlsr-53-W2V2-TR-LARGE/checkpoint-1600] due to args.save_total_limit\n",
            "/usr/local/lib/python3.7/dist-packages/transformers/models/wav2vec2/modeling_wav2vec2.py:882: UserWarning: __floordiv__ is deprecated, and its behavior will change in a future version of pytorch. It currently rounds toward 0 (like the 'trunc' function NOT 'floor'). This results in incorrect rounding for negative values. To keep the current behavior, use torch.div(a, b, rounding_mode='trunc'), or for actual floor division, use torch.div(a, b, rounding_mode='floor').\n",
            "  return (input_length - kernel_size) // stride + 1\n"
          ]
        }
      ]
    },
    {
      "cell_type": "markdown",
      "metadata": {
        "id": "kPNxoqifM7R3"
      },
      "source": [
        "You can now upload the final result of the training to the Hub. Just execute this instruction:"
      ]
    },
    {
      "cell_type": "code",
      "metadata": {
        "id": "FKgqc1FhAxAP"
      },
      "source": [
        "trainer.push_to_hub()"
      ],
      "execution_count": null,
      "outputs": []
    },
    {
      "cell_type": "markdown",
      "metadata": {
        "id": "gKSOruDqNJxO"
      },
      "source": [
        "You can now share this model with all your friends, family, favorite pets: they can all load it with the identifier \"your-username/the-name-you-picked\" so for instance:"
      ]
    },
    {
      "cell_type": "markdown",
      "metadata": {
        "id": "2x-GybJDNQoH"
      },
      "source": [
        "```python\n",
        "from transformers import AutoModelForCTC, Wav2Vec2Processor\n",
        "\n",
        "model = AutoModelForCTC.from_pretrained(\"patrickvonplaten/wav2vec2-large-xlsr-turkish-demo-colab\")\n",
        "processor = Wav2Vec2Processor.from_pretrained(\"patrickvonplaten/wav2vec2-large-xlsr-turkish-demo-colab\")\n",
        "```"
      ]
    },
    {
      "cell_type": "markdown",
      "metadata": {
        "id": "RHIVc44_fY2N"
      },
      "source": [
        "To fine-tune larger models on larger datasets using CTC loss, one should take a look at the official speech-recognition examples [here](https://github.com/huggingface/transformers/tree/master/examples/pytorch/speech-recognition#connectionist-temporal-classification-without-language-model-ctc-wo-lm) 🤗."
      ]
    },
    {
      "cell_type": "code",
      "source": [
        ""
      ],
      "metadata": {
        "id": "BwbTN0G-2ymu"
      },
      "execution_count": null,
      "outputs": []
    }
  ]
}